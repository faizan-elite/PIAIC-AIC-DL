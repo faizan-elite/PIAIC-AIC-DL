{
  "nbformat": 4,
  "nbformat_minor": 0,
  "metadata": {
    "colab": {
      "name": "Concrete.ipynb",
      "provenance": [],
      "collapsed_sections": [],
      "toc_visible": true
    },
    "kernelspec": {
      "name": "python3",
      "display_name": "Python 3"
    },
    "language_info": {
      "name": "python"
    }
  },
  "cells": [
    {
      "cell_type": "markdown",
      "metadata": {
        "id": "i1QGLos4OsPb"
      },
      "source": [
        "Compresive Strength Concrete Problem"
      ]
    },
    {
      "cell_type": "markdown",
      "metadata": {
        "id": "h4RjSy1mO39G"
      },
      "source": [
        "Import Libraries"
      ]
    },
    {
      "cell_type": "code",
      "metadata": {
        "colab": {
          "base_uri": "https://localhost:8080/"
        },
        "id": "i1jFbKfrO1da",
        "outputId": "a86f5a1d-cb05-4d00-c03b-153e9102e341"
      },
      "source": [
        "import numpy as np\n",
        "import pandas as pd\n",
        "import tensorflow as tp\n",
        "import matplotlib.pyplot as plt\n",
        "import tensorflow as tf\n",
        "from keras import models\n",
        "from keras import layers\n",
        "from tensorflow.keras import optimizers\n",
        "from keras import regularizers\n",
        "from sklearn.preprocessing import MinMaxScaler\n",
        "from sklearn.model_selection import train_test_split\n",
        "print (tf.__version__)"
      ],
      "execution_count": 1,
      "outputs": [
        {
          "output_type": "stream",
          "text": [
            "2.4.1\n"
          ],
          "name": "stdout"
        }
      ]
    },
    {
      "cell_type": "markdown",
      "metadata": {
        "id": "bFQQB0q1O8e6"
      },
      "source": [
        "# Load Data"
      ]
    },
    {
      "cell_type": "code",
      "metadata": {
        "id": "lwTGUAa_O_WG"
      },
      "source": [
        "data=pd.read_csv(\"/content/compresive_strength_concrete.csv\")"
      ],
      "execution_count": 111,
      "outputs": []
    },
    {
      "cell_type": "markdown",
      "metadata": {
        "id": "J9yjklJgPKxJ"
      },
      "source": [
        "# Data Analysis"
      ]
    },
    {
      "cell_type": "code",
      "metadata": {
        "colab": {
          "base_uri": "https://localhost:8080/",
          "height": 289
        },
        "id": "9NL7QKluPQdq",
        "outputId": "3dfb4bf2-026c-4506-bd58-4d93a10c0424"
      },
      "source": [
        "data.head()"
      ],
      "execution_count": 112,
      "outputs": [
        {
          "output_type": "execute_result",
          "data": {
            "text/html": [
              "<div>\n",
              "<style scoped>\n",
              "    .dataframe tbody tr th:only-of-type {\n",
              "        vertical-align: middle;\n",
              "    }\n",
              "\n",
              "    .dataframe tbody tr th {\n",
              "        vertical-align: top;\n",
              "    }\n",
              "\n",
              "    .dataframe thead th {\n",
              "        text-align: right;\n",
              "    }\n",
              "</style>\n",
              "<table border=\"1\" class=\"dataframe\">\n",
              "  <thead>\n",
              "    <tr style=\"text-align: right;\">\n",
              "      <th></th>\n",
              "      <th>Cement (component 1)(kg in a m^3 mixture)</th>\n",
              "      <th>Blast Furnace Slag (component 2)(kg in a m^3 mixture)</th>\n",
              "      <th>Fly Ash (component 3)(kg in a m^3 mixture)</th>\n",
              "      <th>Water  (component 4)(kg in a m^3 mixture)</th>\n",
              "      <th>Superplasticizer (component 5)(kg in a m^3 mixture)</th>\n",
              "      <th>Coarse Aggregate  (component 6)(kg in a m^3 mixture)</th>\n",
              "      <th>Fine Aggregate (component 7)(kg in a m^3 mixture)</th>\n",
              "      <th>Age (day)</th>\n",
              "      <th>Concrete compressive strength(MPa, megapascals)</th>\n",
              "    </tr>\n",
              "  </thead>\n",
              "  <tbody>\n",
              "    <tr>\n",
              "      <th>0</th>\n",
              "      <td>540.0</td>\n",
              "      <td>0.0</td>\n",
              "      <td>0.0</td>\n",
              "      <td>162.0</td>\n",
              "      <td>2.5</td>\n",
              "      <td>1040.0</td>\n",
              "      <td>676.0</td>\n",
              "      <td>28</td>\n",
              "      <td>79.99</td>\n",
              "    </tr>\n",
              "    <tr>\n",
              "      <th>1</th>\n",
              "      <td>540.0</td>\n",
              "      <td>0.0</td>\n",
              "      <td>0.0</td>\n",
              "      <td>162.0</td>\n",
              "      <td>2.5</td>\n",
              "      <td>1055.0</td>\n",
              "      <td>676.0</td>\n",
              "      <td>28</td>\n",
              "      <td>61.89</td>\n",
              "    </tr>\n",
              "    <tr>\n",
              "      <th>2</th>\n",
              "      <td>332.5</td>\n",
              "      <td>142.5</td>\n",
              "      <td>0.0</td>\n",
              "      <td>228.0</td>\n",
              "      <td>0.0</td>\n",
              "      <td>932.0</td>\n",
              "      <td>594.0</td>\n",
              "      <td>270</td>\n",
              "      <td>40.27</td>\n",
              "    </tr>\n",
              "    <tr>\n",
              "      <th>3</th>\n",
              "      <td>332.5</td>\n",
              "      <td>142.5</td>\n",
              "      <td>0.0</td>\n",
              "      <td>228.0</td>\n",
              "      <td>0.0</td>\n",
              "      <td>932.0</td>\n",
              "      <td>594.0</td>\n",
              "      <td>365</td>\n",
              "      <td>41.05</td>\n",
              "    </tr>\n",
              "    <tr>\n",
              "      <th>4</th>\n",
              "      <td>198.6</td>\n",
              "      <td>132.4</td>\n",
              "      <td>0.0</td>\n",
              "      <td>192.0</td>\n",
              "      <td>0.0</td>\n",
              "      <td>978.4</td>\n",
              "      <td>825.5</td>\n",
              "      <td>360</td>\n",
              "      <td>44.30</td>\n",
              "    </tr>\n",
              "  </tbody>\n",
              "</table>\n",
              "</div>"
            ],
            "text/plain": [
              "   Cement (component 1)(kg in a m^3 mixture)  ...  Concrete compressive strength(MPa, megapascals) \n",
              "0                                      540.0  ...                                             79.99\n",
              "1                                      540.0  ...                                             61.89\n",
              "2                                      332.5  ...                                             40.27\n",
              "3                                      332.5  ...                                             41.05\n",
              "4                                      198.6  ...                                             44.30\n",
              "\n",
              "[5 rows x 9 columns]"
            ]
          },
          "metadata": {
            "tags": []
          },
          "execution_count": 112
        }
      ]
    },
    {
      "cell_type": "code",
      "metadata": {
        "colab": {
          "base_uri": "https://localhost:8080/"
        },
        "id": "1BBXZlcjPS4b",
        "outputId": "ebdf6f97-5bb3-4e31-b43f-3a18eb3c87aa"
      },
      "source": [
        "data.shape"
      ],
      "execution_count": 113,
      "outputs": [
        {
          "output_type": "execute_result",
          "data": {
            "text/plain": [
              "(1030, 9)"
            ]
          },
          "metadata": {
            "tags": []
          },
          "execution_count": 113
        }
      ]
    },
    {
      "cell_type": "markdown",
      "metadata": {
        "id": "JUbeizTyPTY4"
      },
      "source": [
        "There are 9 Columns (need to be renamed). 1030 Rows of data\n",
        "\n"
      ]
    },
    {
      "cell_type": "code",
      "metadata": {
        "colab": {
          "base_uri": "https://localhost:8080/"
        },
        "id": "EZhPJowuPXYZ",
        "outputId": "e71f3bae-16b4-4a6c-ad2d-47058b1778ae"
      },
      "source": [
        "data.info()"
      ],
      "execution_count": 114,
      "outputs": [
        {
          "output_type": "stream",
          "text": [
            "<class 'pandas.core.frame.DataFrame'>\n",
            "RangeIndex: 1030 entries, 0 to 1029\n",
            "Data columns (total 9 columns):\n",
            " #   Column                                                 Non-Null Count  Dtype  \n",
            "---  ------                                                 --------------  -----  \n",
            " 0   Cement (component 1)(kg in a m^3 mixture)              1030 non-null   float64\n",
            " 1   Blast Furnace Slag (component 2)(kg in a m^3 mixture)  1030 non-null   float64\n",
            " 2   Fly Ash (component 3)(kg in a m^3 mixture)             1030 non-null   float64\n",
            " 3   Water  (component 4)(kg in a m^3 mixture)              1030 non-null   float64\n",
            " 4   Superplasticizer (component 5)(kg in a m^3 mixture)    1030 non-null   float64\n",
            " 5   Coarse Aggregate  (component 6)(kg in a m^3 mixture)   1030 non-null   float64\n",
            " 6   Fine Aggregate (component 7)(kg in a m^3 mixture)      1030 non-null   float64\n",
            " 7   Age (day)                                              1030 non-null   int64  \n",
            " 8   Concrete compressive strength(MPa, megapascals)        1030 non-null   float64\n",
            "dtypes: float64(8), int64(1)\n",
            "memory usage: 72.5 KB\n"
          ],
          "name": "stdout"
        }
      ]
    },
    {
      "cell_type": "markdown",
      "metadata": {
        "id": "1SYv6AXMPUIY"
      },
      "source": [
        "All feature column data is in numbers hence no need to vectorize the data. "
      ]
    },
    {
      "cell_type": "code",
      "metadata": {
        "colab": {
          "base_uri": "https://localhost:8080/",
          "height": 399
        },
        "id": "H57cYtSDSGGH",
        "outputId": "717bf6bb-e5c7-4b92-9970-c85062da8fd4"
      },
      "source": [
        "data.describe()"
      ],
      "execution_count": 115,
      "outputs": [
        {
          "output_type": "execute_result",
          "data": {
            "text/html": [
              "<div>\n",
              "<style scoped>\n",
              "    .dataframe tbody tr th:only-of-type {\n",
              "        vertical-align: middle;\n",
              "    }\n",
              "\n",
              "    .dataframe tbody tr th {\n",
              "        vertical-align: top;\n",
              "    }\n",
              "\n",
              "    .dataframe thead th {\n",
              "        text-align: right;\n",
              "    }\n",
              "</style>\n",
              "<table border=\"1\" class=\"dataframe\">\n",
              "  <thead>\n",
              "    <tr style=\"text-align: right;\">\n",
              "      <th></th>\n",
              "      <th>Cement (component 1)(kg in a m^3 mixture)</th>\n",
              "      <th>Blast Furnace Slag (component 2)(kg in a m^3 mixture)</th>\n",
              "      <th>Fly Ash (component 3)(kg in a m^3 mixture)</th>\n",
              "      <th>Water  (component 4)(kg in a m^3 mixture)</th>\n",
              "      <th>Superplasticizer (component 5)(kg in a m^3 mixture)</th>\n",
              "      <th>Coarse Aggregate  (component 6)(kg in a m^3 mixture)</th>\n",
              "      <th>Fine Aggregate (component 7)(kg in a m^3 mixture)</th>\n",
              "      <th>Age (day)</th>\n",
              "      <th>Concrete compressive strength(MPa, megapascals)</th>\n",
              "    </tr>\n",
              "  </thead>\n",
              "  <tbody>\n",
              "    <tr>\n",
              "      <th>count</th>\n",
              "      <td>1030.000000</td>\n",
              "      <td>1030.000000</td>\n",
              "      <td>1030.000000</td>\n",
              "      <td>1030.000000</td>\n",
              "      <td>1030.000000</td>\n",
              "      <td>1030.000000</td>\n",
              "      <td>1030.000000</td>\n",
              "      <td>1030.000000</td>\n",
              "      <td>1030.000000</td>\n",
              "    </tr>\n",
              "    <tr>\n",
              "      <th>mean</th>\n",
              "      <td>281.167864</td>\n",
              "      <td>73.895825</td>\n",
              "      <td>54.188350</td>\n",
              "      <td>181.567282</td>\n",
              "      <td>6.204660</td>\n",
              "      <td>972.918932</td>\n",
              "      <td>773.580485</td>\n",
              "      <td>45.662136</td>\n",
              "      <td>35.817961</td>\n",
              "    </tr>\n",
              "    <tr>\n",
              "      <th>std</th>\n",
              "      <td>104.506364</td>\n",
              "      <td>86.279342</td>\n",
              "      <td>63.997004</td>\n",
              "      <td>21.354219</td>\n",
              "      <td>5.973841</td>\n",
              "      <td>77.753954</td>\n",
              "      <td>80.175980</td>\n",
              "      <td>63.169912</td>\n",
              "      <td>16.705742</td>\n",
              "    </tr>\n",
              "    <tr>\n",
              "      <th>min</th>\n",
              "      <td>102.000000</td>\n",
              "      <td>0.000000</td>\n",
              "      <td>0.000000</td>\n",
              "      <td>121.800000</td>\n",
              "      <td>0.000000</td>\n",
              "      <td>801.000000</td>\n",
              "      <td>594.000000</td>\n",
              "      <td>1.000000</td>\n",
              "      <td>2.330000</td>\n",
              "    </tr>\n",
              "    <tr>\n",
              "      <th>25%</th>\n",
              "      <td>192.375000</td>\n",
              "      <td>0.000000</td>\n",
              "      <td>0.000000</td>\n",
              "      <td>164.900000</td>\n",
              "      <td>0.000000</td>\n",
              "      <td>932.000000</td>\n",
              "      <td>730.950000</td>\n",
              "      <td>7.000000</td>\n",
              "      <td>23.710000</td>\n",
              "    </tr>\n",
              "    <tr>\n",
              "      <th>50%</th>\n",
              "      <td>272.900000</td>\n",
              "      <td>22.000000</td>\n",
              "      <td>0.000000</td>\n",
              "      <td>185.000000</td>\n",
              "      <td>6.400000</td>\n",
              "      <td>968.000000</td>\n",
              "      <td>779.500000</td>\n",
              "      <td>28.000000</td>\n",
              "      <td>34.445000</td>\n",
              "    </tr>\n",
              "    <tr>\n",
              "      <th>75%</th>\n",
              "      <td>350.000000</td>\n",
              "      <td>142.950000</td>\n",
              "      <td>118.300000</td>\n",
              "      <td>192.000000</td>\n",
              "      <td>10.200000</td>\n",
              "      <td>1029.400000</td>\n",
              "      <td>824.000000</td>\n",
              "      <td>56.000000</td>\n",
              "      <td>46.135000</td>\n",
              "    </tr>\n",
              "    <tr>\n",
              "      <th>max</th>\n",
              "      <td>540.000000</td>\n",
              "      <td>359.400000</td>\n",
              "      <td>200.100000</td>\n",
              "      <td>247.000000</td>\n",
              "      <td>32.200000</td>\n",
              "      <td>1145.000000</td>\n",
              "      <td>992.600000</td>\n",
              "      <td>365.000000</td>\n",
              "      <td>82.600000</td>\n",
              "    </tr>\n",
              "  </tbody>\n",
              "</table>\n",
              "</div>"
            ],
            "text/plain": [
              "       Cement (component 1)(kg in a m^3 mixture)  ...  Concrete compressive strength(MPa, megapascals) \n",
              "count                                1030.000000  ...                                       1030.000000\n",
              "mean                                  281.167864  ...                                         35.817961\n",
              "std                                   104.506364  ...                                         16.705742\n",
              "min                                   102.000000  ...                                          2.330000\n",
              "25%                                   192.375000  ...                                         23.710000\n",
              "50%                                   272.900000  ...                                         34.445000\n",
              "75%                                   350.000000  ...                                         46.135000\n",
              "max                                   540.000000  ...                                         82.600000\n",
              "\n",
              "[8 rows x 9 columns]"
            ]
          },
          "metadata": {
            "tags": []
          },
          "execution_count": 115
        }
      ]
    },
    {
      "cell_type": "markdown",
      "metadata": {
        "id": "RjZbWx3EPZyY"
      },
      "source": [
        "Data Cleaning"
      ]
    },
    {
      "cell_type": "markdown",
      "metadata": {
        "id": "aL-Oii3TPtR7"
      },
      "source": [
        "renaming columns"
      ]
    },
    {
      "cell_type": "code",
      "metadata": {
        "id": "dx2h9yVRQ0Mo"
      },
      "source": [
        "data.columns = ['Cement ','Blast_Furnace','Fly_Ash','Water','Superplasticizer','Coarse_Aggregate','Fine_Aggregate','Age','CC_Strength']"
      ],
      "execution_count": 116,
      "outputs": []
    },
    {
      "cell_type": "markdown",
      "metadata": {
        "id": "hlKizgPiRiQl"
      },
      "source": [
        "Checking Null Values if Any"
      ]
    },
    {
      "cell_type": "code",
      "metadata": {
        "colab": {
          "base_uri": "https://localhost:8080/"
        },
        "id": "dStUX1SxRgT1",
        "outputId": "20a93772-21b9-4bcf-c7da-ae0fb884831c"
      },
      "source": [
        "data.isnull().sum()"
      ],
      "execution_count": 117,
      "outputs": [
        {
          "output_type": "execute_result",
          "data": {
            "text/plain": [
              "Cement              0\n",
              "Blast_Furnace       0\n",
              "Fly_Ash             0\n",
              "Water               0\n",
              "Superplasticizer    0\n",
              "Coarse_Aggregate    0\n",
              "Fine_Aggregate      0\n",
              "Age                 0\n",
              "CC_Strength         0\n",
              "dtype: int64"
            ]
          },
          "metadata": {
            "tags": []
          },
          "execution_count": 117
        }
      ]
    },
    {
      "cell_type": "code",
      "metadata": {
        "colab": {
          "base_uri": "https://localhost:8080/"
        },
        "id": "UH6PU8SgUDZ5",
        "outputId": "b0c10739-004e-4621-b53f-2e798e3348ba"
      },
      "source": [
        "np.where(data.applymap(lambda x: x == ''))"
      ],
      "execution_count": 118,
      "outputs": [
        {
          "output_type": "execute_result",
          "data": {
            "text/plain": [
              "(array([], dtype=int64), array([], dtype=int64))"
            ]
          },
          "metadata": {
            "tags": []
          },
          "execution_count": 118
        }
      ]
    },
    {
      "cell_type": "markdown",
      "metadata": {
        "id": "LlN0blUqP3Bz"
      },
      "source": [
        "Drop CC Strenght column from X as it is our measurement feature. "
      ]
    },
    {
      "cell_type": "code",
      "metadata": {
        "id": "ILrJu3Xbc3vQ"
      },
      "source": [
        "x = data.drop('CC_Strength', axis=1)\n",
        "y = data['CC_Strength']"
      ],
      "execution_count": 119,
      "outputs": []
    },
    {
      "cell_type": "markdown",
      "metadata": {
        "id": "OKPBN9VLRTKt"
      },
      "source": [
        "# Normalizing Data with Mean-Std & Split 50% Training / 20% Validation / 30% Testing"
      ]
    },
    {
      "cell_type": "code",
      "metadata": {
        "id": "4pIbGMHPVTCT"
      },
      "source": [
        "x_train, x_test, y_train, y_test =train_test_split(x,y, test_size=0.3, random_state=42)"
      ],
      "execution_count": 120,
      "outputs": []
    },
    {
      "cell_type": "markdown",
      "metadata": {
        "id": "logXjLh1UjcL"
      },
      "source": [
        "# assign features and target columns"
      ]
    },
    {
      "cell_type": "code",
      "metadata": {
        "id": "G0Nf2w2xUmYB"
      },
      "source": [
        "mean = x_train.mean(axis=0)\n",
        "x_train -= mean\n",
        "std = x_train.std(axis=0)\n",
        "x_train /= std\n",
        "x_test -= mean\n",
        "x_test /= std"
      ],
      "execution_count": 121,
      "outputs": []
    },
    {
      "cell_type": "code",
      "metadata": {
        "id": "aufoSonidwuC"
      },
      "source": [
        "mean_label = y_train.mean(axis=0)\n",
        "y_train -= mean_label \n",
        "std_label = y_train.std(axis=0)\n",
        "y_train /= std_label\n",
        "y_test -= mean_label\n",
        "y_test /= std_label"
      ],
      "execution_count": 122,
      "outputs": []
    },
    {
      "cell_type": "code",
      "metadata": {
        "colab": {
          "base_uri": "https://localhost:8080/",
          "height": 297
        },
        "id": "Y1qJlO8LY6dD",
        "outputId": "0fcc761f-1695-4b86-edc9-b2f77b970b09"
      },
      "source": [
        "x_train.describe().T"
      ],
      "execution_count": 123,
      "outputs": [
        {
          "output_type": "execute_result",
          "data": {
            "text/html": [
              "<div>\n",
              "<style scoped>\n",
              "    .dataframe tbody tr th:only-of-type {\n",
              "        vertical-align: middle;\n",
              "    }\n",
              "\n",
              "    .dataframe tbody tr th {\n",
              "        vertical-align: top;\n",
              "    }\n",
              "\n",
              "    .dataframe thead th {\n",
              "        text-align: right;\n",
              "    }\n",
              "</style>\n",
              "<table border=\"1\" class=\"dataframe\">\n",
              "  <thead>\n",
              "    <tr style=\"text-align: right;\">\n",
              "      <th></th>\n",
              "      <th>count</th>\n",
              "      <th>mean</th>\n",
              "      <th>std</th>\n",
              "      <th>min</th>\n",
              "      <th>25%</th>\n",
              "      <th>50%</th>\n",
              "      <th>75%</th>\n",
              "      <th>max</th>\n",
              "    </tr>\n",
              "  </thead>\n",
              "  <tbody>\n",
              "    <tr>\n",
              "      <th>Cement</th>\n",
              "      <td>721.0</td>\n",
              "      <td>-7.830075e-17</td>\n",
              "      <td>1.0</td>\n",
              "      <td>-1.683389</td>\n",
              "      <td>-0.852826</td>\n",
              "      <td>-0.068405</td>\n",
              "      <td>0.721554</td>\n",
              "      <td>2.358687</td>\n",
              "    </tr>\n",
              "    <tr>\n",
              "      <th>Blast_Furnace</th>\n",
              "      <td>721.0</td>\n",
              "      <td>-1.684583e-16</td>\n",
              "      <td>1.0</td>\n",
              "      <td>-0.854703</td>\n",
              "      <td>-0.854703</td>\n",
              "      <td>-0.603898</td>\n",
              "      <td>0.798331</td>\n",
              "      <td>3.242540</td>\n",
              "    </tr>\n",
              "    <tr>\n",
              "      <th>Fly_Ash</th>\n",
              "      <td>721.0</td>\n",
              "      <td>4.194518e-16</td>\n",
              "      <td>1.0</td>\n",
              "      <td>-0.816346</td>\n",
              "      <td>-0.816346</td>\n",
              "      <td>-0.816346</td>\n",
              "      <td>1.028017</td>\n",
              "      <td>2.244512</td>\n",
              "    </tr>\n",
              "    <tr>\n",
              "      <th>Water</th>\n",
              "      <td>721.0</td>\n",
              "      <td>2.044289e-15</td>\n",
              "      <td>1.0</td>\n",
              "      <td>-2.836060</td>\n",
              "      <td>-0.765956</td>\n",
              "      <td>0.184023</td>\n",
              "      <td>0.481777</td>\n",
              "      <td>3.081222</td>\n",
              "    </tr>\n",
              "    <tr>\n",
              "      <th>Superplasticizer</th>\n",
              "      <td>721.0</td>\n",
              "      <td>4.559460e-16</td>\n",
              "      <td>1.0</td>\n",
              "      <td>-1.013292</td>\n",
              "      <td>-1.013292</td>\n",
              "      <td>-0.020966</td>\n",
              "      <td>0.657123</td>\n",
              "      <td>4.312190</td>\n",
              "    </tr>\n",
              "    <tr>\n",
              "      <th>Coarse_Aggregate</th>\n",
              "      <td>721.0</td>\n",
              "      <td>-2.876879e-15</td>\n",
              "      <td>1.0</td>\n",
              "      <td>-2.200993</td>\n",
              "      <td>-0.532401</td>\n",
              "      <td>-0.073857</td>\n",
              "      <td>0.843231</td>\n",
              "      <td>2.180652</td>\n",
              "    </tr>\n",
              "    <tr>\n",
              "      <th>Fine_Aggregate</th>\n",
              "      <td>721.0</td>\n",
              "      <td>9.605469e-15</td>\n",
              "      <td>1.0</td>\n",
              "      <td>-2.216980</td>\n",
              "      <td>-0.590791</td>\n",
              "      <td>0.085644</td>\n",
              "      <td>0.616058</td>\n",
              "      <td>2.757686</td>\n",
              "    </tr>\n",
              "    <tr>\n",
              "      <th>Age</th>\n",
              "      <td>721.0</td>\n",
              "      <td>2.432944e-17</td>\n",
              "      <td>1.0</td>\n",
              "      <td>-0.730728</td>\n",
              "      <td>-0.519863</td>\n",
              "      <td>-0.292777</td>\n",
              "      <td>0.161394</td>\n",
              "      <td>5.173499</td>\n",
              "    </tr>\n",
              "  </tbody>\n",
              "</table>\n",
              "</div>"
            ],
            "text/plain": [
              "                  count          mean  std  ...       50%       75%       max\n",
              "Cement            721.0 -7.830075e-17  1.0  ... -0.068405  0.721554  2.358687\n",
              "Blast_Furnace     721.0 -1.684583e-16  1.0  ... -0.603898  0.798331  3.242540\n",
              "Fly_Ash           721.0  4.194518e-16  1.0  ... -0.816346  1.028017  2.244512\n",
              "Water             721.0  2.044289e-15  1.0  ...  0.184023  0.481777  3.081222\n",
              "Superplasticizer  721.0  4.559460e-16  1.0  ... -0.020966  0.657123  4.312190\n",
              "Coarse_Aggregate  721.0 -2.876879e-15  1.0  ... -0.073857  0.843231  2.180652\n",
              "Fine_Aggregate    721.0  9.605469e-15  1.0  ...  0.085644  0.616058  2.757686\n",
              "Age               721.0  2.432944e-17  1.0  ... -0.292777  0.161394  5.173499\n",
              "\n",
              "[8 rows x 8 columns]"
            ]
          },
          "metadata": {
            "tags": []
          },
          "execution_count": 123
        }
      ]
    },
    {
      "cell_type": "code",
      "metadata": {
        "id": "jG_KJbaYeEvJ"
      },
      "source": [
        "x_train = x_train.to_numpy()\n",
        "y_train = y_train.to_numpy().astype('float32')\n",
        "x_test = x_test.to_numpy()\n",
        "y_test = y_test.to_numpy().astype('float32')"
      ],
      "execution_count": 124,
      "outputs": []
    },
    {
      "cell_type": "code",
      "metadata": {
        "colab": {
          "base_uri": "https://localhost:8080/"
        },
        "id": "fgWbx-YUTx93",
        "outputId": "37b99812-f6b2-43e4-dbcd-0a7ea9ef51df"
      },
      "source": [
        "len(x_train)"
      ],
      "execution_count": 125,
      "outputs": [
        {
          "output_type": "execute_result",
          "data": {
            "text/plain": [
              "721"
            ]
          },
          "metadata": {
            "tags": []
          },
          "execution_count": 125
        }
      ]
    },
    {
      "cell_type": "code",
      "metadata": {
        "colab": {
          "base_uri": "https://localhost:8080/"
        },
        "id": "DqFByM45T8rz",
        "outputId": "35b4b4a2-996d-454e-8875-be43c0c503b5"
      },
      "source": [
        "len(x_test)"
      ],
      "execution_count": 126,
      "outputs": [
        {
          "output_type": "execute_result",
          "data": {
            "text/plain": [
              "309"
            ]
          },
          "metadata": {
            "tags": []
          },
          "execution_count": 126
        }
      ]
    },
    {
      "cell_type": "markdown",
      "metadata": {
        "id": "-Nbi6PK8TjjU"
      },
      "source": [
        "Training & Validation data consists of only 721 records. Hence best to use K Fold validation method for the model."
      ]
    },
    {
      "cell_type": "markdown",
      "metadata": {
        "id": "ltF0Vyi9SMzS"
      },
      "source": [
        "Model Requirements: 3 Hidden Layers with 10,6,8 outputs. \n",
        "2 Models with relu & tanh. \n",
        "\n",
        "As it is a regression problem the loss will be mean squared error (mse) and metrics mean absolute error (mae)\n",
        "\n"
      ]
    },
    {
      "cell_type": "markdown",
      "metadata": {
        "id": "eFX7PBE_fNdJ"
      },
      "source": [
        "\n",
        "\n",
        "# Relu Model"
      ]
    },
    {
      "cell_type": "code",
      "metadata": {
        "id": "H3QPqlY1YWji"
      },
      "source": [
        "def build_model_relu():\n",
        "    model = models.Sequential()\n",
        "    model.add(layers.Dense(10, activation= 'relu',input_shape=(x_train.shape[1],)))\n",
        "    model.add(layers.Dense(8, activation= 'relu'))\n",
        "    model.add(layers.Dense(6, activation= 'relu'))\n",
        "    model.add(layers.Dense(1))\n",
        "    model.compile(optimizer='rmsprop', loss='mse', metrics=['mae'])\n",
        "    return model"
      ],
      "execution_count": 127,
      "outputs": []
    },
    {
      "cell_type": "markdown",
      "metadata": {
        "id": "5GJaG5Vabp1F"
      },
      "source": [
        "# Tanh Model"
      ]
    },
    {
      "cell_type": "code",
      "metadata": {
        "id": "_9Bgp91FboyW"
      },
      "source": [
        "def build_model_tanh():\n",
        "    model = models.Sequential()\n",
        "    model.add(layers.Dense(10, activation= 'tanh',input_shape=(x_train.shape[1],)))\n",
        "    model.add(layers.Dense(8, activation= 'tanh'))\n",
        "    model.add(layers.Dense(6, activation= 'tanh'))\n",
        "    model.add(layers.Dense(1))\n",
        "    model.compile(optimizer='rmsprop', loss='mse', metrics=['mae'])\n",
        "    return model"
      ],
      "execution_count": 128,
      "outputs": []
    },
    {
      "cell_type": "markdown",
      "metadata": {
        "id": "aGfhH7K9fTYM"
      },
      "source": [
        "K-fold Validation"
      ]
    },
    {
      "cell_type": "code",
      "metadata": {
        "colab": {
          "base_uri": "https://localhost:8080/"
        },
        "id": "KZEB_MfTYaGT",
        "outputId": "5fc0a1ae-a7ac-44e8-da4d-b95db66db73a"
      },
      "source": [
        "k=4\n",
        "num_val_samples = len(x_train) // k \n",
        "num_epochs = 100\n",
        "all_scores = []\n",
        "\n",
        "all_mae_histories = []\n",
        "for i in range(k):\n",
        "    print('processing fold #', i)\n",
        "    val_data = x_train[i * num_val_samples: (i + 1) * num_val_samples]\n",
        "    val_targets = y_train[i * num_val_samples: (i + 1) * num_val_samples]\n",
        "    \n",
        "    partial_train_data = np.concatenate(\n",
        "        [x_train[:i * num_val_samples],\n",
        "         x_train[(i + 1) * num_val_samples:]],\n",
        "        axis=0)\n",
        "    \n",
        "    partial_train_targets = np.concatenate(\n",
        "        [y_train[:i * num_val_samples],\n",
        "         y_train[(i + 1) * num_val_samples:]],\n",
        "        axis=0)"
      ],
      "execution_count": 129,
      "outputs": [
        {
          "output_type": "stream",
          "text": [
            "processing fold # 0\n",
            "processing fold # 1\n",
            "processing fold # 2\n",
            "processing fold # 3\n"
          ],
          "name": "stdout"
        }
      ]
    },
    {
      "cell_type": "markdown",
      "metadata": {
        "id": "yWaC-fE4fC1b"
      },
      "source": [
        "# Training Model"
      ]
    },
    {
      "cell_type": "markdown",
      "metadata": {
        "id": "-XTlf8xib5i0"
      },
      "source": [
        "Relu Model Training"
      ]
    },
    {
      "cell_type": "code",
      "metadata": {
        "id": "s2rdZiz0Wtzq"
      },
      "source": [
        "model = build_model_relu()\n",
        "history = model.fit(partial_train_data, partial_train_targets,\n",
        "                    validation_data=(val_data, val_targets),\n",
        "                    epochs=num_epochs, batch_size=1, verbose=0)\n",
        "#all_scores_relu.append(val_mae)\n",
        "mae_history = history.history['val_mae']\n",
        "all_mae_histories.append(mae_history)"
      ],
      "execution_count": 130,
      "outputs": []
    },
    {
      "cell_type": "code",
      "metadata": {
        "colab": {
          "base_uri": "https://localhost:8080/"
        },
        "id": "vIq0K2r_WzvI",
        "outputId": "abcd887d-be5a-4d11-cd81-4d6e778db1fa"
      },
      "source": [
        "print (history.history.keys())"
      ],
      "execution_count": 131,
      "outputs": [
        {
          "output_type": "stream",
          "text": [
            "dict_keys(['loss', 'mae', 'val_loss', 'val_mae'])\n"
          ],
          "name": "stdout"
        }
      ]
    },
    {
      "cell_type": "code",
      "metadata": {
        "id": "vXkdvgyul3gI"
      },
      "source": [
        "val_mae = history.history['val_mae']\n",
        "val_loss = history.history['val_loss']"
      ],
      "execution_count": 132,
      "outputs": []
    },
    {
      "cell_type": "code",
      "metadata": {
        "colab": {
          "base_uri": "https://localhost:8080/"
        },
        "id": "WNDueCrLW4Qh",
        "outputId": "63539dac-6e2f-48ec-e971-d04f74ca172d"
      },
      "source": [
        "average_mae_history = [\n",
        "np.mean([x[i] for x in all_mae_histories]) for i in range(num_epochs)]\n",
        "print ('avg mae history: ', average_mae_history) # Absolute error on every epoch. "
      ],
      "execution_count": 133,
      "outputs": [
        {
          "output_type": "stream",
          "text": [
            "avg mae history:  [0.6571769118309021, 0.5294647216796875, 0.46809178590774536, 0.42295974493026733, 0.4082045555114746, 0.36994996666908264, 0.3487809896469116, 0.3523118197917938, 0.33016207814216614, 0.3288750648498535, 0.3174486458301544, 0.3187378942966461, 0.32138994336128235, 0.30811962485313416, 0.3160213232040405, 0.3078858554363251, 0.30365198850631714, 0.2964138686656952, 0.2991775870323181, 0.29298272728919983, 0.28988003730773926, 0.29044586420059204, 0.295745313167572, 0.28675514459609985, 0.294476717710495, 0.2761341631412506, 0.30084747076034546, 0.29330289363861084, 0.29322707653045654, 0.2939646542072296, 0.2814435660839081, 0.2680318355560303, 0.2862135171890259, 0.2778630256652832, 0.2647680342197418, 0.2710556983947754, 0.27347633242607117, 0.27197563648223877, 0.2616545259952545, 0.26990807056427, 0.26651790738105774, 0.29185885190963745, 0.26559844613075256, 0.26528194546699524, 0.2636544406414032, 0.2715822160243988, 0.2833801805973053, 0.26854532957077026, 0.26592960953712463, 0.27288708090782166, 0.27134135365486145, 0.27739131450653076, 0.2882518172264099, 0.2710406482219696, 0.25231078267097473, 0.28039851784706116, 0.2593562602996826, 0.2570722699165344, 0.3024895489215851, 0.2659125030040741, 0.2622748613357544, 0.25636860728263855, 0.26843032240867615, 0.2532801628112793, 0.2654019594192505, 0.267048180103302, 0.2599169611930847, 0.2593255043029785, 0.2586008608341217, 0.26866215467453003, 0.2647935152053833, 0.27485185861587524, 0.25388386845588684, 0.2621736228466034, 0.264558881521225, 0.25754690170288086, 0.26329681277275085, 0.2595626413822174, 0.25542789697647095, 0.28408676385879517, 0.26491448283195496, 0.25497376918792725, 0.2688309848308563, 0.2571278214454651, 0.2546394169330597, 0.25135931372642517, 0.2527867555618286, 0.25264695286750793, 0.26973721385002136, 0.2536395788192749, 0.2553505003452301, 0.26291659474372864, 0.24442245066165924, 0.2727525234222412, 0.24346387386322021, 0.2569142282009125, 0.24497312307357788, 0.25673070549964905, 0.2530882954597473, 0.2576707899570465]\n"
          ],
          "name": "stdout"
        }
      ]
    },
    {
      "cell_type": "code",
      "metadata": {
        "colab": {
          "base_uri": "https://localhost:8080/",
          "height": 279
        },
        "id": "pEQjcljrW6tZ",
        "outputId": "1b0b2173-937f-42ed-9a0a-c5bea2fcd582"
      },
      "source": [
        "plt.plot(average_mae_history)\n",
        "plt.xlabel('Epochs')\n",
        "plt.ylabel('Validation MAE')\n",
        "plt.show()"
      ],
      "execution_count": 134,
      "outputs": [
        {
          "output_type": "display_data",
          "data": {
            "image/png": "[encoded data removed]",
            "text/plain": [
              "<Figure size 432x288 with 1 Axes>"
            ]
          },
          "metadata": {
            "tags": [],
            "needs_background": "light"
          }
        }
      ]
    },
    {
      "cell_type": "code",
      "metadata": {
        "colab": {
          "base_uri": "https://localhost:8080/",
          "height": 279
        },
        "id": "UGQKmMEeW9Bd",
        "outputId": "63184f0f-49cd-4148-8739-ebd17368af66"
      },
      "source": [
        "plt.plot(range(1, len(average_mae_history) + 1), average_mae_history)\n",
        "plt.xlabel('Epochs')\n",
        "plt.ylabel('Validation MAE')\n",
        "plt.show()"
      ],
      "execution_count": 135,
      "outputs": [
        {
          "output_type": "display_data",
          "data": {
            "image/png": "[encoded data removed]",
            "text/plain": [
              "<Figure size 432x288 with 1 Axes>"
            ]
          },
          "metadata": {
            "tags": [],
            "needs_background": "light"
          }
        }
      ]
    },
    {
      "cell_type": "code",
      "metadata": {
        "id": "DCMvWNdnXKeJ"
      },
      "source": [
        "def smooth_curve(points, factor=0.9):\n",
        "    smoothed_points = []\n",
        "    for point in points:\n",
        "        if smoothed_points:\n",
        "            previous = smoothed_points[-1]\n",
        "            smoothed_points.append(previous * factor + point * (1 - factor))\n",
        "        else:\n",
        "            smoothed_points.append(point)\n",
        "    return smoothed_points"
      ],
      "execution_count": 136,
      "outputs": []
    },
    {
      "cell_type": "code",
      "metadata": {
        "colab": {
          "base_uri": "https://localhost:8080/",
          "height": 279
        },
        "id": "w2BuAuz0XNjc",
        "outputId": "d4c2b267-025a-4202-d713-76466cb5f9b4"
      },
      "source": [
        "smooth_mae_history = smooth_curve(average_mae_history[10:])\n",
        "plt.plot(range(1, len(smooth_mae_history) + 1), smooth_mae_history)\n",
        "plt.xlabel('Epochs')\n",
        "plt.ylabel('Validation MAE')\n",
        "plt.show()"
      ],
      "execution_count": 82,
      "outputs": [
        {
          "output_type": "display_data",
          "data": {
            "image/png": "[encoded data removed]",
            "text/plain": [
              "<Figure size 432x288 with 1 Axes>"
            ]
          },
          "metadata": {
            "tags": [],
            "needs_background": "light"
          }
        }
      ]
    },
    {
      "cell_type": "code",
      "metadata": {
        "colab": {
          "base_uri": "https://localhost:8080/",
          "height": 295
        },
        "id": "YUeqOjJTl94e",
        "outputId": "a4ffd20f-6ae8-41d8-a3d7-f2534d0217e2"
      },
      "source": [
        "history_dict = history.history\n",
        "loss_values = history_dict['loss']\n",
        "val_loss_values = history_dict['val_loss']\n",
        "epochs = range(100)\n",
        "plt.plot(epochs, loss_values, 'bo', label='Training loss')\n",
        "plt.plot(epochs, val_loss_values, 'b', label='Validation loss')\n",
        "plt.title('Training and validation loss')\n",
        "plt.xlabel('Epochs')\n",
        "plt.ylabel('Loss')\n",
        "plt.legend()\n",
        "plt.show()"
      ],
      "execution_count": 138,
      "outputs": [
        {
          "output_type": "display_data",
          "data": {
            "image/png": "[encoded data removed]",
            "text/plain": [
              "<Figure size 432x288 with 1 Axes>"
            ]
          },
          "metadata": {
            "tags": [],
            "needs_background": "light"
          }
        }
      ]
    },
    {
      "cell_type": "code",
      "metadata": {
        "colab": {
          "base_uri": "https://localhost:8080/",
          "height": 295
        },
        "id": "7KTKvOBwmQ1M",
        "outputId": "c1c71556-606c-4122-a8e1-ec4779b0ae20"
      },
      "source": [
        "acc_values = history_dict['mae']\n",
        "val_acc_values = history_dict['val_mae']\n",
        "plt.plot(epochs, acc_values, 'bo', label='Training mae')\n",
        "plt.plot(epochs, val_acc_values, 'b', label='Validation mae')\n",
        "plt.title('Training and validation accuracy')\n",
        "plt.xlabel('Epochs')\n",
        "plt.ylabel('mae')\n",
        "plt.legend()\n",
        "plt.show()"
      ],
      "execution_count": 139,
      "outputs": [
        {
          "output_type": "display_data",
          "data": {
            "image/png": "[encoded data removed]",
            "text/plain": [
              "<Figure size 432x288 with 1 Axes>"
            ]
          },
          "metadata": {
            "tags": [],
            "needs_background": "light"
          }
        }
      ]
    },
    {
      "cell_type": "markdown",
      "metadata": {
        "id": "AkWne9-pb2Rc"
      },
      "source": [
        "Tanh Model training"
      ]
    },
    {
      "cell_type": "code",
      "metadata": {
        "id": "WpoWqNTlb9jq"
      },
      "source": [
        "model = build_model_tanh()\n",
        "history = model.fit(partial_train_data, partial_train_targets,\n",
        "                    validation_data=(val_data, val_targets),\n",
        "                    epochs=num_epochs, batch_size=1, verbose=0)\n",
        "mae_history = history.history['val_mae']\n",
        "all_mae_histories.append(mae_history)"
      ],
      "execution_count": 140,
      "outputs": []
    },
    {
      "cell_type": "code",
      "metadata": {
        "id": "TEzt7_jql7Rw"
      },
      "source": [
        "val_mae = history.history['val_mae']\n",
        "val_loss = history.history['val_loss']"
      ],
      "execution_count": 141,
      "outputs": []
    },
    {
      "cell_type": "code",
      "metadata": {
        "colab": {
          "base_uri": "https://localhost:8080/"
        },
        "id": "rDN0XP8JcPGb",
        "outputId": "65288018-1587-4abd-eb9b-4edc295d1b83"
      },
      "source": [
        "average_mae_history = [\n",
        "np.mean([x[i] for x in all_mae_histories]) for i in range(num_epochs)]\n",
        "print ('avg mae history: ', average_mae_history) # Absolute error on every epoch. "
      ],
      "execution_count": 142,
      "outputs": [
        {
          "output_type": "stream",
          "text": [
            "avg mae history:  [0.5518326312303543, 0.4705364257097244, 0.42298318445682526, 0.3968481719493866, 0.3823852092027664, 0.36449775099754333, 0.3503640294075012, 0.34198610484600067, 0.3176918923854828, 0.3253401219844818, 0.3086736798286438, 0.30783115327358246, 0.3107500374317169, 0.3140563368797302, 0.30582159757614136, 0.3187595158815384, 0.30203716456890106, 0.2946407049894333, 0.300927072763443, 0.29717786610126495, 0.2872045785188675, 0.29667186737060547, 0.2947061061859131, 0.2925941050052643, 0.2992919832468033, 0.2902340888977051, 0.29525478184223175, 0.29273228347301483, 0.29566599428653717, 0.29509536921977997, 0.2926919460296631, 0.28414323925971985, 0.29630452394485474, 0.2903522700071335, 0.286162406206131, 0.2858172506093979, 0.28756339848041534, 0.28769536316394806, 0.27486705780029297, 0.2857697159051895, 0.28832314908504486, 0.29472239315509796, 0.2783645838499069, 0.2986886352300644, 0.28048089146614075, 0.28144074976444244, 0.29369181394577026, 0.2803581953048706, 0.2864728569984436, 0.2801915258169174, 0.28732699155807495, 0.2826717793941498, 0.29583199322223663, 0.27938422560691833, 0.2791410833597183, 0.28111110627651215, 0.280900701880455, 0.2789721190929413, 0.3076126128435135, 0.2797929346561432, 0.2890036553144455, 0.27330487966537476, 0.28629884123802185, 0.27061471343040466, 0.28139376640319824, 0.27947573363780975, 0.27853555977344513, 0.2700401395559311, 0.27650751173496246, 0.2824757397174835, 0.2774304002523422, 0.2852582782506943, 0.2645976394414902, 0.2738890200853348, 0.2764504700899124, 0.27514083683490753, 0.2739550918340683, 0.2759373337030411, 0.2794470489025116, 0.2937892824411392, 0.2881499081850052, 0.2703827917575836, 0.273446723818779, 0.2712920755147934, 0.27071036398410797, 0.2640960216522217, 0.27167823910713196, 0.2662520110607147, 0.2850452959537506, 0.2731128931045532, 0.269579216837883, 0.28083185851573944, 0.26885246485471725, 0.2757082134485245, 0.2617555111646652, 0.2679051011800766, 0.2620763033628464, 0.27277447283267975, 0.2738804817199707, 0.27314628660678864]\n"
          ],
          "name": "stdout"
        }
      ]
    },
    {
      "cell_type": "code",
      "metadata": {
        "colab": {
          "base_uri": "https://localhost:8080/",
          "height": 279
        },
        "id": "ryZIZ-xocR-n",
        "outputId": "3000b399-f9d6-4536-d790-22913611cf28"
      },
      "source": [
        "plt.plot(average_mae_history)\n",
        "plt.xlabel('Epochs')\n",
        "plt.ylabel('Validation MAE')\n",
        "plt.show()"
      ],
      "execution_count": 143,
      "outputs": [
        {
          "output_type": "display_data",
          "data": {
            "image/png": "[encoded data removed]",
            "text/plain": [
              "<Figure size 432x288 with 1 Axes>"
            ]
          },
          "metadata": {
            "tags": [],
            "needs_background": "light"
          }
        }
      ]
    },
    {
      "cell_type": "code",
      "metadata": {
        "colab": {
          "base_uri": "https://localhost:8080/",
          "height": 279
        },
        "id": "a9lgrCtjcUnl",
        "outputId": "4c424422-7af5-4688-f683-9847b9d2b57b"
      },
      "source": [
        "plt.plot(range(1, len(average_mae_history) + 1), average_mae_history)\n",
        "plt.xlabel('Epochs')\n",
        "plt.ylabel('Validation MAE')\n",
        "plt.show()"
      ],
      "execution_count": 144,
      "outputs": [
        {
          "output_type": "display_data",
          "data": {
            "image/png": "[encoded data removed]",
            "text/plain": [
              "<Figure size 432x288 with 1 Axes>"
            ]
          },
          "metadata": {
            "tags": [],
            "needs_background": "light"
          }
        }
      ]
    },
    {
      "cell_type": "code",
      "metadata": {
        "colab": {
          "base_uri": "https://localhost:8080/",
          "height": 279
        },
        "id": "bqItXB7xcXhu",
        "outputId": "7cac37d5-1806-40f3-fb6f-18f84e50b02b"
      },
      "source": [
        "smooth_mae_history = smooth_curve(average_mae_history[10:])\n",
        "plt.plot(range(1, len(smooth_mae_history) + 1), smooth_mae_history)\n",
        "plt.xlabel('Epochs')\n",
        "plt.ylabel('Validation MAE')\n",
        "plt.show()"
      ],
      "execution_count": 145,
      "outputs": [
        {
          "output_type": "display_data",
          "data": {
            "image/png": "[encoded data removed]",
            "text/plain": [
              "<Figure size 432x288 with 1 Axes>"
            ]
          },
          "metadata": {
            "tags": [],
            "needs_background": "light"
          }
        }
      ]
    },
    {
      "cell_type": "code",
      "metadata": {
        "colab": {
          "base_uri": "https://localhost:8080/",
          "height": 295
        },
        "id": "rFbHJChdmZje",
        "outputId": "2d058f2e-a7bf-47e2-8a56-16a25fde8827"
      },
      "source": [
        "history_dict = history.history\n",
        "loss_values = history_dict['loss']\n",
        "val_loss_values = history_dict['val_loss']\n",
        "epochs = range(100)\n",
        "plt.plot(epochs, loss_values, 'bo', label='Training loss')\n",
        "plt.plot(epochs, val_loss_values, 'b', label='Validation loss')\n",
        "plt.title('Training and validation loss')\n",
        "plt.xlabel('Epochs')\n",
        "plt.ylabel('Loss')\n",
        "plt.legend()\n",
        "plt.show()"
      ],
      "execution_count": 146,
      "outputs": [
        {
          "output_type": "display_data",
          "data": {
            "image/png": "[encoded data removed]",
            "text/plain": [
              "<Figure size 432x288 with 1 Axes>"
            ]
          },
          "metadata": {
            "tags": [],
            "needs_background": "light"
          }
        }
      ]
    },
    {
      "cell_type": "code",
      "metadata": {
        "colab": {
          "base_uri": "https://localhost:8080/",
          "height": 295
        },
        "id": "41TqPkOlmcH0",
        "outputId": "31b45bd5-6206-4563-adaa-a56cb923deca"
      },
      "source": [
        "acc_values = history_dict['mae']\n",
        "val_acc_values = history_dict['val_mae']\n",
        "plt.plot(epochs, acc_values, 'bo', label='Training mae')\n",
        "plt.plot(epochs, val_acc_values, 'b', label='Validation mae')\n",
        "plt.title('Training and validation accuracy')\n",
        "plt.xlabel('Epochs')\n",
        "plt.ylabel('mae')\n",
        "plt.legend()\n",
        "plt.show()"
      ],
      "execution_count": 147,
      "outputs": [
        {
          "output_type": "display_data",
          "data": {
            "image/png": "[encoded data removed]",
            "text/plain": [
              "<Figure size 432x288 with 1 Axes>"
            ]
          },
          "metadata": {
            "tags": [],
            "needs_background": "light"
          }
        }
      ]
    },
    {
      "cell_type": "markdown",
      "metadata": {
        "id": "v4ykgeKjcMe3"
      },
      "source": [
        "# Train Final Model"
      ]
    },
    {
      "cell_type": "markdown",
      "metadata": {
        "id": "xc2_jd-LeSWM"
      },
      "source": [
        "From the above training data we can see that average mean error is less in Relu + Epochs should be near 45 to avoid overfitting. "
      ]
    },
    {
      "cell_type": "code",
      "metadata": {
        "id": "bk8mk4gbcOLF"
      },
      "source": [
        "model = build_model_relu()\n",
        "history = model.fit(partial_train_data, partial_train_targets,\n",
        "                    validation_data=(val_data, val_targets),\n",
        "                    epochs=45, batch_size=1, verbose=0)"
      ],
      "execution_count": 183,
      "outputs": []
    },
    {
      "cell_type": "markdown",
      "metadata": {
        "id": "PTy5mrGAfwlP"
      },
      "source": [
        "# Evaluation / Prediction"
      ]
    },
    {
      "cell_type": "code",
      "metadata": {
        "colab": {
          "base_uri": "https://localhost:8080/"
        },
        "id": "Uus9TXhbe8Ml",
        "outputId": "5b633325-a6a3-4e6c-d530-eff130333cf9"
      },
      "source": [
        "test_mse_score, test_mae_score = model.evaluate(x_test, y_test)\n",
        "print(\"mae score \",test_mae_score)\n",
        "print(\"mse score \",test_mse_score)"
      ],
      "execution_count": 184,
      "outputs": [
        {
          "output_type": "stream",
          "text": [
            "10/10 [==============================] - 0s 2ms/step - loss: 0.1623 - mae: 0.3038\n",
            "mae score  0.3038402199745178\n",
            "mse score  0.16226227581501007\n"
          ],
          "name": "stdout"
        }
      ]
    },
    {
      "cell_type": "code",
      "metadata": {
        "id": "h2eK7toCjFwW"
      },
      "source": [
        "y_pred = model.predict(x_test)"
      ],
      "execution_count": 185,
      "outputs": []
    },
    {
      "cell_type": "markdown",
      "metadata": {
        "id": "2nXbpHKQjVdQ"
      },
      "source": [
        "# denormalization data to check predictions"
      ]
    },
    {
      "cell_type": "code",
      "metadata": {
        "id": "acTPgpD4jXRt"
      },
      "source": [
        "def denormalize(x):\n",
        "    return (x * std_label) + mean_label"
      ],
      "execution_count": 186,
      "outputs": []
    },
    {
      "cell_type": "code",
      "metadata": {
        "colab": {
          "base_uri": "https://localhost:8080/"
        },
        "id": "eGqJttqMjbX_",
        "outputId": "3c914bbd-e650-4974-dade-9dd1446e8428"
      },
      "source": [
        "y_pred = denormalize(y_pred)\n",
        "y_pred = y_pred.flatten()\n",
        "y_pred.shape"
      ],
      "execution_count": 187,
      "outputs": [
        {
          "output_type": "execute_result",
          "data": {
            "text/plain": [
              "(309,)"
            ]
          },
          "metadata": {
            "tags": []
          },
          "execution_count": 187
        }
      ]
    },
    {
      "cell_type": "code",
      "metadata": {
        "colab": {
          "base_uri": "https://localhost:8080/"
        },
        "id": "C5kleQnojfJv",
        "outputId": "5559b819-3371-48a3-d4da-a2bd0899b361"
      },
      "source": [
        "y_true = denormalize(y_test)\n",
        "y_true = y_true.flatten()\n",
        "y_true.shape"
      ],
      "execution_count": 188,
      "outputs": [
        {
          "output_type": "execute_result",
          "data": {
            "text/plain": [
              "(309,)"
            ]
          },
          "metadata": {
            "tags": []
          },
          "execution_count": 188
        }
      ]
    },
    {
      "cell_type": "code",
      "metadata": {
        "colab": {
          "base_uri": "https://localhost:8080/",
          "height": 286
        },
        "id": "aVQ-hjT7ji8H",
        "outputId": "538fbd94-e0a0-4c24-88ab-2b056a15a3dc"
      },
      "source": [
        "coef = np.polyfit(y_true,y_pred,1)\n",
        "poly1d_fn = np.poly1d(coef) \n",
        "# poly1d_fn is now a function which takes in x and returns an estimate for y\n",
        "plt.plot(y_true,y_pred, 'yo', y_true, poly1d_fn(y_true), '--k')\n",
        "plt.xlim(0, 90)\n",
        "plt.ylim(0, 90)"
      ],
      "execution_count": 189,
      "outputs": [
        {
          "output_type": "execute_result",
          "data": {
            "text/plain": [
              "(0.0, 90.0)"
            ]
          },
          "metadata": {
            "tags": []
          },
          "execution_count": 189
        },
        {
          "output_type": "display_data",
          "data": {
            "image/png": "[encoded data removed]",
            "text/plain": [
              "<Figure size 432x288 with 1 Axes>"
            ]
          },
          "metadata": {
            "tags": [],
            "needs_background": "light"
          }
        }
      ]
    }
  ]
}
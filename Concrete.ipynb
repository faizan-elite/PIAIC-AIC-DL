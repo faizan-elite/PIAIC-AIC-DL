{
  "nbformat": 4,
  "nbformat_minor": 0,
  "metadata": {
    "colab": {
      "name": "Concrete.ipynb",
      "provenance": [],
      "collapsed_sections": [],
      "toc_visible": true
    },
    "kernelspec": {
      "name": "python3",
      "display_name": "Python 3"
    },
    "language_info": {
      "name": "python"
    }
  },
  "cells": [
    {
      "cell_type": "markdown",
      "metadata": {
        "id": "i1QGLos4OsPb"
      },
      "source": [
        "Compresive Strength Concrete Problem"
      ]
    },
    {
      "cell_type": "markdown",
      "metadata": {
        "id": "h4RjSy1mO39G"
      },
      "source": [
        "Import Libraries"
      ]
    },
    {
      "cell_type": "code",
      "metadata": {
        "colab": {
          "base_uri": "https://localhost:8080/"
        },
        "id": "i1jFbKfrO1da",
        "outputId": "ac965b8c-3b36-464b-a6d5-6e61b0831f2e"
      },
      "source": [
        "import numpy as np\n",
        "import pandas as pd\n",
        "import tensorflow as tp\n",
        "import matplotlib.pyplot as plt\n",
        "import tensorflow as tf\n",
        "from keras import models\n",
        "from keras import layers\n",
        "from tensorflow.keras import optimizers\n",
        "from keras import regularizers\n",
        "from sklearn.preprocessing import MinMaxScaler\n",
        "from sklearn.model_selection import train_test_split\n",
        "print (tf.__version__)"
      ],
      "execution_count": 1,
      "outputs": [
        {
          "output_type": "stream",
          "text": [
            "2.4.1\n"
          ],
          "name": "stdout"
        }
      ]
    },
    {
      "cell_type": "markdown",
      "metadata": {
        "id": "bFQQB0q1O8e6"
      },
      "source": [
        "# Load Data"
      ]
    },
    {
      "cell_type": "code",
      "metadata": {
        "id": "lwTGUAa_O_WG"
      },
      "source": [
        "data=pd.read_csv(\"/content/compresive_strength_concrete.csv\")"
      ],
      "execution_count": 2,
      "outputs": []
    },
    {
      "cell_type": "markdown",
      "metadata": {
        "id": "J9yjklJgPKxJ"
      },
      "source": [
        "# Data Analysis"
      ]
    },
    {
      "cell_type": "code",
      "metadata": {
        "colab": {
          "base_uri": "https://localhost:8080/",
          "height": 289
        },
        "id": "9NL7QKluPQdq",
        "outputId": "72405bf5-4cc1-4f6d-a2fa-8ff8312a0271"
      },
      "source": [
        "data.head()"
      ],
      "execution_count": 3,
      "outputs": [
        {
          "output_type": "execute_result",
          "data": {
            "text/html": [
              "<div>\n",
              "<style scoped>\n",
              "    .dataframe tbody tr th:only-of-type {\n",
              "        vertical-align: middle;\n",
              "    }\n",
              "\n",
              "    .dataframe tbody tr th {\n",
              "        vertical-align: top;\n",
              "    }\n",
              "\n",
              "    .dataframe thead th {\n",
              "        text-align: right;\n",
              "    }\n",
              "</style>\n",
              "<table border=\"1\" class=\"dataframe\">\n",
              "  <thead>\n",
              "    <tr style=\"text-align: right;\">\n",
              "      <th></th>\n",
              "      <th>Cement (component 1)(kg in a m^3 mixture)</th>\n",
              "      <th>Blast Furnace Slag (component 2)(kg in a m^3 mixture)</th>\n",
              "      <th>Fly Ash (component 3)(kg in a m^3 mixture)</th>\n",
              "      <th>Water  (component 4)(kg in a m^3 mixture)</th>\n",
              "      <th>Superplasticizer (component 5)(kg in a m^3 mixture)</th>\n",
              "      <th>Coarse Aggregate  (component 6)(kg in a m^3 mixture)</th>\n",
              "      <th>Fine Aggregate (component 7)(kg in a m^3 mixture)</th>\n",
              "      <th>Age (day)</th>\n",
              "      <th>Concrete compressive strength(MPa, megapascals)</th>\n",
              "    </tr>\n",
              "  </thead>\n",
              "  <tbody>\n",
              "    <tr>\n",
              "      <th>0</th>\n",
              "      <td>540.0</td>\n",
              "      <td>0.0</td>\n",
              "      <td>0.0</td>\n",
              "      <td>162.0</td>\n",
              "      <td>2.5</td>\n",
              "      <td>1040.0</td>\n",
              "      <td>676.0</td>\n",
              "      <td>28</td>\n",
              "      <td>79.99</td>\n",
              "    </tr>\n",
              "    <tr>\n",
              "      <th>1</th>\n",
              "      <td>540.0</td>\n",
              "      <td>0.0</td>\n",
              "      <td>0.0</td>\n",
              "      <td>162.0</td>\n",
              "      <td>2.5</td>\n",
              "      <td>1055.0</td>\n",
              "      <td>676.0</td>\n",
              "      <td>28</td>\n",
              "      <td>61.89</td>\n",
              "    </tr>\n",
              "    <tr>\n",
              "      <th>2</th>\n",
              "      <td>332.5</td>\n",
              "      <td>142.5</td>\n",
              "      <td>0.0</td>\n",
              "      <td>228.0</td>\n",
              "      <td>0.0</td>\n",
              "      <td>932.0</td>\n",
              "      <td>594.0</td>\n",
              "      <td>270</td>\n",
              "      <td>40.27</td>\n",
              "    </tr>\n",
              "    <tr>\n",
              "      <th>3</th>\n",
              "      <td>332.5</td>\n",
              "      <td>142.5</td>\n",
              "      <td>0.0</td>\n",
              "      <td>228.0</td>\n",
              "      <td>0.0</td>\n",
              "      <td>932.0</td>\n",
              "      <td>594.0</td>\n",
              "      <td>365</td>\n",
              "      <td>41.05</td>\n",
              "    </tr>\n",
              "    <tr>\n",
              "      <th>4</th>\n",
              "      <td>198.6</td>\n",
              "      <td>132.4</td>\n",
              "      <td>0.0</td>\n",
              "      <td>192.0</td>\n",
              "      <td>0.0</td>\n",
              "      <td>978.4</td>\n",
              "      <td>825.5</td>\n",
              "      <td>360</td>\n",
              "      <td>44.30</td>\n",
              "    </tr>\n",
              "  </tbody>\n",
              "</table>\n",
              "</div>"
            ],
            "text/plain": [
              "   Cement (component 1)(kg in a m^3 mixture)  ...  Concrete compressive strength(MPa, megapascals) \n",
              "0                                      540.0  ...                                             79.99\n",
              "1                                      540.0  ...                                             61.89\n",
              "2                                      332.5  ...                                             40.27\n",
              "3                                      332.5  ...                                             41.05\n",
              "4                                      198.6  ...                                             44.30\n",
              "\n",
              "[5 rows x 9 columns]"
            ]
          },
          "metadata": {
            "tags": []
          },
          "execution_count": 3
        }
      ]
    },
    {
      "cell_type": "code",
      "metadata": {
        "colab": {
          "base_uri": "https://localhost:8080/"
        },
        "id": "1BBXZlcjPS4b",
        "outputId": "2205c258-3792-45e1-8095-e81b155837c6"
      },
      "source": [
        "data.shape"
      ],
      "execution_count": 4,
      "outputs": [
        {
          "output_type": "execute_result",
          "data": {
            "text/plain": [
              "(1030, 9)"
            ]
          },
          "metadata": {
            "tags": []
          },
          "execution_count": 4
        }
      ]
    },
    {
      "cell_type": "markdown",
      "metadata": {
        "id": "JUbeizTyPTY4"
      },
      "source": [
        "There are 9 Columns (need to be renamed). 1030 Rows of data\n",
        "\n"
      ]
    },
    {
      "cell_type": "code",
      "metadata": {
        "colab": {
          "base_uri": "https://localhost:8080/"
        },
        "id": "EZhPJowuPXYZ",
        "outputId": "5fd250b0-52ae-4d60-80d2-4d2468840f4d"
      },
      "source": [
        "data.info()"
      ],
      "execution_count": 5,
      "outputs": [
        {
          "output_type": "stream",
          "text": [
            "<class 'pandas.core.frame.DataFrame'>\n",
            "RangeIndex: 1030 entries, 0 to 1029\n",
            "Data columns (total 9 columns):\n",
            " #   Column                                                 Non-Null Count  Dtype  \n",
            "---  ------                                                 --------------  -----  \n",
            " 0   Cement (component 1)(kg in a m^3 mixture)              1030 non-null   float64\n",
            " 1   Blast Furnace Slag (component 2)(kg in a m^3 mixture)  1030 non-null   float64\n",
            " 2   Fly Ash (component 3)(kg in a m^3 mixture)             1030 non-null   float64\n",
            " 3   Water  (component 4)(kg in a m^3 mixture)              1030 non-null   float64\n",
            " 4   Superplasticizer (component 5)(kg in a m^3 mixture)    1030 non-null   float64\n",
            " 5   Coarse Aggregate  (component 6)(kg in a m^3 mixture)   1030 non-null   float64\n",
            " 6   Fine Aggregate (component 7)(kg in a m^3 mixture)      1030 non-null   float64\n",
            " 7   Age (day)                                              1030 non-null   int64  \n",
            " 8   Concrete compressive strength(MPa, megapascals)        1030 non-null   float64\n",
            "dtypes: float64(8), int64(1)\n",
            "memory usage: 72.5 KB\n"
          ],
          "name": "stdout"
        }
      ]
    },
    {
      "cell_type": "code",
      "metadata": {
        "colab": {
          "base_uri": "https://localhost:8080/",
          "height": 399
        },
        "id": "H57cYtSDSGGH",
        "outputId": "492fa771-a92b-438c-a815-341976952bf7"
      },
      "source": [
        "data.describe()"
      ],
      "execution_count": 6,
      "outputs": [
        {
          "output_type": "execute_result",
          "data": {
            "text/html": [
              "<div>\n",
              "<style scoped>\n",
              "    .dataframe tbody tr th:only-of-type {\n",
              "        vertical-align: middle;\n",
              "    }\n",
              "\n",
              "    .dataframe tbody tr th {\n",
              "        vertical-align: top;\n",
              "    }\n",
              "\n",
              "    .dataframe thead th {\n",
              "        text-align: right;\n",
              "    }\n",
              "</style>\n",
              "<table border=\"1\" class=\"dataframe\">\n",
              "  <thead>\n",
              "    <tr style=\"text-align: right;\">\n",
              "      <th></th>\n",
              "      <th>Cement (component 1)(kg in a m^3 mixture)</th>\n",
              "      <th>Blast Furnace Slag (component 2)(kg in a m^3 mixture)</th>\n",
              "      <th>Fly Ash (component 3)(kg in a m^3 mixture)</th>\n",
              "      <th>Water  (component 4)(kg in a m^3 mixture)</th>\n",
              "      <th>Superplasticizer (component 5)(kg in a m^3 mixture)</th>\n",
              "      <th>Coarse Aggregate  (component 6)(kg in a m^3 mixture)</th>\n",
              "      <th>Fine Aggregate (component 7)(kg in a m^3 mixture)</th>\n",
              "      <th>Age (day)</th>\n",
              "      <th>Concrete compressive strength(MPa, megapascals)</th>\n",
              "    </tr>\n",
              "  </thead>\n",
              "  <tbody>\n",
              "    <tr>\n",
              "      <th>count</th>\n",
              "      <td>1030.000000</td>\n",
              "      <td>1030.000000</td>\n",
              "      <td>1030.000000</td>\n",
              "      <td>1030.000000</td>\n",
              "      <td>1030.000000</td>\n",
              "      <td>1030.000000</td>\n",
              "      <td>1030.000000</td>\n",
              "      <td>1030.000000</td>\n",
              "      <td>1030.000000</td>\n",
              "    </tr>\n",
              "    <tr>\n",
              "      <th>mean</th>\n",
              "      <td>281.167864</td>\n",
              "      <td>73.895825</td>\n",
              "      <td>54.188350</td>\n",
              "      <td>181.567282</td>\n",
              "      <td>6.204660</td>\n",
              "      <td>972.918932</td>\n",
              "      <td>773.580485</td>\n",
              "      <td>45.662136</td>\n",
              "      <td>35.817961</td>\n",
              "    </tr>\n",
              "    <tr>\n",
              "      <th>std</th>\n",
              "      <td>104.506364</td>\n",
              "      <td>86.279342</td>\n",
              "      <td>63.997004</td>\n",
              "      <td>21.354219</td>\n",
              "      <td>5.973841</td>\n",
              "      <td>77.753954</td>\n",
              "      <td>80.175980</td>\n",
              "      <td>63.169912</td>\n",
              "      <td>16.705742</td>\n",
              "    </tr>\n",
              "    <tr>\n",
              "      <th>min</th>\n",
              "      <td>102.000000</td>\n",
              "      <td>0.000000</td>\n",
              "      <td>0.000000</td>\n",
              "      <td>121.800000</td>\n",
              "      <td>0.000000</td>\n",
              "      <td>801.000000</td>\n",
              "      <td>594.000000</td>\n",
              "      <td>1.000000</td>\n",
              "      <td>2.330000</td>\n",
              "    </tr>\n",
              "    <tr>\n",
              "      <th>25%</th>\n",
              "      <td>192.375000</td>\n",
              "      <td>0.000000</td>\n",
              "      <td>0.000000</td>\n",
              "      <td>164.900000</td>\n",
              "      <td>0.000000</td>\n",
              "      <td>932.000000</td>\n",
              "      <td>730.950000</td>\n",
              "      <td>7.000000</td>\n",
              "      <td>23.710000</td>\n",
              "    </tr>\n",
              "    <tr>\n",
              "      <th>50%</th>\n",
              "      <td>272.900000</td>\n",
              "      <td>22.000000</td>\n",
              "      <td>0.000000</td>\n",
              "      <td>185.000000</td>\n",
              "      <td>6.400000</td>\n",
              "      <td>968.000000</td>\n",
              "      <td>779.500000</td>\n",
              "      <td>28.000000</td>\n",
              "      <td>34.445000</td>\n",
              "    </tr>\n",
              "    <tr>\n",
              "      <th>75%</th>\n",
              "      <td>350.000000</td>\n",
              "      <td>142.950000</td>\n",
              "      <td>118.300000</td>\n",
              "      <td>192.000000</td>\n",
              "      <td>10.200000</td>\n",
              "      <td>1029.400000</td>\n",
              "      <td>824.000000</td>\n",
              "      <td>56.000000</td>\n",
              "      <td>46.135000</td>\n",
              "    </tr>\n",
              "    <tr>\n",
              "      <th>max</th>\n",
              "      <td>540.000000</td>\n",
              "      <td>359.400000</td>\n",
              "      <td>200.100000</td>\n",
              "      <td>247.000000</td>\n",
              "      <td>32.200000</td>\n",
              "      <td>1145.000000</td>\n",
              "      <td>992.600000</td>\n",
              "      <td>365.000000</td>\n",
              "      <td>82.600000</td>\n",
              "    </tr>\n",
              "  </tbody>\n",
              "</table>\n",
              "</div>"
            ],
            "text/plain": [
              "       Cement (component 1)(kg in a m^3 mixture)  ...  Concrete compressive strength(MPa, megapascals) \n",
              "count                                1030.000000  ...                                       1030.000000\n",
              "mean                                  281.167864  ...                                         35.817961\n",
              "std                                   104.506364  ...                                         16.705742\n",
              "min                                   102.000000  ...                                          2.330000\n",
              "25%                                   192.375000  ...                                         23.710000\n",
              "50%                                   272.900000  ...                                         34.445000\n",
              "75%                                   350.000000  ...                                         46.135000\n",
              "max                                   540.000000  ...                                         82.600000\n",
              "\n",
              "[8 rows x 9 columns]"
            ]
          },
          "metadata": {
            "tags": []
          },
          "execution_count": 6
        }
      ]
    },
    {
      "cell_type": "markdown",
      "metadata": {
        "id": "RjZbWx3EPZyY"
      },
      "source": [
        "Data Cleaning"
      ]
    },
    {
      "cell_type": "code",
      "metadata": {
        "id": "dx2h9yVRQ0Mo"
      },
      "source": [
        "data.columns = ['Cement ','Blast_Furnace','Fly_Ash','Water','Superplasticizer','Coarse_Aggregate','Fine_Aggregate','Age','CC_Strength']"
      ],
      "execution_count": 7,
      "outputs": []
    },
    {
      "cell_type": "markdown",
      "metadata": {
        "id": "hlKizgPiRiQl"
      },
      "source": [
        "Null Values if Any"
      ]
    },
    {
      "cell_type": "code",
      "metadata": {
        "colab": {
          "base_uri": "https://localhost:8080/"
        },
        "id": "dStUX1SxRgT1",
        "outputId": "be439447-70f6-4a43-84c7-302dc59dea87"
      },
      "source": [
        "data.isnull().sum()"
      ],
      "execution_count": 8,
      "outputs": [
        {
          "output_type": "execute_result",
          "data": {
            "text/plain": [
              "Cement              0\n",
              "Blast_Furnace       0\n",
              "Fly_Ash             0\n",
              "Water               0\n",
              "Superplasticizer    0\n",
              "Coarse_Aggregate    0\n",
              "Fine_Aggregate      0\n",
              "Age                 0\n",
              "CC_Strength         0\n",
              "dtype: int64"
            ]
          },
          "metadata": {
            "tags": []
          },
          "execution_count": 8
        }
      ]
    },
    {
      "cell_type": "code",
      "metadata": {
        "colab": {
          "base_uri": "https://localhost:8080/"
        },
        "id": "UH6PU8SgUDZ5",
        "outputId": "b8fb7d9f-5811-4f46-b818-fdd94904829a"
      },
      "source": [
        "np.where(data.applymap(lambda x: x == ''))"
      ],
      "execution_count": 9,
      "outputs": [
        {
          "output_type": "execute_result",
          "data": {
            "text/plain": [
              "(array([], dtype=int64), array([], dtype=int64))"
            ]
          },
          "metadata": {
            "tags": []
          },
          "execution_count": 9
        }
      ]
    },
    {
      "cell_type": "code",
      "metadata": {
        "id": "ILrJu3Xbc3vQ"
      },
      "source": [
        "x = data.drop('CC_Strength', axis=1)\n",
        "y = data['CC_Strength']"
      ],
      "execution_count": 10,
      "outputs": []
    },
    {
      "cell_type": "markdown",
      "metadata": {
        "id": "OKPBN9VLRTKt"
      },
      "source": [
        "# Normalizing Data with Mean-Std"
      ]
    },
    {
      "cell_type": "code",
      "metadata": {
        "id": "4pIbGMHPVTCT"
      },
      "source": [
        "x_train, x_test, y_train, y_test =train_test_split(x,y, test_size=0.3, random_state=42)"
      ],
      "execution_count": 11,
      "outputs": []
    },
    {
      "cell_type": "markdown",
      "metadata": {
        "id": "logXjLh1UjcL"
      },
      "source": [
        "# assign features and target columns"
      ]
    },
    {
      "cell_type": "code",
      "metadata": {
        "id": "G0Nf2w2xUmYB"
      },
      "source": [
        "mean = x_train.mean(axis=0)\n",
        "x_train -= mean\n",
        "std = x_train.std(axis=0)\n",
        "x_train /= std\n",
        "x_test -= mean\n",
        "x_test /= std"
      ],
      "execution_count": 12,
      "outputs": []
    },
    {
      "cell_type": "code",
      "metadata": {
        "id": "aufoSonidwuC"
      },
      "source": [
        "mean_label = y_train.mean(axis=0)\n",
        "y_train -= mean_label \n",
        "std_label = y_train.std(axis=0)\n",
        "y_train /= std_label\n",
        "y_test -= mean_label\n",
        "y_test /= std_label"
      ],
      "execution_count": 13,
      "outputs": []
    },
    {
      "cell_type": "code",
      "metadata": {
        "colab": {
          "base_uri": "https://localhost:8080/",
          "height": 297
        },
        "id": "Y1qJlO8LY6dD",
        "outputId": "de4f6cc1-d532-4f36-8399-73aef9070c65"
      },
      "source": [
        "x_train.describe().T"
      ],
      "execution_count": 14,
      "outputs": [
        {
          "output_type": "execute_result",
          "data": {
            "text/html": [
              "<div>\n",
              "<style scoped>\n",
              "    .dataframe tbody tr th:only-of-type {\n",
              "        vertical-align: middle;\n",
              "    }\n",
              "\n",
              "    .dataframe tbody tr th {\n",
              "        vertical-align: top;\n",
              "    }\n",
              "\n",
              "    .dataframe thead th {\n",
              "        text-align: right;\n",
              "    }\n",
              "</style>\n",
              "<table border=\"1\" class=\"dataframe\">\n",
              "  <thead>\n",
              "    <tr style=\"text-align: right;\">\n",
              "      <th></th>\n",
              "      <th>count</th>\n",
              "      <th>mean</th>\n",
              "      <th>std</th>\n",
              "      <th>min</th>\n",
              "      <th>25%</th>\n",
              "      <th>50%</th>\n",
              "      <th>75%</th>\n",
              "      <th>max</th>\n",
              "    </tr>\n",
              "  </thead>\n",
              "  <tbody>\n",
              "    <tr>\n",
              "      <th>Cement</th>\n",
              "      <td>721.0</td>\n",
              "      <td>-7.830075e-17</td>\n",
              "      <td>1.0</td>\n",
              "      <td>-1.683389</td>\n",
              "      <td>-0.852826</td>\n",
              "      <td>-0.068405</td>\n",
              "      <td>0.721554</td>\n",
              "      <td>2.358687</td>\n",
              "    </tr>\n",
              "    <tr>\n",
              "      <th>Blast_Furnace</th>\n",
              "      <td>721.0</td>\n",
              "      <td>-1.684583e-16</td>\n",
              "      <td>1.0</td>\n",
              "      <td>-0.854703</td>\n",
              "      <td>-0.854703</td>\n",
              "      <td>-0.603898</td>\n",
              "      <td>0.798331</td>\n",
              "      <td>3.242540</td>\n",
              "    </tr>\n",
              "    <tr>\n",
              "      <th>Fly_Ash</th>\n",
              "      <td>721.0</td>\n",
              "      <td>4.194518e-16</td>\n",
              "      <td>1.0</td>\n",
              "      <td>-0.816346</td>\n",
              "      <td>-0.816346</td>\n",
              "      <td>-0.816346</td>\n",
              "      <td>1.028017</td>\n",
              "      <td>2.244512</td>\n",
              "    </tr>\n",
              "    <tr>\n",
              "      <th>Water</th>\n",
              "      <td>721.0</td>\n",
              "      <td>2.044289e-15</td>\n",
              "      <td>1.0</td>\n",
              "      <td>-2.836060</td>\n",
              "      <td>-0.765956</td>\n",
              "      <td>0.184023</td>\n",
              "      <td>0.481777</td>\n",
              "      <td>3.081222</td>\n",
              "    </tr>\n",
              "    <tr>\n",
              "      <th>Superplasticizer</th>\n",
              "      <td>721.0</td>\n",
              "      <td>4.559460e-16</td>\n",
              "      <td>1.0</td>\n",
              "      <td>-1.013292</td>\n",
              "      <td>-1.013292</td>\n",
              "      <td>-0.020966</td>\n",
              "      <td>0.657123</td>\n",
              "      <td>4.312190</td>\n",
              "    </tr>\n",
              "    <tr>\n",
              "      <th>Coarse_Aggregate</th>\n",
              "      <td>721.0</td>\n",
              "      <td>-2.876879e-15</td>\n",
              "      <td>1.0</td>\n",
              "      <td>-2.200993</td>\n",
              "      <td>-0.532401</td>\n",
              "      <td>-0.073857</td>\n",
              "      <td>0.843231</td>\n",
              "      <td>2.180652</td>\n",
              "    </tr>\n",
              "    <tr>\n",
              "      <th>Fine_Aggregate</th>\n",
              "      <td>721.0</td>\n",
              "      <td>9.605469e-15</td>\n",
              "      <td>1.0</td>\n",
              "      <td>-2.216980</td>\n",
              "      <td>-0.590791</td>\n",
              "      <td>0.085644</td>\n",
              "      <td>0.616058</td>\n",
              "      <td>2.757686</td>\n",
              "    </tr>\n",
              "    <tr>\n",
              "      <th>Age</th>\n",
              "      <td>721.0</td>\n",
              "      <td>2.432944e-17</td>\n",
              "      <td>1.0</td>\n",
              "      <td>-0.730728</td>\n",
              "      <td>-0.519863</td>\n",
              "      <td>-0.292777</td>\n",
              "      <td>0.161394</td>\n",
              "      <td>5.173499</td>\n",
              "    </tr>\n",
              "  </tbody>\n",
              "</table>\n",
              "</div>"
            ],
            "text/plain": [
              "                  count          mean  std  ...       50%       75%       max\n",
              "Cement            721.0 -7.830075e-17  1.0  ... -0.068405  0.721554  2.358687\n",
              "Blast_Furnace     721.0 -1.684583e-16  1.0  ... -0.603898  0.798331  3.242540\n",
              "Fly_Ash           721.0  4.194518e-16  1.0  ... -0.816346  1.028017  2.244512\n",
              "Water             721.0  2.044289e-15  1.0  ...  0.184023  0.481777  3.081222\n",
              "Superplasticizer  721.0  4.559460e-16  1.0  ... -0.020966  0.657123  4.312190\n",
              "Coarse_Aggregate  721.0 -2.876879e-15  1.0  ... -0.073857  0.843231  2.180652\n",
              "Fine_Aggregate    721.0  9.605469e-15  1.0  ...  0.085644  0.616058  2.757686\n",
              "Age               721.0  2.432944e-17  1.0  ... -0.292777  0.161394  5.173499\n",
              "\n",
              "[8 rows x 8 columns]"
            ]
          },
          "metadata": {
            "tags": []
          },
          "execution_count": 14
        }
      ]
    },
    {
      "cell_type": "code",
      "metadata": {
        "id": "jG_KJbaYeEvJ"
      },
      "source": [
        "x_train = x_train.to_numpy()\n",
        "y_train = y_train.to_numpy().astype('float32')\n",
        "x_test = x_test.to_numpy()\n",
        "y_test = y_test.to_numpy().astype('float32')"
      ],
      "execution_count": 15,
      "outputs": []
    },
    {
      "cell_type": "markdown",
      "metadata": {
        "id": "eFX7PBE_fNdJ"
      },
      "source": [
        "# Model Function (Book)"
      ]
    },
    {
      "cell_type": "code",
      "metadata": {
        "id": "H3QPqlY1YWji"
      },
      "source": [
        "def build_model():\n",
        "    model = models.Sequential()\n",
        "    model.add(layers.Dense(10, activation= 'relu',input_shape=(x_train.shape[1],)))\n",
        "    model.add(layers.Dense(8, activation= 'relu'))\n",
        "    model.add(layers.Dense(6, activation= 'relu'))\n",
        "    model.add(layers.Dense(1))\n",
        "    model.compile(optimizer='rmsprop', loss='mse', metrics=['mae'])\n",
        "    return model"
      ],
      "execution_count": 16,
      "outputs": []
    },
    {
      "cell_type": "markdown",
      "metadata": {
        "id": "aGfhH7K9fTYM"
      },
      "source": [
        "K-fold Validation"
      ]
    },
    {
      "cell_type": "code",
      "metadata": {
        "colab": {
          "base_uri": "https://localhost:8080/"
        },
        "id": "KZEB_MfTYaGT",
        "outputId": "b959cadf-2a9e-4e22-a87d-4533638f97d7"
      },
      "source": [
        "k = 4\n",
        "num_val_samples = len(x_train) // k \n",
        "num_epochs = 100\n",
        "all_scores_relu = []\n",
        "\n",
        "for i in range(k):\n",
        "  print('processing fold #', i)\n",
        "  val_data = x_train[i * num_val_samples: (i + 1) * num_val_samples]\n",
        "  val_targets = y_train[i * num_val_samples: (i + 1) * num_val_samples]\n",
        "  partial_train_data = np.concatenate([x_train[:i * num_val_samples],x_train[(i + 1) * num_val_samples:]],  axis=0)\n",
        "  partial_train_targets = np.concatenate([y_train[:i * num_val_samples],y_train[(i + 1) * num_val_samples:]],axis=0)\n",
        "  model = build_model()\n",
        "  model.fit(partial_train_data, partial_train_targets,epochs=num_epochs, batch_size=1, verbose=0)\n",
        "  val_mse, val_mae = model.evaluate(val_data, val_targets, verbose=0)\n",
        "  all_scores_relu.append(val_mae)\n"
      ],
      "execution_count": 17,
      "outputs": [
        {
          "output_type": "stream",
          "text": [
            "processing fold # 0\n",
            "processing fold # 1\n",
            "processing fold # 2\n",
            "processing fold # 3\n"
          ],
          "name": "stdout"
        }
      ]
    },
    {
      "cell_type": "markdown",
      "metadata": {
        "id": "yWaC-fE4fC1b"
      },
      "source": [
        "# Training Model"
      ]
    },
    {
      "cell_type": "code",
      "metadata": {
        "colab": {
          "base_uri": "https://localhost:8080/"
        },
        "id": "TPHTXB3We2XS",
        "outputId": "6d82c26b-14ba-459b-d287-8b13b479c690"
      },
      "source": [
        "model = build_model()\n",
        "model.fit(x_train, y_train, epochs=100, batch_size=1, verbose=0)"
      ],
      "execution_count": 18,
      "outputs": [
        {
          "output_type": "execute_result",
          "data": {
            "text/plain": [
              "<tensorflow.python.keras.callbacks.History at 0x7f4e24fdda50>"
            ]
          },
          "metadata": {
            "tags": []
          },
          "execution_count": 18
        }
      ]
    },
    {
      "cell_type": "markdown",
      "metadata": {
        "id": "PTy5mrGAfwlP"
      },
      "source": [
        "# Evaluation / Prediction"
      ]
    },
    {
      "cell_type": "code",
      "metadata": {
        "colab": {
          "base_uri": "https://localhost:8080/"
        },
        "id": "Uus9TXhbe8Ml",
        "outputId": "8e2fd31f-fff5-467e-9c38-8f0cb833672d"
      },
      "source": [
        "test_mse_score, test_mae_score = model.evaluate(x_test, y_test)\n",
        "print(\"mae score \",test_mae_score)\n",
        "print(\"mse score \",test_mse_score)"
      ],
      "execution_count": 19,
      "outputs": [
        {
          "output_type": "stream",
          "text": [
            "10/10 [==============================] - 0s 2ms/step - loss: 0.1759 - mae: 0.3160\n",
            "mae score  0.3160485625267029\n",
            "mse score  0.175927996635437\n"
          ],
          "name": "stdout"
        }
      ]
    }
  ]
}
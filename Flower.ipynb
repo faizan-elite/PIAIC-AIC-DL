{
  "nbformat": 4,
  "nbformat_minor": 0,
  "metadata": {
    "colab": {
      "name": "Fzn Flower.ipynb",
      "provenance": [],
      "collapsed_sections": [],
      "toc_visible": true
    },
    "kernelspec": {
      "name": "python3",
      "display_name": "Python 3"
    },
    "language_info": {
      "name": "python"
    },
    "accelerator": "GPU"
  },
  "cells": [
    {
      "cell_type": "markdown",
      "metadata": {
        "id": "_Wfzj9pEJWKP"
      },
      "source": [
        "\n",
        "\n",
        "\n",
        "Flower Prediction Problem\n",
        "dataset contains 4242 images of flowers\n",
        "The pictures are divided into five classes\n",
        "800 photos each - 320x240 pixels\n",
        "This is a Multiclass Classification Problem.\n",
        "Split into 60 and 40 ratio\n",
        "Accuracy - 85% of higher. \n",
        "\n",
        "Objective - Flower recognition from given images. \n"
      ]
    },
    {
      "cell_type": "markdown",
      "metadata": {
        "id": "rWXf20vpJkGJ"
      },
      "source": [
        "Import Libraries"
      ]
    },
    {
      "cell_type": "code",
      "metadata": {
        "id": "K-AVZpA2Jkvf",
        "colab": {
          "base_uri": "https://localhost:8080/"
        },
        "outputId": "a3f09c44-251c-4f59-de6a-e263eaee6656"
      },
      "source": [
        "import numpy as np\n",
        "import pandas as pd\n",
        "import matplotlib.pyplot as plt\n",
        "import tensorflow as tf\n",
        "from tensorflow.keras.preprocessing.image import ImageDataGenerator\n",
        "from tensorflow.keras.preprocessing import image\n",
        "from tensorflow.keras.models import Sequential\n",
        "from tensorflow.keras.layers import Dense, Flatten\n",
        "from tensorflow.keras.optimizers import Adam, SGD\n",
        "\n",
        "device_name = tf.test.gpu_device_name()\n",
        "if device_name != '/device:GPU:0':\n",
        "  raise SystemError('GPU device not found')\n",
        "print('Found GPU at: {}'.format(device_name))\n"
      ],
      "execution_count": 44,
      "outputs": [
        {
          "output_type": "stream",
          "text": [
            "Found GPU at: /device:GPU:0\n"
          ],
          "name": "stdout"
        }
      ]
    },
    {
      "cell_type": "markdown",
      "metadata": {
        "id": "VnDMizeMLvFs"
      },
      "source": [
        "Load Data while resizing and conversion to greyscale to optimize processing power. "
      ]
    },
    {
      "cell_type": "code",
      "metadata": {
        "colab": {
          "base_uri": "https://localhost:8080/"
        },
        "id": "fJebTGqnLufs",
        "outputId": "5992fc4c-1624-4609-96e6-a592a5690016"
      },
      "source": [
        "val_batch = 10\n",
        "train_batch = 20\n",
        "train_datagen = ImageDataGenerator(\n",
        "rescale=1./255, shear_range=0.4, zoom_range=0.3, validation_split=0.4, horizontal_flip=True, )\n",
        "\n",
        "train_data = train_datagen.flow_from_directory( '/content/drive/MyDrive/Colab Notebooks/flowers', target_size=(150, 150),\n",
        "batch_size=train_batch, class_mode='categorical', subset = 'training', shuffle = True)\n",
        "\n",
        "val_data = train_datagen.flow_from_directory( '/content/drive/MyDrive/Colab Notebooks/flowers', target_size=(150, 150),\n",
        "batch_size=val_batch, class_mode='categorical', subset = 'validation', shuffle= True)"
      ],
      "execution_count": 45,
      "outputs": [
        {
          "output_type": "stream",
          "text": [
            "Found 2597 images belonging to 5 classes.\n",
            "Found 1726 images belonging to 5 classes.\n"
          ],
          "name": "stdout"
        }
      ]
    },
    {
      "cell_type": "markdown",
      "metadata": {
        "id": "Az8TAPcHLxdT"
      },
      "source": [
        "Data Analysis"
      ]
    },
    {
      "cell_type": "code",
      "metadata": {
        "id": "_6HRDPLPOZYF",
        "colab": {
          "base_uri": "https://localhost:8080/"
        },
        "outputId": "803ce30e-a6ba-415f-f7be-2cf315b7ef56"
      },
      "source": [
        "print ('len train data', len(train_data))\n",
        "print (val_data[1][1])"
      ],
      "execution_count": 46,
      "outputs": [
        {
          "output_type": "stream",
          "text": [
            "len train data 130\n",
            "[[1. 0. 0. 0. 0.]\n",
            " [1. 0. 0. 0. 0.]\n",
            " [0. 1. 0. 0. 0.]\n",
            " [1. 0. 0. 0. 0.]\n",
            " [0. 1. 0. 0. 0.]\n",
            " [0. 0. 0. 0. 1.]\n",
            " [0. 0. 0. 0. 1.]\n",
            " [0. 0. 0. 0. 1.]\n",
            " [1. 0. 0. 0. 0.]\n",
            " [0. 0. 0. 0. 1.]]\n"
          ],
          "name": "stdout"
        }
      ]
    },
    {
      "cell_type": "code",
      "metadata": {
        "id": "BXVHadcPOoyn",
        "colab": {
          "base_uri": "https://localhost:8080/"
        },
        "outputId": "087e4275-1b60-4174-f651-9dfd13db2325"
      },
      "source": [
        "print ('len val data', len(val_data))"
      ],
      "execution_count": 47,
      "outputs": [
        {
          "output_type": "stream",
          "text": [
            "len val data 173\n"
          ],
          "name": "stdout"
        }
      ]
    },
    {
      "cell_type": "markdown",
      "metadata": {
        "id": "8f-OlDONOwhO"
      },
      "source": [
        "Label Data according to folder name"
      ]
    },
    {
      "cell_type": "code",
      "metadata": {
        "id": "S35EPWg_c9_f",
        "colab": {
          "base_uri": "https://localhost:8080/"
        },
        "outputId": "44e710d8-7ee1-4262-fbb7-45f8a0f1e3c1"
      },
      "source": [
        "print (val_data.labels)"
      ],
      "execution_count": 48,
      "outputs": [
        {
          "output_type": "stream",
          "text": [
            "[0 0 0 ... 4 4 4]\n"
          ],
          "name": "stdout"
        }
      ]
    },
    {
      "cell_type": "code",
      "metadata": {
        "id": "N8f_HRShO0GL",
        "colab": {
          "base_uri": "https://localhost:8080/"
        },
        "outputId": "5ca71363-76da-4f0a-f6df-312b998d2861"
      },
      "source": [
        "train_data.class_indices"
      ],
      "execution_count": 49,
      "outputs": [
        {
          "output_type": "execute_result",
          "data": {
            "text/plain": [
              "{'daisy': 0, 'dandelion': 1, 'rose': 2, 'sunflower': 3, 'tulip': 4}"
            ]
          },
          "metadata": {
            "tags": []
          },
          "execution_count": 49
        }
      ]
    },
    {
      "cell_type": "markdown",
      "metadata": {
        "id": "TQ-13yPGPM-S"
      },
      "source": [
        "# Model"
      ]
    },
    {
      "cell_type": "markdown",
      "metadata": {
        "id": "NoxvvuY74W46"
      },
      "source": [
        "After many experiments with layers and outputs. The best results were 49% accuracy with model below. \n",
        "\n",
        "As requirements were 85% accuracy it was decided to use a pre-trained model to meet the objective. "
      ]
    },
    {
      "cell_type": "code",
      "metadata": {
        "id": "lZuFZa1fPNuq"
      },
      "source": [
        "\"\"\"\n",
        "model = Sequential()\n",
        "model.add(Flatten())\n",
        "model.add(Dense(512, activation='relu'))  \n",
        "model.add(Dense(5, activation='softmax'))\n",
        "\n",
        "model.compile(optimizer='adam',\n",
        "              loss='categorical_crossentropy',\n",
        "              metrics=['accuracy'])\n",
        "\n",
        "history = model.fit(train_data,\n",
        "                    epochs=18,\n",
        "                    batch_size=20,\n",
        "                    validation_data = val_data)\n",
        "\"\"\""
      ],
      "execution_count": 11,
      "outputs": []
    },
    {
      "cell_type": "code",
      "metadata": {
        "id": "qT04Qnld4u_V"
      },
      "source": [
        "pretrained_model = tf.keras.applications.Xception(input_shape=[150,150, 3], include_top=False)\n",
        "pretrained_model.trainable = True\n",
        "model = Sequential()\n",
        "model.add(pretrained_model)\n",
        "model.add(tf.keras.layers.GlobalAveragePooling2D()) \n",
        "model.add(Dense(5, activation='softmax'))"
      ],
      "execution_count": 54,
      "outputs": []
    },
    {
      "cell_type": "code",
      "metadata": {
        "id": "hQlMs9az40wv"
      },
      "source": [
        "model.compile(optimizer='adam',\n",
        "              loss='categorical_crossentropy',\n",
        "              metrics=['accuracy'])"
      ],
      "execution_count": 55,
      "outputs": []
    },
    {
      "cell_type": "markdown",
      "metadata": {
        "id": "0tO4qygMXHjt"
      },
      "source": [
        "# Training"
      ]
    },
    {
      "cell_type": "markdown",
      "metadata": {
        "id": "YRKOnU1YLW6w"
      },
      "source": [
        "Due to high resource requirement. Model has been adjusted for optimum results in least epochs rather than re-train the model from scratch. "
      ]
    },
    {
      "cell_type": "code",
      "metadata": {
        "id": "APgbLguNXN3W",
        "colab": {
          "base_uri": "https://localhost:8080/"
        },
        "outputId": "bc9f70d9-fa69-4274-b78e-c76189828c70"
      },
      "source": [
        "with tf.device('/device:GPU:0'): \n",
        "  history = model.fit(train_data,\n",
        "                    epochs=20,\n",
        "                    batch_size=20,\n",
        "                    validation_data = val_data)"
      ],
      "execution_count": 56,
      "outputs": [
        {
          "output_type": "stream",
          "text": [
            "Epoch 1/20\n",
            "130/130 [==============================] - 46s 327ms/step - loss: 0.8913 - accuracy: 0.6669 - val_loss: 4.5411 - val_accuracy: 0.4687\n",
            "Epoch 2/20\n",
            "130/130 [==============================] - 42s 319ms/step - loss: 0.4853 - accuracy: 0.8397 - val_loss: 0.6326 - val_accuracy: 0.7735\n",
            "Epoch 3/20\n",
            "130/130 [==============================] - 41s 318ms/step - loss: 0.3951 - accuracy: 0.8633 - val_loss: 0.8421 - val_accuracy: 0.7497\n",
            "Epoch 4/20\n",
            "130/130 [==============================] - 42s 320ms/step - loss: 0.3239 - accuracy: 0.8882 - val_loss: 0.8255 - val_accuracy: 0.7428\n",
            "Epoch 5/20\n",
            "130/130 [==============================] - 42s 320ms/step - loss: 0.2853 - accuracy: 0.9080 - val_loss: 0.9286 - val_accuracy: 0.7990\n",
            "Epoch 6/20\n",
            "130/130 [==============================] - 42s 322ms/step - loss: 0.2468 - accuracy: 0.9031 - val_loss: 0.5843 - val_accuracy: 0.8320\n",
            "Epoch 7/20\n",
            "130/130 [==============================] - 42s 319ms/step - loss: 0.2106 - accuracy: 0.9329 - val_loss: 0.5727 - val_accuracy: 0.8395\n",
            "Epoch 8/20\n",
            "130/130 [==============================] - 42s 319ms/step - loss: 0.1649 - accuracy: 0.9454 - val_loss: 0.7456 - val_accuracy: 0.8065\n",
            "Epoch 9/20\n",
            "130/130 [==============================] - 42s 319ms/step - loss: 0.1814 - accuracy: 0.9354 - val_loss: 0.9930 - val_accuracy: 0.7868\n",
            "Epoch 10/20\n",
            "130/130 [==============================] - 41s 318ms/step - loss: 0.1815 - accuracy: 0.9355 - val_loss: 1.0053 - val_accuracy: 0.7787\n",
            "Epoch 11/20\n",
            "130/130 [==============================] - 42s 319ms/step - loss: 0.1805 - accuracy: 0.9426 - val_loss: 1.2946 - val_accuracy: 0.8076\n",
            "Epoch 12/20\n",
            "130/130 [==============================] - 41s 318ms/step - loss: 0.1838 - accuracy: 0.9417 - val_loss: 0.7445 - val_accuracy: 0.8129\n",
            "Epoch 13/20\n",
            "130/130 [==============================] - 42s 319ms/step - loss: 0.1318 - accuracy: 0.9581 - val_loss: 0.8402 - val_accuracy: 0.7833\n",
            "Epoch 14/20\n",
            "130/130 [==============================] - 42s 319ms/step - loss: 0.1785 - accuracy: 0.9454 - val_loss: 0.6866 - val_accuracy: 0.8042\n",
            "Epoch 15/20\n",
            "130/130 [==============================] - 41s 318ms/step - loss: 0.1499 - accuracy: 0.9503 - val_loss: 0.5804 - val_accuracy: 0.8557\n",
            "Epoch 16/20\n",
            "130/130 [==============================] - 41s 318ms/step - loss: 0.0778 - accuracy: 0.9777 - val_loss: 1.0298 - val_accuracy: 0.7874\n",
            "Epoch 17/20\n",
            "130/130 [==============================] - 41s 318ms/step - loss: 0.1172 - accuracy: 0.9633 - val_loss: 1.1224 - val_accuracy: 0.7966\n",
            "Epoch 18/20\n",
            "130/130 [==============================] - 41s 318ms/step - loss: 0.1458 - accuracy: 0.9610 - val_loss: 0.6780 - val_accuracy: 0.8395\n",
            "Epoch 19/20\n",
            "130/130 [==============================] - 41s 317ms/step - loss: 0.1394 - accuracy: 0.9519 - val_loss: 2.0424 - val_accuracy: 0.8100\n",
            "Epoch 20/20\n",
            "130/130 [==============================] - 41s 318ms/step - loss: 0.1093 - accuracy: 0.9639 - val_loss: 1.6487 - val_accuracy: 0.8019\n"
          ],
          "name": "stdout"
        }
      ]
    },
    {
      "cell_type": "code",
      "metadata": {
        "colab": {
          "base_uri": "https://localhost:8080/"
        },
        "id": "VE8pJO7O072p",
        "outputId": "6d792565-1ff1-407f-ea66-fa6c4e2a7778"
      },
      "source": [
        "model.summary()"
      ],
      "execution_count": 57,
      "outputs": [
        {
          "output_type": "stream",
          "text": [
            "Model: \"sequential_4\"\n",
            "_________________________________________________________________\n",
            "Layer (type)                 Output Shape              Param #   \n",
            "=================================================================\n",
            "xception (Functional)        (None, 5, 5, 2048)        20861480  \n",
            "_________________________________________________________________\n",
            "global_average_pooling2d_2 ( (None, 2048)              0         \n",
            "_________________________________________________________________\n",
            "dense_6 (Dense)              (None, 5)                 10245     \n",
            "=================================================================\n",
            "Total params: 20,871,725\n",
            "Trainable params: 20,817,197\n",
            "Non-trainable params: 54,528\n",
            "_________________________________________________________________\n"
          ],
          "name": "stdout"
        }
      ]
    },
    {
      "cell_type": "code",
      "metadata": {
        "colab": {
          "base_uri": "https://localhost:8080/"
        },
        "id": "V8Dsle38oMsv",
        "outputId": "584b25e2-9ff7-4b77-cd22-0414cd70b2e0"
      },
      "source": [
        "dict_keys = history.history.keys()\n",
        "print (dict_keys)"
      ],
      "execution_count": 58,
      "outputs": [
        {
          "output_type": "stream",
          "text": [
            "dict_keys(['loss', 'accuracy', 'val_loss', 'val_accuracy'])\n"
          ],
          "name": "stdout"
        }
      ]
    },
    {
      "cell_type": "markdown",
      "metadata": {
        "id": "BUdVHHO9XR7W"
      },
      "source": [
        "Plotting the training and validation loss"
      ]
    },
    {
      "cell_type": "code",
      "metadata": {
        "id": "54x8IH7SXSdF",
        "colab": {
          "base_uri": "https://localhost:8080/",
          "height": 295
        },
        "outputId": "5aa1ecdd-0531-4899-fa1f-1148b205a38b"
      },
      "source": [
        "plt.plot(history.history['accuracy']) \n",
        "plt.plot(history.history['loss']) \n",
        "plt.title('model accuracy') \n",
        "plt.ylabel('accuracy') \n",
        "plt.xlabel('epoch')\n",
        "plt.legend(['train', 'validation'], loc='upper left') \n",
        "plt.show()"
      ],
      "execution_count": 59,
      "outputs": [
        {
          "output_type": "display_data",
          "data": {
            "image/png": "[encoded data removed]",
            "text/plain": [
              "<Figure size 432x288 with 1 Axes>"
            ]
          },
          "metadata": {
            "tags": [],
            "needs_background": "light"
          }
        }
      ]
    },
    {
      "cell_type": "markdown",
      "metadata": {
        "id": "4QbWPoYSXXdI"
      },
      "source": [
        "Plotting the training and validation accuracy"
      ]
    },
    {
      "cell_type": "code",
      "metadata": {
        "id": "jAP6pMalXZsD",
        "colab": {
          "base_uri": "https://localhost:8080/",
          "height": 295
        },
        "outputId": "9c65313f-bd08-4c9f-f2e5-5f471fe75855"
      },
      "source": [
        "loss = history.history['loss']\n",
        "val_loss = history.history['val_loss']\n",
        "epochs = range(1, len(loss) + 1)\n",
        "plt.plot(epochs, loss, 'bo', label='Training loss')\n",
        "plt.plot(epochs, val_loss, 'b', label='val_loss')\n",
        "plt.title('Training and validation accuracy')\n",
        "plt.xlabel('Epochs')\n",
        "plt.ylabel('Loss')\n",
        "plt.legend()\n",
        "plt.show()"
      ],
      "execution_count": 60,
      "outputs": [
        {
          "output_type": "display_data",
          "data": {
            "image/png": "[encoded data removed]",
            "text/plain": [
              "<Figure size 432x288 with 1 Axes>"
            ]
          },
          "metadata": {
            "tags": [],
            "needs_background": "light"
          }
        }
      ]
    },
    {
      "cell_type": "markdown",
      "metadata": {
        "id": "xpAVKZ3wR89n"
      },
      "source": [
        "# Retrain Model"
      ]
    },
    {
      "cell_type": "markdown",
      "metadata": {
        "id": "bBnRLWmDR-Rk"
      },
      "source": [
        "To curb overfitting. Epochs adjusted accordingly. "
      ]
    },
    {
      "cell_type": "code",
      "metadata": {
        "colab": {
          "base_uri": "https://localhost:8080/"
        },
        "id": "O6e0x04fSID6",
        "outputId": "a542d694-f87c-43d1-ccbf-d41019f773b7"
      },
      "source": [
        "pretrained_model = tf.keras.applications.Xception(input_shape=[150,150, 3], include_top=False)\n",
        "pretrained_model.trainable = True\n",
        "model = Sequential()\n",
        "model.add(pretrained_model)\n",
        "model.add(tf.keras.layers.GlobalAveragePooling2D()) \n",
        "model.add(Dense(5, activation='softmax'))\n",
        "\n",
        "model.compile(optimizer='adam',\n",
        "              loss='categorical_crossentropy',\n",
        "              metrics=['accuracy'])\n",
        "\n",
        "with tf.device('/device:GPU:0'): \n",
        "  history = model.fit(train_data,\n",
        "                    epochs=15,\n",
        "                    batch_size=20,\n",
        "                    validation_data = val_data)"
      ],
      "execution_count": 68,
      "outputs": [
        {
          "output_type": "stream",
          "text": [
            "Epoch 1/15\n",
            "130/130 [==============================] - 46s 326ms/step - loss: 0.8423 - accuracy: 0.6995 - val_loss: 1.5168 - val_accuracy: 0.6918\n",
            "Epoch 2/15\n",
            "130/130 [==============================] - 42s 319ms/step - loss: 0.5231 - accuracy: 0.8328 - val_loss: 1.7471 - val_accuracy: 0.6947\n",
            "Epoch 3/15\n",
            "130/130 [==============================] - 41s 319ms/step - loss: 0.4645 - accuracy: 0.8404 - val_loss: 0.7266 - val_accuracy: 0.7294\n",
            "Epoch 4/15\n",
            "130/130 [==============================] - 42s 320ms/step - loss: 0.3564 - accuracy: 0.8786 - val_loss: 0.5444 - val_accuracy: 0.8447\n",
            "Epoch 5/15\n",
            "130/130 [==============================] - 42s 319ms/step - loss: 0.3602 - accuracy: 0.8798 - val_loss: 0.8266 - val_accuracy: 0.8094\n",
            "Epoch 6/15\n",
            "130/130 [==============================] - 42s 321ms/step - loss: 0.3019 - accuracy: 0.9043 - val_loss: 0.5748 - val_accuracy: 0.8297\n",
            "Epoch 7/15\n",
            "130/130 [==============================] - 42s 320ms/step - loss: 0.2363 - accuracy: 0.9165 - val_loss: 0.6081 - val_accuracy: 0.8244\n",
            "Epoch 8/15\n",
            "130/130 [==============================] - 42s 320ms/step - loss: 0.1935 - accuracy: 0.9330 - val_loss: 1.2637 - val_accuracy: 0.7086\n",
            "Epoch 9/15\n",
            "130/130 [==============================] - 42s 320ms/step - loss: 0.2221 - accuracy: 0.9261 - val_loss: 0.6415 - val_accuracy: 0.8337\n",
            "Epoch 10/15\n",
            "130/130 [==============================] - 41s 318ms/step - loss: 0.1846 - accuracy: 0.9352 - val_loss: 1.0129 - val_accuracy: 0.7984\n",
            "Epoch 11/15\n",
            "130/130 [==============================] - 41s 317ms/step - loss: 0.1248 - accuracy: 0.9589 - val_loss: 0.8892 - val_accuracy: 0.8134\n",
            "Epoch 12/15\n",
            "130/130 [==============================] - 42s 320ms/step - loss: 0.1552 - accuracy: 0.9459 - val_loss: 0.6383 - val_accuracy: 0.8366\n",
            "Epoch 13/15\n",
            "130/130 [==============================] - 42s 319ms/step - loss: 0.1686 - accuracy: 0.9486 - val_loss: 0.7282 - val_accuracy: 0.8123\n",
            "Epoch 14/15\n",
            "130/130 [==============================] - 42s 320ms/step - loss: 0.1761 - accuracy: 0.9427 - val_loss: 0.8301 - val_accuracy: 0.8169\n",
            "Epoch 15/15\n",
            "130/130 [==============================] - 42s 319ms/step - loss: 0.1157 - accuracy: 0.9614 - val_loss: 0.7810 - val_accuracy: 0.8024\n"
          ],
          "name": "stdout"
        }
      ]
    },
    {
      "cell_type": "markdown",
      "metadata": {
        "id": "ScITpgnRZdjY"
      },
      "source": [
        "Evaluation"
      ]
    },
    {
      "cell_type": "code",
      "metadata": {
        "id": "3RcX1nsTZepb",
        "colab": {
          "base_uri": "https://localhost:8080/"
        },
        "outputId": "b53f282a-80dd-4e76-a0c6-7f5c1fa13bec"
      },
      "source": [
        "test_loss, test_acc = model.evaluate(val_data)\n",
        "print ('test accuracy:', test_acc*100,'%')"
      ],
      "execution_count": 69,
      "outputs": [
        {
          "output_type": "stream",
          "text": [
            "173/173 [==============================] - 16s 89ms/step - loss: 0.7735 - accuracy: 0.8065\n",
            "test accuracy: 80.64889907836914 %\n"
          ],
          "name": "stdout"
        }
      ]
    },
    {
      "cell_type": "markdown",
      "metadata": {
        "id": "XtbctPp-ZJWE"
      },
      "source": [
        "# Prediction"
      ]
    },
    {
      "cell_type": "code",
      "metadata": {
        "id": "P32BYBygeoXr"
      },
      "source": [
        "predictions = model.predict(val_data)"
      ],
      "execution_count": 72,
      "outputs": []
    },
    {
      "cell_type": "code",
      "metadata": {
        "colab": {
          "base_uri": "https://localhost:8080/"
        },
        "id": "dDcv8rXNYJOO",
        "outputId": "2f10ac4a-27ef-410d-9fb6-da0855454285"
      },
      "source": [
        "print (model.predict (val_data)[4])"
      ],
      "execution_count": 73,
      "outputs": [
        {
          "output_type": "stream",
          "text": [
            "[2.1225961e-03 1.0140850e-05 2.7166650e-05 9.9751282e-01 3.2736894e-04]\n"
          ],
          "name": "stdout"
        }
      ]
    },
    {
      "cell_type": "code",
      "metadata": {
        "colab": {
          "base_uri": "https://localhost:8080/"
        },
        "id": "qV1U3c0jofoH",
        "outputId": "59b483a6-0ce4-4a49-9eb5-d68ab9e883ba"
      },
      "source": [
        "print (model.predict (val_data)[4].sum())"
      ],
      "execution_count": 75,
      "outputs": [
        {
          "output_type": "stream",
          "text": [
            "1.0\n"
          ],
          "name": "stdout"
        }
      ]
    }
  ]
}
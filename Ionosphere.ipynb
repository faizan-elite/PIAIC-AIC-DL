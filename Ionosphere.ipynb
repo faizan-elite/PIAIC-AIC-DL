{
  "nbformat": 4,
  "nbformat_minor": 0,
  "metadata": {
    "colab": {
      "name": "Fzn_Ionosphere.ipynb",
      "provenance": [],
      "collapsed_sections": [],
      "toc_visible": true
    },
    "kernelspec": {
      "name": "python3",
      "display_name": "Python 3"
    },
    "language_info": {
      "name": "python"
    }
  },
  "cells": [
    {
      "cell_type": "markdown",
      "metadata": {
        "id": "3A6K4_pKiW7B"
      },
      "source": [
        "Ionosphere Data Problem"
      ]
    },
    {
      "cell_type": "markdown",
      "metadata": {
        "id": "vRalH7vRibXa"
      },
      "source": [
        "Import Libraries"
      ]
    },
    {
      "cell_type": "code",
      "metadata": {
        "colab": {
          "base_uri": "https://localhost:8080/"
        },
        "id": "f_DMnwLMiYCW",
        "outputId": "c9986ee9-f8a5-4086-f2fa-ac71e4c1a37b"
      },
      "source": [
        "import numpy as np\n",
        "import pandas as pd\n",
        "import tensorflow as tp\n",
        "import matplotlib.pyplot as plt\n",
        "import tensorflow as tf\n",
        "from tensorflow.keras.models import Sequential \n",
        "from tensorflow.keras.layers import Dense, Dropout\n",
        "from tensorflow.keras import optimizers\n",
        "from sklearn.preprocessing import MinMaxScaler\n",
        "print (tf.__version__)"
      ],
      "execution_count": 1,
      "outputs": [
        {
          "output_type": "stream",
          "text": [
            "2.4.1\n"
          ],
          "name": "stdout"
        }
      ]
    },
    {
      "cell_type": "markdown",
      "metadata": {
        "id": "wx3X9-Qcisxq"
      },
      "source": [
        "# Load Data"
      ]
    },
    {
      "cell_type": "code",
      "metadata": {
        "id": "ED4Dwy5qiuQ8"
      },
      "source": [
        "data=pd.read_csv(\"/content/ionosphere_data.csv\")"
      ],
      "execution_count": 2,
      "outputs": []
    },
    {
      "cell_type": "markdown",
      "metadata": {
        "id": "PUY8pZt6wz1r"
      },
      "source": [
        "# Data Analysis"
      ]
    },
    {
      "cell_type": "code",
      "metadata": {
        "colab": {
          "base_uri": "https://localhost:8080/",
          "height": 224
        },
        "id": "KmV5WI2TiyFG",
        "outputId": "d173bbd5-6017-4796-ad98-12479e963030"
      },
      "source": [
        "data.head()"
      ],
      "execution_count": 3,
      "outputs": [
        {
          "output_type": "execute_result",
          "data": {
            "text/html": [
              "<div>\n",
              "<style scoped>\n",
              "    .dataframe tbody tr th:only-of-type {\n",
              "        vertical-align: middle;\n",
              "    }\n",
              "\n",
              "    .dataframe tbody tr th {\n",
              "        vertical-align: top;\n",
              "    }\n",
              "\n",
              "    .dataframe thead th {\n",
              "        text-align: right;\n",
              "    }\n",
              "</style>\n",
              "<table border=\"1\" class=\"dataframe\">\n",
              "  <thead>\n",
              "    <tr style=\"text-align: right;\">\n",
              "      <th></th>\n",
              "      <th>feature1</th>\n",
              "      <th>feature2</th>\n",
              "      <th>feature3</th>\n",
              "      <th>feature4</th>\n",
              "      <th>feature5</th>\n",
              "      <th>feature6</th>\n",
              "      <th>feature7</th>\n",
              "      <th>feature8</th>\n",
              "      <th>feature9</th>\n",
              "      <th>feature10</th>\n",
              "      <th>feature11</th>\n",
              "      <th>feature12</th>\n",
              "      <th>feature13</th>\n",
              "      <th>feature14</th>\n",
              "      <th>feature15</th>\n",
              "      <th>feature16</th>\n",
              "      <th>feature17</th>\n",
              "      <th>feature18</th>\n",
              "      <th>feature19</th>\n",
              "      <th>feature20</th>\n",
              "      <th>feature21</th>\n",
              "      <th>feature22</th>\n",
              "      <th>feature23</th>\n",
              "      <th>feature24</th>\n",
              "      <th>feature25</th>\n",
              "      <th>feature26</th>\n",
              "      <th>feature27</th>\n",
              "      <th>feature28</th>\n",
              "      <th>feature29</th>\n",
              "      <th>feature30</th>\n",
              "      <th>feature31</th>\n",
              "      <th>feature32</th>\n",
              "      <th>feature33</th>\n",
              "      <th>feature34</th>\n",
              "      <th>label</th>\n",
              "    </tr>\n",
              "  </thead>\n",
              "  <tbody>\n",
              "    <tr>\n",
              "      <th>0</th>\n",
              "      <td>1</td>\n",
              "      <td>0</td>\n",
              "      <td>0.99539</td>\n",
              "      <td>-0.05889</td>\n",
              "      <td>0.85243</td>\n",
              "      <td>0.02306</td>\n",
              "      <td>0.83398</td>\n",
              "      <td>-0.37708</td>\n",
              "      <td>1.00000</td>\n",
              "      <td>0.03760</td>\n",
              "      <td>0.85243</td>\n",
              "      <td>-0.17755</td>\n",
              "      <td>0.59755</td>\n",
              "      <td>-0.44945</td>\n",
              "      <td>0.60536</td>\n",
              "      <td>-0.38223</td>\n",
              "      <td>0.84356</td>\n",
              "      <td>-0.38542</td>\n",
              "      <td>0.58212</td>\n",
              "      <td>-0.32192</td>\n",
              "      <td>0.56971</td>\n",
              "      <td>-0.29674</td>\n",
              "      <td>0.36946</td>\n",
              "      <td>-0.47357</td>\n",
              "      <td>0.56811</td>\n",
              "      <td>-0.51171</td>\n",
              "      <td>0.41078</td>\n",
              "      <td>-0.46168</td>\n",
              "      <td>0.21266</td>\n",
              "      <td>-0.34090</td>\n",
              "      <td>0.42267</td>\n",
              "      <td>-0.54487</td>\n",
              "      <td>0.18641</td>\n",
              "      <td>-0.45300</td>\n",
              "      <td>g</td>\n",
              "    </tr>\n",
              "    <tr>\n",
              "      <th>1</th>\n",
              "      <td>1</td>\n",
              "      <td>0</td>\n",
              "      <td>1.00000</td>\n",
              "      <td>-0.18829</td>\n",
              "      <td>0.93035</td>\n",
              "      <td>-0.36156</td>\n",
              "      <td>-0.10868</td>\n",
              "      <td>-0.93597</td>\n",
              "      <td>1.00000</td>\n",
              "      <td>-0.04549</td>\n",
              "      <td>0.50874</td>\n",
              "      <td>-0.67743</td>\n",
              "      <td>0.34432</td>\n",
              "      <td>-0.69707</td>\n",
              "      <td>-0.51685</td>\n",
              "      <td>-0.97515</td>\n",
              "      <td>0.05499</td>\n",
              "      <td>-0.62237</td>\n",
              "      <td>0.33109</td>\n",
              "      <td>-1.00000</td>\n",
              "      <td>-0.13151</td>\n",
              "      <td>-0.45300</td>\n",
              "      <td>-0.18056</td>\n",
              "      <td>-0.35734</td>\n",
              "      <td>-0.20332</td>\n",
              "      <td>-0.26569</td>\n",
              "      <td>-0.20468</td>\n",
              "      <td>-0.18401</td>\n",
              "      <td>-0.19040</td>\n",
              "      <td>-0.11593</td>\n",
              "      <td>-0.16626</td>\n",
              "      <td>-0.06288</td>\n",
              "      <td>-0.13738</td>\n",
              "      <td>-0.02447</td>\n",
              "      <td>b</td>\n",
              "    </tr>\n",
              "    <tr>\n",
              "      <th>2</th>\n",
              "      <td>1</td>\n",
              "      <td>0</td>\n",
              "      <td>1.00000</td>\n",
              "      <td>-0.03365</td>\n",
              "      <td>1.00000</td>\n",
              "      <td>0.00485</td>\n",
              "      <td>1.00000</td>\n",
              "      <td>-0.12062</td>\n",
              "      <td>0.88965</td>\n",
              "      <td>0.01198</td>\n",
              "      <td>0.73082</td>\n",
              "      <td>0.05346</td>\n",
              "      <td>0.85443</td>\n",
              "      <td>0.00827</td>\n",
              "      <td>0.54591</td>\n",
              "      <td>0.00299</td>\n",
              "      <td>0.83775</td>\n",
              "      <td>-0.13644</td>\n",
              "      <td>0.75535</td>\n",
              "      <td>-0.08540</td>\n",
              "      <td>0.70887</td>\n",
              "      <td>-0.27502</td>\n",
              "      <td>0.43385</td>\n",
              "      <td>-0.12062</td>\n",
              "      <td>0.57528</td>\n",
              "      <td>-0.40220</td>\n",
              "      <td>0.58984</td>\n",
              "      <td>-0.22145</td>\n",
              "      <td>0.43100</td>\n",
              "      <td>-0.17365</td>\n",
              "      <td>0.60436</td>\n",
              "      <td>-0.24180</td>\n",
              "      <td>0.56045</td>\n",
              "      <td>-0.38238</td>\n",
              "      <td>g</td>\n",
              "    </tr>\n",
              "    <tr>\n",
              "      <th>3</th>\n",
              "      <td>1</td>\n",
              "      <td>0</td>\n",
              "      <td>1.00000</td>\n",
              "      <td>-0.45161</td>\n",
              "      <td>1.00000</td>\n",
              "      <td>1.00000</td>\n",
              "      <td>0.71216</td>\n",
              "      <td>-1.00000</td>\n",
              "      <td>0.00000</td>\n",
              "      <td>0.00000</td>\n",
              "      <td>0.00000</td>\n",
              "      <td>0.00000</td>\n",
              "      <td>0.00000</td>\n",
              "      <td>0.00000</td>\n",
              "      <td>-1.00000</td>\n",
              "      <td>0.14516</td>\n",
              "      <td>0.54094</td>\n",
              "      <td>-0.39330</td>\n",
              "      <td>-1.00000</td>\n",
              "      <td>-0.54467</td>\n",
              "      <td>-0.69975</td>\n",
              "      <td>1.00000</td>\n",
              "      <td>0.00000</td>\n",
              "      <td>0.00000</td>\n",
              "      <td>1.00000</td>\n",
              "      <td>0.90695</td>\n",
              "      <td>0.51613</td>\n",
              "      <td>1.00000</td>\n",
              "      <td>1.00000</td>\n",
              "      <td>-0.20099</td>\n",
              "      <td>0.25682</td>\n",
              "      <td>1.00000</td>\n",
              "      <td>-0.32382</td>\n",
              "      <td>1.00000</td>\n",
              "      <td>b</td>\n",
              "    </tr>\n",
              "    <tr>\n",
              "      <th>4</th>\n",
              "      <td>1</td>\n",
              "      <td>0</td>\n",
              "      <td>1.00000</td>\n",
              "      <td>-0.02401</td>\n",
              "      <td>0.94140</td>\n",
              "      <td>0.06531</td>\n",
              "      <td>0.92106</td>\n",
              "      <td>-0.23255</td>\n",
              "      <td>0.77152</td>\n",
              "      <td>-0.16399</td>\n",
              "      <td>0.52798</td>\n",
              "      <td>-0.20275</td>\n",
              "      <td>0.56409</td>\n",
              "      <td>-0.00712</td>\n",
              "      <td>0.34395</td>\n",
              "      <td>-0.27457</td>\n",
              "      <td>0.52940</td>\n",
              "      <td>-0.21780</td>\n",
              "      <td>0.45107</td>\n",
              "      <td>-0.17813</td>\n",
              "      <td>0.05982</td>\n",
              "      <td>-0.35575</td>\n",
              "      <td>0.02309</td>\n",
              "      <td>-0.52879</td>\n",
              "      <td>0.03286</td>\n",
              "      <td>-0.65158</td>\n",
              "      <td>0.13290</td>\n",
              "      <td>-0.53206</td>\n",
              "      <td>0.02431</td>\n",
              "      <td>-0.62197</td>\n",
              "      <td>-0.05707</td>\n",
              "      <td>-0.59573</td>\n",
              "      <td>-0.04608</td>\n",
              "      <td>-0.65697</td>\n",
              "      <td>g</td>\n",
              "    </tr>\n",
              "  </tbody>\n",
              "</table>\n",
              "</div>"
            ],
            "text/plain": [
              "   feature1  feature2  feature3  ...  feature33  feature34  label\n",
              "0         1         0   0.99539  ...    0.18641   -0.45300      g\n",
              "1         1         0   1.00000  ...   -0.13738   -0.02447      b\n",
              "2         1         0   1.00000  ...    0.56045   -0.38238      g\n",
              "3         1         0   1.00000  ...   -0.32382    1.00000      b\n",
              "4         1         0   1.00000  ...   -0.04608   -0.65697      g\n",
              "\n",
              "[5 rows x 35 columns]"
            ]
          },
          "metadata": {
            "tags": []
          },
          "execution_count": 3
        }
      ]
    },
    {
      "cell_type": "code",
      "metadata": {
        "colab": {
          "base_uri": "https://localhost:8080/"
        },
        "id": "Df3J85xXyz-Y",
        "outputId": "e952e1bc-fd5c-4c3a-8398-00a04836f033"
      },
      "source": [
        "data.shape"
      ],
      "execution_count": 4,
      "outputs": [
        {
          "output_type": "execute_result",
          "data": {
            "text/plain": [
              "(351, 35)"
            ]
          },
          "metadata": {
            "tags": []
          },
          "execution_count": 4
        }
      ]
    },
    {
      "cell_type": "markdown",
      "metadata": {
        "id": "GGcatYGT9Rav"
      },
      "source": [
        "There are 35 Columns. 34 Columns have features and Last Column is the Label with (g = good and b = bad). 351 Rows of data each."
      ]
    },
    {
      "cell_type": "code",
      "metadata": {
        "colab": {
          "base_uri": "https://localhost:8080/"
        },
        "id": "llYmupq8jDhS",
        "outputId": "2aaa4940-ae41-442f-fc15-4906d11074ff"
      },
      "source": [
        "data.info()"
      ],
      "execution_count": 5,
      "outputs": [
        {
          "output_type": "stream",
          "text": [
            "<class 'pandas.core.frame.DataFrame'>\n",
            "RangeIndex: 351 entries, 0 to 350\n",
            "Data columns (total 35 columns):\n",
            " #   Column     Non-Null Count  Dtype  \n",
            "---  ------     --------------  -----  \n",
            " 0   feature1   351 non-null    int64  \n",
            " 1   feature2   351 non-null    int64  \n",
            " 2   feature3   351 non-null    float64\n",
            " 3   feature4   351 non-null    float64\n",
            " 4   feature5   351 non-null    float64\n",
            " 5   feature6   351 non-null    float64\n",
            " 6   feature7   351 non-null    float64\n",
            " 7   feature8   351 non-null    float64\n",
            " 8   feature9   351 non-null    float64\n",
            " 9   feature10  351 non-null    float64\n",
            " 10  feature11  351 non-null    float64\n",
            " 11  feature12  351 non-null    float64\n",
            " 12  feature13  351 non-null    float64\n",
            " 13  feature14  351 non-null    float64\n",
            " 14  feature15  351 non-null    float64\n",
            " 15  feature16  351 non-null    float64\n",
            " 16  feature17  351 non-null    float64\n",
            " 17  feature18  351 non-null    float64\n",
            " 18  feature19  351 non-null    float64\n",
            " 19  feature20  351 non-null    float64\n",
            " 20  feature21  351 non-null    float64\n",
            " 21  feature22  351 non-null    float64\n",
            " 22  feature23  351 non-null    float64\n",
            " 23  feature24  351 non-null    float64\n",
            " 24  feature25  351 non-null    float64\n",
            " 25  feature26  351 non-null    float64\n",
            " 26  feature27  351 non-null    float64\n",
            " 27  feature28  351 non-null    float64\n",
            " 28  feature29  351 non-null    float64\n",
            " 29  feature30  351 non-null    float64\n",
            " 30  feature31  351 non-null    float64\n",
            " 31  feature32  351 non-null    float64\n",
            " 32  feature33  351 non-null    float64\n",
            " 33  feature34  351 non-null    float64\n",
            " 34  label      351 non-null    object \n",
            "dtypes: float64(32), int64(2), object(1)\n",
            "memory usage: 96.1+ KB\n"
          ],
          "name": "stdout"
        }
      ]
    },
    {
      "cell_type": "markdown",
      "metadata": {
        "id": "16V5KsVSx4oj"
      },
      "source": [
        "# Data Cleaning"
      ]
    },
    {
      "cell_type": "code",
      "metadata": {
        "colab": {
          "base_uri": "https://localhost:8080/",
          "height": 1000
        },
        "id": "Jf6rESoHx9xV",
        "outputId": "b2537f0f-5e6f-484f-8049-4bd079e26a54"
      },
      "source": [
        "data.describe().T"
      ],
      "execution_count": 6,
      "outputs": [
        {
          "output_type": "execute_result",
          "data": {
            "text/html": [
              "<div>\n",
              "<style scoped>\n",
              "    .dataframe tbody tr th:only-of-type {\n",
              "        vertical-align: middle;\n",
              "    }\n",
              "\n",
              "    .dataframe tbody tr th {\n",
              "        vertical-align: top;\n",
              "    }\n",
              "\n",
              "    .dataframe thead th {\n",
              "        text-align: right;\n",
              "    }\n",
              "</style>\n",
              "<table border=\"1\" class=\"dataframe\">\n",
              "  <thead>\n",
              "    <tr style=\"text-align: right;\">\n",
              "      <th></th>\n",
              "      <th>count</th>\n",
              "      <th>mean</th>\n",
              "      <th>std</th>\n",
              "      <th>min</th>\n",
              "      <th>25%</th>\n",
              "      <th>50%</th>\n",
              "      <th>75%</th>\n",
              "      <th>max</th>\n",
              "    </tr>\n",
              "  </thead>\n",
              "  <tbody>\n",
              "    <tr>\n",
              "      <th>feature1</th>\n",
              "      <td>351.0</td>\n",
              "      <td>0.891738</td>\n",
              "      <td>0.311155</td>\n",
              "      <td>0.0</td>\n",
              "      <td>1.000000</td>\n",
              "      <td>1.00000</td>\n",
              "      <td>1.000000</td>\n",
              "      <td>1.0</td>\n",
              "    </tr>\n",
              "    <tr>\n",
              "      <th>feature2</th>\n",
              "      <td>351.0</td>\n",
              "      <td>0.000000</td>\n",
              "      <td>0.000000</td>\n",
              "      <td>0.0</td>\n",
              "      <td>0.000000</td>\n",
              "      <td>0.00000</td>\n",
              "      <td>0.000000</td>\n",
              "      <td>0.0</td>\n",
              "    </tr>\n",
              "    <tr>\n",
              "      <th>feature3</th>\n",
              "      <td>351.0</td>\n",
              "      <td>0.641342</td>\n",
              "      <td>0.497708</td>\n",
              "      <td>-1.0</td>\n",
              "      <td>0.472135</td>\n",
              "      <td>0.87111</td>\n",
              "      <td>1.000000</td>\n",
              "      <td>1.0</td>\n",
              "    </tr>\n",
              "    <tr>\n",
              "      <th>feature4</th>\n",
              "      <td>351.0</td>\n",
              "      <td>0.044372</td>\n",
              "      <td>0.441435</td>\n",
              "      <td>-1.0</td>\n",
              "      <td>-0.064735</td>\n",
              "      <td>0.01631</td>\n",
              "      <td>0.194185</td>\n",
              "      <td>1.0</td>\n",
              "    </tr>\n",
              "    <tr>\n",
              "      <th>feature5</th>\n",
              "      <td>351.0</td>\n",
              "      <td>0.601068</td>\n",
              "      <td>0.519862</td>\n",
              "      <td>-1.0</td>\n",
              "      <td>0.412660</td>\n",
              "      <td>0.80920</td>\n",
              "      <td>1.000000</td>\n",
              "      <td>1.0</td>\n",
              "    </tr>\n",
              "    <tr>\n",
              "      <th>feature6</th>\n",
              "      <td>351.0</td>\n",
              "      <td>0.115889</td>\n",
              "      <td>0.460810</td>\n",
              "      <td>-1.0</td>\n",
              "      <td>-0.024795</td>\n",
              "      <td>0.02280</td>\n",
              "      <td>0.334655</td>\n",
              "      <td>1.0</td>\n",
              "    </tr>\n",
              "    <tr>\n",
              "      <th>feature7</th>\n",
              "      <td>351.0</td>\n",
              "      <td>0.550095</td>\n",
              "      <td>0.492654</td>\n",
              "      <td>-1.0</td>\n",
              "      <td>0.211310</td>\n",
              "      <td>0.72873</td>\n",
              "      <td>0.969240</td>\n",
              "      <td>1.0</td>\n",
              "    </tr>\n",
              "    <tr>\n",
              "      <th>feature8</th>\n",
              "      <td>351.0</td>\n",
              "      <td>0.119360</td>\n",
              "      <td>0.520750</td>\n",
              "      <td>-1.0</td>\n",
              "      <td>-0.054840</td>\n",
              "      <td>0.01471</td>\n",
              "      <td>0.445675</td>\n",
              "      <td>1.0</td>\n",
              "    </tr>\n",
              "    <tr>\n",
              "      <th>feature9</th>\n",
              "      <td>351.0</td>\n",
              "      <td>0.511848</td>\n",
              "      <td>0.507066</td>\n",
              "      <td>-1.0</td>\n",
              "      <td>0.087110</td>\n",
              "      <td>0.68421</td>\n",
              "      <td>0.953240</td>\n",
              "      <td>1.0</td>\n",
              "    </tr>\n",
              "    <tr>\n",
              "      <th>feature10</th>\n",
              "      <td>351.0</td>\n",
              "      <td>0.181345</td>\n",
              "      <td>0.483851</td>\n",
              "      <td>-1.0</td>\n",
              "      <td>-0.048075</td>\n",
              "      <td>0.01829</td>\n",
              "      <td>0.534195</td>\n",
              "      <td>1.0</td>\n",
              "    </tr>\n",
              "    <tr>\n",
              "      <th>feature11</th>\n",
              "      <td>351.0</td>\n",
              "      <td>0.476183</td>\n",
              "      <td>0.563496</td>\n",
              "      <td>-1.0</td>\n",
              "      <td>0.021120</td>\n",
              "      <td>0.66798</td>\n",
              "      <td>0.957895</td>\n",
              "      <td>1.0</td>\n",
              "    </tr>\n",
              "    <tr>\n",
              "      <th>feature12</th>\n",
              "      <td>351.0</td>\n",
              "      <td>0.155040</td>\n",
              "      <td>0.494817</td>\n",
              "      <td>-1.0</td>\n",
              "      <td>-0.065265</td>\n",
              "      <td>0.02825</td>\n",
              "      <td>0.482375</td>\n",
              "      <td>1.0</td>\n",
              "    </tr>\n",
              "    <tr>\n",
              "      <th>feature13</th>\n",
              "      <td>351.0</td>\n",
              "      <td>0.400801</td>\n",
              "      <td>0.622186</td>\n",
              "      <td>-1.0</td>\n",
              "      <td>0.000000</td>\n",
              "      <td>0.64407</td>\n",
              "      <td>0.955505</td>\n",
              "      <td>1.0</td>\n",
              "    </tr>\n",
              "    <tr>\n",
              "      <th>feature14</th>\n",
              "      <td>351.0</td>\n",
              "      <td>0.093414</td>\n",
              "      <td>0.494873</td>\n",
              "      <td>-1.0</td>\n",
              "      <td>-0.073725</td>\n",
              "      <td>0.03027</td>\n",
              "      <td>0.374860</td>\n",
              "      <td>1.0</td>\n",
              "    </tr>\n",
              "    <tr>\n",
              "      <th>feature15</th>\n",
              "      <td>351.0</td>\n",
              "      <td>0.344159</td>\n",
              "      <td>0.652828</td>\n",
              "      <td>-1.0</td>\n",
              "      <td>0.000000</td>\n",
              "      <td>0.60194</td>\n",
              "      <td>0.919330</td>\n",
              "      <td>1.0</td>\n",
              "    </tr>\n",
              "    <tr>\n",
              "      <th>feature16</th>\n",
              "      <td>351.0</td>\n",
              "      <td>0.071132</td>\n",
              "      <td>0.458371</td>\n",
              "      <td>-1.0</td>\n",
              "      <td>-0.081705</td>\n",
              "      <td>0.00000</td>\n",
              "      <td>0.308975</td>\n",
              "      <td>1.0</td>\n",
              "    </tr>\n",
              "    <tr>\n",
              "      <th>feature17</th>\n",
              "      <td>351.0</td>\n",
              "      <td>0.381949</td>\n",
              "      <td>0.618020</td>\n",
              "      <td>-1.0</td>\n",
              "      <td>0.000000</td>\n",
              "      <td>0.59091</td>\n",
              "      <td>0.935705</td>\n",
              "      <td>1.0</td>\n",
              "    </tr>\n",
              "    <tr>\n",
              "      <th>feature18</th>\n",
              "      <td>351.0</td>\n",
              "      <td>-0.003617</td>\n",
              "      <td>0.496762</td>\n",
              "      <td>-1.0</td>\n",
              "      <td>-0.225690</td>\n",
              "      <td>0.00000</td>\n",
              "      <td>0.195285</td>\n",
              "      <td>1.0</td>\n",
              "    </tr>\n",
              "    <tr>\n",
              "      <th>feature19</th>\n",
              "      <td>351.0</td>\n",
              "      <td>0.359390</td>\n",
              "      <td>0.626267</td>\n",
              "      <td>-1.0</td>\n",
              "      <td>0.000000</td>\n",
              "      <td>0.57619</td>\n",
              "      <td>0.899265</td>\n",
              "      <td>1.0</td>\n",
              "    </tr>\n",
              "    <tr>\n",
              "      <th>feature20</th>\n",
              "      <td>351.0</td>\n",
              "      <td>-0.024025</td>\n",
              "      <td>0.519076</td>\n",
              "      <td>-1.0</td>\n",
              "      <td>-0.234670</td>\n",
              "      <td>0.00000</td>\n",
              "      <td>0.134370</td>\n",
              "      <td>1.0</td>\n",
              "    </tr>\n",
              "    <tr>\n",
              "      <th>feature21</th>\n",
              "      <td>351.0</td>\n",
              "      <td>0.336695</td>\n",
              "      <td>0.609828</td>\n",
              "      <td>-1.0</td>\n",
              "      <td>0.000000</td>\n",
              "      <td>0.49909</td>\n",
              "      <td>0.894865</td>\n",
              "      <td>1.0</td>\n",
              "    </tr>\n",
              "    <tr>\n",
              "      <th>feature22</th>\n",
              "      <td>351.0</td>\n",
              "      <td>0.008296</td>\n",
              "      <td>0.518166</td>\n",
              "      <td>-1.0</td>\n",
              "      <td>-0.243870</td>\n",
              "      <td>0.00000</td>\n",
              "      <td>0.188760</td>\n",
              "      <td>1.0</td>\n",
              "    </tr>\n",
              "    <tr>\n",
              "      <th>feature23</th>\n",
              "      <td>351.0</td>\n",
              "      <td>0.362475</td>\n",
              "      <td>0.603767</td>\n",
              "      <td>-1.0</td>\n",
              "      <td>0.000000</td>\n",
              "      <td>0.53176</td>\n",
              "      <td>0.911235</td>\n",
              "      <td>1.0</td>\n",
              "    </tr>\n",
              "    <tr>\n",
              "      <th>feature24</th>\n",
              "      <td>351.0</td>\n",
              "      <td>-0.057406</td>\n",
              "      <td>0.527456</td>\n",
              "      <td>-1.0</td>\n",
              "      <td>-0.366885</td>\n",
              "      <td>0.00000</td>\n",
              "      <td>0.164630</td>\n",
              "      <td>1.0</td>\n",
              "    </tr>\n",
              "    <tr>\n",
              "      <th>feature25</th>\n",
              "      <td>351.0</td>\n",
              "      <td>0.396135</td>\n",
              "      <td>0.578451</td>\n",
              "      <td>-1.0</td>\n",
              "      <td>0.000000</td>\n",
              "      <td>0.55389</td>\n",
              "      <td>0.905240</td>\n",
              "      <td>1.0</td>\n",
              "    </tr>\n",
              "    <tr>\n",
              "      <th>feature26</th>\n",
              "      <td>351.0</td>\n",
              "      <td>-0.071187</td>\n",
              "      <td>0.508495</td>\n",
              "      <td>-1.0</td>\n",
              "      <td>-0.332390</td>\n",
              "      <td>-0.01505</td>\n",
              "      <td>0.156765</td>\n",
              "      <td>1.0</td>\n",
              "    </tr>\n",
              "    <tr>\n",
              "      <th>feature27</th>\n",
              "      <td>351.0</td>\n",
              "      <td>0.541641</td>\n",
              "      <td>0.516205</td>\n",
              "      <td>-1.0</td>\n",
              "      <td>0.286435</td>\n",
              "      <td>0.70824</td>\n",
              "      <td>0.999945</td>\n",
              "      <td>1.0</td>\n",
              "    </tr>\n",
              "    <tr>\n",
              "      <th>feature28</th>\n",
              "      <td>351.0</td>\n",
              "      <td>-0.069538</td>\n",
              "      <td>0.550025</td>\n",
              "      <td>-1.0</td>\n",
              "      <td>-0.443165</td>\n",
              "      <td>-0.01769</td>\n",
              "      <td>0.153535</td>\n",
              "      <td>1.0</td>\n",
              "    </tr>\n",
              "    <tr>\n",
              "      <th>feature29</th>\n",
              "      <td>351.0</td>\n",
              "      <td>0.378445</td>\n",
              "      <td>0.575886</td>\n",
              "      <td>-1.0</td>\n",
              "      <td>0.000000</td>\n",
              "      <td>0.49664</td>\n",
              "      <td>0.883465</td>\n",
              "      <td>1.0</td>\n",
              "    </tr>\n",
              "    <tr>\n",
              "      <th>feature30</th>\n",
              "      <td>351.0</td>\n",
              "      <td>-0.027907</td>\n",
              "      <td>0.507974</td>\n",
              "      <td>-1.0</td>\n",
              "      <td>-0.236885</td>\n",
              "      <td>0.00000</td>\n",
              "      <td>0.154075</td>\n",
              "      <td>1.0</td>\n",
              "    </tr>\n",
              "    <tr>\n",
              "      <th>feature31</th>\n",
              "      <td>351.0</td>\n",
              "      <td>0.352514</td>\n",
              "      <td>0.571483</td>\n",
              "      <td>-1.0</td>\n",
              "      <td>0.000000</td>\n",
              "      <td>0.44277</td>\n",
              "      <td>0.857620</td>\n",
              "      <td>1.0</td>\n",
              "    </tr>\n",
              "    <tr>\n",
              "      <th>feature32</th>\n",
              "      <td>351.0</td>\n",
              "      <td>-0.003794</td>\n",
              "      <td>0.513574</td>\n",
              "      <td>-1.0</td>\n",
              "      <td>-0.242595</td>\n",
              "      <td>0.00000</td>\n",
              "      <td>0.200120</td>\n",
              "      <td>1.0</td>\n",
              "    </tr>\n",
              "    <tr>\n",
              "      <th>feature33</th>\n",
              "      <td>351.0</td>\n",
              "      <td>0.349364</td>\n",
              "      <td>0.522663</td>\n",
              "      <td>-1.0</td>\n",
              "      <td>0.000000</td>\n",
              "      <td>0.40956</td>\n",
              "      <td>0.813765</td>\n",
              "      <td>1.0</td>\n",
              "    </tr>\n",
              "    <tr>\n",
              "      <th>feature34</th>\n",
              "      <td>351.0</td>\n",
              "      <td>0.014480</td>\n",
              "      <td>0.468337</td>\n",
              "      <td>-1.0</td>\n",
              "      <td>-0.165350</td>\n",
              "      <td>0.00000</td>\n",
              "      <td>0.171660</td>\n",
              "      <td>1.0</td>\n",
              "    </tr>\n",
              "  </tbody>\n",
              "</table>\n",
              "</div>"
            ],
            "text/plain": [
              "           count      mean       std  min       25%      50%       75%  max\n",
              "feature1   351.0  0.891738  0.311155  0.0  1.000000  1.00000  1.000000  1.0\n",
              "feature2   351.0  0.000000  0.000000  0.0  0.000000  0.00000  0.000000  0.0\n",
              "feature3   351.0  0.641342  0.497708 -1.0  0.472135  0.87111  1.000000  1.0\n",
              "feature4   351.0  0.044372  0.441435 -1.0 -0.064735  0.01631  0.194185  1.0\n",
              "feature5   351.0  0.601068  0.519862 -1.0  0.412660  0.80920  1.000000  1.0\n",
              "feature6   351.0  0.115889  0.460810 -1.0 -0.024795  0.02280  0.334655  1.0\n",
              "feature7   351.0  0.550095  0.492654 -1.0  0.211310  0.72873  0.969240  1.0\n",
              "feature8   351.0  0.119360  0.520750 -1.0 -0.054840  0.01471  0.445675  1.0\n",
              "feature9   351.0  0.511848  0.507066 -1.0  0.087110  0.68421  0.953240  1.0\n",
              "feature10  351.0  0.181345  0.483851 -1.0 -0.048075  0.01829  0.534195  1.0\n",
              "feature11  351.0  0.476183  0.563496 -1.0  0.021120  0.66798  0.957895  1.0\n",
              "feature12  351.0  0.155040  0.494817 -1.0 -0.065265  0.02825  0.482375  1.0\n",
              "feature13  351.0  0.400801  0.622186 -1.0  0.000000  0.64407  0.955505  1.0\n",
              "feature14  351.0  0.093414  0.494873 -1.0 -0.073725  0.03027  0.374860  1.0\n",
              "feature15  351.0  0.344159  0.652828 -1.0  0.000000  0.60194  0.919330  1.0\n",
              "feature16  351.0  0.071132  0.458371 -1.0 -0.081705  0.00000  0.308975  1.0\n",
              "feature17  351.0  0.381949  0.618020 -1.0  0.000000  0.59091  0.935705  1.0\n",
              "feature18  351.0 -0.003617  0.496762 -1.0 -0.225690  0.00000  0.195285  1.0\n",
              "feature19  351.0  0.359390  0.626267 -1.0  0.000000  0.57619  0.899265  1.0\n",
              "feature20  351.0 -0.024025  0.519076 -1.0 -0.234670  0.00000  0.134370  1.0\n",
              "feature21  351.0  0.336695  0.609828 -1.0  0.000000  0.49909  0.894865  1.0\n",
              "feature22  351.0  0.008296  0.518166 -1.0 -0.243870  0.00000  0.188760  1.0\n",
              "feature23  351.0  0.362475  0.603767 -1.0  0.000000  0.53176  0.911235  1.0\n",
              "feature24  351.0 -0.057406  0.527456 -1.0 -0.366885  0.00000  0.164630  1.0\n",
              "feature25  351.0  0.396135  0.578451 -1.0  0.000000  0.55389  0.905240  1.0\n",
              "feature26  351.0 -0.071187  0.508495 -1.0 -0.332390 -0.01505  0.156765  1.0\n",
              "feature27  351.0  0.541641  0.516205 -1.0  0.286435  0.70824  0.999945  1.0\n",
              "feature28  351.0 -0.069538  0.550025 -1.0 -0.443165 -0.01769  0.153535  1.0\n",
              "feature29  351.0  0.378445  0.575886 -1.0  0.000000  0.49664  0.883465  1.0\n",
              "feature30  351.0 -0.027907  0.507974 -1.0 -0.236885  0.00000  0.154075  1.0\n",
              "feature31  351.0  0.352514  0.571483 -1.0  0.000000  0.44277  0.857620  1.0\n",
              "feature32  351.0 -0.003794  0.513574 -1.0 -0.242595  0.00000  0.200120  1.0\n",
              "feature33  351.0  0.349364  0.522663 -1.0  0.000000  0.40956  0.813765  1.0\n",
              "feature34  351.0  0.014480  0.468337 -1.0 -0.165350  0.00000  0.171660  1.0"
            ]
          },
          "metadata": {
            "tags": []
          },
          "execution_count": 6
        }
      ]
    },
    {
      "cell_type": "markdown",
      "metadata": {
        "id": "VG0abZQmsGjg"
      },
      "source": [
        "Unique Features"
      ]
    },
    {
      "cell_type": "code",
      "metadata": {
        "colab": {
          "base_uri": "https://localhost:8080/"
        },
        "id": "YLXwIjY2bY3Q",
        "outputId": "cd2bb7fd-b3e1-4435-a437-3c7c76a785b4"
      },
      "source": [
        "for features in data:\n",
        "    print(features)\n",
        "    print(len(data[features].unique()))"
      ],
      "execution_count": 7,
      "outputs": [
        {
          "output_type": "stream",
          "text": [
            "feature1\n",
            "2\n",
            "feature2\n",
            "1\n",
            "feature3\n",
            "219\n",
            "feature4\n",
            "269\n",
            "feature5\n",
            "204\n",
            "feature6\n",
            "259\n",
            "feature7\n",
            "231\n",
            "feature8\n",
            "260\n",
            "feature9\n",
            "244\n",
            "feature10\n",
            "267\n",
            "feature11\n",
            "246\n",
            "feature12\n",
            "269\n",
            "feature13\n",
            "238\n",
            "feature14\n",
            "266\n",
            "feature15\n",
            "234\n",
            "feature16\n",
            "270\n",
            "feature17\n",
            "254\n",
            "feature18\n",
            "280\n",
            "feature19\n",
            "254\n",
            "feature20\n",
            "266\n",
            "feature21\n",
            "248\n",
            "feature22\n",
            "265\n",
            "feature23\n",
            "248\n",
            "feature24\n",
            "264\n",
            "feature25\n",
            "256\n",
            "feature26\n",
            "273\n",
            "feature27\n",
            "256\n",
            "feature28\n",
            "281\n",
            "feature29\n",
            "244\n",
            "feature30\n",
            "266\n",
            "feature31\n",
            "243\n",
            "feature32\n",
            "263\n",
            "feature33\n",
            "245\n",
            "feature34\n",
            "263\n",
            "label\n",
            "2\n"
          ],
          "name": "stdout"
        }
      ]
    },
    {
      "cell_type": "markdown",
      "metadata": {
        "id": "1clSdk6_9m_u"
      },
      "source": [
        "Feature 2 has only 1 value Hence it needs to be dropped. "
      ]
    },
    {
      "cell_type": "code",
      "metadata": {
        "id": "Bt5D6fu4sRZD"
      },
      "source": [
        "data.drop(data.columns[1], inplace=True, axis=1)"
      ],
      "execution_count": 8,
      "outputs": []
    },
    {
      "cell_type": "code",
      "metadata": {
        "id": "DZHtht5B_jGc"
      },
      "source": [
        "#checking for duplicates and removing them. \n",
        "#data.duplicated().sum()"
      ],
      "execution_count": 9,
      "outputs": []
    },
    {
      "cell_type": "code",
      "metadata": {
        "id": "KgiXGcj0_oZh"
      },
      "source": [
        "#data.drop_duplicates(inplace=True)"
      ],
      "execution_count": 10,
      "outputs": []
    },
    {
      "cell_type": "code",
      "metadata": {
        "colab": {
          "base_uri": "https://localhost:8080/"
        },
        "id": "S0qo4rCb_vr8",
        "outputId": "aad4124a-a1cd-474b-a541-b62313a214f4"
      },
      "source": [
        "data.shape"
      ],
      "execution_count": 11,
      "outputs": [
        {
          "output_type": "execute_result",
          "data": {
            "text/plain": [
              "(351, 34)"
            ]
          },
          "metadata": {
            "tags": []
          },
          "execution_count": 11
        }
      ]
    },
    {
      "cell_type": "markdown",
      "metadata": {
        "id": "Ec6CHFHo-QM4"
      },
      "source": [
        "Check Missing Values (If Any)"
      ]
    },
    {
      "cell_type": "code",
      "metadata": {
        "colab": {
          "base_uri": "https://localhost:8080/"
        },
        "id": "rvRGuvyN-S2B",
        "outputId": "d09540ba-58f4-4c64-ae36-abb9180b7bca"
      },
      "source": [
        "data.isnull().sum()"
      ],
      "execution_count": 12,
      "outputs": [
        {
          "output_type": "execute_result",
          "data": {
            "text/plain": [
              "feature1     0\n",
              "feature3     0\n",
              "feature4     0\n",
              "feature5     0\n",
              "feature6     0\n",
              "feature7     0\n",
              "feature8     0\n",
              "feature9     0\n",
              "feature10    0\n",
              "feature11    0\n",
              "feature12    0\n",
              "feature13    0\n",
              "feature14    0\n",
              "feature15    0\n",
              "feature16    0\n",
              "feature17    0\n",
              "feature18    0\n",
              "feature19    0\n",
              "feature20    0\n",
              "feature21    0\n",
              "feature22    0\n",
              "feature23    0\n",
              "feature24    0\n",
              "feature25    0\n",
              "feature26    0\n",
              "feature27    0\n",
              "feature28    0\n",
              "feature29    0\n",
              "feature30    0\n",
              "feature31    0\n",
              "feature32    0\n",
              "feature33    0\n",
              "feature34    0\n",
              "label        0\n",
              "dtype: int64"
            ]
          },
          "metadata": {
            "tags": []
          },
          "execution_count": 12
        }
      ]
    },
    {
      "cell_type": "markdown",
      "metadata": {
        "id": "DGHm6E-5-YI0"
      },
      "source": [
        "No Missing Values in Dataset\n",
        "\n",
        "Change Labels (Good / Bad to 1 / 0) via One Hot Encode"
      ]
    },
    {
      "cell_type": "code",
      "metadata": {
        "colab": {
          "base_uri": "https://localhost:8080/"
        },
        "id": "9qv5aBGv-iqD",
        "outputId": "ef8c3fa8-7a5c-4bbc-9b05-95fa8e81039c"
      },
      "source": [
        "data['label'].value_counts()"
      ],
      "execution_count": 13,
      "outputs": [
        {
          "output_type": "execute_result",
          "data": {
            "text/plain": [
              "g    225\n",
              "b    126\n",
              "Name: label, dtype: int64"
            ]
          },
          "metadata": {
            "tags": []
          },
          "execution_count": 13
        }
      ]
    },
    {
      "cell_type": "code",
      "metadata": {
        "id": "gof99FBL-pCv"
      },
      "source": [
        "data['label'] = data['label'].apply(lambda x: 1 if x == 'g' else 0)"
      ],
      "execution_count": 14,
      "outputs": []
    },
    {
      "cell_type": "markdown",
      "metadata": {
        "id": "xQ3ka5_QAfTd"
      },
      "source": [
        "Normalize the data"
      ]
    },
    {
      "cell_type": "code",
      "metadata": {
        "colab": {
          "base_uri": "https://localhost:8080/",
          "height": 224
        },
        "id": "3mOyrYFbAecn",
        "outputId": "11c23ba7-3234-46ff-a469-56d9e26d6811"
      },
      "source": [
        "scaler = MinMaxScaler()\n",
        "data.iloc[:, 2:-1] = scaler.fit_transform(data.iloc[:, 2:-1]) \n",
        "data.head()"
      ],
      "execution_count": 16,
      "outputs": [
        {
          "output_type": "execute_result",
          "data": {
            "text/html": [
              "<div>\n",
              "<style scoped>\n",
              "    .dataframe tbody tr th:only-of-type {\n",
              "        vertical-align: middle;\n",
              "    }\n",
              "\n",
              "    .dataframe tbody tr th {\n",
              "        vertical-align: top;\n",
              "    }\n",
              "\n",
              "    .dataframe thead th {\n",
              "        text-align: right;\n",
              "    }\n",
              "</style>\n",
              "<table border=\"1\" class=\"dataframe\">\n",
              "  <thead>\n",
              "    <tr style=\"text-align: right;\">\n",
              "      <th></th>\n",
              "      <th>feature1</th>\n",
              "      <th>feature3</th>\n",
              "      <th>feature4</th>\n",
              "      <th>feature5</th>\n",
              "      <th>feature6</th>\n",
              "      <th>feature7</th>\n",
              "      <th>feature8</th>\n",
              "      <th>feature9</th>\n",
              "      <th>feature10</th>\n",
              "      <th>feature11</th>\n",
              "      <th>feature12</th>\n",
              "      <th>feature13</th>\n",
              "      <th>feature14</th>\n",
              "      <th>feature15</th>\n",
              "      <th>feature16</th>\n",
              "      <th>feature17</th>\n",
              "      <th>feature18</th>\n",
              "      <th>feature19</th>\n",
              "      <th>feature20</th>\n",
              "      <th>feature21</th>\n",
              "      <th>feature22</th>\n",
              "      <th>feature23</th>\n",
              "      <th>feature24</th>\n",
              "      <th>feature25</th>\n",
              "      <th>feature26</th>\n",
              "      <th>feature27</th>\n",
              "      <th>feature28</th>\n",
              "      <th>feature29</th>\n",
              "      <th>feature30</th>\n",
              "      <th>feature31</th>\n",
              "      <th>feature32</th>\n",
              "      <th>feature33</th>\n",
              "      <th>feature34</th>\n",
              "      <th>label</th>\n",
              "    </tr>\n",
              "  </thead>\n",
              "  <tbody>\n",
              "    <tr>\n",
              "      <th>0</th>\n",
              "      <td>1</td>\n",
              "      <td>0.99539</td>\n",
              "      <td>0.470555</td>\n",
              "      <td>0.926215</td>\n",
              "      <td>0.511530</td>\n",
              "      <td>0.91699</td>\n",
              "      <td>0.311460</td>\n",
              "      <td>1.000000</td>\n",
              "      <td>0.518800</td>\n",
              "      <td>0.926215</td>\n",
              "      <td>0.411225</td>\n",
              "      <td>0.798775</td>\n",
              "      <td>0.275275</td>\n",
              "      <td>0.802680</td>\n",
              "      <td>0.308885</td>\n",
              "      <td>0.921780</td>\n",
              "      <td>0.307290</td>\n",
              "      <td>0.791060</td>\n",
              "      <td>0.339040</td>\n",
              "      <td>0.784855</td>\n",
              "      <td>0.351630</td>\n",
              "      <td>0.684730</td>\n",
              "      <td>0.263215</td>\n",
              "      <td>0.784055</td>\n",
              "      <td>0.244145</td>\n",
              "      <td>0.705390</td>\n",
              "      <td>0.269160</td>\n",
              "      <td>0.606330</td>\n",
              "      <td>0.329550</td>\n",
              "      <td>0.711335</td>\n",
              "      <td>0.227565</td>\n",
              "      <td>0.593205</td>\n",
              "      <td>0.273500</td>\n",
              "      <td>1</td>\n",
              "    </tr>\n",
              "    <tr>\n",
              "      <th>1</th>\n",
              "      <td>1</td>\n",
              "      <td>1.00000</td>\n",
              "      <td>0.405855</td>\n",
              "      <td>0.965175</td>\n",
              "      <td>0.319220</td>\n",
              "      <td>0.44566</td>\n",
              "      <td>0.032015</td>\n",
              "      <td>1.000000</td>\n",
              "      <td>0.477255</td>\n",
              "      <td>0.754370</td>\n",
              "      <td>0.161285</td>\n",
              "      <td>0.672160</td>\n",
              "      <td>0.151465</td>\n",
              "      <td>0.241575</td>\n",
              "      <td>0.012425</td>\n",
              "      <td>0.527495</td>\n",
              "      <td>0.188815</td>\n",
              "      <td>0.665545</td>\n",
              "      <td>0.000000</td>\n",
              "      <td>0.434245</td>\n",
              "      <td>0.273500</td>\n",
              "      <td>0.409720</td>\n",
              "      <td>0.321330</td>\n",
              "      <td>0.398340</td>\n",
              "      <td>0.367155</td>\n",
              "      <td>0.397660</td>\n",
              "      <td>0.407995</td>\n",
              "      <td>0.404800</td>\n",
              "      <td>0.442035</td>\n",
              "      <td>0.416870</td>\n",
              "      <td>0.468560</td>\n",
              "      <td>0.431310</td>\n",
              "      <td>0.487765</td>\n",
              "      <td>0</td>\n",
              "    </tr>\n",
              "    <tr>\n",
              "      <th>2</th>\n",
              "      <td>1</td>\n",
              "      <td>1.00000</td>\n",
              "      <td>0.483175</td>\n",
              "      <td>1.000000</td>\n",
              "      <td>0.502425</td>\n",
              "      <td>1.00000</td>\n",
              "      <td>0.439690</td>\n",
              "      <td>0.944825</td>\n",
              "      <td>0.505990</td>\n",
              "      <td>0.865410</td>\n",
              "      <td>0.526730</td>\n",
              "      <td>0.927215</td>\n",
              "      <td>0.504135</td>\n",
              "      <td>0.772955</td>\n",
              "      <td>0.501495</td>\n",
              "      <td>0.918875</td>\n",
              "      <td>0.431780</td>\n",
              "      <td>0.877675</td>\n",
              "      <td>0.457300</td>\n",
              "      <td>0.854435</td>\n",
              "      <td>0.362490</td>\n",
              "      <td>0.716925</td>\n",
              "      <td>0.439690</td>\n",
              "      <td>0.787640</td>\n",
              "      <td>0.298900</td>\n",
              "      <td>0.794920</td>\n",
              "      <td>0.389275</td>\n",
              "      <td>0.715500</td>\n",
              "      <td>0.413175</td>\n",
              "      <td>0.802180</td>\n",
              "      <td>0.379100</td>\n",
              "      <td>0.780225</td>\n",
              "      <td>0.308810</td>\n",
              "      <td>1</td>\n",
              "    </tr>\n",
              "    <tr>\n",
              "      <th>3</th>\n",
              "      <td>1</td>\n",
              "      <td>1.00000</td>\n",
              "      <td>0.274195</td>\n",
              "      <td>1.000000</td>\n",
              "      <td>1.000000</td>\n",
              "      <td>0.85608</td>\n",
              "      <td>0.000000</td>\n",
              "      <td>0.500000</td>\n",
              "      <td>0.500000</td>\n",
              "      <td>0.500000</td>\n",
              "      <td>0.500000</td>\n",
              "      <td>0.500000</td>\n",
              "      <td>0.500000</td>\n",
              "      <td>0.000000</td>\n",
              "      <td>0.572580</td>\n",
              "      <td>0.770470</td>\n",
              "      <td>0.303350</td>\n",
              "      <td>0.000000</td>\n",
              "      <td>0.227665</td>\n",
              "      <td>0.150125</td>\n",
              "      <td>1.000000</td>\n",
              "      <td>0.500000</td>\n",
              "      <td>0.500000</td>\n",
              "      <td>1.000000</td>\n",
              "      <td>0.953475</td>\n",
              "      <td>0.758065</td>\n",
              "      <td>1.000000</td>\n",
              "      <td>1.000000</td>\n",
              "      <td>0.399505</td>\n",
              "      <td>0.628410</td>\n",
              "      <td>1.000000</td>\n",
              "      <td>0.338090</td>\n",
              "      <td>1.000000</td>\n",
              "      <td>0</td>\n",
              "    </tr>\n",
              "    <tr>\n",
              "      <th>4</th>\n",
              "      <td>1</td>\n",
              "      <td>1.00000</td>\n",
              "      <td>0.487995</td>\n",
              "      <td>0.970700</td>\n",
              "      <td>0.532655</td>\n",
              "      <td>0.96053</td>\n",
              "      <td>0.383725</td>\n",
              "      <td>0.885760</td>\n",
              "      <td>0.418005</td>\n",
              "      <td>0.763990</td>\n",
              "      <td>0.398625</td>\n",
              "      <td>0.782045</td>\n",
              "      <td>0.496440</td>\n",
              "      <td>0.671975</td>\n",
              "      <td>0.362715</td>\n",
              "      <td>0.764700</td>\n",
              "      <td>0.391100</td>\n",
              "      <td>0.725535</td>\n",
              "      <td>0.410935</td>\n",
              "      <td>0.529910</td>\n",
              "      <td>0.322125</td>\n",
              "      <td>0.511545</td>\n",
              "      <td>0.235605</td>\n",
              "      <td>0.516430</td>\n",
              "      <td>0.174210</td>\n",
              "      <td>0.566450</td>\n",
              "      <td>0.233970</td>\n",
              "      <td>0.512155</td>\n",
              "      <td>0.189015</td>\n",
              "      <td>0.471465</td>\n",
              "      <td>0.202135</td>\n",
              "      <td>0.476960</td>\n",
              "      <td>0.171515</td>\n",
              "      <td>1</td>\n",
              "    </tr>\n",
              "  </tbody>\n",
              "</table>\n",
              "</div>"
            ],
            "text/plain": [
              "   feature1  feature3  feature4  ...  feature33  feature34  label\n",
              "0         1   0.99539  0.470555  ...   0.593205   0.273500      1\n",
              "1         1   1.00000  0.405855  ...   0.431310   0.487765      0\n",
              "2         1   1.00000  0.483175  ...   0.780225   0.308810      1\n",
              "3         1   1.00000  0.274195  ...   0.338090   1.000000      0\n",
              "4         1   1.00000  0.487995  ...   0.476960   0.171515      1\n",
              "\n",
              "[5 rows x 34 columns]"
            ]
          },
          "metadata": {
            "tags": []
          },
          "execution_count": 16
        }
      ]
    },
    {
      "cell_type": "markdown",
      "metadata": {
        "id": "SvSCZjmpBy2v"
      },
      "source": [
        "#shuffle & Split the data 60% (Training) & 40% (Testing)\n"
      ]
    },
    {
      "cell_type": "code",
      "metadata": {
        "id": "N5Odq-X-sqhJ"
      },
      "source": [
        "training_data = data.sample(frac= 0.6, random_state=125)\n",
        "testing_data = data.drop(training_data.index)"
      ],
      "execution_count": 17,
      "outputs": []
    },
    {
      "cell_type": "code",
      "metadata": {
        "id": "0aBhP3rzsyEN"
      },
      "source": [
        "training_label = training_data.iloc[:,-1]\n",
        "training_data = training_data.iloc[:,0:-1]\n",
        "testing_label = testing_data.iloc[:,-1]\n",
        "testing_data = testing_data.iloc[:,0:-1]\n"
      ],
      "execution_count": 18,
      "outputs": []
    },
    {
      "cell_type": "code",
      "metadata": {
        "colab": {
          "base_uri": "https://localhost:8080/",
          "height": 224
        },
        "id": "RdjteKgXMTDR",
        "outputId": "31f54bae-e5b3-4978-a6d8-ab20f6662ef9"
      },
      "source": [
        "training_data.head()"
      ],
      "execution_count": 19,
      "outputs": [
        {
          "output_type": "execute_result",
          "data": {
            "text/html": [
              "<div>\n",
              "<style scoped>\n",
              "    .dataframe tbody tr th:only-of-type {\n",
              "        vertical-align: middle;\n",
              "    }\n",
              "\n",
              "    .dataframe tbody tr th {\n",
              "        vertical-align: top;\n",
              "    }\n",
              "\n",
              "    .dataframe thead th {\n",
              "        text-align: right;\n",
              "    }\n",
              "</style>\n",
              "<table border=\"1\" class=\"dataframe\">\n",
              "  <thead>\n",
              "    <tr style=\"text-align: right;\">\n",
              "      <th></th>\n",
              "      <th>feature1</th>\n",
              "      <th>feature3</th>\n",
              "      <th>feature4</th>\n",
              "      <th>feature5</th>\n",
              "      <th>feature6</th>\n",
              "      <th>feature7</th>\n",
              "      <th>feature8</th>\n",
              "      <th>feature9</th>\n",
              "      <th>feature10</th>\n",
              "      <th>feature11</th>\n",
              "      <th>feature12</th>\n",
              "      <th>feature13</th>\n",
              "      <th>feature14</th>\n",
              "      <th>feature15</th>\n",
              "      <th>feature16</th>\n",
              "      <th>feature17</th>\n",
              "      <th>feature18</th>\n",
              "      <th>feature19</th>\n",
              "      <th>feature20</th>\n",
              "      <th>feature21</th>\n",
              "      <th>feature22</th>\n",
              "      <th>feature23</th>\n",
              "      <th>feature24</th>\n",
              "      <th>feature25</th>\n",
              "      <th>feature26</th>\n",
              "      <th>feature27</th>\n",
              "      <th>feature28</th>\n",
              "      <th>feature29</th>\n",
              "      <th>feature30</th>\n",
              "      <th>feature31</th>\n",
              "      <th>feature32</th>\n",
              "      <th>feature33</th>\n",
              "      <th>feature34</th>\n",
              "    </tr>\n",
              "  </thead>\n",
              "  <tbody>\n",
              "    <tr>\n",
              "      <th>270</th>\n",
              "      <td>1</td>\n",
              "      <td>1.00000</td>\n",
              "      <td>0.540065</td>\n",
              "      <td>0.983875</td>\n",
              "      <td>0.497590</td>\n",
              "      <td>0.983415</td>\n",
              "      <td>0.496390</td>\n",
              "      <td>0.93990</td>\n",
              "      <td>0.480385</td>\n",
              "      <td>1.00000</td>\n",
              "      <td>0.507095</td>\n",
              "      <td>0.980930</td>\n",
              "      <td>0.492820</td>\n",
              "      <td>0.979735</td>\n",
              "      <td>0.491645</td>\n",
              "      <td>0.992485</td>\n",
              "      <td>0.505010</td>\n",
              "      <td>0.955760</td>\n",
              "      <td>0.455760</td>\n",
              "      <td>0.975080</td>\n",
              "      <td>0.488180</td>\n",
              "      <td>0.973180</td>\n",
              "      <td>0.487045</td>\n",
              "      <td>0.990820</td>\n",
              "      <td>0.510015</td>\n",
              "      <td>0.968860</td>\n",
              "      <td>0.484830</td>\n",
              "      <td>1.000000</td>\n",
              "      <td>0.470785</td>\n",
              "      <td>0.963870</td>\n",
              "      <td>0.482680</td>\n",
              "      <td>0.96113</td>\n",
              "      <td>0.481635</td>\n",
              "    </tr>\n",
              "    <tr>\n",
              "      <th>116</th>\n",
              "      <td>1</td>\n",
              "      <td>1.00000</td>\n",
              "      <td>0.426230</td>\n",
              "      <td>1.000000</td>\n",
              "      <td>0.524590</td>\n",
              "      <td>0.786885</td>\n",
              "      <td>0.491805</td>\n",
              "      <td>0.82787</td>\n",
              "      <td>0.508195</td>\n",
              "      <td>0.92623</td>\n",
              "      <td>0.483605</td>\n",
              "      <td>0.860655</td>\n",
              "      <td>0.500000</td>\n",
              "      <td>0.844260</td>\n",
              "      <td>0.418035</td>\n",
              "      <td>0.598360</td>\n",
              "      <td>0.426230</td>\n",
              "      <td>0.827790</td>\n",
              "      <td>0.414120</td>\n",
              "      <td>0.836065</td>\n",
              "      <td>0.516395</td>\n",
              "      <td>1.000000</td>\n",
              "      <td>0.352460</td>\n",
              "      <td>0.655740</td>\n",
              "      <td>0.327870</td>\n",
              "      <td>0.761925</td>\n",
              "      <td>0.398375</td>\n",
              "      <td>0.663935</td>\n",
              "      <td>0.483605</td>\n",
              "      <td>0.639345</td>\n",
              "      <td>0.278690</td>\n",
              "      <td>0.74590</td>\n",
              "      <td>0.467215</td>\n",
              "    </tr>\n",
              "    <tr>\n",
              "      <th>135</th>\n",
              "      <td>1</td>\n",
              "      <td>0.89706</td>\n",
              "      <td>0.691175</td>\n",
              "      <td>0.955880</td>\n",
              "      <td>0.687500</td>\n",
              "      <td>0.871325</td>\n",
              "      <td>0.838235</td>\n",
              "      <td>0.72794</td>\n",
              "      <td>0.889705</td>\n",
              "      <td>0.59559</td>\n",
              "      <td>0.944855</td>\n",
              "      <td>0.488970</td>\n",
              "      <td>0.930145</td>\n",
              "      <td>0.397060</td>\n",
              "      <td>0.911765</td>\n",
              "      <td>0.312500</td>\n",
              "      <td>0.838235</td>\n",
              "      <td>0.250000</td>\n",
              "      <td>0.738970</td>\n",
              "      <td>0.132355</td>\n",
              "      <td>0.691175</td>\n",
              "      <td>0.069855</td>\n",
              "      <td>0.544120</td>\n",
              "      <td>0.128675</td>\n",
              "      <td>0.437500</td>\n",
              "      <td>0.160375</td>\n",
              "      <td>0.379345</td>\n",
              "      <td>0.224265</td>\n",
              "      <td>0.286765</td>\n",
              "      <td>0.279410</td>\n",
              "      <td>0.246325</td>\n",
              "      <td>0.35662</td>\n",
              "      <td>0.216910</td>\n",
              "    </tr>\n",
              "    <tr>\n",
              "      <th>91</th>\n",
              "      <td>1</td>\n",
              "      <td>0.84557</td>\n",
              "      <td>0.457100</td>\n",
              "      <td>0.341275</td>\n",
              "      <td>0.097235</td>\n",
              "      <td>0.455195</td>\n",
              "      <td>0.217825</td>\n",
              "      <td>0.90324</td>\n",
              "      <td>0.522880</td>\n",
              "      <td>0.94757</td>\n",
              "      <td>0.496185</td>\n",
              "      <td>0.407530</td>\n",
              "      <td>0.819830</td>\n",
              "      <td>0.399905</td>\n",
              "      <td>0.159675</td>\n",
              "      <td>0.928505</td>\n",
              "      <td>0.443280</td>\n",
              "      <td>0.889895</td>\n",
              "      <td>0.421355</td>\n",
              "      <td>0.465205</td>\n",
              "      <td>0.754050</td>\n",
              "      <td>0.329360</td>\n",
              "      <td>0.904670</td>\n",
              "      <td>0.894660</td>\n",
              "      <td>0.481410</td>\n",
              "      <td>0.854410</td>\n",
              "      <td>0.373560</td>\n",
              "      <td>0.889420</td>\n",
              "      <td>0.429455</td>\n",
              "      <td>0.393230</td>\n",
              "      <td>0.109150</td>\n",
              "      <td>0.40753</td>\n",
              "      <td>0.200665</td>\n",
              "    </tr>\n",
              "    <tr>\n",
              "      <th>100</th>\n",
              "      <td>1</td>\n",
              "      <td>1.00000</td>\n",
              "      <td>0.000000</td>\n",
              "      <td>0.500000</td>\n",
              "      <td>0.500000</td>\n",
              "      <td>0.889705</td>\n",
              "      <td>0.003675</td>\n",
              "      <td>0.90441</td>\n",
              "      <td>0.775735</td>\n",
              "      <td>0.29044</td>\n",
              "      <td>0.025735</td>\n",
              "      <td>0.500000</td>\n",
              "      <td>0.500000</td>\n",
              "      <td>0.500000</td>\n",
              "      <td>0.500000</td>\n",
              "      <td>0.860295</td>\n",
              "      <td>0.113970</td>\n",
              "      <td>0.867645</td>\n",
              "      <td>0.198530</td>\n",
              "      <td>0.500000</td>\n",
              "      <td>0.500000</td>\n",
              "      <td>0.591910</td>\n",
              "      <td>0.000000</td>\n",
              "      <td>0.000000</td>\n",
              "      <td>0.000000</td>\n",
              "      <td>0.000000</td>\n",
              "      <td>0.000000</td>\n",
              "      <td>1.000000</td>\n",
              "      <td>0.000000</td>\n",
              "      <td>1.000000</td>\n",
              "      <td>0.000000</td>\n",
              "      <td>0.50000</td>\n",
              "      <td>0.500000</td>\n",
              "    </tr>\n",
              "  </tbody>\n",
              "</table>\n",
              "</div>"
            ],
            "text/plain": [
              "     feature1  feature3  feature4  ...  feature32  feature33  feature34\n",
              "270         1   1.00000  0.540065  ...   0.482680    0.96113   0.481635\n",
              "116         1   1.00000  0.426230  ...   0.278690    0.74590   0.467215\n",
              "135         1   0.89706  0.691175  ...   0.246325    0.35662   0.216910\n",
              "91          1   0.84557  0.457100  ...   0.109150    0.40753   0.200665\n",
              "100         1   1.00000  0.000000  ...   0.000000    0.50000   0.500000\n",
              "\n",
              "[5 rows x 33 columns]"
            ]
          },
          "metadata": {
            "tags": []
          },
          "execution_count": 19
        }
      ]
    },
    {
      "cell_type": "markdown",
      "metadata": {
        "id": "eUhxliusDTHZ"
      },
      "source": [
        "Checking Data before Pre-Processing & Model"
      ]
    },
    {
      "cell_type": "code",
      "metadata": {
        "colab": {
          "base_uri": "https://localhost:8080/"
        },
        "id": "VDT7DMu2s9zB",
        "outputId": "0d46a2ae-fd16-4ef1-bab0-c8205d349f85"
      },
      "source": [
        "training_data.shape"
      ],
      "execution_count": 20,
      "outputs": [
        {
          "output_type": "execute_result",
          "data": {
            "text/plain": [
              "(211, 33)"
            ]
          },
          "metadata": {
            "tags": []
          },
          "execution_count": 20
        }
      ]
    },
    {
      "cell_type": "code",
      "metadata": {
        "colab": {
          "base_uri": "https://localhost:8080/"
        },
        "id": "z3KhDcCTtNdF",
        "outputId": "b1fb275a-2933-4fcb-e22f-1ed67cc70660"
      },
      "source": [
        "training_label.shape"
      ],
      "execution_count": 21,
      "outputs": [
        {
          "output_type": "execute_result",
          "data": {
            "text/plain": [
              "(211,)"
            ]
          },
          "metadata": {
            "tags": []
          },
          "execution_count": 21
        }
      ]
    },
    {
      "cell_type": "code",
      "metadata": {
        "colab": {
          "base_uri": "https://localhost:8080/"
        },
        "id": "zZrtHkB-tJLZ",
        "outputId": "5658db2e-4f78-4f52-f88a-288cccb85f70"
      },
      "source": [
        "testing_data.shape"
      ],
      "execution_count": 22,
      "outputs": [
        {
          "output_type": "execute_result",
          "data": {
            "text/plain": [
              "(140, 33)"
            ]
          },
          "metadata": {
            "tags": []
          },
          "execution_count": 22
        }
      ]
    },
    {
      "cell_type": "code",
      "metadata": {
        "colab": {
          "base_uri": "https://localhost:8080/"
        },
        "id": "tQ9fGE3CtTOf",
        "outputId": "7bf463fd-1d13-402e-8a19-ff92e27db74b"
      },
      "source": [
        "testing_label.shape"
      ],
      "execution_count": 23,
      "outputs": [
        {
          "output_type": "execute_result",
          "data": {
            "text/plain": [
              "(140,)"
            ]
          },
          "metadata": {
            "tags": []
          },
          "execution_count": 23
        }
      ]
    },
    {
      "cell_type": "code",
      "metadata": {
        "colab": {
          "base_uri": "https://localhost:8080/"
        },
        "id": "o5nqz69OJApV",
        "outputId": "52a6a785-1c4c-451f-c0da-1dd6c61cad23"
      },
      "source": [
        "len(training_label)"
      ],
      "execution_count": 24,
      "outputs": [
        {
          "output_type": "execute_result",
          "data": {
            "text/plain": [
              "211"
            ]
          },
          "metadata": {
            "tags": []
          },
          "execution_count": 24
        }
      ]
    },
    {
      "cell_type": "markdown",
      "metadata": {
        "id": "VnYQ1vu8tdSP"
      },
      "source": [
        "Data Pre-processing"
      ]
    },
    {
      "cell_type": "code",
      "metadata": {
        "id": "QP0-xTnJtedf"
      },
      "source": [
        "training_data = training_data.to_numpy()"
      ],
      "execution_count": 25,
      "outputs": []
    },
    {
      "cell_type": "code",
      "metadata": {
        "id": "4YcnvIZttjRd"
      },
      "source": [
        "training_label = training_label.to_numpy().astype('float32')"
      ],
      "execution_count": 26,
      "outputs": []
    },
    {
      "cell_type": "code",
      "metadata": {
        "id": "JKvs_SbBtmfm"
      },
      "source": [
        "testing_data = testing_data.to_numpy()"
      ],
      "execution_count": 27,
      "outputs": []
    },
    {
      "cell_type": "code",
      "metadata": {
        "id": "lbxsTpXHtqIZ"
      },
      "source": [
        "testing_label = testing_label.to_numpy().astype('float32')"
      ],
      "execution_count": 28,
      "outputs": []
    },
    {
      "cell_type": "markdown",
      "metadata": {
        "id": "mGlIeNLktxsY"
      },
      "source": [
        "Model"
      ]
    },
    {
      "cell_type": "code",
      "metadata": {
        "id": "Lb6YdfEqtybH"
      },
      "source": [
        "model = Sequential()\n",
        "model.add(Dense(64, activation='relu', input_shape=(training_data.shape[1],)))\n",
        "model.add(Dropout(0.2))\n",
        "model.add(Dense(64, activation='relu')) \n",
        "model.add(Dropout(0.2))\n",
        "model.add(Dense(1, activation='sigmoid'))"
      ],
      "execution_count": 29,
      "outputs": []
    },
    {
      "cell_type": "code",
      "metadata": {
        "colab": {
          "base_uri": "https://localhost:8080/"
        },
        "id": "s9COsvf-uqUU",
        "outputId": "f2d642a8-e02a-47b3-dec6-33618793437b"
      },
      "source": [
        "model.summary()"
      ],
      "execution_count": 30,
      "outputs": [
        {
          "output_type": "stream",
          "text": [
            "Model: \"sequential\"\n",
            "_________________________________________________________________\n",
            "Layer (type)                 Output Shape              Param #   \n",
            "=================================================================\n",
            "dense (Dense)                (None, 64)                2176      \n",
            "_________________________________________________________________\n",
            "dropout (Dropout)            (None, 64)                0         \n",
            "_________________________________________________________________\n",
            "dense_1 (Dense)              (None, 64)                4160      \n",
            "_________________________________________________________________\n",
            "dropout_1 (Dropout)          (None, 64)                0         \n",
            "_________________________________________________________________\n",
            "dense_2 (Dense)              (None, 1)                 65        \n",
            "=================================================================\n",
            "Total params: 6,401\n",
            "Trainable params: 6,401\n",
            "Non-trainable params: 0\n",
            "_________________________________________________________________\n"
          ],
          "name": "stdout"
        }
      ]
    },
    {
      "cell_type": "markdown",
      "metadata": {
        "id": "5XiGJMPdu-UG"
      },
      "source": [
        "Compilation Step (Note : Its a Binary problem , select loss , metrics according to it)"
      ]
    },
    {
      "cell_type": "code",
      "metadata": {
        "id": "AhLHm4bpuuWt"
      },
      "source": [
        "model.compile(optimizer = 'RMSprop', loss='binary_crossentropy', metrics=['accuracy'])"
      ],
      "execution_count": 31,
      "outputs": []
    },
    {
      "cell_type": "code",
      "metadata": {
        "colab": {
          "base_uri": "https://localhost:8080/"
        },
        "id": "GK49DO2xux2h",
        "outputId": "b3845898-df5b-4192-ee1d-83374fe1f133"
      },
      "source": [
        "history = model.fit(training_data, training_label, validation_split=0.3, epochs=100, batch_size = 20)"
      ],
      "execution_count": 32,
      "outputs": [
        {
          "output_type": "stream",
          "text": [
            "Epoch 1/100\n",
            "8/8 [==============================] - 1s 83ms/step - loss: 0.8435 - accuracy: 0.4670 - val_loss: 0.5707 - val_accuracy: 0.7188\n",
            "Epoch 2/100\n",
            "8/8 [==============================] - 0s 8ms/step - loss: 0.6103 - accuracy: 0.6585 - val_loss: 0.5181 - val_accuracy: 0.7031\n",
            "Epoch 3/100\n",
            "8/8 [==============================] - 0s 9ms/step - loss: 0.5622 - accuracy: 0.7215 - val_loss: 0.4983 - val_accuracy: 0.7031\n",
            "Epoch 4/100\n",
            "8/8 [==============================] - 0s 8ms/step - loss: 0.5258 - accuracy: 0.7427 - val_loss: 0.4668 - val_accuracy: 0.7969\n",
            "Epoch 5/100\n",
            "8/8 [==============================] - 0s 9ms/step - loss: 0.5137 - accuracy: 0.7394 - val_loss: 0.4411 - val_accuracy: 0.7500\n",
            "Epoch 6/100\n",
            "8/8 [==============================] - 0s 11ms/step - loss: 0.4631 - accuracy: 0.7741 - val_loss: 0.4148 - val_accuracy: 0.7969\n",
            "Epoch 7/100\n",
            "8/8 [==============================] - 0s 7ms/step - loss: 0.4516 - accuracy: 0.8414 - val_loss: 0.3851 - val_accuracy: 0.8125\n",
            "Epoch 8/100\n",
            "8/8 [==============================] - 0s 8ms/step - loss: 0.4198 - accuracy: 0.8356 - val_loss: 0.3891 - val_accuracy: 0.9062\n",
            "Epoch 9/100\n",
            "8/8 [==============================] - 0s 7ms/step - loss: 0.4346 - accuracy: 0.8638 - val_loss: 0.3588 - val_accuracy: 0.8438\n",
            "Epoch 10/100\n",
            "8/8 [==============================] - 0s 10ms/step - loss: 0.3427 - accuracy: 0.9019 - val_loss: 0.3567 - val_accuracy: 0.7969\n",
            "Epoch 11/100\n",
            "8/8 [==============================] - 0s 9ms/step - loss: 0.3843 - accuracy: 0.8449 - val_loss: 0.3581 - val_accuracy: 0.8125\n",
            "Epoch 12/100\n",
            "8/8 [==============================] - 0s 8ms/step - loss: 0.4294 - accuracy: 0.8274 - val_loss: 0.3103 - val_accuracy: 0.8750\n",
            "Epoch 13/100\n",
            "8/8 [==============================] - 0s 9ms/step - loss: 0.3546 - accuracy: 0.8902 - val_loss: 0.3067 - val_accuracy: 0.8594\n",
            "Epoch 14/100\n",
            "8/8 [==============================] - 0s 9ms/step - loss: 0.3640 - accuracy: 0.8664 - val_loss: 0.3487 - val_accuracy: 0.8125\n",
            "Epoch 15/100\n",
            "8/8 [==============================] - 0s 8ms/step - loss: 0.2639 - accuracy: 0.9200 - val_loss: 0.2914 - val_accuracy: 0.9375\n",
            "Epoch 16/100\n",
            "8/8 [==============================] - 0s 8ms/step - loss: 0.3214 - accuracy: 0.8662 - val_loss: 0.2686 - val_accuracy: 0.8906\n",
            "Epoch 17/100\n",
            "8/8 [==============================] - 0s 7ms/step - loss: 0.3387 - accuracy: 0.8998 - val_loss: 0.3130 - val_accuracy: 0.8438\n",
            "Epoch 18/100\n",
            "8/8 [==============================] - 0s 9ms/step - loss: 0.3123 - accuracy: 0.8695 - val_loss: 0.2975 - val_accuracy: 0.8438\n",
            "Epoch 19/100\n",
            "8/8 [==============================] - 0s 8ms/step - loss: 0.2947 - accuracy: 0.9040 - val_loss: 0.2447 - val_accuracy: 0.9688\n",
            "Epoch 20/100\n",
            "8/8 [==============================] - 0s 7ms/step - loss: 0.2638 - accuracy: 0.9260 - val_loss: 0.2632 - val_accuracy: 0.8594\n",
            "Epoch 21/100\n",
            "8/8 [==============================] - 0s 8ms/step - loss: 0.2452 - accuracy: 0.9123 - val_loss: 0.2372 - val_accuracy: 0.9062\n",
            "Epoch 22/100\n",
            "8/8 [==============================] - 0s 8ms/step - loss: 0.2835 - accuracy: 0.9199 - val_loss: 0.2919 - val_accuracy: 0.8594\n",
            "Epoch 23/100\n",
            "8/8 [==============================] - 0s 7ms/step - loss: 0.3055 - accuracy: 0.8609 - val_loss: 0.2164 - val_accuracy: 0.9375\n",
            "Epoch 24/100\n",
            "8/8 [==============================] - 0s 7ms/step - loss: 0.2232 - accuracy: 0.9420 - val_loss: 0.2144 - val_accuracy: 0.9531\n",
            "Epoch 25/100\n",
            "8/8 [==============================] - 0s 9ms/step - loss: 0.2430 - accuracy: 0.9116 - val_loss: 0.2070 - val_accuracy: 0.9688\n",
            "Epoch 26/100\n",
            "8/8 [==============================] - 0s 8ms/step - loss: 0.2053 - accuracy: 0.9476 - val_loss: 0.2067 - val_accuracy: 0.9375\n",
            "Epoch 27/100\n",
            "8/8 [==============================] - 0s 7ms/step - loss: 0.2719 - accuracy: 0.9153 - val_loss: 0.2367 - val_accuracy: 0.9062\n",
            "Epoch 28/100\n",
            "8/8 [==============================] - 0s 8ms/step - loss: 0.2536 - accuracy: 0.9217 - val_loss: 0.2229 - val_accuracy: 0.9062\n",
            "Epoch 29/100\n",
            "8/8 [==============================] - 0s 8ms/step - loss: 0.2120 - accuracy: 0.9247 - val_loss: 0.1866 - val_accuracy: 0.9688\n",
            "Epoch 30/100\n",
            "8/8 [==============================] - 0s 8ms/step - loss: 0.2457 - accuracy: 0.9132 - val_loss: 0.2115 - val_accuracy: 0.9219\n",
            "Epoch 31/100\n",
            "8/8 [==============================] - 0s 8ms/step - loss: 0.1989 - accuracy: 0.9287 - val_loss: 0.2353 - val_accuracy: 0.9062\n",
            "Epoch 32/100\n",
            "8/8 [==============================] - 0s 9ms/step - loss: 0.2279 - accuracy: 0.9583 - val_loss: 0.1743 - val_accuracy: 0.9688\n",
            "Epoch 33/100\n",
            "8/8 [==============================] - 0s 9ms/step - loss: 0.1854 - accuracy: 0.9433 - val_loss: 0.1847 - val_accuracy: 0.9531\n",
            "Epoch 34/100\n",
            "8/8 [==============================] - 0s 8ms/step - loss: 0.1645 - accuracy: 0.9784 - val_loss: 0.1912 - val_accuracy: 0.9375\n",
            "Epoch 35/100\n",
            "8/8 [==============================] - 0s 8ms/step - loss: 0.1875 - accuracy: 0.9441 - val_loss: 0.1726 - val_accuracy: 0.9688\n",
            "Epoch 36/100\n",
            "8/8 [==============================] - 0s 9ms/step - loss: 0.1569 - accuracy: 0.9688 - val_loss: 0.1834 - val_accuracy: 0.9531\n",
            "Epoch 37/100\n",
            "8/8 [==============================] - 0s 9ms/step - loss: 0.1743 - accuracy: 0.9527 - val_loss: 0.2068 - val_accuracy: 0.9375\n",
            "Epoch 38/100\n",
            "8/8 [==============================] - 0s 8ms/step - loss: 0.2078 - accuracy: 0.9409 - val_loss: 0.1685 - val_accuracy: 0.9688\n",
            "Epoch 39/100\n",
            "8/8 [==============================] - 0s 8ms/step - loss: 0.1642 - accuracy: 0.9325 - val_loss: 0.1797 - val_accuracy: 0.9219\n",
            "Epoch 40/100\n",
            "8/8 [==============================] - 0s 8ms/step - loss: 0.1751 - accuracy: 0.9678 - val_loss: 0.1659 - val_accuracy: 0.9688\n",
            "Epoch 41/100\n",
            "8/8 [==============================] - 0s 7ms/step - loss: 0.1627 - accuracy: 0.9591 - val_loss: 0.1949 - val_accuracy: 0.9219\n",
            "Epoch 42/100\n",
            "8/8 [==============================] - 0s 9ms/step - loss: 0.1916 - accuracy: 0.9533 - val_loss: 0.1622 - val_accuracy: 0.9688\n",
            "Epoch 43/100\n",
            "8/8 [==============================] - 0s 8ms/step - loss: 0.1688 - accuracy: 0.9566 - val_loss: 0.1607 - val_accuracy: 0.9375\n",
            "Epoch 44/100\n",
            "8/8 [==============================] - 0s 8ms/step - loss: 0.1582 - accuracy: 0.9661 - val_loss: 0.1956 - val_accuracy: 0.9219\n",
            "Epoch 45/100\n",
            "8/8 [==============================] - 0s 8ms/step - loss: 0.1570 - accuracy: 0.9524 - val_loss: 0.1658 - val_accuracy: 0.9375\n",
            "Epoch 46/100\n",
            "8/8 [==============================] - 0s 9ms/step - loss: 0.1440 - accuracy: 0.9638 - val_loss: 0.1535 - val_accuracy: 0.9688\n",
            "Epoch 47/100\n",
            "8/8 [==============================] - 0s 9ms/step - loss: 0.1682 - accuracy: 0.9406 - val_loss: 0.1783 - val_accuracy: 0.9219\n",
            "Epoch 48/100\n",
            "8/8 [==============================] - 0s 8ms/step - loss: 0.1859 - accuracy: 0.9448 - val_loss: 0.1717 - val_accuracy: 0.9531\n",
            "Epoch 49/100\n",
            "8/8 [==============================] - 0s 7ms/step - loss: 0.2025 - accuracy: 0.9360 - val_loss: 0.1625 - val_accuracy: 0.9688\n",
            "Epoch 50/100\n",
            "8/8 [==============================] - 0s 8ms/step - loss: 0.1500 - accuracy: 0.9606 - val_loss: 0.1738 - val_accuracy: 0.9375\n",
            "Epoch 51/100\n",
            "8/8 [==============================] - 0s 8ms/step - loss: 0.1256 - accuracy: 0.9511 - val_loss: 0.2057 - val_accuracy: 0.9219\n",
            "Epoch 52/100\n",
            "8/8 [==============================] - 0s 8ms/step - loss: 0.1459 - accuracy: 0.9598 - val_loss: 0.2092 - val_accuracy: 0.9219\n",
            "Epoch 53/100\n",
            "8/8 [==============================] - 0s 8ms/step - loss: 0.1530 - accuracy: 0.9503 - val_loss: 0.1594 - val_accuracy: 0.9375\n",
            "Epoch 54/100\n",
            "8/8 [==============================] - 0s 8ms/step - loss: 0.1292 - accuracy: 0.9552 - val_loss: 0.1770 - val_accuracy: 0.9219\n",
            "Epoch 55/100\n",
            "8/8 [==============================] - 0s 8ms/step - loss: 0.1831 - accuracy: 0.9335 - val_loss: 0.1636 - val_accuracy: 0.9375\n",
            "Epoch 56/100\n",
            "8/8 [==============================] - 0s 9ms/step - loss: 0.1492 - accuracy: 0.9575 - val_loss: 0.1651 - val_accuracy: 0.9531\n",
            "Epoch 57/100\n",
            "8/8 [==============================] - 0s 7ms/step - loss: 0.1525 - accuracy: 0.9553 - val_loss: 0.1817 - val_accuracy: 0.9375\n",
            "Epoch 58/100\n",
            "8/8 [==============================] - 0s 9ms/step - loss: 0.1484 - accuracy: 0.9450 - val_loss: 0.1611 - val_accuracy: 0.9375\n",
            "Epoch 59/100\n",
            "8/8 [==============================] - 0s 8ms/step - loss: 0.1574 - accuracy: 0.9565 - val_loss: 0.1581 - val_accuracy: 0.9531\n",
            "Epoch 60/100\n",
            "8/8 [==============================] - 0s 9ms/step - loss: 0.1538 - accuracy: 0.9503 - val_loss: 0.1830 - val_accuracy: 0.9219\n",
            "Epoch 61/100\n",
            "8/8 [==============================] - 0s 7ms/step - loss: 0.1615 - accuracy: 0.9742 - val_loss: 0.1867 - val_accuracy: 0.9375\n",
            "Epoch 62/100\n",
            "8/8 [==============================] - 0s 8ms/step - loss: 0.0954 - accuracy: 0.9750 - val_loss: 0.1773 - val_accuracy: 0.9375\n",
            "Epoch 63/100\n",
            "8/8 [==============================] - 0s 9ms/step - loss: 0.1305 - accuracy: 0.9538 - val_loss: 0.1574 - val_accuracy: 0.9375\n",
            "Epoch 64/100\n",
            "8/8 [==============================] - 0s 7ms/step - loss: 0.0983 - accuracy: 0.9734 - val_loss: 0.1551 - val_accuracy: 0.9375\n",
            "Epoch 65/100\n",
            "8/8 [==============================] - 0s 8ms/step - loss: 0.1023 - accuracy: 0.9610 - val_loss: 0.1548 - val_accuracy: 0.9531\n",
            "Epoch 66/100\n",
            "8/8 [==============================] - 0s 8ms/step - loss: 0.0821 - accuracy: 0.9792 - val_loss: 0.2498 - val_accuracy: 0.9219\n",
            "Epoch 67/100\n",
            "8/8 [==============================] - 0s 8ms/step - loss: 0.1291 - accuracy: 0.9493 - val_loss: 0.1512 - val_accuracy: 0.9531\n",
            "Epoch 68/100\n",
            "8/8 [==============================] - 0s 8ms/step - loss: 0.0742 - accuracy: 0.9881 - val_loss: 0.1539 - val_accuracy: 0.9531\n",
            "Epoch 69/100\n",
            "8/8 [==============================] - 0s 9ms/step - loss: 0.1145 - accuracy: 0.9645 - val_loss: 0.1962 - val_accuracy: 0.9219\n",
            "Epoch 70/100\n",
            "8/8 [==============================] - 0s 8ms/step - loss: 0.1250 - accuracy: 0.9631 - val_loss: 0.1882 - val_accuracy: 0.9219\n",
            "Epoch 71/100\n",
            "8/8 [==============================] - 0s 7ms/step - loss: 0.1007 - accuracy: 0.9796 - val_loss: 0.1539 - val_accuracy: 0.9375\n",
            "Epoch 72/100\n",
            "8/8 [==============================] - 0s 7ms/step - loss: 0.0786 - accuracy: 0.9773 - val_loss: 0.1605 - val_accuracy: 0.9375\n",
            "Epoch 73/100\n",
            "8/8 [==============================] - 0s 8ms/step - loss: 0.0943 - accuracy: 0.9563 - val_loss: 0.1545 - val_accuracy: 0.9219\n",
            "Epoch 74/100\n",
            "8/8 [==============================] - 0s 9ms/step - loss: 0.0901 - accuracy: 0.9855 - val_loss: 0.1532 - val_accuracy: 0.9531\n",
            "Epoch 75/100\n",
            "8/8 [==============================] - 0s 10ms/step - loss: 0.1093 - accuracy: 0.9699 - val_loss: 0.1628 - val_accuracy: 0.9531\n",
            "Epoch 76/100\n",
            "8/8 [==============================] - 0s 7ms/step - loss: 0.0844 - accuracy: 0.9778 - val_loss: 0.1877 - val_accuracy: 0.9375\n",
            "Epoch 77/100\n",
            "8/8 [==============================] - 0s 9ms/step - loss: 0.1061 - accuracy: 0.9753 - val_loss: 0.1613 - val_accuracy: 0.9219\n",
            "Epoch 78/100\n",
            "8/8 [==============================] - 0s 8ms/step - loss: 0.0836 - accuracy: 0.9686 - val_loss: 0.1776 - val_accuracy: 0.9531\n",
            "Epoch 79/100\n",
            "8/8 [==============================] - 0s 8ms/step - loss: 0.0841 - accuracy: 0.9761 - val_loss: 0.1628 - val_accuracy: 0.9688\n",
            "Epoch 80/100\n",
            "8/8 [==============================] - 0s 8ms/step - loss: 0.0819 - accuracy: 0.9825 - val_loss: 0.1925 - val_accuracy: 0.9375\n",
            "Epoch 81/100\n",
            "8/8 [==============================] - 0s 8ms/step - loss: 0.1094 - accuracy: 0.9662 - val_loss: 0.2090 - val_accuracy: 0.9375\n",
            "Epoch 82/100\n",
            "8/8 [==============================] - 0s 10ms/step - loss: 0.0892 - accuracy: 0.9858 - val_loss: 0.1517 - val_accuracy: 0.9688\n",
            "Epoch 83/100\n",
            "8/8 [==============================] - 0s 8ms/step - loss: 0.1056 - accuracy: 0.9881 - val_loss: 0.1640 - val_accuracy: 0.9531\n",
            "Epoch 84/100\n",
            "8/8 [==============================] - 0s 8ms/step - loss: 0.0868 - accuracy: 0.9717 - val_loss: 0.2829 - val_accuracy: 0.9219\n",
            "Epoch 85/100\n",
            "8/8 [==============================] - 0s 8ms/step - loss: 0.1111 - accuracy: 0.9737 - val_loss: 0.1771 - val_accuracy: 0.9375\n",
            "Epoch 86/100\n",
            "8/8 [==============================] - 0s 7ms/step - loss: 0.1039 - accuracy: 0.9590 - val_loss: 0.1485 - val_accuracy: 0.9531\n",
            "Epoch 87/100\n",
            "8/8 [==============================] - 0s 8ms/step - loss: 0.1671 - accuracy: 0.9419 - val_loss: 0.1548 - val_accuracy: 0.9531\n",
            "Epoch 88/100\n",
            "8/8 [==============================] - 0s 7ms/step - loss: 0.1110 - accuracy: 0.9746 - val_loss: 0.1934 - val_accuracy: 0.9219\n",
            "Epoch 89/100\n",
            "8/8 [==============================] - 0s 7ms/step - loss: 0.0953 - accuracy: 0.9812 - val_loss: 0.1885 - val_accuracy: 0.9375\n",
            "Epoch 90/100\n",
            "8/8 [==============================] - 0s 9ms/step - loss: 0.0756 - accuracy: 0.9816 - val_loss: 0.1631 - val_accuracy: 0.9531\n",
            "Epoch 91/100\n",
            "8/8 [==============================] - 0s 8ms/step - loss: 0.0864 - accuracy: 0.9669 - val_loss: 0.1867 - val_accuracy: 0.9375\n",
            "Epoch 92/100\n",
            "8/8 [==============================] - 0s 10ms/step - loss: 0.0758 - accuracy: 0.9957 - val_loss: 0.1583 - val_accuracy: 0.9688\n",
            "Epoch 93/100\n",
            "8/8 [==============================] - 0s 7ms/step - loss: 0.0575 - accuracy: 0.9897 - val_loss: 0.2078 - val_accuracy: 0.9375\n",
            "Epoch 94/100\n",
            "8/8 [==============================] - 0s 8ms/step - loss: 0.0611 - accuracy: 0.9968 - val_loss: 0.1698 - val_accuracy: 0.9375\n",
            "Epoch 95/100\n",
            "8/8 [==============================] - 0s 7ms/step - loss: 0.0665 - accuracy: 0.9800 - val_loss: 0.1613 - val_accuracy: 0.9531\n",
            "Epoch 96/100\n",
            "8/8 [==============================] - 0s 8ms/step - loss: 0.0730 - accuracy: 0.9842 - val_loss: 0.1580 - val_accuracy: 0.9531\n",
            "Epoch 97/100\n",
            "8/8 [==============================] - 0s 8ms/step - loss: 0.1137 - accuracy: 0.9618 - val_loss: 0.1657 - val_accuracy: 0.9531\n",
            "Epoch 98/100\n",
            "8/8 [==============================] - 0s 7ms/step - loss: 0.1030 - accuracy: 0.9685 - val_loss: 0.1591 - val_accuracy: 0.9531\n",
            "Epoch 99/100\n",
            "8/8 [==============================] - 0s 8ms/step - loss: 0.0720 - accuracy: 0.9896 - val_loss: 0.1573 - val_accuracy: 0.9531\n",
            "Epoch 100/100\n",
            "8/8 [==============================] - 0s 8ms/step - loss: 0.0837 - accuracy: 0.9848 - val_loss: 0.1927 - val_accuracy: 0.9375\n"
          ],
          "name": "stdout"
        }
      ]
    },
    {
      "cell_type": "code",
      "metadata": {
        "colab": {
          "base_uri": "https://localhost:8080/"
        },
        "id": "CTqSZ7jNvvql",
        "outputId": "478acb38-0adc-4ab9-c126-0f021c9ed557"
      },
      "source": [
        "history.history.keys()"
      ],
      "execution_count": 33,
      "outputs": [
        {
          "output_type": "execute_result",
          "data": {
            "text/plain": [
              "dict_keys(['loss', 'accuracy', 'val_loss', 'val_accuracy'])"
            ]
          },
          "metadata": {
            "tags": []
          },
          "execution_count": 33
        }
      ]
    },
    {
      "cell_type": "code",
      "metadata": {
        "colab": {
          "base_uri": "https://localhost:8080/",
          "height": 295
        },
        "id": "Clf_fXqIvyz2",
        "outputId": "98f5d540-fa63-4e1e-c00d-0e929105a78b"
      },
      "source": [
        "history_dict = history.history\n",
        "loss_values = history_dict['loss']\n",
        "val_loss_values = history_dict['val_loss']\n",
        "\n",
        "epochs = range(1, len(history_dict['accuracy']) + 1)\n",
        "plt.plot(epochs, loss_values, 'bo', label='Training loss')\n",
        "plt.plot(epochs, val_loss_values, 'b', label='Validation loss')\n",
        "plt.title('Training / validation loss')\n",
        "plt.xlabel('Epochs')\n",
        "plt.ylabel('Loss')\n",
        "plt.legend()\n",
        "plt.show()"
      ],
      "execution_count": 34,
      "outputs": [
        {
          "output_type": "display_data",
          "data": {
            "image/png": "[encoded data removed]",
            "text/plain": [
              "<Figure size 432x288 with 1 Axes>"
            ]
          },
          "metadata": {
            "tags": [],
            "needs_background": "light"
          }
        }
      ]
    },
    {
      "cell_type": "code",
      "metadata": {
        "colab": {
          "base_uri": "https://localhost:8080/",
          "height": 295
        },
        "id": "hWOO6_6BGoCv",
        "outputId": "47502953-d440-4921-a9c4-9a5c7df22c0c"
      },
      "source": [
        "acc_values = history_dict['accuracy']\n",
        "val_acc_values = history_dict['val_accuracy']\n",
        "plt.plot(epochs, acc_values, 'bo', label='Training acc')\n",
        "plt.plot(epochs, val_acc_values, 'b', label='Validation acc')\n",
        "plt.title('Training / validation accuracy')\n",
        "plt.xlabel('Epochs')\n",
        "plt.ylabel('Loss')\n",
        "plt.legend()\n",
        "plt.show()"
      ],
      "execution_count": 35,
      "outputs": [
        {
          "output_type": "display_data",
          "data": {
            "image/png": "[encoded data removed]",
            "text/plain": [
              "<Figure size 432x288 with 1 Axes>"
            ]
          },
          "metadata": {
            "tags": [],
            "needs_background": "light"
          }
        }
      ]
    },
    {
      "cell_type": "markdown",
      "metadata": {
        "id": "yOwIElGPHMCC"
      },
      "source": [
        "# Evaluation & Prediction"
      ]
    },
    {
      "cell_type": "code",
      "metadata": {
        "colab": {
          "base_uri": "https://localhost:8080/"
        },
        "id": "dOjmFa5AHOjh",
        "outputId": "0bd19c91-81df-4fa6-81fd-a1a08f205698"
      },
      "source": [
        "accuracy_score = model.evaluate(testing_data, testing_label, batch_size=10)\n",
        "print('accuracy score ', accuracy_score[1] * 100, '%')"
      ],
      "execution_count": 36,
      "outputs": [
        {
          "output_type": "stream",
          "text": [
            "14/14 [==============================] - 0s 2ms/step - loss: 0.3252 - accuracy: 0.8929\n",
            "accuracy score  89.28571343421936 %\n"
          ],
          "name": "stdout"
        }
      ]
    },
    {
      "cell_type": "code",
      "metadata": {
        "id": "5IVhnBIaIGxP"
      },
      "source": [
        "pred_score = model.predict(testing_data)"
      ],
      "execution_count": 37,
      "outputs": []
    },
    {
      "cell_type": "code",
      "metadata": {
        "colab": {
          "base_uri": "https://localhost:8080/"
        },
        "id": "xYb26JVLIX_r",
        "outputId": "fdd0533a-d3ab-445c-c4d1-3768063e3452"
      },
      "source": [
        "pred_label = (pred_score > 0.5)\n",
        "tf.math.confusion_matrix(\n",
        "    testing_label, pred_label, num_classes=2, weights=None, dtype=tf.dtypes.int32,name=None)"
      ],
      "execution_count": 39,
      "outputs": [
        {
          "output_type": "execute_result",
          "data": {
            "text/plain": [
              "<tf.Tensor: shape=(2, 2), dtype=int32, numpy=\n",
              "array([[40, 15],\n",
              "       [ 0, 85]], dtype=int32)>"
            ]
          },
          "metadata": {
            "tags": []
          },
          "execution_count": 39
        }
      ]
    },
    {
      "cell_type": "code",
      "metadata": {
        "colab": {
          "base_uri": "https://localhost:8080/"
        },
        "id": "DA9fpGdVIvn_",
        "outputId": "73ee5b4a-88ba-4ef5-d21f-9a061427fa8c"
      },
      "source": [
        "np.count_nonzero(pred_label)"
      ],
      "execution_count": 40,
      "outputs": [
        {
          "output_type": "execute_result",
          "data": {
            "text/plain": [
              "100"
            ]
          },
          "metadata": {
            "tags": []
          },
          "execution_count": 40
        }
      ]
    }
  ]
}
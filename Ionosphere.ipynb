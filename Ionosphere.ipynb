{
  "nbformat": 4,
  "nbformat_minor": 0,
  "metadata": {
    "colab": {
      "name": "Ionosphere.ipynb",
      "provenance": [],
      "collapsed_sections": [],
      "toc_visible": true
    },
    "kernelspec": {
      "name": "python3",
      "display_name": "Python 3"
    },
    "language_info": {
      "name": "python"
    }
  },
  "cells": [
    {
      "cell_type": "markdown",
      "metadata": {
        "id": "3A6K4_pKiW7B"
      },
      "source": [
        "Ionosphere Data Problem"
      ]
    },
    {
      "cell_type": "markdown",
      "metadata": {
        "id": "vRalH7vRibXa"
      },
      "source": [
        "Import Libraries"
      ]
    },
    {
      "cell_type": "code",
      "metadata": {
        "colab": {
          "base_uri": "https://localhost:8080/"
        },
        "id": "f_DMnwLMiYCW",
        "outputId": "ed1bd3fc-e6e8-4c8b-ceae-31b5ff801e88"
      },
      "source": [
        "import numpy as np\n",
        "import pandas as pd\n",
        "import tensorflow as tp\n",
        "import matplotlib.pyplot as plt\n",
        "import tensorflow as tf\n",
        "from tensorflow.keras.models import Sequential \n",
        "from tensorflow.keras.layers import Dense\n",
        "from tensorflow.keras import optimizers\n",
        "from sklearn.model_selection import train_test_split\n",
        "print (tf.__version__)"
      ],
      "execution_count": null,
      "outputs": [
        {
          "output_type": "stream",
          "text": [
            "2.4.1\n"
          ],
          "name": "stdout"
        }
      ]
    },
    {
      "cell_type": "markdown",
      "metadata": {
        "id": "wx3X9-Qcisxq"
      },
      "source": [
        "# Load Data"
      ]
    },
    {
      "cell_type": "code",
      "metadata": {
        "id": "ED4Dwy5qiuQ8"
      },
      "source": [
        "data=pd.read_csv(\"/content/ionosphere_data.csv\")"
      ],
      "execution_count": null,
      "outputs": []
    },
    {
      "cell_type": "markdown",
      "metadata": {
        "id": "PUY8pZt6wz1r"
      },
      "source": [
        "# Data Analysis"
      ]
    },
    {
      "cell_type": "code",
      "metadata": {
        "colab": {
          "base_uri": "https://localhost:8080/",
          "height": 224
        },
        "id": "KmV5WI2TiyFG",
        "outputId": "bd23c2d9-ba32-4753-dcd8-e784a5abba6d"
      },
      "source": [
        "data.head()"
      ],
      "execution_count": null,
      "outputs": [
        {
          "output_type": "execute_result",
          "data": {
            "text/html": [
              "<div>\n",
              "<style scoped>\n",
              "    .dataframe tbody tr th:only-of-type {\n",
              "        vertical-align: middle;\n",
              "    }\n",
              "\n",
              "    .dataframe tbody tr th {\n",
              "        vertical-align: top;\n",
              "    }\n",
              "\n",
              "    .dataframe thead th {\n",
              "        text-align: right;\n",
              "    }\n",
              "</style>\n",
              "<table border=\"1\" class=\"dataframe\">\n",
              "  <thead>\n",
              "    <tr style=\"text-align: right;\">\n",
              "      <th></th>\n",
              "      <th>feature1</th>\n",
              "      <th>feature2</th>\n",
              "      <th>feature3</th>\n",
              "      <th>feature4</th>\n",
              "      <th>feature5</th>\n",
              "      <th>feature6</th>\n",
              "      <th>feature7</th>\n",
              "      <th>feature8</th>\n",
              "      <th>feature9</th>\n",
              "      <th>feature10</th>\n",
              "      <th>feature11</th>\n",
              "      <th>feature12</th>\n",
              "      <th>feature13</th>\n",
              "      <th>feature14</th>\n",
              "      <th>feature15</th>\n",
              "      <th>feature16</th>\n",
              "      <th>feature17</th>\n",
              "      <th>feature18</th>\n",
              "      <th>feature19</th>\n",
              "      <th>feature20</th>\n",
              "      <th>feature21</th>\n",
              "      <th>feature22</th>\n",
              "      <th>feature23</th>\n",
              "      <th>feature24</th>\n",
              "      <th>feature25</th>\n",
              "      <th>feature26</th>\n",
              "      <th>feature27</th>\n",
              "      <th>feature28</th>\n",
              "      <th>feature29</th>\n",
              "      <th>feature30</th>\n",
              "      <th>feature31</th>\n",
              "      <th>feature32</th>\n",
              "      <th>feature33</th>\n",
              "      <th>feature34</th>\n",
              "      <th>label</th>\n",
              "    </tr>\n",
              "  </thead>\n",
              "  <tbody>\n",
              "    <tr>\n",
              "      <th>0</th>\n",
              "      <td>1</td>\n",
              "      <td>0</td>\n",
              "      <td>0.99539</td>\n",
              "      <td>-0.05889</td>\n",
              "      <td>0.85243</td>\n",
              "      <td>0.02306</td>\n",
              "      <td>0.83398</td>\n",
              "      <td>-0.37708</td>\n",
              "      <td>1.00000</td>\n",
              "      <td>0.03760</td>\n",
              "      <td>0.85243</td>\n",
              "      <td>-0.17755</td>\n",
              "      <td>0.59755</td>\n",
              "      <td>-0.44945</td>\n",
              "      <td>0.60536</td>\n",
              "      <td>-0.38223</td>\n",
              "      <td>0.84356</td>\n",
              "      <td>-0.38542</td>\n",
              "      <td>0.58212</td>\n",
              "      <td>-0.32192</td>\n",
              "      <td>0.56971</td>\n",
              "      <td>-0.29674</td>\n",
              "      <td>0.36946</td>\n",
              "      <td>-0.47357</td>\n",
              "      <td>0.56811</td>\n",
              "      <td>-0.51171</td>\n",
              "      <td>0.41078</td>\n",
              "      <td>-0.46168</td>\n",
              "      <td>0.21266</td>\n",
              "      <td>-0.34090</td>\n",
              "      <td>0.42267</td>\n",
              "      <td>-0.54487</td>\n",
              "      <td>0.18641</td>\n",
              "      <td>-0.45300</td>\n",
              "      <td>g</td>\n",
              "    </tr>\n",
              "    <tr>\n",
              "      <th>1</th>\n",
              "      <td>1</td>\n",
              "      <td>0</td>\n",
              "      <td>1.00000</td>\n",
              "      <td>-0.18829</td>\n",
              "      <td>0.93035</td>\n",
              "      <td>-0.36156</td>\n",
              "      <td>-0.10868</td>\n",
              "      <td>-0.93597</td>\n",
              "      <td>1.00000</td>\n",
              "      <td>-0.04549</td>\n",
              "      <td>0.50874</td>\n",
              "      <td>-0.67743</td>\n",
              "      <td>0.34432</td>\n",
              "      <td>-0.69707</td>\n",
              "      <td>-0.51685</td>\n",
              "      <td>-0.97515</td>\n",
              "      <td>0.05499</td>\n",
              "      <td>-0.62237</td>\n",
              "      <td>0.33109</td>\n",
              "      <td>-1.00000</td>\n",
              "      <td>-0.13151</td>\n",
              "      <td>-0.45300</td>\n",
              "      <td>-0.18056</td>\n",
              "      <td>-0.35734</td>\n",
              "      <td>-0.20332</td>\n",
              "      <td>-0.26569</td>\n",
              "      <td>-0.20468</td>\n",
              "      <td>-0.18401</td>\n",
              "      <td>-0.19040</td>\n",
              "      <td>-0.11593</td>\n",
              "      <td>-0.16626</td>\n",
              "      <td>-0.06288</td>\n",
              "      <td>-0.13738</td>\n",
              "      <td>-0.02447</td>\n",
              "      <td>b</td>\n",
              "    </tr>\n",
              "    <tr>\n",
              "      <th>2</th>\n",
              "      <td>1</td>\n",
              "      <td>0</td>\n",
              "      <td>1.00000</td>\n",
              "      <td>-0.03365</td>\n",
              "      <td>1.00000</td>\n",
              "      <td>0.00485</td>\n",
              "      <td>1.00000</td>\n",
              "      <td>-0.12062</td>\n",
              "      <td>0.88965</td>\n",
              "      <td>0.01198</td>\n",
              "      <td>0.73082</td>\n",
              "      <td>0.05346</td>\n",
              "      <td>0.85443</td>\n",
              "      <td>0.00827</td>\n",
              "      <td>0.54591</td>\n",
              "      <td>0.00299</td>\n",
              "      <td>0.83775</td>\n",
              "      <td>-0.13644</td>\n",
              "      <td>0.75535</td>\n",
              "      <td>-0.08540</td>\n",
              "      <td>0.70887</td>\n",
              "      <td>-0.27502</td>\n",
              "      <td>0.43385</td>\n",
              "      <td>-0.12062</td>\n",
              "      <td>0.57528</td>\n",
              "      <td>-0.40220</td>\n",
              "      <td>0.58984</td>\n",
              "      <td>-0.22145</td>\n",
              "      <td>0.43100</td>\n",
              "      <td>-0.17365</td>\n",
              "      <td>0.60436</td>\n",
              "      <td>-0.24180</td>\n",
              "      <td>0.56045</td>\n",
              "      <td>-0.38238</td>\n",
              "      <td>g</td>\n",
              "    </tr>\n",
              "    <tr>\n",
              "      <th>3</th>\n",
              "      <td>1</td>\n",
              "      <td>0</td>\n",
              "      <td>1.00000</td>\n",
              "      <td>-0.45161</td>\n",
              "      <td>1.00000</td>\n",
              "      <td>1.00000</td>\n",
              "      <td>0.71216</td>\n",
              "      <td>-1.00000</td>\n",
              "      <td>0.00000</td>\n",
              "      <td>0.00000</td>\n",
              "      <td>0.00000</td>\n",
              "      <td>0.00000</td>\n",
              "      <td>0.00000</td>\n",
              "      <td>0.00000</td>\n",
              "      <td>-1.00000</td>\n",
              "      <td>0.14516</td>\n",
              "      <td>0.54094</td>\n",
              "      <td>-0.39330</td>\n",
              "      <td>-1.00000</td>\n",
              "      <td>-0.54467</td>\n",
              "      <td>-0.69975</td>\n",
              "      <td>1.00000</td>\n",
              "      <td>0.00000</td>\n",
              "      <td>0.00000</td>\n",
              "      <td>1.00000</td>\n",
              "      <td>0.90695</td>\n",
              "      <td>0.51613</td>\n",
              "      <td>1.00000</td>\n",
              "      <td>1.00000</td>\n",
              "      <td>-0.20099</td>\n",
              "      <td>0.25682</td>\n",
              "      <td>1.00000</td>\n",
              "      <td>-0.32382</td>\n",
              "      <td>1.00000</td>\n",
              "      <td>b</td>\n",
              "    </tr>\n",
              "    <tr>\n",
              "      <th>4</th>\n",
              "      <td>1</td>\n",
              "      <td>0</td>\n",
              "      <td>1.00000</td>\n",
              "      <td>-0.02401</td>\n",
              "      <td>0.94140</td>\n",
              "      <td>0.06531</td>\n",
              "      <td>0.92106</td>\n",
              "      <td>-0.23255</td>\n",
              "      <td>0.77152</td>\n",
              "      <td>-0.16399</td>\n",
              "      <td>0.52798</td>\n",
              "      <td>-0.20275</td>\n",
              "      <td>0.56409</td>\n",
              "      <td>-0.00712</td>\n",
              "      <td>0.34395</td>\n",
              "      <td>-0.27457</td>\n",
              "      <td>0.52940</td>\n",
              "      <td>-0.21780</td>\n",
              "      <td>0.45107</td>\n",
              "      <td>-0.17813</td>\n",
              "      <td>0.05982</td>\n",
              "      <td>-0.35575</td>\n",
              "      <td>0.02309</td>\n",
              "      <td>-0.52879</td>\n",
              "      <td>0.03286</td>\n",
              "      <td>-0.65158</td>\n",
              "      <td>0.13290</td>\n",
              "      <td>-0.53206</td>\n",
              "      <td>0.02431</td>\n",
              "      <td>-0.62197</td>\n",
              "      <td>-0.05707</td>\n",
              "      <td>-0.59573</td>\n",
              "      <td>-0.04608</td>\n",
              "      <td>-0.65697</td>\n",
              "      <td>g</td>\n",
              "    </tr>\n",
              "  </tbody>\n",
              "</table>\n",
              "</div>"
            ],
            "text/plain": [
              "   feature1  feature2  feature3  ...  feature33  feature34  label\n",
              "0         1         0   0.99539  ...    0.18641   -0.45300      g\n",
              "1         1         0   1.00000  ...   -0.13738   -0.02447      b\n",
              "2         1         0   1.00000  ...    0.56045   -0.38238      g\n",
              "3         1         0   1.00000  ...   -0.32382    1.00000      b\n",
              "4         1         0   1.00000  ...   -0.04608   -0.65697      g\n",
              "\n",
              "[5 rows x 35 columns]"
            ]
          },
          "metadata": {
            "tags": []
          },
          "execution_count": 173
        }
      ]
    },
    {
      "cell_type": "code",
      "metadata": {
        "colab": {
          "base_uri": "https://localhost:8080/"
        },
        "id": "Df3J85xXyz-Y",
        "outputId": "9443d144-317a-4f95-bd5a-0ceacbeaa581"
      },
      "source": [
        "data.shape"
      ],
      "execution_count": null,
      "outputs": [
        {
          "output_type": "execute_result",
          "data": {
            "text/plain": [
              "(351, 35)"
            ]
          },
          "metadata": {
            "tags": []
          },
          "execution_count": 174
        }
      ]
    },
    {
      "cell_type": "markdown",
      "metadata": {
        "id": "GGcatYGT9Rav"
      },
      "source": [
        "There are 35 Columns. 34 Columns have features and Last Column is the Label with (g = good and b = bad). 351 Rows of data."
      ]
    },
    {
      "cell_type": "code",
      "metadata": {
        "colab": {
          "base_uri": "https://localhost:8080/"
        },
        "id": "llYmupq8jDhS",
        "outputId": "aba4ec9b-433b-45e9-febd-0ccd765c0bcd"
      },
      "source": [
        "data.info()"
      ],
      "execution_count": null,
      "outputs": [
        {
          "output_type": "stream",
          "text": [
            "<class 'pandas.core.frame.DataFrame'>\n",
            "RangeIndex: 351 entries, 0 to 350\n",
            "Data columns (total 35 columns):\n",
            " #   Column     Non-Null Count  Dtype  \n",
            "---  ------     --------------  -----  \n",
            " 0   feature1   351 non-null    int64  \n",
            " 1   feature2   351 non-null    int64  \n",
            " 2   feature3   351 non-null    float64\n",
            " 3   feature4   351 non-null    float64\n",
            " 4   feature5   351 non-null    float64\n",
            " 5   feature6   351 non-null    float64\n",
            " 6   feature7   351 non-null    float64\n",
            " 7   feature8   351 non-null    float64\n",
            " 8   feature9   351 non-null    float64\n",
            " 9   feature10  351 non-null    float64\n",
            " 10  feature11  351 non-null    float64\n",
            " 11  feature12  351 non-null    float64\n",
            " 12  feature13  351 non-null    float64\n",
            " 13  feature14  351 non-null    float64\n",
            " 14  feature15  351 non-null    float64\n",
            " 15  feature16  351 non-null    float64\n",
            " 16  feature17  351 non-null    float64\n",
            " 17  feature18  351 non-null    float64\n",
            " 18  feature19  351 non-null    float64\n",
            " 19  feature20  351 non-null    float64\n",
            " 20  feature21  351 non-null    float64\n",
            " 21  feature22  351 non-null    float64\n",
            " 22  feature23  351 non-null    float64\n",
            " 23  feature24  351 non-null    float64\n",
            " 24  feature25  351 non-null    float64\n",
            " 25  feature26  351 non-null    float64\n",
            " 26  feature27  351 non-null    float64\n",
            " 27  feature28  351 non-null    float64\n",
            " 28  feature29  351 non-null    float64\n",
            " 29  feature30  351 non-null    float64\n",
            " 30  feature31  351 non-null    float64\n",
            " 31  feature32  351 non-null    float64\n",
            " 32  feature33  351 non-null    float64\n",
            " 33  feature34  351 non-null    float64\n",
            " 34  label      351 non-null    object \n",
            "dtypes: float64(32), int64(2), object(1)\n",
            "memory usage: 96.1+ KB\n"
          ],
          "name": "stdout"
        }
      ]
    },
    {
      "cell_type": "markdown",
      "metadata": {
        "id": "6wybFcmor7i4"
      },
      "source": [
        "All feature column data is in numbers hence no need to vectorize the data. "
      ]
    },
    {
      "cell_type": "markdown",
      "metadata": {
        "id": "16V5KsVSx4oj"
      },
      "source": [
        "# Data Cleaning"
      ]
    },
    {
      "cell_type": "code",
      "metadata": {
        "colab": {
          "base_uri": "https://localhost:8080/",
          "height": 317
        },
        "id": "Jf6rESoHx9xV",
        "outputId": "f4a1a886-4cd7-4cf2-8b4d-cd57644cc68e"
      },
      "source": [
        "data.describe()"
      ],
      "execution_count": null,
      "outputs": [
        {
          "output_type": "execute_result",
          "data": {
            "text/html": [
              "<div>\n",
              "<style scoped>\n",
              "    .dataframe tbody tr th:only-of-type {\n",
              "        vertical-align: middle;\n",
              "    }\n",
              "\n",
              "    .dataframe tbody tr th {\n",
              "        vertical-align: top;\n",
              "    }\n",
              "\n",
              "    .dataframe thead th {\n",
              "        text-align: right;\n",
              "    }\n",
              "</style>\n",
              "<table border=\"1\" class=\"dataframe\">\n",
              "  <thead>\n",
              "    <tr style=\"text-align: right;\">\n",
              "      <th></th>\n",
              "      <th>feature1</th>\n",
              "      <th>feature2</th>\n",
              "      <th>feature3</th>\n",
              "      <th>feature4</th>\n",
              "      <th>feature5</th>\n",
              "      <th>feature6</th>\n",
              "      <th>feature7</th>\n",
              "      <th>feature8</th>\n",
              "      <th>feature9</th>\n",
              "      <th>feature10</th>\n",
              "      <th>feature11</th>\n",
              "      <th>feature12</th>\n",
              "      <th>feature13</th>\n",
              "      <th>feature14</th>\n",
              "      <th>feature15</th>\n",
              "      <th>feature16</th>\n",
              "      <th>feature17</th>\n",
              "      <th>feature18</th>\n",
              "      <th>feature19</th>\n",
              "      <th>feature20</th>\n",
              "      <th>feature21</th>\n",
              "      <th>feature22</th>\n",
              "      <th>feature23</th>\n",
              "      <th>feature24</th>\n",
              "      <th>feature25</th>\n",
              "      <th>feature26</th>\n",
              "      <th>feature27</th>\n",
              "      <th>feature28</th>\n",
              "      <th>feature29</th>\n",
              "      <th>feature30</th>\n",
              "      <th>feature31</th>\n",
              "      <th>feature32</th>\n",
              "      <th>feature33</th>\n",
              "      <th>feature34</th>\n",
              "    </tr>\n",
              "  </thead>\n",
              "  <tbody>\n",
              "    <tr>\n",
              "      <th>count</th>\n",
              "      <td>351.000000</td>\n",
              "      <td>351.0</td>\n",
              "      <td>351.000000</td>\n",
              "      <td>351.000000</td>\n",
              "      <td>351.000000</td>\n",
              "      <td>351.000000</td>\n",
              "      <td>351.000000</td>\n",
              "      <td>351.000000</td>\n",
              "      <td>351.000000</td>\n",
              "      <td>351.000000</td>\n",
              "      <td>351.000000</td>\n",
              "      <td>351.000000</td>\n",
              "      <td>351.000000</td>\n",
              "      <td>351.000000</td>\n",
              "      <td>351.000000</td>\n",
              "      <td>351.000000</td>\n",
              "      <td>351.000000</td>\n",
              "      <td>351.000000</td>\n",
              "      <td>351.000000</td>\n",
              "      <td>351.000000</td>\n",
              "      <td>351.000000</td>\n",
              "      <td>351.000000</td>\n",
              "      <td>351.000000</td>\n",
              "      <td>351.000000</td>\n",
              "      <td>351.000000</td>\n",
              "      <td>351.000000</td>\n",
              "      <td>351.000000</td>\n",
              "      <td>351.000000</td>\n",
              "      <td>351.000000</td>\n",
              "      <td>351.000000</td>\n",
              "      <td>351.000000</td>\n",
              "      <td>351.000000</td>\n",
              "      <td>351.000000</td>\n",
              "      <td>351.000000</td>\n",
              "    </tr>\n",
              "    <tr>\n",
              "      <th>mean</th>\n",
              "      <td>0.891738</td>\n",
              "      <td>0.0</td>\n",
              "      <td>0.641342</td>\n",
              "      <td>0.044372</td>\n",
              "      <td>0.601068</td>\n",
              "      <td>0.115889</td>\n",
              "      <td>0.550095</td>\n",
              "      <td>0.119360</td>\n",
              "      <td>0.511848</td>\n",
              "      <td>0.181345</td>\n",
              "      <td>0.476183</td>\n",
              "      <td>0.155040</td>\n",
              "      <td>0.400801</td>\n",
              "      <td>0.093414</td>\n",
              "      <td>0.344159</td>\n",
              "      <td>0.071132</td>\n",
              "      <td>0.381949</td>\n",
              "      <td>-0.003617</td>\n",
              "      <td>0.359390</td>\n",
              "      <td>-0.024025</td>\n",
              "      <td>0.336695</td>\n",
              "      <td>0.008296</td>\n",
              "      <td>0.362475</td>\n",
              "      <td>-0.057406</td>\n",
              "      <td>0.396135</td>\n",
              "      <td>-0.071187</td>\n",
              "      <td>0.541641</td>\n",
              "      <td>-0.069538</td>\n",
              "      <td>0.378445</td>\n",
              "      <td>-0.027907</td>\n",
              "      <td>0.352514</td>\n",
              "      <td>-0.003794</td>\n",
              "      <td>0.349364</td>\n",
              "      <td>0.014480</td>\n",
              "    </tr>\n",
              "    <tr>\n",
              "      <th>std</th>\n",
              "      <td>0.311155</td>\n",
              "      <td>0.0</td>\n",
              "      <td>0.497708</td>\n",
              "      <td>0.441435</td>\n",
              "      <td>0.519862</td>\n",
              "      <td>0.460810</td>\n",
              "      <td>0.492654</td>\n",
              "      <td>0.520750</td>\n",
              "      <td>0.507066</td>\n",
              "      <td>0.483851</td>\n",
              "      <td>0.563496</td>\n",
              "      <td>0.494817</td>\n",
              "      <td>0.622186</td>\n",
              "      <td>0.494873</td>\n",
              "      <td>0.652828</td>\n",
              "      <td>0.458371</td>\n",
              "      <td>0.618020</td>\n",
              "      <td>0.496762</td>\n",
              "      <td>0.626267</td>\n",
              "      <td>0.519076</td>\n",
              "      <td>0.609828</td>\n",
              "      <td>0.518166</td>\n",
              "      <td>0.603767</td>\n",
              "      <td>0.527456</td>\n",
              "      <td>0.578451</td>\n",
              "      <td>0.508495</td>\n",
              "      <td>0.516205</td>\n",
              "      <td>0.550025</td>\n",
              "      <td>0.575886</td>\n",
              "      <td>0.507974</td>\n",
              "      <td>0.571483</td>\n",
              "      <td>0.513574</td>\n",
              "      <td>0.522663</td>\n",
              "      <td>0.468337</td>\n",
              "    </tr>\n",
              "    <tr>\n",
              "      <th>min</th>\n",
              "      <td>0.000000</td>\n",
              "      <td>0.0</td>\n",
              "      <td>-1.000000</td>\n",
              "      <td>-1.000000</td>\n",
              "      <td>-1.000000</td>\n",
              "      <td>-1.000000</td>\n",
              "      <td>-1.000000</td>\n",
              "      <td>-1.000000</td>\n",
              "      <td>-1.000000</td>\n",
              "      <td>-1.000000</td>\n",
              "      <td>-1.000000</td>\n",
              "      <td>-1.000000</td>\n",
              "      <td>-1.000000</td>\n",
              "      <td>-1.000000</td>\n",
              "      <td>-1.000000</td>\n",
              "      <td>-1.000000</td>\n",
              "      <td>-1.000000</td>\n",
              "      <td>-1.000000</td>\n",
              "      <td>-1.000000</td>\n",
              "      <td>-1.000000</td>\n",
              "      <td>-1.000000</td>\n",
              "      <td>-1.000000</td>\n",
              "      <td>-1.000000</td>\n",
              "      <td>-1.000000</td>\n",
              "      <td>-1.000000</td>\n",
              "      <td>-1.000000</td>\n",
              "      <td>-1.000000</td>\n",
              "      <td>-1.000000</td>\n",
              "      <td>-1.000000</td>\n",
              "      <td>-1.000000</td>\n",
              "      <td>-1.000000</td>\n",
              "      <td>-1.000000</td>\n",
              "      <td>-1.000000</td>\n",
              "      <td>-1.000000</td>\n",
              "    </tr>\n",
              "    <tr>\n",
              "      <th>25%</th>\n",
              "      <td>1.000000</td>\n",
              "      <td>0.0</td>\n",
              "      <td>0.472135</td>\n",
              "      <td>-0.064735</td>\n",
              "      <td>0.412660</td>\n",
              "      <td>-0.024795</td>\n",
              "      <td>0.211310</td>\n",
              "      <td>-0.054840</td>\n",
              "      <td>0.087110</td>\n",
              "      <td>-0.048075</td>\n",
              "      <td>0.021120</td>\n",
              "      <td>-0.065265</td>\n",
              "      <td>0.000000</td>\n",
              "      <td>-0.073725</td>\n",
              "      <td>0.000000</td>\n",
              "      <td>-0.081705</td>\n",
              "      <td>0.000000</td>\n",
              "      <td>-0.225690</td>\n",
              "      <td>0.000000</td>\n",
              "      <td>-0.234670</td>\n",
              "      <td>0.000000</td>\n",
              "      <td>-0.243870</td>\n",
              "      <td>0.000000</td>\n",
              "      <td>-0.366885</td>\n",
              "      <td>0.000000</td>\n",
              "      <td>-0.332390</td>\n",
              "      <td>0.286435</td>\n",
              "      <td>-0.443165</td>\n",
              "      <td>0.000000</td>\n",
              "      <td>-0.236885</td>\n",
              "      <td>0.000000</td>\n",
              "      <td>-0.242595</td>\n",
              "      <td>0.000000</td>\n",
              "      <td>-0.165350</td>\n",
              "    </tr>\n",
              "    <tr>\n",
              "      <th>50%</th>\n",
              "      <td>1.000000</td>\n",
              "      <td>0.0</td>\n",
              "      <td>0.871110</td>\n",
              "      <td>0.016310</td>\n",
              "      <td>0.809200</td>\n",
              "      <td>0.022800</td>\n",
              "      <td>0.728730</td>\n",
              "      <td>0.014710</td>\n",
              "      <td>0.684210</td>\n",
              "      <td>0.018290</td>\n",
              "      <td>0.667980</td>\n",
              "      <td>0.028250</td>\n",
              "      <td>0.644070</td>\n",
              "      <td>0.030270</td>\n",
              "      <td>0.601940</td>\n",
              "      <td>0.000000</td>\n",
              "      <td>0.590910</td>\n",
              "      <td>0.000000</td>\n",
              "      <td>0.576190</td>\n",
              "      <td>0.000000</td>\n",
              "      <td>0.499090</td>\n",
              "      <td>0.000000</td>\n",
              "      <td>0.531760</td>\n",
              "      <td>0.000000</td>\n",
              "      <td>0.553890</td>\n",
              "      <td>-0.015050</td>\n",
              "      <td>0.708240</td>\n",
              "      <td>-0.017690</td>\n",
              "      <td>0.496640</td>\n",
              "      <td>0.000000</td>\n",
              "      <td>0.442770</td>\n",
              "      <td>0.000000</td>\n",
              "      <td>0.409560</td>\n",
              "      <td>0.000000</td>\n",
              "    </tr>\n",
              "    <tr>\n",
              "      <th>75%</th>\n",
              "      <td>1.000000</td>\n",
              "      <td>0.0</td>\n",
              "      <td>1.000000</td>\n",
              "      <td>0.194185</td>\n",
              "      <td>1.000000</td>\n",
              "      <td>0.334655</td>\n",
              "      <td>0.969240</td>\n",
              "      <td>0.445675</td>\n",
              "      <td>0.953240</td>\n",
              "      <td>0.534195</td>\n",
              "      <td>0.957895</td>\n",
              "      <td>0.482375</td>\n",
              "      <td>0.955505</td>\n",
              "      <td>0.374860</td>\n",
              "      <td>0.919330</td>\n",
              "      <td>0.308975</td>\n",
              "      <td>0.935705</td>\n",
              "      <td>0.195285</td>\n",
              "      <td>0.899265</td>\n",
              "      <td>0.134370</td>\n",
              "      <td>0.894865</td>\n",
              "      <td>0.188760</td>\n",
              "      <td>0.911235</td>\n",
              "      <td>0.164630</td>\n",
              "      <td>0.905240</td>\n",
              "      <td>0.156765</td>\n",
              "      <td>0.999945</td>\n",
              "      <td>0.153535</td>\n",
              "      <td>0.883465</td>\n",
              "      <td>0.154075</td>\n",
              "      <td>0.857620</td>\n",
              "      <td>0.200120</td>\n",
              "      <td>0.813765</td>\n",
              "      <td>0.171660</td>\n",
              "    </tr>\n",
              "    <tr>\n",
              "      <th>max</th>\n",
              "      <td>1.000000</td>\n",
              "      <td>0.0</td>\n",
              "      <td>1.000000</td>\n",
              "      <td>1.000000</td>\n",
              "      <td>1.000000</td>\n",
              "      <td>1.000000</td>\n",
              "      <td>1.000000</td>\n",
              "      <td>1.000000</td>\n",
              "      <td>1.000000</td>\n",
              "      <td>1.000000</td>\n",
              "      <td>1.000000</td>\n",
              "      <td>1.000000</td>\n",
              "      <td>1.000000</td>\n",
              "      <td>1.000000</td>\n",
              "      <td>1.000000</td>\n",
              "      <td>1.000000</td>\n",
              "      <td>1.000000</td>\n",
              "      <td>1.000000</td>\n",
              "      <td>1.000000</td>\n",
              "      <td>1.000000</td>\n",
              "      <td>1.000000</td>\n",
              "      <td>1.000000</td>\n",
              "      <td>1.000000</td>\n",
              "      <td>1.000000</td>\n",
              "      <td>1.000000</td>\n",
              "      <td>1.000000</td>\n",
              "      <td>1.000000</td>\n",
              "      <td>1.000000</td>\n",
              "      <td>1.000000</td>\n",
              "      <td>1.000000</td>\n",
              "      <td>1.000000</td>\n",
              "      <td>1.000000</td>\n",
              "      <td>1.000000</td>\n",
              "      <td>1.000000</td>\n",
              "    </tr>\n",
              "  </tbody>\n",
              "</table>\n",
              "</div>"
            ],
            "text/plain": [
              "         feature1  feature2    feature3  ...   feature32   feature33   feature34\n",
              "count  351.000000     351.0  351.000000  ...  351.000000  351.000000  351.000000\n",
              "mean     0.891738       0.0    0.641342  ...   -0.003794    0.349364    0.014480\n",
              "std      0.311155       0.0    0.497708  ...    0.513574    0.522663    0.468337\n",
              "min      0.000000       0.0   -1.000000  ...   -1.000000   -1.000000   -1.000000\n",
              "25%      1.000000       0.0    0.472135  ...   -0.242595    0.000000   -0.165350\n",
              "50%      1.000000       0.0    0.871110  ...    0.000000    0.409560    0.000000\n",
              "75%      1.000000       0.0    1.000000  ...    0.200120    0.813765    0.171660\n",
              "max      1.000000       0.0    1.000000  ...    1.000000    1.000000    1.000000\n",
              "\n",
              "[8 rows x 34 columns]"
            ]
          },
          "metadata": {
            "tags": []
          },
          "execution_count": 176
        }
      ]
    },
    {
      "cell_type": "markdown",
      "metadata": {
        "id": "VG0abZQmsGjg"
      },
      "source": [
        "Unique Features"
      ]
    },
    {
      "cell_type": "code",
      "metadata": {
        "colab": {
          "base_uri": "https://localhost:8080/"
        },
        "id": "YLXwIjY2bY3Q",
        "outputId": "62a45890-54ee-47cf-8212-c956c63df2a4"
      },
      "source": [
        "for features in data:\n",
        "    print(features)\n",
        "    print(len(data[features].unique()))"
      ],
      "execution_count": null,
      "outputs": [
        {
          "output_type": "stream",
          "text": [
            "feature1\n",
            "2\n",
            "feature2\n",
            "1\n",
            "feature3\n",
            "219\n",
            "feature4\n",
            "269\n",
            "feature5\n",
            "204\n",
            "feature6\n",
            "259\n",
            "feature7\n",
            "231\n",
            "feature8\n",
            "260\n",
            "feature9\n",
            "244\n",
            "feature10\n",
            "267\n",
            "feature11\n",
            "246\n",
            "feature12\n",
            "269\n",
            "feature13\n",
            "238\n",
            "feature14\n",
            "266\n",
            "feature15\n",
            "234\n",
            "feature16\n",
            "270\n",
            "feature17\n",
            "254\n",
            "feature18\n",
            "280\n",
            "feature19\n",
            "254\n",
            "feature20\n",
            "266\n",
            "feature21\n",
            "248\n",
            "feature22\n",
            "265\n",
            "feature23\n",
            "248\n",
            "feature24\n",
            "264\n",
            "feature25\n",
            "256\n",
            "feature26\n",
            "273\n",
            "feature27\n",
            "256\n",
            "feature28\n",
            "281\n",
            "feature29\n",
            "244\n",
            "feature30\n",
            "266\n",
            "feature31\n",
            "243\n",
            "feature32\n",
            "263\n",
            "feature33\n",
            "245\n",
            "feature34\n",
            "263\n",
            "label\n",
            "2\n"
          ],
          "name": "stdout"
        }
      ]
    },
    {
      "cell_type": "markdown",
      "metadata": {
        "id": "1clSdk6_9m_u"
      },
      "source": [
        "Feature 2 has 0 value Hence it needs to be dropped. "
      ]
    },
    {
      "cell_type": "code",
      "metadata": {
        "id": "Bt5D6fu4sRZD"
      },
      "source": [
        "data.drop(data.columns[1], inplace=True, axis=1)"
      ],
      "execution_count": null,
      "outputs": []
    },
    {
      "cell_type": "code",
      "metadata": {
        "colab": {
          "base_uri": "https://localhost:8080/"
        },
        "id": "S0qo4rCb_vr8",
        "outputId": "5d990a71-05c1-4122-ba05-f4a55f31c92f"
      },
      "source": [
        "data.shape"
      ],
      "execution_count": null,
      "outputs": [
        {
          "output_type": "execute_result",
          "data": {
            "text/plain": [
              "(351, 34)"
            ]
          },
          "metadata": {
            "tags": []
          },
          "execution_count": 179
        }
      ]
    },
    {
      "cell_type": "markdown",
      "metadata": {
        "id": "Ec6CHFHo-QM4"
      },
      "source": [
        "Check Missing Values (If Any)"
      ]
    },
    {
      "cell_type": "code",
      "metadata": {
        "colab": {
          "base_uri": "https://localhost:8080/"
        },
        "id": "rvRGuvyN-S2B",
        "outputId": "f6511421-5559-4b01-c5da-c0129196ce93"
      },
      "source": [
        "data.isnull().sum()"
      ],
      "execution_count": null,
      "outputs": [
        {
          "output_type": "execute_result",
          "data": {
            "text/plain": [
              "feature1     0\n",
              "feature3     0\n",
              "feature4     0\n",
              "feature5     0\n",
              "feature6     0\n",
              "feature7     0\n",
              "feature8     0\n",
              "feature9     0\n",
              "feature10    0\n",
              "feature11    0\n",
              "feature12    0\n",
              "feature13    0\n",
              "feature14    0\n",
              "feature15    0\n",
              "feature16    0\n",
              "feature17    0\n",
              "feature18    0\n",
              "feature19    0\n",
              "feature20    0\n",
              "feature21    0\n",
              "feature22    0\n",
              "feature23    0\n",
              "feature24    0\n",
              "feature25    0\n",
              "feature26    0\n",
              "feature27    0\n",
              "feature28    0\n",
              "feature29    0\n",
              "feature30    0\n",
              "feature31    0\n",
              "feature32    0\n",
              "feature33    0\n",
              "feature34    0\n",
              "label        0\n",
              "dtype: int64"
            ]
          },
          "metadata": {
            "tags": []
          },
          "execution_count": 180
        }
      ]
    },
    {
      "cell_type": "markdown",
      "metadata": {
        "id": "DGHm6E-5-YI0"
      },
      "source": [
        "No Missing Values in Dataset\n",
        "\n",
        "Change Labels (Good / Bad to 1 / 0) via One Hot Encode"
      ]
    },
    {
      "cell_type": "code",
      "metadata": {
        "colab": {
          "base_uri": "https://localhost:8080/"
        },
        "id": "9qv5aBGv-iqD",
        "outputId": "45fbd2a3-ebd1-4df8-dc31-be4ce3cf59ba"
      },
      "source": [
        "data['label'].value_counts()"
      ],
      "execution_count": null,
      "outputs": [
        {
          "output_type": "execute_result",
          "data": {
            "text/plain": [
              "g    225\n",
              "b    126\n",
              "Name: label, dtype: int64"
            ]
          },
          "metadata": {
            "tags": []
          },
          "execution_count": 181
        }
      ]
    },
    {
      "cell_type": "code",
      "metadata": {
        "id": "gof99FBL-pCv"
      },
      "source": [
        "data['label'] = data['label'].apply(lambda x: 1 if x == 'g' else 0)"
      ],
      "execution_count": null,
      "outputs": []
    },
    {
      "cell_type": "markdown",
      "metadata": {
        "id": "xQ3ka5_QAfTd"
      },
      "source": [
        "Normalize the data"
      ]
    },
    {
      "cell_type": "code",
      "metadata": {
        "colab": {
          "base_uri": "https://localhost:8080/",
          "height": 224
        },
        "id": "NkjxV8c42v1F",
        "outputId": "82e1ec45-0e69-44a9-8520-1a550a35429b"
      },
      "source": [
        "mean = data.iloc[:,:-1].mean(axis=0) # taking the mean of \n",
        "data.iloc[:,:-1] -= mean\n",
        "std = data.iloc[:,:-1].std(axis=0)\n",
        "data.iloc[:,:-1] /= std\n",
        "\n",
        "data.head()"
      ],
      "execution_count": null,
      "outputs": [
        {
          "output_type": "execute_result",
          "data": {
            "text/html": [
              "<div>\n",
              "<style scoped>\n",
              "    .dataframe tbody tr th:only-of-type {\n",
              "        vertical-align: middle;\n",
              "    }\n",
              "\n",
              "    .dataframe tbody tr th {\n",
              "        vertical-align: top;\n",
              "    }\n",
              "\n",
              "    .dataframe thead th {\n",
              "        text-align: right;\n",
              "    }\n",
              "</style>\n",
              "<table border=\"1\" class=\"dataframe\">\n",
              "  <thead>\n",
              "    <tr style=\"text-align: right;\">\n",
              "      <th></th>\n",
              "      <th>feature1</th>\n",
              "      <th>feature3</th>\n",
              "      <th>feature4</th>\n",
              "      <th>feature5</th>\n",
              "      <th>feature6</th>\n",
              "      <th>feature7</th>\n",
              "      <th>feature8</th>\n",
              "      <th>feature9</th>\n",
              "      <th>feature10</th>\n",
              "      <th>feature11</th>\n",
              "      <th>feature12</th>\n",
              "      <th>feature13</th>\n",
              "      <th>feature14</th>\n",
              "      <th>feature15</th>\n",
              "      <th>feature16</th>\n",
              "      <th>feature17</th>\n",
              "      <th>feature18</th>\n",
              "      <th>feature19</th>\n",
              "      <th>feature20</th>\n",
              "      <th>feature21</th>\n",
              "      <th>feature22</th>\n",
              "      <th>feature23</th>\n",
              "      <th>feature24</th>\n",
              "      <th>feature25</th>\n",
              "      <th>feature26</th>\n",
              "      <th>feature27</th>\n",
              "      <th>feature28</th>\n",
              "      <th>feature29</th>\n",
              "      <th>feature30</th>\n",
              "      <th>feature31</th>\n",
              "      <th>feature32</th>\n",
              "      <th>feature33</th>\n",
              "      <th>feature34</th>\n",
              "      <th>label</th>\n",
              "    </tr>\n",
              "  </thead>\n",
              "  <tbody>\n",
              "    <tr>\n",
              "      <th>0</th>\n",
              "      <td>0.347937</td>\n",
              "      <td>0.711357</td>\n",
              "      <td>-0.233923</td>\n",
              "      <td>0.483517</td>\n",
              "      <td>-0.201447</td>\n",
              "      <td>0.576236</td>\n",
              "      <td>-0.953318</td>\n",
              "      <td>0.962700</td>\n",
              "      <td>-0.297086</td>\n",
              "      <td>0.667701</td>\n",
              "      <td>-0.672148</td>\n",
              "      <td>0.316222</td>\n",
              "      <td>-1.096977</td>\n",
              "      <td>0.400107</td>\n",
              "      <td>-0.989074</td>\n",
              "      <td>0.746919</td>\n",
              "      <td>-0.768584</td>\n",
              "      <td>0.355648</td>\n",
              "      <td>-0.573895</td>\n",
              "      <td>0.382099</td>\n",
              "      <td>-0.588684</td>\n",
              "      <td>0.011568</td>\n",
              "      <td>-0.789002</td>\n",
              "      <td>0.297303</td>\n",
              "      <td>-0.866328</td>\n",
              "      <td>-0.253506</td>\n",
              "      <td>-0.712953</td>\n",
              "      <td>-0.287879</td>\n",
              "      <td>-0.616159</td>\n",
              "      <td>0.122762</td>\n",
              "      <td>-1.053550</td>\n",
              "      <td>-0.311776</td>\n",
              "      <td>-0.998170</td>\n",
              "      <td>1</td>\n",
              "    </tr>\n",
              "    <tr>\n",
              "      <th>1</th>\n",
              "      <td>0.347937</td>\n",
              "      <td>0.720619</td>\n",
              "      <td>-0.527058</td>\n",
              "      <td>0.633404</td>\n",
              "      <td>-1.036108</td>\n",
              "      <td>-1.337197</td>\n",
              "      <td>-2.026559</td>\n",
              "      <td>0.962700</td>\n",
              "      <td>-0.468813</td>\n",
              "      <td>0.057777</td>\n",
              "      <td>-1.682379</td>\n",
              "      <td>-0.090779</td>\n",
              "      <td>-1.597348</td>\n",
              "      <td>-1.318892</td>\n",
              "      <td>-2.282612</td>\n",
              "      <td>-0.529042</td>\n",
              "      <td>-1.245573</td>\n",
              "      <td>-0.045188</td>\n",
              "      <td>-1.880216</td>\n",
              "      <td>-0.767766</td>\n",
              "      <td>-0.890248</td>\n",
              "      <td>-0.899412</td>\n",
              "      <td>-0.568643</td>\n",
              "      <td>-1.036310</td>\n",
              "      <td>-0.382508</td>\n",
              "      <td>-1.445785</td>\n",
              "      <td>-0.208122</td>\n",
              "      <td>-0.987775</td>\n",
              "      <td>-0.173282</td>\n",
              "      <td>-0.907767</td>\n",
              "      <td>-0.115049</td>\n",
              "      <td>-0.931276</td>\n",
              "      <td>-0.083167</td>\n",
              "      <td>0</td>\n",
              "    </tr>\n",
              "    <tr>\n",
              "      <th>2</th>\n",
              "      <td>0.347937</td>\n",
              "      <td>0.720619</td>\n",
              "      <td>-0.176746</td>\n",
              "      <td>0.767382</td>\n",
              "      <td>-0.240965</td>\n",
              "      <td>0.913227</td>\n",
              "      <td>-0.460836</td>\n",
              "      <td>0.745075</td>\n",
              "      <td>-0.350036</td>\n",
              "      <td>0.451888</td>\n",
              "      <td>-0.205289</td>\n",
              "      <td>0.729089</td>\n",
              "      <td>-0.172052</td>\n",
              "      <td>0.309041</td>\n",
              "      <td>-0.148662</td>\n",
              "      <td>0.737518</td>\n",
              "      <td>-0.267378</td>\n",
              "      <td>0.632255</td>\n",
              "      <td>-0.118240</td>\n",
              "      <td>0.610294</td>\n",
              "      <td>-0.546767</td>\n",
              "      <td>0.118215</td>\n",
              "      <td>-0.119847</td>\n",
              "      <td>0.309698</td>\n",
              "      <td>-0.650967</td>\n",
              "      <td>0.093372</td>\n",
              "      <td>-0.276192</td>\n",
              "      <td>0.091259</td>\n",
              "      <td>-0.286910</td>\n",
              "      <td>0.440689</td>\n",
              "      <td>-0.463431</td>\n",
              "      <td>0.403867</td>\n",
              "      <td>-0.847381</td>\n",
              "      <td>1</td>\n",
              "    </tr>\n",
              "    <tr>\n",
              "      <th>3</th>\n",
              "      <td>0.347937</td>\n",
              "      <td>0.720619</td>\n",
              "      <td>-1.123568</td>\n",
              "      <td>0.767382</td>\n",
              "      <td>1.918601</td>\n",
              "      <td>0.328963</td>\n",
              "      <td>-2.149516</td>\n",
              "      <td>-1.009432</td>\n",
              "      <td>-0.374796</td>\n",
              "      <td>-0.845050</td>\n",
              "      <td>-0.313329</td>\n",
              "      <td>-0.644182</td>\n",
              "      <td>-0.188763</td>\n",
              "      <td>-2.058980</td>\n",
              "      <td>0.161502</td>\n",
              "      <td>0.257259</td>\n",
              "      <td>-0.784446</td>\n",
              "      <td>-2.170624</td>\n",
              "      <td>-1.003023</td>\n",
              "      <td>-1.699569</td>\n",
              "      <td>1.913874</td>\n",
              "      <td>-0.600356</td>\n",
              "      <td>0.108835</td>\n",
              "      <td>1.043935</td>\n",
              "      <td>1.923594</td>\n",
              "      <td>-0.049420</td>\n",
              "      <td>1.944525</td>\n",
              "      <td>1.079303</td>\n",
              "      <td>-0.340732</td>\n",
              "      <td>-0.167448</td>\n",
              "      <td>1.954525</td>\n",
              "      <td>-1.287987</td>\n",
              "      <td>2.104295</td>\n",
              "      <td>0</td>\n",
              "    </tr>\n",
              "    <tr>\n",
              "      <th>4</th>\n",
              "      <td>0.347937</td>\n",
              "      <td>0.720619</td>\n",
              "      <td>-0.154908</td>\n",
              "      <td>0.654659</td>\n",
              "      <td>-0.109761</td>\n",
              "      <td>0.752993</td>\n",
              "      <td>-0.675776</td>\n",
              "      <td>0.512107</td>\n",
              "      <td>-0.713723</td>\n",
              "      <td>0.091921</td>\n",
              "      <td>-0.723076</td>\n",
              "      <td>0.262444</td>\n",
              "      <td>-0.203151</td>\n",
              "      <td>-0.000320</td>\n",
              "      <td>-0.754198</td>\n",
              "      <td>0.238586</td>\n",
              "      <td>-0.431159</td>\n",
              "      <td>0.146392</td>\n",
              "      <td>-0.296884</td>\n",
              "      <td>-0.454022</td>\n",
              "      <td>-0.702566</td>\n",
              "      <td>-0.562113</td>\n",
              "      <td>-0.893693</td>\n",
              "      <td>-0.628013</td>\n",
              "      <td>-1.141395</td>\n",
              "      <td>-0.791819</td>\n",
              "      <td>-0.840911</td>\n",
              "      <td>-0.614940</td>\n",
              "      <td>-1.169475</td>\n",
              "      <td>-0.716703</td>\n",
              "      <td>-1.152581</td>\n",
              "      <td>-0.756593</td>\n",
              "      <td>-1.433689</td>\n",
              "      <td>1</td>\n",
              "    </tr>\n",
              "  </tbody>\n",
              "</table>\n",
              "</div>"
            ],
            "text/plain": [
              "   feature1  feature3  feature4  ...  feature33  feature34  label\n",
              "0  0.347937  0.711357 -0.233923  ...  -0.311776  -0.998170      1\n",
              "1  0.347937  0.720619 -0.527058  ...  -0.931276  -0.083167      0\n",
              "2  0.347937  0.720619 -0.176746  ...   0.403867  -0.847381      1\n",
              "3  0.347937  0.720619 -1.123568  ...  -1.287987   2.104295      0\n",
              "4  0.347937  0.720619 -0.154908  ...  -0.756593  -1.433689      1\n",
              "\n",
              "[5 rows x 34 columns]"
            ]
          },
          "metadata": {
            "tags": []
          },
          "execution_count": 183
        }
      ]
    },
    {
      "cell_type": "markdown",
      "metadata": {
        "id": "SvSCZjmpBy2v"
      },
      "source": [
        "#shuffle & Split the data 60% (Training) & 40% (Testing)\n"
      ]
    },
    {
      "cell_type": "code",
      "metadata": {
        "id": "N5Odq-X-sqhJ"
      },
      "source": [
        "training_data = data.sample(frac= 0.6, random_state=125)\n",
        "testing_data = data.drop(training_data.index)"
      ],
      "execution_count": null,
      "outputs": []
    },
    {
      "cell_type": "code",
      "metadata": {
        "id": "0aBhP3rzsyEN"
      },
      "source": [
        "\n",
        "training_label = training_data.iloc[:,-1]\n",
        "training_data = training_data.iloc[:,0:-1]\n",
        "testing_label = testing_data.iloc[:,-1]\n",
        "testing_data = testing_data.iloc[:,0:-1]\n"
      ],
      "execution_count": null,
      "outputs": []
    },
    {
      "cell_type": "code",
      "metadata": {
        "colab": {
          "base_uri": "https://localhost:8080/",
          "height": 224
        },
        "id": "RdjteKgXMTDR",
        "outputId": "a068be79-8b97-4703-b6e9-5242a1c574ae"
      },
      "source": [
        "training_data.head()"
      ],
      "execution_count": null,
      "outputs": [
        {
          "output_type": "execute_result",
          "data": {
            "text/html": [
              "<div>\n",
              "<style scoped>\n",
              "    .dataframe tbody tr th:only-of-type {\n",
              "        vertical-align: middle;\n",
              "    }\n",
              "\n",
              "    .dataframe tbody tr th {\n",
              "        vertical-align: top;\n",
              "    }\n",
              "\n",
              "    .dataframe thead th {\n",
              "        text-align: right;\n",
              "    }\n",
              "</style>\n",
              "<table border=\"1\" class=\"dataframe\">\n",
              "  <thead>\n",
              "    <tr style=\"text-align: right;\">\n",
              "      <th></th>\n",
              "      <th>feature1</th>\n",
              "      <th>feature3</th>\n",
              "      <th>feature4</th>\n",
              "      <th>feature5</th>\n",
              "      <th>feature6</th>\n",
              "      <th>feature7</th>\n",
              "      <th>feature8</th>\n",
              "      <th>feature9</th>\n",
              "      <th>feature10</th>\n",
              "      <th>feature11</th>\n",
              "      <th>feature12</th>\n",
              "      <th>feature13</th>\n",
              "      <th>feature14</th>\n",
              "      <th>feature15</th>\n",
              "      <th>feature16</th>\n",
              "      <th>feature17</th>\n",
              "      <th>feature18</th>\n",
              "      <th>feature19</th>\n",
              "      <th>feature20</th>\n",
              "      <th>feature21</th>\n",
              "      <th>feature22</th>\n",
              "      <th>feature23</th>\n",
              "      <th>feature24</th>\n",
              "      <th>feature25</th>\n",
              "      <th>feature26</th>\n",
              "      <th>feature27</th>\n",
              "      <th>feature28</th>\n",
              "      <th>feature29</th>\n",
              "      <th>feature30</th>\n",
              "      <th>feature31</th>\n",
              "      <th>feature32</th>\n",
              "      <th>feature33</th>\n",
              "      <th>feature34</th>\n",
              "    </tr>\n",
              "  </thead>\n",
              "  <tbody>\n",
              "    <tr>\n",
              "      <th>270</th>\n",
              "      <td>0.347937</td>\n",
              "      <td>0.720619</td>\n",
              "      <td>0.081004</td>\n",
              "      <td>0.705346</td>\n",
              "      <td>-0.261950</td>\n",
              "      <td>0.845898</td>\n",
              "      <td>-0.243073</td>\n",
              "      <td>0.725650</td>\n",
              "      <td>-0.455875</td>\n",
              "      <td>0.929584</td>\n",
              "      <td>-0.284651</td>\n",
              "      <td>0.901754</td>\n",
              "      <td>-0.217781</td>\n",
              "      <td>0.942532</td>\n",
              "      <td>-0.191640</td>\n",
              "      <td>0.975730</td>\n",
              "      <td>0.027451</td>\n",
              "      <td>0.881622</td>\n",
              "      <td>-0.124173</td>\n",
              "      <td>1.005963</td>\n",
              "      <td>-0.061633</td>\n",
              "      <td>0.967068</td>\n",
              "      <td>0.059713</td>\n",
              "      <td>1.012195</td>\n",
              "      <td>0.179386</td>\n",
              "      <td>0.767291</td>\n",
              "      <td>0.071265</td>\n",
              "      <td>1.079303</td>\n",
              "      <td>-0.060088</td>\n",
              "      <td>1.006549</td>\n",
              "      <td>-0.060062</td>\n",
              "      <td>1.096110</td>\n",
              "      <td>-0.109345</td>\n",
              "    </tr>\n",
              "    <tr>\n",
              "      <th>116</th>\n",
              "      <td>0.347937</td>\n",
              "      <td>0.720619</td>\n",
              "      <td>-0.434746</td>\n",
              "      <td>0.767382</td>\n",
              "      <td>-0.144765</td>\n",
              "      <td>0.048056</td>\n",
              "      <td>-0.260682</td>\n",
              "      <td>0.283774</td>\n",
              "      <td>-0.340922</td>\n",
              "      <td>0.667755</td>\n",
              "      <td>-0.379595</td>\n",
              "      <td>0.515133</td>\n",
              "      <td>-0.188763</td>\n",
              "      <td>0.527491</td>\n",
              "      <td>-0.512822</td>\n",
              "      <td>-0.299713</td>\n",
              "      <td>-0.289723</td>\n",
              "      <td>0.472946</td>\n",
              "      <td>-0.284612</td>\n",
              "      <td>0.550047</td>\n",
              "      <td>0.047271</td>\n",
              "      <td>1.055911</td>\n",
              "      <td>-0.450605</td>\n",
              "      <td>-0.146347</td>\n",
              "      <td>-0.537023</td>\n",
              "      <td>-0.034465</td>\n",
              "      <td>-0.243102</td>\n",
              "      <td>-0.087822</td>\n",
              "      <td>-0.009613</td>\n",
              "      <td>-0.129179</td>\n",
              "      <td>-0.854455</td>\n",
              "      <td>0.272520</td>\n",
              "      <td>-0.170924</td>\n",
              "    </tr>\n",
              "    <tr>\n",
              "      <th>135</th>\n",
              "      <td>0.347937</td>\n",
              "      <td>0.513791</td>\n",
              "      <td>0.765635</td>\n",
              "      <td>0.597644</td>\n",
              "      <td>0.562294</td>\n",
              "      <td>0.390852</td>\n",
              "      <td>1.069822</td>\n",
              "      <td>-0.110376</td>\n",
              "      <td>1.236051</td>\n",
              "      <td>-0.505775</td>\n",
              "      <td>1.484728</td>\n",
              "      <td>-0.679638</td>\n",
              "      <td>1.549644</td>\n",
              "      <td>-0.842549</td>\n",
              "      <td>1.641461</td>\n",
              "      <td>-1.224796</td>\n",
              "      <td>1.369040</td>\n",
              "      <td>-1.372242</td>\n",
              "      <td>0.967035</td>\n",
              "      <td>-1.757848</td>\n",
              "      <td>0.721881</td>\n",
              "      <td>-2.025226</td>\n",
              "      <td>0.276129</td>\n",
              "      <td>-1.968680</td>\n",
              "      <td>-0.105828</td>\n",
              "      <td>-2.365129</td>\n",
              "      <td>-0.312299</td>\n",
              "      <td>-1.614757</td>\n",
              "      <td>-0.784613</td>\n",
              "      <td>-1.388831</td>\n",
              "      <td>-0.980493</td>\n",
              "      <td>-1.217081</td>\n",
              "      <td>-1.239833</td>\n",
              "    </tr>\n",
              "    <tr>\n",
              "      <th>91</th>\n",
              "      <td>0.347937</td>\n",
              "      <td>0.410337</td>\n",
              "      <td>-0.294884</td>\n",
              "      <td>-1.766851</td>\n",
              "      <td>-1.999563</td>\n",
              "      <td>-1.298488</td>\n",
              "      <td>-1.312934</td>\n",
              "      <td>0.581053</td>\n",
              "      <td>-0.280221</td>\n",
              "      <td>0.743496</td>\n",
              "      <td>-0.328748</td>\n",
              "      <td>-0.941424</td>\n",
              "      <td>1.103812</td>\n",
              "      <td>-0.833833</td>\n",
              "      <td>-1.640119</td>\n",
              "      <td>0.768682</td>\n",
              "      <td>-0.221078</td>\n",
              "      <td>0.671280</td>\n",
              "      <td>-0.256736</td>\n",
              "      <td>-0.666229</td>\n",
              "      <td>0.964564</td>\n",
              "      <td>-1.165607</td>\n",
              "      <td>1.643256</td>\n",
              "      <td>0.679721</td>\n",
              "      <td>0.066878</td>\n",
              "      <td>0.323862</td>\n",
              "      <td>-0.333335</td>\n",
              "      <td>0.695268</td>\n",
              "      <td>-0.222812</td>\n",
              "      <td>-0.990499</td>\n",
              "      <td>-1.514691</td>\n",
              "      <td>-1.022271</td>\n",
              "      <td>-1.309206</td>\n",
              "    </tr>\n",
              "    <tr>\n",
              "      <th>100</th>\n",
              "      <td>0.347937</td>\n",
              "      <td>0.720619</td>\n",
              "      <td>-2.365858</td>\n",
              "      <td>-1.156208</td>\n",
              "      <td>-0.251490</td>\n",
              "      <td>0.465469</td>\n",
              "      <td>-2.135402</td>\n",
              "      <td>0.585668</td>\n",
              "      <td>0.764956</td>\n",
              "      <td>-1.588835</td>\n",
              "      <td>-2.230258</td>\n",
              "      <td>-0.644182</td>\n",
              "      <td>-0.188763</td>\n",
              "      <td>-0.527182</td>\n",
              "      <td>-0.155185</td>\n",
              "      <td>0.547945</td>\n",
              "      <td>-1.546904</td>\n",
              "      <td>0.600224</td>\n",
              "      <td>-1.115280</td>\n",
              "      <td>-0.552115</td>\n",
              "      <td>-0.016010</td>\n",
              "      <td>-0.295901</td>\n",
              "      <td>-1.787057</td>\n",
              "      <td>-2.413575</td>\n",
              "      <td>-1.826594</td>\n",
              "      <td>-2.986491</td>\n",
              "      <td>-1.691672</td>\n",
              "      <td>1.079303</td>\n",
              "      <td>-1.913666</td>\n",
              "      <td>1.132992</td>\n",
              "      <td>-1.939751</td>\n",
              "      <td>-0.668430</td>\n",
              "      <td>-0.030918</td>\n",
              "    </tr>\n",
              "  </tbody>\n",
              "</table>\n",
              "</div>"
            ],
            "text/plain": [
              "     feature1  feature3  feature4  ...  feature32  feature33  feature34\n",
              "270  0.347937  0.720619  0.081004  ...  -0.060062   1.096110  -0.109345\n",
              "116  0.347937  0.720619 -0.434746  ...  -0.854455   0.272520  -0.170924\n",
              "135  0.347937  0.513791  0.765635  ...  -0.980493  -1.217081  -1.239833\n",
              "91   0.347937  0.410337 -0.294884  ...  -1.514691  -1.022271  -1.309206\n",
              "100  0.347937  0.720619 -2.365858  ...  -1.939751  -0.668430  -0.030918\n",
              "\n",
              "[5 rows x 33 columns]"
            ]
          },
          "metadata": {
            "tags": []
          },
          "execution_count": 186
        }
      ]
    },
    {
      "cell_type": "markdown",
      "metadata": {
        "id": "eUhxliusDTHZ"
      },
      "source": [
        "Checking Data before Pre-Processing & Model"
      ]
    },
    {
      "cell_type": "code",
      "metadata": {
        "colab": {
          "base_uri": "https://localhost:8080/"
        },
        "id": "VDT7DMu2s9zB",
        "outputId": "7c573732-eab5-4dba-c834-329385795cea"
      },
      "source": [
        "training_data.shape"
      ],
      "execution_count": null,
      "outputs": [
        {
          "output_type": "execute_result",
          "data": {
            "text/plain": [
              "(211, 33)"
            ]
          },
          "metadata": {
            "tags": []
          },
          "execution_count": 187
        }
      ]
    },
    {
      "cell_type": "code",
      "metadata": {
        "colab": {
          "base_uri": "https://localhost:8080/"
        },
        "id": "z3KhDcCTtNdF",
        "outputId": "6b465df1-6c03-48fa-da89-cd2fb5110a8b"
      },
      "source": [
        "training_label.shape"
      ],
      "execution_count": null,
      "outputs": [
        {
          "output_type": "execute_result",
          "data": {
            "text/plain": [
              "(211,)"
            ]
          },
          "metadata": {
            "tags": []
          },
          "execution_count": 188
        }
      ]
    },
    {
      "cell_type": "code",
      "metadata": {
        "colab": {
          "base_uri": "https://localhost:8080/"
        },
        "id": "zZrtHkB-tJLZ",
        "outputId": "194e4f49-58f6-43dc-b359-3548b20a3381"
      },
      "source": [
        "testing_data.shape"
      ],
      "execution_count": null,
      "outputs": [
        {
          "output_type": "execute_result",
          "data": {
            "text/plain": [
              "(140, 33)"
            ]
          },
          "metadata": {
            "tags": []
          },
          "execution_count": 189
        }
      ]
    },
    {
      "cell_type": "code",
      "metadata": {
        "colab": {
          "base_uri": "https://localhost:8080/"
        },
        "id": "tQ9fGE3CtTOf",
        "outputId": "84082311-e83d-42c9-b0db-9bcfdc23f3e5"
      },
      "source": [
        "testing_label.shape"
      ],
      "execution_count": null,
      "outputs": [
        {
          "output_type": "execute_result",
          "data": {
            "text/plain": [
              "(140,)"
            ]
          },
          "metadata": {
            "tags": []
          },
          "execution_count": 190
        }
      ]
    },
    {
      "cell_type": "code",
      "metadata": {
        "colab": {
          "base_uri": "https://localhost:8080/"
        },
        "id": "o5nqz69OJApV",
        "outputId": "27091dc4-def8-4e83-a99d-99638d783b7b"
      },
      "source": [
        "len(training_label)"
      ],
      "execution_count": null,
      "outputs": [
        {
          "output_type": "execute_result",
          "data": {
            "text/plain": [
              "211"
            ]
          },
          "metadata": {
            "tags": []
          },
          "execution_count": 191
        }
      ]
    },
    {
      "cell_type": "code",
      "metadata": {
        "colab": {
          "base_uri": "https://localhost:8080/"
        },
        "id": "M4N2Exphu2wf",
        "outputId": "46f727c9-dbfa-43c5-f027-6e6119908320"
      },
      "source": [
        "type (training_data)"
      ],
      "execution_count": null,
      "outputs": [
        {
          "output_type": "execute_result",
          "data": {
            "text/plain": [
              "pandas.core.frame.DataFrame"
            ]
          },
          "metadata": {
            "tags": []
          },
          "execution_count": 192
        }
      ]
    },
    {
      "cell_type": "code",
      "metadata": {
        "id": "HzZOqsAmzrHd"
      },
      "source": [
        "training_data = np.asarray(training_data).astype('float64')\n",
        "training_label = np.asarray(training_label).astype('float32')\n",
        "\n",
        "testing_data = np.asarray(testing_data).astype('float64')\n",
        "testing_label = np.asarray(testing_label).astype('float64')"
      ],
      "execution_count": null,
      "outputs": []
    },
    {
      "cell_type": "code",
      "metadata": {
        "colab": {
          "base_uri": "https://localhost:8080/"
        },
        "id": "jCFqboT8yY_w",
        "outputId": "aa7e10f7-566e-4eee-f8be-2432e5e8502a"
      },
      "source": [
        "print(training_data.dtype) \n",
        "print(training_label.dtype) \n",
        "\n",
        "print(testing_data.dtype)\n",
        "print(testing_label.dtype) "
      ],
      "execution_count": null,
      "outputs": [
        {
          "output_type": "stream",
          "text": [
            "float64\n",
            "float32\n",
            "float64\n",
            "float64\n"
          ],
          "name": "stdout"
        }
      ]
    },
    {
      "cell_type": "markdown",
      "metadata": {
        "id": "B7XhyhePtodR"
      },
      "source": [
        "Training & Validation data consists of only 211 records."
      ]
    },
    {
      "cell_type": "markdown",
      "metadata": {
        "id": "I3uk24ActthU"
      },
      "source": [
        "Model Requirements: 1 Hidden Layers with 16 outputs. \n",
        "\n",
        "As it is a binary classification problem the loss will be binary_crossentropy and metrics accuracy. "
      ]
    },
    {
      "cell_type": "markdown",
      "metadata": {
        "id": "mGlIeNLktxsY"
      },
      "source": [
        "Model"
      ]
    },
    {
      "cell_type": "code",
      "metadata": {
        "id": "Lb6YdfEqtybH"
      },
      "source": [
        "model = Sequential()\n",
        "model.add(Dense(16, activation='relu', input_shape=(training_data.shape[1],)))\n",
        "model.add(Dense(1, activation='sigmoid'))"
      ],
      "execution_count": null,
      "outputs": []
    },
    {
      "cell_type": "code",
      "metadata": {
        "colab": {
          "base_uri": "https://localhost:8080/"
        },
        "id": "s9COsvf-uqUU",
        "outputId": "c3c6f3ef-a5eb-423f-deb1-adb99782229a"
      },
      "source": [
        "model.summary()"
      ],
      "execution_count": null,
      "outputs": [
        {
          "output_type": "stream",
          "text": [
            "Model: \"sequential_9\"\n",
            "_________________________________________________________________\n",
            "Layer (type)                 Output Shape              Param #   \n",
            "=================================================================\n",
            "dense_20 (Dense)             (None, 16)                544       \n",
            "_________________________________________________________________\n",
            "dense_21 (Dense)             (None, 1)                 17        \n",
            "=================================================================\n",
            "Total params: 561\n",
            "Trainable params: 561\n",
            "Non-trainable params: 0\n",
            "_________________________________________________________________\n"
          ],
          "name": "stdout"
        }
      ]
    },
    {
      "cell_type": "markdown",
      "metadata": {
        "id": "5XiGJMPdu-UG"
      },
      "source": [
        "Compilation Step (Note : Its a Binary problem , select loss , metrics according to it)"
      ]
    },
    {
      "cell_type": "code",
      "metadata": {
        "id": "AhLHm4bpuuWt"
      },
      "source": [
        "model.compile(optimizer = 'RMSprop', loss='binary_crossentropy', metrics=['accuracy'])"
      ],
      "execution_count": null,
      "outputs": []
    },
    {
      "cell_type": "code",
      "metadata": {
        "colab": {
          "base_uri": "https://localhost:8080/"
        },
        "id": "GK49DO2xux2h",
        "outputId": "fa2f7fef-7143-4ec3-a538-12c948bac7dc"
      },
      "source": [
        "history = model.fit(training_data, training_label, validation_split=0.2, epochs=100, batch_size = 20)"
      ],
      "execution_count": null,
      "outputs": [
        {
          "output_type": "stream",
          "text": [
            "Epoch 1/100\n",
            "9/9 [==============================] - 1s 26ms/step - loss: 0.7979 - accuracy: 0.3861 - val_loss: 0.7034 - val_accuracy: 0.5581\n",
            "Epoch 2/100\n",
            "9/9 [==============================] - 0s 7ms/step - loss: 0.6943 - accuracy: 0.5404 - val_loss: 0.6263 - val_accuracy: 0.7442\n",
            "Epoch 3/100\n",
            "9/9 [==============================] - 0s 9ms/step - loss: 0.6045 - accuracy: 0.7061 - val_loss: 0.5637 - val_accuracy: 0.8372\n",
            "Epoch 4/100\n",
            "9/9 [==============================] - 0s 8ms/step - loss: 0.5966 - accuracy: 0.7026 - val_loss: 0.5156 - val_accuracy: 0.8837\n",
            "Epoch 5/100\n",
            "9/9 [==============================] - 0s 8ms/step - loss: 0.5311 - accuracy: 0.7834 - val_loss: 0.4734 - val_accuracy: 0.8837\n",
            "Epoch 6/100\n",
            "9/9 [==============================] - 0s 7ms/step - loss: 0.5188 - accuracy: 0.7710 - val_loss: 0.4402 - val_accuracy: 0.8837\n",
            "Epoch 7/100\n",
            "9/9 [==============================] - 0s 8ms/step - loss: 0.4549 - accuracy: 0.8413 - val_loss: 0.4128 - val_accuracy: 0.9070\n",
            "Epoch 8/100\n",
            "9/9 [==============================] - 0s 9ms/step - loss: 0.4618 - accuracy: 0.8186 - val_loss: 0.3885 - val_accuracy: 0.9070\n",
            "Epoch 9/100\n",
            "9/9 [==============================] - 0s 7ms/step - loss: 0.4339 - accuracy: 0.8381 - val_loss: 0.3690 - val_accuracy: 0.8837\n",
            "Epoch 10/100\n",
            "9/9 [==============================] - 0s 7ms/step - loss: 0.4030 - accuracy: 0.8537 - val_loss: 0.3498 - val_accuracy: 0.9070\n",
            "Epoch 11/100\n",
            "9/9 [==============================] - 0s 8ms/step - loss: 0.3789 - accuracy: 0.8610 - val_loss: 0.3357 - val_accuracy: 0.9070\n",
            "Epoch 12/100\n",
            "9/9 [==============================] - 0s 8ms/step - loss: 0.3576 - accuracy: 0.8611 - val_loss: 0.3212 - val_accuracy: 0.9070\n",
            "Epoch 13/100\n",
            "9/9 [==============================] - 0s 8ms/step - loss: 0.3393 - accuracy: 0.8885 - val_loss: 0.3073 - val_accuracy: 0.9070\n",
            "Epoch 14/100\n",
            "9/9 [==============================] - 0s 8ms/step - loss: 0.3592 - accuracy: 0.8299 - val_loss: 0.2955 - val_accuracy: 0.9070\n",
            "Epoch 15/100\n",
            "9/9 [==============================] - 0s 7ms/step - loss: 0.3493 - accuracy: 0.8641 - val_loss: 0.2847 - val_accuracy: 0.9070\n",
            "Epoch 16/100\n",
            "9/9 [==============================] - 0s 8ms/step - loss: 0.3320 - accuracy: 0.8688 - val_loss: 0.2743 - val_accuracy: 0.9070\n",
            "Epoch 17/100\n",
            "9/9 [==============================] - 0s 8ms/step - loss: 0.2997 - accuracy: 0.8884 - val_loss: 0.2651 - val_accuracy: 0.9070\n",
            "Epoch 18/100\n",
            "9/9 [==============================] - 0s 7ms/step - loss: 0.2709 - accuracy: 0.9079 - val_loss: 0.2557 - val_accuracy: 0.9070\n",
            "Epoch 19/100\n",
            "9/9 [==============================] - 0s 9ms/step - loss: 0.2851 - accuracy: 0.8812 - val_loss: 0.2476 - val_accuracy: 0.9302\n",
            "Epoch 20/100\n",
            "9/9 [==============================] - 0s 8ms/step - loss: 0.2874 - accuracy: 0.8704 - val_loss: 0.2404 - val_accuracy: 0.9302\n",
            "Epoch 21/100\n",
            "9/9 [==============================] - 0s 8ms/step - loss: 0.2751 - accuracy: 0.8924 - val_loss: 0.2334 - val_accuracy: 0.9302\n",
            "Epoch 22/100\n",
            "9/9 [==============================] - 0s 9ms/step - loss: 0.2606 - accuracy: 0.9010 - val_loss: 0.2264 - val_accuracy: 0.9302\n",
            "Epoch 23/100\n",
            "9/9 [==============================] - 0s 9ms/step - loss: 0.2428 - accuracy: 0.9178 - val_loss: 0.2192 - val_accuracy: 0.9535\n",
            "Epoch 24/100\n",
            "9/9 [==============================] - 0s 9ms/step - loss: 0.2625 - accuracy: 0.8944 - val_loss: 0.2127 - val_accuracy: 0.9535\n",
            "Epoch 25/100\n",
            "9/9 [==============================] - 0s 7ms/step - loss: 0.2296 - accuracy: 0.9273 - val_loss: 0.2084 - val_accuracy: 0.9535\n",
            "Epoch 26/100\n",
            "9/9 [==============================] - 0s 8ms/step - loss: 0.2325 - accuracy: 0.9067 - val_loss: 0.2011 - val_accuracy: 0.9535\n",
            "Epoch 27/100\n",
            "9/9 [==============================] - 0s 45ms/step - loss: 0.2098 - accuracy: 0.9376 - val_loss: 0.1959 - val_accuracy: 0.9535\n",
            "Epoch 28/100\n",
            "9/9 [==============================] - 0s 8ms/step - loss: 0.2078 - accuracy: 0.9234 - val_loss: 0.1909 - val_accuracy: 0.9535\n",
            "Epoch 29/100\n",
            "9/9 [==============================] - 0s 8ms/step - loss: 0.2168 - accuracy: 0.9261 - val_loss: 0.1860 - val_accuracy: 0.9535\n",
            "Epoch 30/100\n",
            "9/9 [==============================] - 0s 8ms/step - loss: 0.2177 - accuracy: 0.9277 - val_loss: 0.1818 - val_accuracy: 0.9535\n",
            "Epoch 31/100\n",
            "9/9 [==============================] - 0s 7ms/step - loss: 0.1943 - accuracy: 0.9398 - val_loss: 0.1784 - val_accuracy: 0.9535\n",
            "Epoch 32/100\n",
            "9/9 [==============================] - 0s 7ms/step - loss: 0.1926 - accuracy: 0.9439 - val_loss: 0.1743 - val_accuracy: 0.9535\n",
            "Epoch 33/100\n",
            "9/9 [==============================] - 0s 8ms/step - loss: 0.1950 - accuracy: 0.9385 - val_loss: 0.1717 - val_accuracy: 0.9535\n",
            "Epoch 34/100\n",
            "9/9 [==============================] - 0s 8ms/step - loss: 0.2098 - accuracy: 0.9314 - val_loss: 0.1693 - val_accuracy: 0.9535\n",
            "Epoch 35/100\n",
            "9/9 [==============================] - 0s 8ms/step - loss: 0.2212 - accuracy: 0.9093 - val_loss: 0.1658 - val_accuracy: 0.9535\n",
            "Epoch 36/100\n",
            "9/9 [==============================] - 0s 7ms/step - loss: 0.1952 - accuracy: 0.9415 - val_loss: 0.1609 - val_accuracy: 0.9535\n",
            "Epoch 37/100\n",
            "9/9 [==============================] - 0s 8ms/step - loss: 0.1805 - accuracy: 0.9704 - val_loss: 0.1563 - val_accuracy: 0.9535\n",
            "Epoch 38/100\n",
            "9/9 [==============================] - 0s 7ms/step - loss: 0.1733 - accuracy: 0.9493 - val_loss: 0.1534 - val_accuracy: 0.9535\n",
            "Epoch 39/100\n",
            "9/9 [==============================] - 0s 8ms/step - loss: 0.1673 - accuracy: 0.9598 - val_loss: 0.1497 - val_accuracy: 0.9535\n",
            "Epoch 40/100\n",
            "9/9 [==============================] - 0s 8ms/step - loss: 0.1707 - accuracy: 0.9669 - val_loss: 0.1472 - val_accuracy: 0.9535\n",
            "Epoch 41/100\n",
            "9/9 [==============================] - 0s 8ms/step - loss: 0.1550 - accuracy: 0.9619 - val_loss: 0.1440 - val_accuracy: 0.9535\n",
            "Epoch 42/100\n",
            "9/9 [==============================] - 0s 7ms/step - loss: 0.1948 - accuracy: 0.9423 - val_loss: 0.1411 - val_accuracy: 0.9535\n",
            "Epoch 43/100\n",
            "9/9 [==============================] - 0s 9ms/step - loss: 0.1725 - accuracy: 0.9435 - val_loss: 0.1370 - val_accuracy: 0.9535\n",
            "Epoch 44/100\n",
            "9/9 [==============================] - 0s 9ms/step - loss: 0.1862 - accuracy: 0.9391 - val_loss: 0.1345 - val_accuracy: 0.9535\n",
            "Epoch 45/100\n",
            "9/9 [==============================] - 0s 9ms/step - loss: 0.1766 - accuracy: 0.9336 - val_loss: 0.1308 - val_accuracy: 0.9535\n",
            "Epoch 46/100\n",
            "9/9 [==============================] - 0s 7ms/step - loss: 0.1588 - accuracy: 0.9351 - val_loss: 0.1274 - val_accuracy: 0.9535\n",
            "Epoch 47/100\n",
            "9/9 [==============================] - 0s 8ms/step - loss: 0.1411 - accuracy: 0.9610 - val_loss: 0.1247 - val_accuracy: 0.9535\n",
            "Epoch 48/100\n",
            "9/9 [==============================] - 0s 8ms/step - loss: 0.1461 - accuracy: 0.9629 - val_loss: 0.1231 - val_accuracy: 0.9535\n",
            "Epoch 49/100\n",
            "9/9 [==============================] - 0s 8ms/step - loss: 0.1851 - accuracy: 0.9171 - val_loss: 0.1204 - val_accuracy: 0.9535\n",
            "Epoch 50/100\n",
            "9/9 [==============================] - 0s 8ms/step - loss: 0.1361 - accuracy: 0.9721 - val_loss: 0.1165 - val_accuracy: 0.9535\n",
            "Epoch 51/100\n",
            "9/9 [==============================] - 0s 8ms/step - loss: 0.1489 - accuracy: 0.9625 - val_loss: 0.1140 - val_accuracy: 0.9535\n",
            "Epoch 52/100\n",
            "9/9 [==============================] - 0s 8ms/step - loss: 0.1390 - accuracy: 0.9626 - val_loss: 0.1107 - val_accuracy: 0.9535\n",
            "Epoch 53/100\n",
            "9/9 [==============================] - 0s 8ms/step - loss: 0.1298 - accuracy: 0.9803 - val_loss: 0.1100 - val_accuracy: 0.9535\n",
            "Epoch 54/100\n",
            "9/9 [==============================] - 0s 8ms/step - loss: 0.1514 - accuracy: 0.9507 - val_loss: 0.1066 - val_accuracy: 0.9535\n",
            "Epoch 55/100\n",
            "9/9 [==============================] - 0s 8ms/step - loss: 0.1309 - accuracy: 0.9753 - val_loss: 0.1033 - val_accuracy: 0.9535\n",
            "Epoch 56/100\n",
            "9/9 [==============================] - 0s 8ms/step - loss: 0.1192 - accuracy: 0.9741 - val_loss: 0.1017 - val_accuracy: 0.9767\n",
            "Epoch 57/100\n",
            "9/9 [==============================] - 0s 8ms/step - loss: 0.1195 - accuracy: 0.9685 - val_loss: 0.0992 - val_accuracy: 0.9767\n",
            "Epoch 58/100\n",
            "9/9 [==============================] - 0s 8ms/step - loss: 0.1219 - accuracy: 0.9695 - val_loss: 0.0969 - val_accuracy: 0.9767\n",
            "Epoch 59/100\n",
            "9/9 [==============================] - 0s 8ms/step - loss: 0.1392 - accuracy: 0.9630 - val_loss: 0.0940 - val_accuracy: 0.9767\n",
            "Epoch 60/100\n",
            "9/9 [==============================] - 0s 8ms/step - loss: 0.1086 - accuracy: 0.9697 - val_loss: 0.0932 - val_accuracy: 0.9767\n",
            "Epoch 61/100\n",
            "9/9 [==============================] - 0s 8ms/step - loss: 0.1415 - accuracy: 0.9669 - val_loss: 0.0914 - val_accuracy: 0.9767\n",
            "Epoch 62/100\n",
            "9/9 [==============================] - 0s 8ms/step - loss: 0.1298 - accuracy: 0.9701 - val_loss: 0.0899 - val_accuracy: 0.9767\n",
            "Epoch 63/100\n",
            "9/9 [==============================] - 0s 8ms/step - loss: 0.1346 - accuracy: 0.9657 - val_loss: 0.0882 - val_accuracy: 0.9767\n",
            "Epoch 64/100\n",
            "9/9 [==============================] - 0s 7ms/step - loss: 0.1112 - accuracy: 0.9831 - val_loss: 0.0863 - val_accuracy: 0.9767\n",
            "Epoch 65/100\n",
            "9/9 [==============================] - 0s 7ms/step - loss: 0.1349 - accuracy: 0.9710 - val_loss: 0.0844 - val_accuracy: 0.9767\n",
            "Epoch 66/100\n",
            "9/9 [==============================] - 0s 7ms/step - loss: 0.1249 - accuracy: 0.9779 - val_loss: 0.0823 - val_accuracy: 0.9767\n",
            "Epoch 67/100\n",
            "9/9 [==============================] - 0s 8ms/step - loss: 0.1183 - accuracy: 0.9693 - val_loss: 0.0804 - val_accuracy: 0.9767\n",
            "Epoch 68/100\n",
            "9/9 [==============================] - 0s 8ms/step - loss: 0.0998 - accuracy: 0.9810 - val_loss: 0.0792 - val_accuracy: 0.9767\n",
            "Epoch 69/100\n",
            "9/9 [==============================] - 0s 8ms/step - loss: 0.1118 - accuracy: 0.9784 - val_loss: 0.0779 - val_accuracy: 0.9767\n",
            "Epoch 70/100\n",
            "9/9 [==============================] - 0s 7ms/step - loss: 0.1135 - accuracy: 0.9786 - val_loss: 0.0782 - val_accuracy: 0.9767\n",
            "Epoch 71/100\n",
            "9/9 [==============================] - 0s 8ms/step - loss: 0.1156 - accuracy: 0.9635 - val_loss: 0.0772 - val_accuracy: 0.9767\n",
            "Epoch 72/100\n",
            "9/9 [==============================] - 0s 8ms/step - loss: 0.1060 - accuracy: 0.9832 - val_loss: 0.0763 - val_accuracy: 0.9767\n",
            "Epoch 73/100\n",
            "9/9 [==============================] - 0s 8ms/step - loss: 0.1112 - accuracy: 0.9761 - val_loss: 0.0736 - val_accuracy: 0.9767\n",
            "Epoch 74/100\n",
            "9/9 [==============================] - 0s 8ms/step - loss: 0.1117 - accuracy: 0.9615 - val_loss: 0.0731 - val_accuracy: 0.9767\n",
            "Epoch 75/100\n",
            "9/9 [==============================] - 0s 8ms/step - loss: 0.0958 - accuracy: 0.9719 - val_loss: 0.0727 - val_accuracy: 0.9535\n",
            "Epoch 76/100\n",
            "9/9 [==============================] - 0s 7ms/step - loss: 0.0978 - accuracy: 0.9821 - val_loss: 0.0724 - val_accuracy: 0.9535\n",
            "Epoch 77/100\n",
            "9/9 [==============================] - 0s 8ms/step - loss: 0.0890 - accuracy: 0.9755 - val_loss: 0.0713 - val_accuracy: 0.9535\n",
            "Epoch 78/100\n",
            "9/9 [==============================] - 0s 8ms/step - loss: 0.1151 - accuracy: 0.9709 - val_loss: 0.0706 - val_accuracy: 0.9535\n",
            "Epoch 79/100\n",
            "9/9 [==============================] - 0s 7ms/step - loss: 0.0773 - accuracy: 0.9816 - val_loss: 0.0709 - val_accuracy: 0.9535\n",
            "Epoch 80/100\n",
            "9/9 [==============================] - 0s 7ms/step - loss: 0.0931 - accuracy: 0.9746 - val_loss: 0.0705 - val_accuracy: 0.9535\n",
            "Epoch 81/100\n",
            "9/9 [==============================] - 0s 8ms/step - loss: 0.0696 - accuracy: 0.9888 - val_loss: 0.0699 - val_accuracy: 0.9535\n",
            "Epoch 82/100\n",
            "9/9 [==============================] - 0s 9ms/step - loss: 0.0918 - accuracy: 0.9711 - val_loss: 0.0695 - val_accuracy: 0.9535\n",
            "Epoch 83/100\n",
            "9/9 [==============================] - 0s 9ms/step - loss: 0.0717 - accuracy: 0.9840 - val_loss: 0.0696 - val_accuracy: 0.9535\n",
            "Epoch 84/100\n",
            "9/9 [==============================] - 0s 8ms/step - loss: 0.0834 - accuracy: 0.9786 - val_loss: 0.0678 - val_accuracy: 0.9535\n",
            "Epoch 85/100\n",
            "9/9 [==============================] - 0s 8ms/step - loss: 0.0778 - accuracy: 0.9781 - val_loss: 0.0692 - val_accuracy: 0.9535\n",
            "Epoch 86/100\n",
            "9/9 [==============================] - 0s 8ms/step - loss: 0.0844 - accuracy: 0.9721 - val_loss: 0.0683 - val_accuracy: 0.9535\n",
            "Epoch 87/100\n",
            "9/9 [==============================] - 0s 7ms/step - loss: 0.0793 - accuracy: 0.9859 - val_loss: 0.0668 - val_accuracy: 0.9535\n",
            "Epoch 88/100\n",
            "9/9 [==============================] - 0s 7ms/step - loss: 0.0838 - accuracy: 0.9850 - val_loss: 0.0666 - val_accuracy: 0.9535\n",
            "Epoch 89/100\n",
            "9/9 [==============================] - 0s 8ms/step - loss: 0.0693 - accuracy: 0.9924 - val_loss: 0.0656 - val_accuracy: 0.9535\n",
            "Epoch 90/100\n",
            "9/9 [==============================] - 0s 7ms/step - loss: 0.0819 - accuracy: 0.9783 - val_loss: 0.0652 - val_accuracy: 0.9767\n",
            "Epoch 91/100\n",
            "9/9 [==============================] - 0s 8ms/step - loss: 0.0878 - accuracy: 0.9754 - val_loss: 0.0629 - val_accuracy: 0.9767\n",
            "Epoch 92/100\n",
            "9/9 [==============================] - 0s 7ms/step - loss: 0.0833 - accuracy: 0.9796 - val_loss: 0.0626 - val_accuracy: 0.9767\n",
            "Epoch 93/100\n",
            "9/9 [==============================] - 0s 9ms/step - loss: 0.0613 - accuracy: 0.9957 - val_loss: 0.0617 - val_accuracy: 0.9767\n",
            "Epoch 94/100\n",
            "9/9 [==============================] - 0s 8ms/step - loss: 0.0829 - accuracy: 0.9944 - val_loss: 0.0627 - val_accuracy: 0.9767\n",
            "Epoch 95/100\n",
            "9/9 [==============================] - 0s 8ms/step - loss: 0.0663 - accuracy: 0.9975 - val_loss: 0.0627 - val_accuracy: 0.9767\n",
            "Epoch 96/100\n",
            "9/9 [==============================] - 0s 7ms/step - loss: 0.0635 - accuracy: 0.9975 - val_loss: 0.0622 - val_accuracy: 0.9767\n",
            "Epoch 97/100\n",
            "9/9 [==============================] - 0s 8ms/step - loss: 0.0597 - accuracy: 0.9927 - val_loss: 0.0621 - val_accuracy: 0.9767\n",
            "Epoch 98/100\n",
            "9/9 [==============================] - 0s 8ms/step - loss: 0.0533 - accuracy: 0.9944 - val_loss: 0.0621 - val_accuracy: 0.9767\n",
            "Epoch 99/100\n",
            "9/9 [==============================] - 0s 8ms/step - loss: 0.0557 - accuracy: 0.9988 - val_loss: 0.0644 - val_accuracy: 0.9767\n",
            "Epoch 100/100\n",
            "9/9 [==============================] - 0s 9ms/step - loss: 0.0643 - accuracy: 0.9956 - val_loss: 0.0631 - val_accuracy: 0.9767\n"
          ],
          "name": "stdout"
        }
      ]
    },
    {
      "cell_type": "code",
      "metadata": {
        "colab": {
          "base_uri": "https://localhost:8080/"
        },
        "id": "CTqSZ7jNvvql",
        "outputId": "2d99be33-5f10-470a-c2da-692acb09676c"
      },
      "source": [
        "history.history.keys()"
      ],
      "execution_count": null,
      "outputs": [
        {
          "output_type": "execute_result",
          "data": {
            "text/plain": [
              "dict_keys(['loss', 'accuracy', 'val_loss', 'val_accuracy'])"
            ]
          },
          "metadata": {
            "tags": []
          },
          "execution_count": 206
        }
      ]
    },
    {
      "cell_type": "code",
      "metadata": {
        "colab": {
          "base_uri": "https://localhost:8080/",
          "height": 295
        },
        "id": "Clf_fXqIvyz2",
        "outputId": "3d80977a-47c9-4ce7-fddc-5e86c5b77aa3"
      },
      "source": [
        "history_dict = history.history\n",
        "loss_values = history_dict['loss']\n",
        "val_loss_values = history_dict['val_loss']\n",
        "\n",
        "epochs = range(1, len(history_dict['accuracy']) + 1)\n",
        "plt.plot(epochs, loss_values, 'bo', label='Training loss')\n",
        "plt.plot(epochs, val_loss_values, 'b', label='Validation loss')\n",
        "plt.title('Training / validation loss')\n",
        "plt.xlabel('Epochs')\n",
        "plt.ylabel('Loss')\n",
        "plt.legend()\n",
        "plt.show()"
      ],
      "execution_count": null,
      "outputs": [
        {
          "output_type": "display_data",
          "data": {
            "image/png": "[encoded data removed]",
            "text/plain": [
              "<Figure size 432x288 with 1 Axes>"
            ]
          },
          "metadata": {
            "tags": [],
            "needs_background": "light"
          }
        }
      ]
    },
    {
      "cell_type": "code",
      "metadata": {
        "colab": {
          "base_uri": "https://localhost:8080/",
          "height": 295
        },
        "id": "hWOO6_6BGoCv",
        "outputId": "689401dd-fd0d-4669-c513-60d5fb731fbf"
      },
      "source": [
        "acc_values = history_dict['accuracy']\n",
        "val_acc_values = history_dict['val_accuracy']\n",
        "plt.plot(epochs, acc_values, 'bo', label='Training acc')\n",
        "plt.plot(epochs, val_acc_values, 'b', label='Validation acc')\n",
        "plt.title('Training / validation accuracy')\n",
        "plt.xlabel('Epochs')\n",
        "plt.ylabel('Loss')\n",
        "plt.legend()\n",
        "plt.show()"
      ],
      "execution_count": null,
      "outputs": [
        {
          "output_type": "display_data",
          "data": {
            "image/png": "[encoded data removed]",
            "text/plain": [
              "<Figure size 432x288 with 1 Axes>"
            ]
          },
          "metadata": {
            "tags": [],
            "needs_background": "light"
          }
        }
      ]
    },
    {
      "cell_type": "markdown",
      "metadata": {
        "id": "QQK3wnW9voCj"
      },
      "source": [
        "Retrain Model to curb overfitting"
      ]
    },
    {
      "cell_type": "code",
      "metadata": {
        "colab": {
          "base_uri": "https://localhost:8080/"
        },
        "id": "C6sOELA6vjqX",
        "outputId": "0175b414-9131-4c2c-abbb-a9096282ee19"
      },
      "source": [
        "history = model.fit(training_data, training_label, validation_split=0.2, epochs=80, batch_size = 20)"
      ],
      "execution_count": null,
      "outputs": [
        {
          "output_type": "stream",
          "text": [
            "Epoch 1/80\n",
            "9/9 [==============================] - 0s 16ms/step - loss: 0.0598 - accuracy: 0.9940 - val_loss: 0.0623 - val_accuracy: 0.9767\n",
            "Epoch 2/80\n",
            "9/9 [==============================] - 0s 8ms/step - loss: 0.0587 - accuracy: 0.9940 - val_loss: 0.0606 - val_accuracy: 0.9767\n",
            "Epoch 3/80\n",
            "9/9 [==============================] - 0s 7ms/step - loss: 0.0571 - accuracy: 0.9940 - val_loss: 0.0594 - val_accuracy: 0.9767\n",
            "Epoch 4/80\n",
            "9/9 [==============================] - 0s 7ms/step - loss: 0.0562 - accuracy: 0.9940 - val_loss: 0.0587 - val_accuracy: 0.9767\n",
            "Epoch 5/80\n",
            "9/9 [==============================] - 0s 8ms/step - loss: 0.0552 - accuracy: 0.9940 - val_loss: 0.0576 - val_accuracy: 0.9767\n",
            "Epoch 6/80\n",
            "9/9 [==============================] - 0s 8ms/step - loss: 0.0537 - accuracy: 0.9940 - val_loss: 0.0581 - val_accuracy: 0.9767\n",
            "Epoch 7/80\n",
            "9/9 [==============================] - 0s 7ms/step - loss: 0.0530 - accuracy: 0.9940 - val_loss: 0.0572 - val_accuracy: 0.9767\n",
            "Epoch 8/80\n",
            "9/9 [==============================] - 0s 7ms/step - loss: 0.0519 - accuracy: 0.9940 - val_loss: 0.0556 - val_accuracy: 0.9767\n",
            "Epoch 9/80\n",
            "9/9 [==============================] - 0s 7ms/step - loss: 0.0508 - accuracy: 0.9940 - val_loss: 0.0542 - val_accuracy: 0.9767\n",
            "Epoch 10/80\n",
            "9/9 [==============================] - 0s 8ms/step - loss: 0.0496 - accuracy: 0.9940 - val_loss: 0.0558 - val_accuracy: 0.9767\n",
            "Epoch 11/80\n",
            "9/9 [==============================] - 0s 8ms/step - loss: 0.0487 - accuracy: 0.9940 - val_loss: 0.0555 - val_accuracy: 0.9767\n",
            "Epoch 12/80\n",
            "9/9 [==============================] - 0s 8ms/step - loss: 0.0479 - accuracy: 0.9940 - val_loss: 0.0562 - val_accuracy: 0.9767\n",
            "Epoch 13/80\n",
            "9/9 [==============================] - 0s 9ms/step - loss: 0.0464 - accuracy: 0.9940 - val_loss: 0.0537 - val_accuracy: 0.9767\n",
            "Epoch 14/80\n",
            "9/9 [==============================] - 0s 8ms/step - loss: 0.0461 - accuracy: 0.9940 - val_loss: 0.0530 - val_accuracy: 0.9767\n",
            "Epoch 15/80\n",
            "9/9 [==============================] - 0s 7ms/step - loss: 0.0449 - accuracy: 0.9940 - val_loss: 0.0534 - val_accuracy: 0.9767\n",
            "Epoch 16/80\n",
            "9/9 [==============================] - 0s 7ms/step - loss: 0.0443 - accuracy: 0.9940 - val_loss: 0.0527 - val_accuracy: 0.9767\n",
            "Epoch 17/80\n",
            "9/9 [==============================] - 0s 7ms/step - loss: 0.0433 - accuracy: 0.9940 - val_loss: 0.0525 - val_accuracy: 0.9767\n",
            "Epoch 18/80\n",
            "9/9 [==============================] - 0s 8ms/step - loss: 0.0424 - accuracy: 0.9940 - val_loss: 0.0530 - val_accuracy: 0.9767\n",
            "Epoch 19/80\n",
            "9/9 [==============================] - 0s 8ms/step - loss: 0.0415 - accuracy: 0.9940 - val_loss: 0.0522 - val_accuracy: 0.9767\n",
            "Epoch 20/80\n",
            "9/9 [==============================] - 0s 7ms/step - loss: 0.0410 - accuracy: 0.9940 - val_loss: 0.0545 - val_accuracy: 0.9767\n",
            "Epoch 21/80\n",
            "9/9 [==============================] - 0s 7ms/step - loss: 0.0400 - accuracy: 0.9940 - val_loss: 0.0548 - val_accuracy: 0.9767\n",
            "Epoch 22/80\n",
            "9/9 [==============================] - 0s 8ms/step - loss: 0.0393 - accuracy: 0.9940 - val_loss: 0.0545 - val_accuracy: 0.9767\n",
            "Epoch 23/80\n",
            "9/9 [==============================] - 0s 7ms/step - loss: 0.0384 - accuracy: 0.9940 - val_loss: 0.0534 - val_accuracy: 0.9767\n",
            "Epoch 24/80\n",
            "9/9 [==============================] - 0s 8ms/step - loss: 0.0378 - accuracy: 0.9940 - val_loss: 0.0522 - val_accuracy: 0.9767\n",
            "Epoch 25/80\n",
            "9/9 [==============================] - 0s 7ms/step - loss: 0.0370 - accuracy: 0.9940 - val_loss: 0.0549 - val_accuracy: 0.9767\n",
            "Epoch 26/80\n",
            "9/9 [==============================] - 0s 8ms/step - loss: 0.0364 - accuracy: 0.9940 - val_loss: 0.0535 - val_accuracy: 0.9767\n",
            "Epoch 27/80\n",
            "9/9 [==============================] - 0s 8ms/step - loss: 0.0357 - accuracy: 0.9940 - val_loss: 0.0550 - val_accuracy: 0.9767\n",
            "Epoch 28/80\n",
            "9/9 [==============================] - 0s 8ms/step - loss: 0.0350 - accuracy: 0.9940 - val_loss: 0.0562 - val_accuracy: 0.9767\n",
            "Epoch 29/80\n",
            "9/9 [==============================] - 0s 7ms/step - loss: 0.0340 - accuracy: 0.9940 - val_loss: 0.0554 - val_accuracy: 0.9767\n",
            "Epoch 30/80\n",
            "9/9 [==============================] - 0s 9ms/step - loss: 0.0334 - accuracy: 0.9940 - val_loss: 0.0544 - val_accuracy: 0.9767\n",
            "Epoch 31/80\n",
            "9/9 [==============================] - 0s 8ms/step - loss: 0.0330 - accuracy: 0.9940 - val_loss: 0.0559 - val_accuracy: 0.9767\n",
            "Epoch 32/80\n",
            "9/9 [==============================] - 0s 7ms/step - loss: 0.0325 - accuracy: 0.9940 - val_loss: 0.0555 - val_accuracy: 0.9767\n",
            "Epoch 33/80\n",
            "9/9 [==============================] - 0s 8ms/step - loss: 0.0316 - accuracy: 0.9940 - val_loss: 0.0556 - val_accuracy: 0.9767\n",
            "Epoch 34/80\n",
            "9/9 [==============================] - 0s 8ms/step - loss: 0.0312 - accuracy: 0.9940 - val_loss: 0.0559 - val_accuracy: 0.9767\n",
            "Epoch 35/80\n",
            "9/9 [==============================] - 0s 8ms/step - loss: 0.0304 - accuracy: 0.9940 - val_loss: 0.0560 - val_accuracy: 0.9767\n",
            "Epoch 36/80\n",
            "9/9 [==============================] - 0s 10ms/step - loss: 0.0301 - accuracy: 0.9940 - val_loss: 0.0572 - val_accuracy: 0.9767\n",
            "Epoch 37/80\n",
            "9/9 [==============================] - 0s 8ms/step - loss: 0.0293 - accuracy: 0.9940 - val_loss: 0.0569 - val_accuracy: 0.9767\n",
            "Epoch 38/80\n",
            "9/9 [==============================] - 0s 7ms/step - loss: 0.0290 - accuracy: 0.9940 - val_loss: 0.0575 - val_accuracy: 0.9767\n",
            "Epoch 39/80\n",
            "9/9 [==============================] - 0s 7ms/step - loss: 0.0283 - accuracy: 0.9940 - val_loss: 0.0578 - val_accuracy: 0.9767\n",
            "Epoch 40/80\n",
            "9/9 [==============================] - 0s 8ms/step - loss: 0.0277 - accuracy: 0.9940 - val_loss: 0.0614 - val_accuracy: 0.9767\n",
            "Epoch 41/80\n",
            "9/9 [==============================] - 0s 8ms/step - loss: 0.0271 - accuracy: 0.9940 - val_loss: 0.0618 - val_accuracy: 0.9767\n",
            "Epoch 42/80\n",
            "9/9 [==============================] - 0s 8ms/step - loss: 0.0268 - accuracy: 0.9940 - val_loss: 0.0599 - val_accuracy: 0.9767\n",
            "Epoch 43/80\n",
            "9/9 [==============================] - 0s 8ms/step - loss: 0.0263 - accuracy: 0.9940 - val_loss: 0.0601 - val_accuracy: 0.9767\n",
            "Epoch 44/80\n",
            "9/9 [==============================] - 0s 9ms/step - loss: 0.0258 - accuracy: 0.9940 - val_loss: 0.0594 - val_accuracy: 0.9767\n",
            "Epoch 45/80\n",
            "9/9 [==============================] - 0s 9ms/step - loss: 0.0255 - accuracy: 0.9940 - val_loss: 0.0616 - val_accuracy: 0.9767\n",
            "Epoch 46/80\n",
            "9/9 [==============================] - 0s 8ms/step - loss: 0.0248 - accuracy: 0.9940 - val_loss: 0.0653 - val_accuracy: 0.9767\n",
            "Epoch 47/80\n",
            "9/9 [==============================] - 0s 7ms/step - loss: 0.0242 - accuracy: 0.9940 - val_loss: 0.0657 - val_accuracy: 0.9767\n",
            "Epoch 48/80\n",
            "9/9 [==============================] - 0s 7ms/step - loss: 0.0240 - accuracy: 0.9940 - val_loss: 0.0641 - val_accuracy: 0.9767\n",
            "Epoch 49/80\n",
            "9/9 [==============================] - 0s 8ms/step - loss: 0.0235 - accuracy: 0.9940 - val_loss: 0.0630 - val_accuracy: 0.9767\n",
            "Epoch 50/80\n",
            "9/9 [==============================] - 0s 8ms/step - loss: 0.0228 - accuracy: 0.9940 - val_loss: 0.0660 - val_accuracy: 0.9767\n",
            "Epoch 51/80\n",
            "9/9 [==============================] - 0s 8ms/step - loss: 0.0230 - accuracy: 0.9940 - val_loss: 0.0663 - val_accuracy: 0.9767\n",
            "Epoch 52/80\n",
            "9/9 [==============================] - 0s 8ms/step - loss: 0.0223 - accuracy: 0.9940 - val_loss: 0.0666 - val_accuracy: 0.9767\n",
            "Epoch 53/80\n",
            "9/9 [==============================] - 0s 8ms/step - loss: 0.0217 - accuracy: 0.9940 - val_loss: 0.0676 - val_accuracy: 0.9767\n",
            "Epoch 54/80\n",
            "9/9 [==============================] - 0s 8ms/step - loss: 0.0215 - accuracy: 0.9940 - val_loss: 0.0641 - val_accuracy: 0.9767\n",
            "Epoch 55/80\n",
            "9/9 [==============================] - 0s 8ms/step - loss: 0.0212 - accuracy: 0.9940 - val_loss: 0.0668 - val_accuracy: 0.9767\n",
            "Epoch 56/80\n",
            "9/9 [==============================] - 0s 7ms/step - loss: 0.0206 - accuracy: 0.9940 - val_loss: 0.0674 - val_accuracy: 0.9767\n",
            "Epoch 57/80\n",
            "9/9 [==============================] - 0s 7ms/step - loss: 0.0206 - accuracy: 0.9940 - val_loss: 0.0701 - val_accuracy: 0.9767\n",
            "Epoch 58/80\n",
            "9/9 [==============================] - 0s 9ms/step - loss: 0.0201 - accuracy: 0.9940 - val_loss: 0.0689 - val_accuracy: 0.9767\n",
            "Epoch 59/80\n",
            "9/9 [==============================] - 0s 9ms/step - loss: 0.0199 - accuracy: 0.9940 - val_loss: 0.0699 - val_accuracy: 0.9767\n",
            "Epoch 60/80\n",
            "9/9 [==============================] - 0s 8ms/step - loss: 0.0195 - accuracy: 0.9940 - val_loss: 0.0692 - val_accuracy: 0.9767\n",
            "Epoch 61/80\n",
            "9/9 [==============================] - 0s 7ms/step - loss: 0.0192 - accuracy: 0.9940 - val_loss: 0.0688 - val_accuracy: 0.9767\n",
            "Epoch 62/80\n",
            "9/9 [==============================] - 0s 7ms/step - loss: 0.0190 - accuracy: 0.9940 - val_loss: 0.0698 - val_accuracy: 0.9767\n",
            "Epoch 63/80\n",
            "9/9 [==============================] - 0s 8ms/step - loss: 0.0186 - accuracy: 0.9940 - val_loss: 0.0690 - val_accuracy: 0.9767\n",
            "Epoch 64/80\n",
            "9/9 [==============================] - 0s 9ms/step - loss: 0.0182 - accuracy: 0.9940 - val_loss: 0.0718 - val_accuracy: 0.9767\n",
            "Epoch 65/80\n",
            "9/9 [==============================] - 0s 8ms/step - loss: 0.0178 - accuracy: 0.9940 - val_loss: 0.0720 - val_accuracy: 0.9767\n",
            "Epoch 66/80\n",
            "9/9 [==============================] - 0s 8ms/step - loss: 0.0177 - accuracy: 0.9940 - val_loss: 0.0722 - val_accuracy: 0.9767\n",
            "Epoch 67/80\n",
            "9/9 [==============================] - 0s 8ms/step - loss: 0.0177 - accuracy: 0.9940 - val_loss: 0.0755 - val_accuracy: 0.9767\n",
            "Epoch 68/80\n",
            "9/9 [==============================] - 0s 8ms/step - loss: 0.0170 - accuracy: 0.9940 - val_loss: 0.0786 - val_accuracy: 0.9767\n",
            "Epoch 69/80\n",
            "9/9 [==============================] - 0s 11ms/step - loss: 0.0166 - accuracy: 1.0000 - val_loss: 0.0748 - val_accuracy: 0.9767\n",
            "Epoch 70/80\n",
            "9/9 [==============================] - 0s 8ms/step - loss: 0.0166 - accuracy: 0.9940 - val_loss: 0.0763 - val_accuracy: 0.9767\n",
            "Epoch 71/80\n",
            "9/9 [==============================] - 0s 9ms/step - loss: 0.0165 - accuracy: 0.9940 - val_loss: 0.0778 - val_accuracy: 0.9767\n",
            "Epoch 72/80\n",
            "9/9 [==============================] - 0s 9ms/step - loss: 0.0161 - accuracy: 0.9940 - val_loss: 0.0756 - val_accuracy: 0.9767\n",
            "Epoch 73/80\n",
            "9/9 [==============================] - 0s 8ms/step - loss: 0.0161 - accuracy: 0.9940 - val_loss: 0.0774 - val_accuracy: 0.9767\n",
            "Epoch 74/80\n",
            "9/9 [==============================] - 0s 9ms/step - loss: 0.0158 - accuracy: 0.9940 - val_loss: 0.0802 - val_accuracy: 0.9767\n",
            "Epoch 75/80\n",
            "9/9 [==============================] - 0s 7ms/step - loss: 0.0152 - accuracy: 0.9940 - val_loss: 0.0811 - val_accuracy: 0.9767\n",
            "Epoch 76/80\n",
            "9/9 [==============================] - 0s 8ms/step - loss: 0.0156 - accuracy: 0.9940 - val_loss: 0.0830 - val_accuracy: 0.9767\n",
            "Epoch 77/80\n",
            "9/9 [==============================] - 0s 8ms/step - loss: 0.0147 - accuracy: 0.9940 - val_loss: 0.0829 - val_accuracy: 0.9767\n",
            "Epoch 78/80\n",
            "9/9 [==============================] - 0s 7ms/step - loss: 0.0144 - accuracy: 1.0000 - val_loss: 0.0837 - val_accuracy: 0.9767\n",
            "Epoch 79/80\n",
            "9/9 [==============================] - 0s 7ms/step - loss: 0.0146 - accuracy: 0.9940 - val_loss: 0.0840 - val_accuracy: 0.9767\n",
            "Epoch 80/80\n",
            "9/9 [==============================] - 0s 8ms/step - loss: 0.0143 - accuracy: 1.0000 - val_loss: 0.0847 - val_accuracy: 0.9767\n"
          ],
          "name": "stdout"
        }
      ]
    },
    {
      "cell_type": "markdown",
      "metadata": {
        "id": "yOwIElGPHMCC"
      },
      "source": [
        "# Evaluation & Prediction"
      ]
    },
    {
      "cell_type": "code",
      "metadata": {
        "colab": {
          "base_uri": "https://localhost:8080/"
        },
        "id": "dOjmFa5AHOjh",
        "outputId": "4ebc4a10-c013-4465-ff63-4c376a3fc43b"
      },
      "source": [
        "accuracy_score = model.evaluate(testing_data, testing_label, batch_size=10)\n",
        "print('accuracy score ', accuracy_score[1] * 100, '%')"
      ],
      "execution_count": null,
      "outputs": [
        {
          "output_type": "stream",
          "text": [
            "14/14 [==============================] - 0s 2ms/step - loss: 0.2766 - accuracy: 0.9286\n",
            "accuracy score  92.85714030265808 %\n"
          ],
          "name": "stdout"
        }
      ]
    },
    {
      "cell_type": "code",
      "metadata": {
        "id": "5IVhnBIaIGxP"
      },
      "source": [
        "pred_score = model.predict(testing_data)"
      ],
      "execution_count": null,
      "outputs": []
    },
    {
      "cell_type": "code",
      "metadata": {
        "colab": {
          "base_uri": "https://localhost:8080/"
        },
        "id": "xYb26JVLIX_r",
        "outputId": "89b16f55-1b33-49cb-95fe-cc95e93faaff"
      },
      "source": [
        "pred_label = (pred_score > 0.5)\n",
        "tf.math.confusion_matrix(\n",
        "    testing_label, pred_label, num_classes=2, weights=None, dtype=tf.dtypes.int32,name=None)"
      ],
      "execution_count": null,
      "outputs": [
        {
          "output_type": "execute_result",
          "data": {
            "text/plain": [
              "<tf.Tensor: shape=(2, 2), dtype=int32, numpy=\n",
              "array([[47,  8],\n",
              "       [ 2, 83]], dtype=int32)>"
            ]
          },
          "metadata": {
            "tags": []
          },
          "execution_count": 212
        }
      ]
    },
    {
      "cell_type": "code",
      "metadata": {
        "colab": {
          "base_uri": "https://localhost:8080/"
        },
        "id": "DA9fpGdVIvn_",
        "outputId": "25e490bf-777d-44b3-81dc-c20c3b1a0fa7"
      },
      "source": [
        "np.count_nonzero(pred_label)"
      ],
      "execution_count": null,
      "outputs": [
        {
          "output_type": "execute_result",
          "data": {
            "text/plain": [
              "91"
            ]
          },
          "metadata": {
            "tags": []
          },
          "execution_count": 213
        }
      ]
    }
  ]
}
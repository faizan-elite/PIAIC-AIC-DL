{
  "nbformat": 4,
  "nbformat_minor": 0,
  "metadata": {
    "colab": {
      "name": "CreditCard.ipynb",
      "provenance": [],
      "collapsed_sections": [],
      "toc_visible": true
    },
    "kernelspec": {
      "name": "python3",
      "display_name": "Python 3"
    },
    "language_info": {
      "name": "python"
    }
  },
  "cells": [
    {
      "cell_type": "markdown",
      "metadata": {
        "id": "bxfs1PegiXv-"
      },
      "source": [
        "Credit Card Fraud Detection Problem"
      ]
    },
    {
      "cell_type": "markdown",
      "metadata": {
        "id": "dNwFePTGiaEy"
      },
      "source": [
        "Import Libraries"
      ]
    },
    {
      "cell_type": "code",
      "metadata": {
        "colab": {
          "base_uri": "https://localhost:8080/"
        },
        "id": "sa8-LoSgib5y",
        "outputId": "0fddc9cc-22d9-454b-a8cc-48d184d78abf"
      },
      "source": [
        "import numpy as np\n",
        "import pandas as pd\n",
        "import tensorflow as tp\n",
        "import matplotlib.pyplot as plt\n",
        "import tensorflow as tf\n",
        "from tensorflow.keras.models import Sequential \n",
        "from tensorflow.keras.layers import Dense, Dropout\n",
        "from tensorflow.keras import optimizers\n",
        "from sklearn.preprocessing import MinMaxScaler\n",
        "from sklearn.model_selection import train_test_split\n",
        "print (tf.__version__)"
      ],
      "execution_count": 1,
      "outputs": [
        {
          "output_type": "stream",
          "text": [
            "2.4.1\n"
          ],
          "name": "stdout"
        }
      ]
    },
    {
      "cell_type": "markdown",
      "metadata": {
        "id": "DQUi11uHid8A"
      },
      "source": [
        "# Load Data"
      ]
    },
    {
      "cell_type": "code",
      "metadata": {
        "id": "ZMt2k5xHigR2"
      },
      "source": [
        "data=pd.read_csv(\"/content/creditcard.csv\")"
      ],
      "execution_count": 2,
      "outputs": []
    },
    {
      "cell_type": "markdown",
      "metadata": {
        "id": "GKxEskKbirjq"
      },
      "source": [
        "# Data Analysis"
      ]
    },
    {
      "cell_type": "code",
      "metadata": {
        "colab": {
          "base_uri": "https://localhost:8080/",
          "height": 224
        },
        "id": "znwINb7vixdq",
        "outputId": "663493c5-e682-4f66-d034-64538b2bd372"
      },
      "source": [
        "data.head()"
      ],
      "execution_count": 3,
      "outputs": [
        {
          "output_type": "execute_result",
          "data": {
            "text/html": [
              "<div>\n",
              "<style scoped>\n",
              "    .dataframe tbody tr th:only-of-type {\n",
              "        vertical-align: middle;\n",
              "    }\n",
              "\n",
              "    .dataframe tbody tr th {\n",
              "        vertical-align: top;\n",
              "    }\n",
              "\n",
              "    .dataframe thead th {\n",
              "        text-align: right;\n",
              "    }\n",
              "</style>\n",
              "<table border=\"1\" class=\"dataframe\">\n",
              "  <thead>\n",
              "    <tr style=\"text-align: right;\">\n",
              "      <th></th>\n",
              "      <th>Time</th>\n",
              "      <th>V1</th>\n",
              "      <th>V2</th>\n",
              "      <th>V3</th>\n",
              "      <th>V4</th>\n",
              "      <th>V5</th>\n",
              "      <th>V6</th>\n",
              "      <th>V7</th>\n",
              "      <th>V8</th>\n",
              "      <th>V9</th>\n",
              "      <th>V10</th>\n",
              "      <th>V11</th>\n",
              "      <th>V12</th>\n",
              "      <th>V13</th>\n",
              "      <th>V14</th>\n",
              "      <th>V15</th>\n",
              "      <th>V16</th>\n",
              "      <th>V17</th>\n",
              "      <th>V18</th>\n",
              "      <th>V19</th>\n",
              "      <th>V20</th>\n",
              "      <th>V21</th>\n",
              "      <th>V22</th>\n",
              "      <th>V23</th>\n",
              "      <th>V24</th>\n",
              "      <th>V25</th>\n",
              "      <th>V26</th>\n",
              "      <th>V27</th>\n",
              "      <th>V28</th>\n",
              "      <th>Amount</th>\n",
              "      <th>Class</th>\n",
              "    </tr>\n",
              "  </thead>\n",
              "  <tbody>\n",
              "    <tr>\n",
              "      <th>0</th>\n",
              "      <td>0.0</td>\n",
              "      <td>-1.359807</td>\n",
              "      <td>-0.072781</td>\n",
              "      <td>2.536347</td>\n",
              "      <td>1.378155</td>\n",
              "      <td>-0.338321</td>\n",
              "      <td>0.462388</td>\n",
              "      <td>0.239599</td>\n",
              "      <td>0.098698</td>\n",
              "      <td>0.363787</td>\n",
              "      <td>0.090794</td>\n",
              "      <td>-0.551600</td>\n",
              "      <td>-0.617801</td>\n",
              "      <td>-0.991390</td>\n",
              "      <td>-0.311169</td>\n",
              "      <td>1.468177</td>\n",
              "      <td>-0.470401</td>\n",
              "      <td>0.207971</td>\n",
              "      <td>0.025791</td>\n",
              "      <td>0.403993</td>\n",
              "      <td>0.251412</td>\n",
              "      <td>-0.018307</td>\n",
              "      <td>0.277838</td>\n",
              "      <td>-0.110474</td>\n",
              "      <td>0.066928</td>\n",
              "      <td>0.128539</td>\n",
              "      <td>-0.189115</td>\n",
              "      <td>0.133558</td>\n",
              "      <td>-0.021053</td>\n",
              "      <td>149.62</td>\n",
              "      <td>0</td>\n",
              "    </tr>\n",
              "    <tr>\n",
              "      <th>1</th>\n",
              "      <td>0.0</td>\n",
              "      <td>1.191857</td>\n",
              "      <td>0.266151</td>\n",
              "      <td>0.166480</td>\n",
              "      <td>0.448154</td>\n",
              "      <td>0.060018</td>\n",
              "      <td>-0.082361</td>\n",
              "      <td>-0.078803</td>\n",
              "      <td>0.085102</td>\n",
              "      <td>-0.255425</td>\n",
              "      <td>-0.166974</td>\n",
              "      <td>1.612727</td>\n",
              "      <td>1.065235</td>\n",
              "      <td>0.489095</td>\n",
              "      <td>-0.143772</td>\n",
              "      <td>0.635558</td>\n",
              "      <td>0.463917</td>\n",
              "      <td>-0.114805</td>\n",
              "      <td>-0.183361</td>\n",
              "      <td>-0.145783</td>\n",
              "      <td>-0.069083</td>\n",
              "      <td>-0.225775</td>\n",
              "      <td>-0.638672</td>\n",
              "      <td>0.101288</td>\n",
              "      <td>-0.339846</td>\n",
              "      <td>0.167170</td>\n",
              "      <td>0.125895</td>\n",
              "      <td>-0.008983</td>\n",
              "      <td>0.014724</td>\n",
              "      <td>2.69</td>\n",
              "      <td>0</td>\n",
              "    </tr>\n",
              "    <tr>\n",
              "      <th>2</th>\n",
              "      <td>1.0</td>\n",
              "      <td>-1.358354</td>\n",
              "      <td>-1.340163</td>\n",
              "      <td>1.773209</td>\n",
              "      <td>0.379780</td>\n",
              "      <td>-0.503198</td>\n",
              "      <td>1.800499</td>\n",
              "      <td>0.791461</td>\n",
              "      <td>0.247676</td>\n",
              "      <td>-1.514654</td>\n",
              "      <td>0.207643</td>\n",
              "      <td>0.624501</td>\n",
              "      <td>0.066084</td>\n",
              "      <td>0.717293</td>\n",
              "      <td>-0.165946</td>\n",
              "      <td>2.345865</td>\n",
              "      <td>-2.890083</td>\n",
              "      <td>1.109969</td>\n",
              "      <td>-0.121359</td>\n",
              "      <td>-2.261857</td>\n",
              "      <td>0.524980</td>\n",
              "      <td>0.247998</td>\n",
              "      <td>0.771679</td>\n",
              "      <td>0.909412</td>\n",
              "      <td>-0.689281</td>\n",
              "      <td>-0.327642</td>\n",
              "      <td>-0.139097</td>\n",
              "      <td>-0.055353</td>\n",
              "      <td>-0.059752</td>\n",
              "      <td>378.66</td>\n",
              "      <td>0</td>\n",
              "    </tr>\n",
              "    <tr>\n",
              "      <th>3</th>\n",
              "      <td>1.0</td>\n",
              "      <td>-0.966272</td>\n",
              "      <td>-0.185226</td>\n",
              "      <td>1.792993</td>\n",
              "      <td>-0.863291</td>\n",
              "      <td>-0.010309</td>\n",
              "      <td>1.247203</td>\n",
              "      <td>0.237609</td>\n",
              "      <td>0.377436</td>\n",
              "      <td>-1.387024</td>\n",
              "      <td>-0.054952</td>\n",
              "      <td>-0.226487</td>\n",
              "      <td>0.178228</td>\n",
              "      <td>0.507757</td>\n",
              "      <td>-0.287924</td>\n",
              "      <td>-0.631418</td>\n",
              "      <td>-1.059647</td>\n",
              "      <td>-0.684093</td>\n",
              "      <td>1.965775</td>\n",
              "      <td>-1.232622</td>\n",
              "      <td>-0.208038</td>\n",
              "      <td>-0.108300</td>\n",
              "      <td>0.005274</td>\n",
              "      <td>-0.190321</td>\n",
              "      <td>-1.175575</td>\n",
              "      <td>0.647376</td>\n",
              "      <td>-0.221929</td>\n",
              "      <td>0.062723</td>\n",
              "      <td>0.061458</td>\n",
              "      <td>123.50</td>\n",
              "      <td>0</td>\n",
              "    </tr>\n",
              "    <tr>\n",
              "      <th>4</th>\n",
              "      <td>2.0</td>\n",
              "      <td>-1.158233</td>\n",
              "      <td>0.877737</td>\n",
              "      <td>1.548718</td>\n",
              "      <td>0.403034</td>\n",
              "      <td>-0.407193</td>\n",
              "      <td>0.095921</td>\n",
              "      <td>0.592941</td>\n",
              "      <td>-0.270533</td>\n",
              "      <td>0.817739</td>\n",
              "      <td>0.753074</td>\n",
              "      <td>-0.822843</td>\n",
              "      <td>0.538196</td>\n",
              "      <td>1.345852</td>\n",
              "      <td>-1.119670</td>\n",
              "      <td>0.175121</td>\n",
              "      <td>-0.451449</td>\n",
              "      <td>-0.237033</td>\n",
              "      <td>-0.038195</td>\n",
              "      <td>0.803487</td>\n",
              "      <td>0.408542</td>\n",
              "      <td>-0.009431</td>\n",
              "      <td>0.798278</td>\n",
              "      <td>-0.137458</td>\n",
              "      <td>0.141267</td>\n",
              "      <td>-0.206010</td>\n",
              "      <td>0.502292</td>\n",
              "      <td>0.219422</td>\n",
              "      <td>0.215153</td>\n",
              "      <td>69.99</td>\n",
              "      <td>0</td>\n",
              "    </tr>\n",
              "  </tbody>\n",
              "</table>\n",
              "</div>"
            ],
            "text/plain": [
              "   Time        V1        V2        V3  ...       V27       V28  Amount  Class\n",
              "0   0.0 -1.359807 -0.072781  2.536347  ...  0.133558 -0.021053  149.62      0\n",
              "1   0.0  1.191857  0.266151  0.166480  ... -0.008983  0.014724    2.69      0\n",
              "2   1.0 -1.358354 -1.340163  1.773209  ... -0.055353 -0.059752  378.66      0\n",
              "3   1.0 -0.966272 -0.185226  1.792993  ...  0.062723  0.061458  123.50      0\n",
              "4   2.0 -1.158233  0.877737  1.548718  ...  0.219422  0.215153   69.99      0\n",
              "\n",
              "[5 rows x 31 columns]"
            ]
          },
          "metadata": {
            "tags": []
          },
          "execution_count": 3
        }
      ]
    },
    {
      "cell_type": "code",
      "metadata": {
        "colab": {
          "base_uri": "https://localhost:8080/"
        },
        "id": "o7_Ip-dci35K",
        "outputId": "0b200f6f-f6b0-440d-f2fd-5792b024edd8"
      },
      "source": [
        "data.shape"
      ],
      "execution_count": 4,
      "outputs": [
        {
          "output_type": "execute_result",
          "data": {
            "text/plain": [
              "(284807, 31)"
            ]
          },
          "metadata": {
            "tags": []
          },
          "execution_count": 4
        }
      ]
    },
    {
      "cell_type": "markdown",
      "metadata": {
        "id": "n1AF6NRli4UF"
      },
      "source": [
        "There are 31 Columns and 284,807 rows of transactions"
      ]
    },
    {
      "cell_type": "code",
      "metadata": {
        "colab": {
          "base_uri": "https://localhost:8080/"
        },
        "id": "BfjDw6bCjAts",
        "outputId": "7f9f745d-636d-4028-9097-8a0188f41074"
      },
      "source": [
        "data.info()"
      ],
      "execution_count": 5,
      "outputs": [
        {
          "output_type": "stream",
          "text": [
            "<class 'pandas.core.frame.DataFrame'>\n",
            "RangeIndex: 284807 entries, 0 to 284806\n",
            "Data columns (total 31 columns):\n",
            " #   Column  Non-Null Count   Dtype  \n",
            "---  ------  --------------   -----  \n",
            " 0   Time    284807 non-null  float64\n",
            " 1   V1      284807 non-null  float64\n",
            " 2   V2      284807 non-null  float64\n",
            " 3   V3      284807 non-null  float64\n",
            " 4   V4      284807 non-null  float64\n",
            " 5   V5      284807 non-null  float64\n",
            " 6   V6      284807 non-null  float64\n",
            " 7   V7      284807 non-null  float64\n",
            " 8   V8      284807 non-null  float64\n",
            " 9   V9      284807 non-null  float64\n",
            " 10  V10     284807 non-null  float64\n",
            " 11  V11     284807 non-null  float64\n",
            " 12  V12     284807 non-null  float64\n",
            " 13  V13     284807 non-null  float64\n",
            " 14  V14     284807 non-null  float64\n",
            " 15  V15     284807 non-null  float64\n",
            " 16  V16     284807 non-null  float64\n",
            " 17  V17     284807 non-null  float64\n",
            " 18  V18     284807 non-null  float64\n",
            " 19  V19     284807 non-null  float64\n",
            " 20  V20     284807 non-null  float64\n",
            " 21  V21     284807 non-null  float64\n",
            " 22  V22     284807 non-null  float64\n",
            " 23  V23     284807 non-null  float64\n",
            " 24  V24     284807 non-null  float64\n",
            " 25  V25     284807 non-null  float64\n",
            " 26  V26     284807 non-null  float64\n",
            " 27  V27     284807 non-null  float64\n",
            " 28  V28     284807 non-null  float64\n",
            " 29  Amount  284807 non-null  float64\n",
            " 30  Class   284807 non-null  int64  \n",
            "dtypes: float64(30), int64(1)\n",
            "memory usage: 67.4 MB\n"
          ],
          "name": "stdout"
        }
      ]
    },
    {
      "cell_type": "markdown",
      "metadata": {
        "id": "Dj0zqou6jDE5"
      },
      "source": [
        "# Data Cleaning"
      ]
    },
    {
      "cell_type": "markdown",
      "metadata": {
        "id": "akGMlegLjfPf"
      },
      "source": [
        "Missing Values"
      ]
    },
    {
      "cell_type": "code",
      "metadata": {
        "colab": {
          "base_uri": "https://localhost:8080/"
        },
        "id": "7kRulxH8jhnr",
        "outputId": "cfd38185-06ea-494b-e4a6-66a88bf4b391"
      },
      "source": [
        "data.isnull().sum()"
      ],
      "execution_count": 6,
      "outputs": [
        {
          "output_type": "execute_result",
          "data": {
            "text/plain": [
              "Time      0\n",
              "V1        0\n",
              "V2        0\n",
              "V3        0\n",
              "V4        0\n",
              "V5        0\n",
              "V6        0\n",
              "V7        0\n",
              "V8        0\n",
              "V9        0\n",
              "V10       0\n",
              "V11       0\n",
              "V12       0\n",
              "V13       0\n",
              "V14       0\n",
              "V15       0\n",
              "V16       0\n",
              "V17       0\n",
              "V18       0\n",
              "V19       0\n",
              "V20       0\n",
              "V21       0\n",
              "V22       0\n",
              "V23       0\n",
              "V24       0\n",
              "V25       0\n",
              "V26       0\n",
              "V27       0\n",
              "V28       0\n",
              "Amount    0\n",
              "Class     0\n",
              "dtype: int64"
            ]
          },
          "metadata": {
            "tags": []
          },
          "execution_count": 6
        }
      ]
    },
    {
      "cell_type": "code",
      "metadata": {
        "colab": {
          "base_uri": "https://localhost:8080/"
        },
        "id": "8Lfoa4i2lM51",
        "outputId": "b42c1a8c-d6f6-4998-c0bc-a21003eae242"
      },
      "source": [
        "np.where(data.applymap(lambda x: x=='') )"
      ],
      "execution_count": 7,
      "outputs": [
        {
          "output_type": "execute_result",
          "data": {
            "text/plain": [
              "(array([], dtype=int64), array([], dtype=int64))"
            ]
          },
          "metadata": {
            "tags": []
          },
          "execution_count": 7
        }
      ]
    },
    {
      "cell_type": "code",
      "metadata": {
        "colab": {
          "base_uri": "https://localhost:8080/",
          "height": 317
        },
        "id": "cuTnxshepyyZ",
        "outputId": "09f18bab-a2aa-4123-a3bd-52bd39994622"
      },
      "source": [
        "data.describe()"
      ],
      "execution_count": 8,
      "outputs": [
        {
          "output_type": "execute_result",
          "data": {
            "text/html": [
              "<div>\n",
              "<style scoped>\n",
              "    .dataframe tbody tr th:only-of-type {\n",
              "        vertical-align: middle;\n",
              "    }\n",
              "\n",
              "    .dataframe tbody tr th {\n",
              "        vertical-align: top;\n",
              "    }\n",
              "\n",
              "    .dataframe thead th {\n",
              "        text-align: right;\n",
              "    }\n",
              "</style>\n",
              "<table border=\"1\" class=\"dataframe\">\n",
              "  <thead>\n",
              "    <tr style=\"text-align: right;\">\n",
              "      <th></th>\n",
              "      <th>Time</th>\n",
              "      <th>V1</th>\n",
              "      <th>V2</th>\n",
              "      <th>V3</th>\n",
              "      <th>V4</th>\n",
              "      <th>V5</th>\n",
              "      <th>V6</th>\n",
              "      <th>V7</th>\n",
              "      <th>V8</th>\n",
              "      <th>V9</th>\n",
              "      <th>V10</th>\n",
              "      <th>V11</th>\n",
              "      <th>V12</th>\n",
              "      <th>V13</th>\n",
              "      <th>V14</th>\n",
              "      <th>V15</th>\n",
              "      <th>V16</th>\n",
              "      <th>V17</th>\n",
              "      <th>V18</th>\n",
              "      <th>V19</th>\n",
              "      <th>V20</th>\n",
              "      <th>V21</th>\n",
              "      <th>V22</th>\n",
              "      <th>V23</th>\n",
              "      <th>V24</th>\n",
              "      <th>V25</th>\n",
              "      <th>V26</th>\n",
              "      <th>V27</th>\n",
              "      <th>V28</th>\n",
              "      <th>Amount</th>\n",
              "      <th>Class</th>\n",
              "    </tr>\n",
              "  </thead>\n",
              "  <tbody>\n",
              "    <tr>\n",
              "      <th>count</th>\n",
              "      <td>284807.000000</td>\n",
              "      <td>2.848070e+05</td>\n",
              "      <td>2.848070e+05</td>\n",
              "      <td>2.848070e+05</td>\n",
              "      <td>2.848070e+05</td>\n",
              "      <td>2.848070e+05</td>\n",
              "      <td>2.848070e+05</td>\n",
              "      <td>2.848070e+05</td>\n",
              "      <td>2.848070e+05</td>\n",
              "      <td>2.848070e+05</td>\n",
              "      <td>2.848070e+05</td>\n",
              "      <td>2.848070e+05</td>\n",
              "      <td>2.848070e+05</td>\n",
              "      <td>2.848070e+05</td>\n",
              "      <td>2.848070e+05</td>\n",
              "      <td>2.848070e+05</td>\n",
              "      <td>2.848070e+05</td>\n",
              "      <td>2.848070e+05</td>\n",
              "      <td>2.848070e+05</td>\n",
              "      <td>2.848070e+05</td>\n",
              "      <td>2.848070e+05</td>\n",
              "      <td>2.848070e+05</td>\n",
              "      <td>2.848070e+05</td>\n",
              "      <td>2.848070e+05</td>\n",
              "      <td>2.848070e+05</td>\n",
              "      <td>2.848070e+05</td>\n",
              "      <td>2.848070e+05</td>\n",
              "      <td>2.848070e+05</td>\n",
              "      <td>2.848070e+05</td>\n",
              "      <td>284807.000000</td>\n",
              "      <td>284807.000000</td>\n",
              "    </tr>\n",
              "    <tr>\n",
              "      <th>mean</th>\n",
              "      <td>94813.859575</td>\n",
              "      <td>3.919560e-15</td>\n",
              "      <td>5.688174e-16</td>\n",
              "      <td>-8.769071e-15</td>\n",
              "      <td>2.782312e-15</td>\n",
              "      <td>-1.552563e-15</td>\n",
              "      <td>2.010663e-15</td>\n",
              "      <td>-1.694249e-15</td>\n",
              "      <td>-1.927028e-16</td>\n",
              "      <td>-3.137024e-15</td>\n",
              "      <td>1.768627e-15</td>\n",
              "      <td>9.170318e-16</td>\n",
              "      <td>-1.810658e-15</td>\n",
              "      <td>1.693438e-15</td>\n",
              "      <td>1.479045e-15</td>\n",
              "      <td>3.482336e-15</td>\n",
              "      <td>1.392007e-15</td>\n",
              "      <td>-7.528491e-16</td>\n",
              "      <td>4.328772e-16</td>\n",
              "      <td>9.049732e-16</td>\n",
              "      <td>5.085503e-16</td>\n",
              "      <td>1.537294e-16</td>\n",
              "      <td>7.959909e-16</td>\n",
              "      <td>5.367590e-16</td>\n",
              "      <td>4.458112e-15</td>\n",
              "      <td>1.453003e-15</td>\n",
              "      <td>1.699104e-15</td>\n",
              "      <td>-3.660161e-16</td>\n",
              "      <td>-1.206049e-16</td>\n",
              "      <td>88.349619</td>\n",
              "      <td>0.001727</td>\n",
              "    </tr>\n",
              "    <tr>\n",
              "      <th>std</th>\n",
              "      <td>47488.145955</td>\n",
              "      <td>1.958696e+00</td>\n",
              "      <td>1.651309e+00</td>\n",
              "      <td>1.516255e+00</td>\n",
              "      <td>1.415869e+00</td>\n",
              "      <td>1.380247e+00</td>\n",
              "      <td>1.332271e+00</td>\n",
              "      <td>1.237094e+00</td>\n",
              "      <td>1.194353e+00</td>\n",
              "      <td>1.098632e+00</td>\n",
              "      <td>1.088850e+00</td>\n",
              "      <td>1.020713e+00</td>\n",
              "      <td>9.992014e-01</td>\n",
              "      <td>9.952742e-01</td>\n",
              "      <td>9.585956e-01</td>\n",
              "      <td>9.153160e-01</td>\n",
              "      <td>8.762529e-01</td>\n",
              "      <td>8.493371e-01</td>\n",
              "      <td>8.381762e-01</td>\n",
              "      <td>8.140405e-01</td>\n",
              "      <td>7.709250e-01</td>\n",
              "      <td>7.345240e-01</td>\n",
              "      <td>7.257016e-01</td>\n",
              "      <td>6.244603e-01</td>\n",
              "      <td>6.056471e-01</td>\n",
              "      <td>5.212781e-01</td>\n",
              "      <td>4.822270e-01</td>\n",
              "      <td>4.036325e-01</td>\n",
              "      <td>3.300833e-01</td>\n",
              "      <td>250.120109</td>\n",
              "      <td>0.041527</td>\n",
              "    </tr>\n",
              "    <tr>\n",
              "      <th>min</th>\n",
              "      <td>0.000000</td>\n",
              "      <td>-5.640751e+01</td>\n",
              "      <td>-7.271573e+01</td>\n",
              "      <td>-4.832559e+01</td>\n",
              "      <td>-5.683171e+00</td>\n",
              "      <td>-1.137433e+02</td>\n",
              "      <td>-2.616051e+01</td>\n",
              "      <td>-4.355724e+01</td>\n",
              "      <td>-7.321672e+01</td>\n",
              "      <td>-1.343407e+01</td>\n",
              "      <td>-2.458826e+01</td>\n",
              "      <td>-4.797473e+00</td>\n",
              "      <td>-1.868371e+01</td>\n",
              "      <td>-5.791881e+00</td>\n",
              "      <td>-1.921433e+01</td>\n",
              "      <td>-4.498945e+00</td>\n",
              "      <td>-1.412985e+01</td>\n",
              "      <td>-2.516280e+01</td>\n",
              "      <td>-9.498746e+00</td>\n",
              "      <td>-7.213527e+00</td>\n",
              "      <td>-5.449772e+01</td>\n",
              "      <td>-3.483038e+01</td>\n",
              "      <td>-1.093314e+01</td>\n",
              "      <td>-4.480774e+01</td>\n",
              "      <td>-2.836627e+00</td>\n",
              "      <td>-1.029540e+01</td>\n",
              "      <td>-2.604551e+00</td>\n",
              "      <td>-2.256568e+01</td>\n",
              "      <td>-1.543008e+01</td>\n",
              "      <td>0.000000</td>\n",
              "      <td>0.000000</td>\n",
              "    </tr>\n",
              "    <tr>\n",
              "      <th>25%</th>\n",
              "      <td>54201.500000</td>\n",
              "      <td>-9.203734e-01</td>\n",
              "      <td>-5.985499e-01</td>\n",
              "      <td>-8.903648e-01</td>\n",
              "      <td>-8.486401e-01</td>\n",
              "      <td>-6.915971e-01</td>\n",
              "      <td>-7.682956e-01</td>\n",
              "      <td>-5.540759e-01</td>\n",
              "      <td>-2.086297e-01</td>\n",
              "      <td>-6.430976e-01</td>\n",
              "      <td>-5.354257e-01</td>\n",
              "      <td>-7.624942e-01</td>\n",
              "      <td>-4.055715e-01</td>\n",
              "      <td>-6.485393e-01</td>\n",
              "      <td>-4.255740e-01</td>\n",
              "      <td>-5.828843e-01</td>\n",
              "      <td>-4.680368e-01</td>\n",
              "      <td>-4.837483e-01</td>\n",
              "      <td>-4.988498e-01</td>\n",
              "      <td>-4.562989e-01</td>\n",
              "      <td>-2.117214e-01</td>\n",
              "      <td>-2.283949e-01</td>\n",
              "      <td>-5.423504e-01</td>\n",
              "      <td>-1.618463e-01</td>\n",
              "      <td>-3.545861e-01</td>\n",
              "      <td>-3.171451e-01</td>\n",
              "      <td>-3.269839e-01</td>\n",
              "      <td>-7.083953e-02</td>\n",
              "      <td>-5.295979e-02</td>\n",
              "      <td>5.600000</td>\n",
              "      <td>0.000000</td>\n",
              "    </tr>\n",
              "    <tr>\n",
              "      <th>50%</th>\n",
              "      <td>84692.000000</td>\n",
              "      <td>1.810880e-02</td>\n",
              "      <td>6.548556e-02</td>\n",
              "      <td>1.798463e-01</td>\n",
              "      <td>-1.984653e-02</td>\n",
              "      <td>-5.433583e-02</td>\n",
              "      <td>-2.741871e-01</td>\n",
              "      <td>4.010308e-02</td>\n",
              "      <td>2.235804e-02</td>\n",
              "      <td>-5.142873e-02</td>\n",
              "      <td>-9.291738e-02</td>\n",
              "      <td>-3.275735e-02</td>\n",
              "      <td>1.400326e-01</td>\n",
              "      <td>-1.356806e-02</td>\n",
              "      <td>5.060132e-02</td>\n",
              "      <td>4.807155e-02</td>\n",
              "      <td>6.641332e-02</td>\n",
              "      <td>-6.567575e-02</td>\n",
              "      <td>-3.636312e-03</td>\n",
              "      <td>3.734823e-03</td>\n",
              "      <td>-6.248109e-02</td>\n",
              "      <td>-2.945017e-02</td>\n",
              "      <td>6.781943e-03</td>\n",
              "      <td>-1.119293e-02</td>\n",
              "      <td>4.097606e-02</td>\n",
              "      <td>1.659350e-02</td>\n",
              "      <td>-5.213911e-02</td>\n",
              "      <td>1.342146e-03</td>\n",
              "      <td>1.124383e-02</td>\n",
              "      <td>22.000000</td>\n",
              "      <td>0.000000</td>\n",
              "    </tr>\n",
              "    <tr>\n",
              "      <th>75%</th>\n",
              "      <td>139320.500000</td>\n",
              "      <td>1.315642e+00</td>\n",
              "      <td>8.037239e-01</td>\n",
              "      <td>1.027196e+00</td>\n",
              "      <td>7.433413e-01</td>\n",
              "      <td>6.119264e-01</td>\n",
              "      <td>3.985649e-01</td>\n",
              "      <td>5.704361e-01</td>\n",
              "      <td>3.273459e-01</td>\n",
              "      <td>5.971390e-01</td>\n",
              "      <td>4.539234e-01</td>\n",
              "      <td>7.395934e-01</td>\n",
              "      <td>6.182380e-01</td>\n",
              "      <td>6.625050e-01</td>\n",
              "      <td>4.931498e-01</td>\n",
              "      <td>6.488208e-01</td>\n",
              "      <td>5.232963e-01</td>\n",
              "      <td>3.996750e-01</td>\n",
              "      <td>5.008067e-01</td>\n",
              "      <td>4.589494e-01</td>\n",
              "      <td>1.330408e-01</td>\n",
              "      <td>1.863772e-01</td>\n",
              "      <td>5.285536e-01</td>\n",
              "      <td>1.476421e-01</td>\n",
              "      <td>4.395266e-01</td>\n",
              "      <td>3.507156e-01</td>\n",
              "      <td>2.409522e-01</td>\n",
              "      <td>9.104512e-02</td>\n",
              "      <td>7.827995e-02</td>\n",
              "      <td>77.165000</td>\n",
              "      <td>0.000000</td>\n",
              "    </tr>\n",
              "    <tr>\n",
              "      <th>max</th>\n",
              "      <td>172792.000000</td>\n",
              "      <td>2.454930e+00</td>\n",
              "      <td>2.205773e+01</td>\n",
              "      <td>9.382558e+00</td>\n",
              "      <td>1.687534e+01</td>\n",
              "      <td>3.480167e+01</td>\n",
              "      <td>7.330163e+01</td>\n",
              "      <td>1.205895e+02</td>\n",
              "      <td>2.000721e+01</td>\n",
              "      <td>1.559499e+01</td>\n",
              "      <td>2.374514e+01</td>\n",
              "      <td>1.201891e+01</td>\n",
              "      <td>7.848392e+00</td>\n",
              "      <td>7.126883e+00</td>\n",
              "      <td>1.052677e+01</td>\n",
              "      <td>8.877742e+00</td>\n",
              "      <td>1.731511e+01</td>\n",
              "      <td>9.253526e+00</td>\n",
              "      <td>5.041069e+00</td>\n",
              "      <td>5.591971e+00</td>\n",
              "      <td>3.942090e+01</td>\n",
              "      <td>2.720284e+01</td>\n",
              "      <td>1.050309e+01</td>\n",
              "      <td>2.252841e+01</td>\n",
              "      <td>4.584549e+00</td>\n",
              "      <td>7.519589e+00</td>\n",
              "      <td>3.517346e+00</td>\n",
              "      <td>3.161220e+01</td>\n",
              "      <td>3.384781e+01</td>\n",
              "      <td>25691.160000</td>\n",
              "      <td>1.000000</td>\n",
              "    </tr>\n",
              "  </tbody>\n",
              "</table>\n",
              "</div>"
            ],
            "text/plain": [
              "                Time            V1  ...         Amount          Class\n",
              "count  284807.000000  2.848070e+05  ...  284807.000000  284807.000000\n",
              "mean    94813.859575  3.919560e-15  ...      88.349619       0.001727\n",
              "std     47488.145955  1.958696e+00  ...     250.120109       0.041527\n",
              "min         0.000000 -5.640751e+01  ...       0.000000       0.000000\n",
              "25%     54201.500000 -9.203734e-01  ...       5.600000       0.000000\n",
              "50%     84692.000000  1.810880e-02  ...      22.000000       0.000000\n",
              "75%    139320.500000  1.315642e+00  ...      77.165000       0.000000\n",
              "max    172792.000000  2.454930e+00  ...   25691.160000       1.000000\n",
              "\n",
              "[8 rows x 31 columns]"
            ]
          },
          "metadata": {
            "tags": []
          },
          "execution_count": 8
        }
      ]
    },
    {
      "cell_type": "code",
      "metadata": {
        "id": "2G838FONkUDO"
      },
      "source": [
        "not_fraud = data[data['Class']==0] \n",
        "fraud = data[data['Class'] == 1]"
      ],
      "execution_count": 9,
      "outputs": []
    },
    {
      "cell_type": "code",
      "metadata": {
        "id": "aAgSM6g8lb0D"
      },
      "source": [
        "not_fraud = not_fraud.sample(fraud.shape[0])\n",
        "not_fraud.shape\n",
        "data= fraud.append(not_fraud, ignore_index=True)\n",
        "data.shape\n",
        "data['Class'].value_counts()\n",
        "x_data = data.drop(columns = 'Class', axis=0)\n",
        "label = data['Class']"
      ],
      "execution_count": 10,
      "outputs": []
    },
    {
      "cell_type": "code",
      "metadata": {
        "colab": {
          "base_uri": "https://localhost:8080/"
        },
        "id": "202zYx_WlmnA",
        "outputId": "c58b50cd-b282-48d3-e5fa-dde92d6cc8df"
      },
      "source": [
        "not_fraud.shape"
      ],
      "execution_count": 11,
      "outputs": [
        {
          "output_type": "execute_result",
          "data": {
            "text/plain": [
              "(492, 31)"
            ]
          },
          "metadata": {
            "tags": []
          },
          "execution_count": 11
        }
      ]
    },
    {
      "cell_type": "code",
      "metadata": {
        "colab": {
          "base_uri": "https://localhost:8080/"
        },
        "id": "i7PKV5uBqhlf",
        "outputId": "138db793-4f6f-44a3-d3e7-9465bc71c7ac"
      },
      "source": [
        "fraud.shape"
      ],
      "execution_count": 12,
      "outputs": [
        {
          "output_type": "execute_result",
          "data": {
            "text/plain": [
              "(492, 31)"
            ]
          },
          "metadata": {
            "tags": []
          },
          "execution_count": 12
        }
      ]
    },
    {
      "cell_type": "markdown",
      "metadata": {
        "id": "gISeYWvDmkHy"
      },
      "source": [
        "Split the data"
      ]
    },
    {
      "cell_type": "code",
      "metadata": {
        "id": "bdNxOcygkU5N"
      },
      "source": [
        "training_data, testing_data, training_labels, testing_labels = train_test_split(x_data, label, test_size = .3, random_state=1, stratify= label)"
      ],
      "execution_count": 13,
      "outputs": []
    },
    {
      "cell_type": "code",
      "metadata": {
        "colab": {
          "base_uri": "https://localhost:8080/"
        },
        "id": "T65qLKfxkg6f",
        "outputId": "dc4f037e-6686-4af6-d2cc-3c968d23c0fa"
      },
      "source": [
        "amt_zero = np.where(data.Amount.apply(lambda x: x == 0))\n",
        "(data['Amount'].values == 0 ).sum()"
      ],
      "execution_count": 14,
      "outputs": [
        {
          "output_type": "execute_result",
          "data": {
            "text/plain": [
              "32"
            ]
          },
          "metadata": {
            "tags": []
          },
          "execution_count": 14
        }
      ]
    },
    {
      "cell_type": "markdown",
      "metadata": {
        "id": "LS3uMzVUmU7P"
      },
      "source": [
        "Standarize the data"
      ]
    },
    {
      "cell_type": "code",
      "metadata": {
        "id": "aeCLuClxmPQ1"
      },
      "source": [
        "mean = training_data.mean(axis=0) \n",
        "training_data -= mean\n",
        "std = training_data.std(axis=0) \n",
        "training_data /=std\n",
        "testing_data -=mean \n",
        "testing_data /=std"
      ],
      "execution_count": 15,
      "outputs": []
    },
    {
      "cell_type": "code",
      "metadata": {
        "colab": {
          "base_uri": "https://localhost:8080/"
        },
        "id": "xJ2Mv-DQmdiB",
        "outputId": "a9771ed8-57b2-492b-c6ef-9bd3511fb434"
      },
      "source": [
        "testing_data.dtypes"
      ],
      "execution_count": 16,
      "outputs": [
        {
          "output_type": "execute_result",
          "data": {
            "text/plain": [
              "Time      float64\n",
              "V1        float64\n",
              "V2        float64\n",
              "V3        float64\n",
              "V4        float64\n",
              "V5        float64\n",
              "V6        float64\n",
              "V7        float64\n",
              "V8        float64\n",
              "V9        float64\n",
              "V10       float64\n",
              "V11       float64\n",
              "V12       float64\n",
              "V13       float64\n",
              "V14       float64\n",
              "V15       float64\n",
              "V16       float64\n",
              "V17       float64\n",
              "V18       float64\n",
              "V19       float64\n",
              "V20       float64\n",
              "V21       float64\n",
              "V22       float64\n",
              "V23       float64\n",
              "V24       float64\n",
              "V25       float64\n",
              "V26       float64\n",
              "V27       float64\n",
              "V28       float64\n",
              "Amount    float64\n",
              "dtype: object"
            ]
          },
          "metadata": {
            "tags": []
          },
          "execution_count": 16
        }
      ]
    },
    {
      "cell_type": "markdown",
      "metadata": {
        "id": "IYogjDXwmk_E"
      },
      "source": [
        "Model - relu"
      ]
    },
    {
      "cell_type": "code",
      "metadata": {
        "id": "ImnfDyepmsh3"
      },
      "source": [
        "model_relu = Sequential()\n",
        "model_relu.add(Dense(10, activation= 'relu',input_shape =(training_data.shape[1],)))\n",
        "model_relu.add(Dropout(0.3))\n",
        "model_relu.add(Dense(8, activation= 'relu')) \n",
        "model_relu.add(Dropout(0.3))\n",
        "model_relu.add(Dense(6, activation= 'relu')) \n",
        "model_relu.add(Dropout(0.3))\n",
        "model_relu.add(Dense(1, activation= 'sigmoid'))"
      ],
      "execution_count": 17,
      "outputs": []
    },
    {
      "cell_type": "markdown",
      "metadata": {
        "id": "KW0FlCmzm6PD"
      },
      "source": [
        "Model - Tanh"
      ]
    },
    {
      "cell_type": "code",
      "metadata": {
        "id": "jJGPmmVumymW"
      },
      "source": [
        "model_tanh = Sequential()\n",
        "model_tanh.add(Dense(10, activation= 'tanh',input_shape=(training_data.shape[1],))) \n",
        "model_tanh.add(Dropout(0.3)) \n",
        "model_tanh.add(Dense(8, activation= 'tanh')) \n",
        "model_tanh.add(Dropout(0.3)) \n",
        "model_tanh.add(Dense(6, activation= 'tanh')) \n",
        "model_tanh.add(Dropout(0.3)) \n",
        "model_tanh.add(Dense(1, activation= 'sigmoid'))"
      ],
      "execution_count": 18,
      "outputs": []
    },
    {
      "cell_type": "markdown",
      "metadata": {
        "id": "8c_JLE-znXDe"
      },
      "source": [
        "Compilation Step"
      ]
    },
    {
      "cell_type": "code",
      "metadata": {
        "id": "7hx5VTKbnRHI"
      },
      "source": [
        "model_relu.compile(loss ='binary_crossentropy', optimizer='RMSprop', metrics=['accuracy'])"
      ],
      "execution_count": 19,
      "outputs": []
    },
    {
      "cell_type": "code",
      "metadata": {
        "colab": {
          "base_uri": "https://localhost:8080/"
        },
        "id": "mwcazClpnbsO",
        "outputId": "1a2e5c65-9b06-436a-aa3a-20e38a0c9657"
      },
      "source": [
        "history_relu = model_relu.fit(training_data, training_labels, epochs=100, validation_split= 0.3)"
      ],
      "execution_count": 20,
      "outputs": [
        {
          "output_type": "stream",
          "text": [
            "Epoch 1/100\n",
            "16/16 [==============================] - 1s 38ms/step - loss: 0.6376 - accuracy: 0.5792 - val_loss: 0.5747 - val_accuracy: 0.6715\n",
            "Epoch 2/100\n",
            "16/16 [==============================] - 0s 4ms/step - loss: 0.6178 - accuracy: 0.6158 - val_loss: 0.5586 - val_accuracy: 0.7681\n",
            "Epoch 3/100\n",
            "16/16 [==============================] - 0s 4ms/step - loss: 0.5773 - accuracy: 0.7089 - val_loss: 0.5455 - val_accuracy: 0.8116\n",
            "Epoch 4/100\n",
            "16/16 [==============================] - 0s 4ms/step - loss: 0.5596 - accuracy: 0.7299 - val_loss: 0.5351 - val_accuracy: 0.8116\n",
            "Epoch 5/100\n",
            "16/16 [==============================] - 0s 5ms/step - loss: 0.6059 - accuracy: 0.7314 - val_loss: 0.5242 - val_accuracy: 0.8261\n",
            "Epoch 6/100\n",
            "16/16 [==============================] - 0s 5ms/step - loss: 0.5339 - accuracy: 0.8041 - val_loss: 0.5157 - val_accuracy: 0.8599\n",
            "Epoch 7/100\n",
            "16/16 [==============================] - 0s 5ms/step - loss: 0.5318 - accuracy: 0.7589 - val_loss: 0.5059 - val_accuracy: 0.8647\n",
            "Epoch 8/100\n",
            "16/16 [==============================] - 0s 4ms/step - loss: 0.5355 - accuracy: 0.7775 - val_loss: 0.4976 - val_accuracy: 0.8647\n",
            "Epoch 9/100\n",
            "16/16 [==============================] - 0s 5ms/step - loss: 0.5426 - accuracy: 0.7990 - val_loss: 0.4906 - val_accuracy: 0.8792\n",
            "Epoch 10/100\n",
            "16/16 [==============================] - 0s 5ms/step - loss: 0.5240 - accuracy: 0.7989 - val_loss: 0.4831 - val_accuracy: 0.8889\n",
            "Epoch 11/100\n",
            "16/16 [==============================] - 0s 4ms/step - loss: 0.5050 - accuracy: 0.8048 - val_loss: 0.4749 - val_accuracy: 0.8889\n",
            "Epoch 12/100\n",
            "16/16 [==============================] - 0s 4ms/step - loss: 0.4856 - accuracy: 0.8258 - val_loss: 0.4660 - val_accuracy: 0.8889\n",
            "Epoch 13/100\n",
            "16/16 [==============================] - 0s 5ms/step - loss: 0.5250 - accuracy: 0.8220 - val_loss: 0.4595 - val_accuracy: 0.8986\n",
            "Epoch 14/100\n",
            "16/16 [==============================] - 0s 5ms/step - loss: 0.5018 - accuracy: 0.8377 - val_loss: 0.4542 - val_accuracy: 0.8986\n",
            "Epoch 15/100\n",
            "16/16 [==============================] - 0s 5ms/step - loss: 0.4837 - accuracy: 0.8219 - val_loss: 0.4461 - val_accuracy: 0.8986\n",
            "Epoch 16/100\n",
            "16/16 [==============================] - 0s 5ms/step - loss: 0.4761 - accuracy: 0.8243 - val_loss: 0.4383 - val_accuracy: 0.9034\n",
            "Epoch 17/100\n",
            "16/16 [==============================] - 0s 5ms/step - loss: 0.4640 - accuracy: 0.8594 - val_loss: 0.4316 - val_accuracy: 0.9082\n",
            "Epoch 18/100\n",
            "16/16 [==============================] - 0s 5ms/step - loss: 0.4764 - accuracy: 0.8361 - val_loss: 0.4233 - val_accuracy: 0.9082\n",
            "Epoch 19/100\n",
            "16/16 [==============================] - 0s 5ms/step - loss: 0.4345 - accuracy: 0.8781 - val_loss: 0.4133 - val_accuracy: 0.9082\n",
            "Epoch 20/100\n",
            "16/16 [==============================] - 0s 5ms/step - loss: 0.4500 - accuracy: 0.8280 - val_loss: 0.4063 - val_accuracy: 0.9082\n",
            "Epoch 21/100\n",
            "16/16 [==============================] - 0s 5ms/step - loss: 0.4448 - accuracy: 0.8609 - val_loss: 0.3990 - val_accuracy: 0.9179\n",
            "Epoch 22/100\n",
            "16/16 [==============================] - 0s 4ms/step - loss: 0.4121 - accuracy: 0.8639 - val_loss: 0.3913 - val_accuracy: 0.9130\n",
            "Epoch 23/100\n",
            "16/16 [==============================] - 0s 5ms/step - loss: 0.4482 - accuracy: 0.8302 - val_loss: 0.3841 - val_accuracy: 0.9130\n",
            "Epoch 24/100\n",
            "16/16 [==============================] - 0s 4ms/step - loss: 0.4185 - accuracy: 0.8484 - val_loss: 0.3787 - val_accuracy: 0.9130\n",
            "Epoch 25/100\n",
            "16/16 [==============================] - 0s 5ms/step - loss: 0.4015 - accuracy: 0.8562 - val_loss: 0.3702 - val_accuracy: 0.9130\n",
            "Epoch 26/100\n",
            "16/16 [==============================] - 0s 5ms/step - loss: 0.4194 - accuracy: 0.8570 - val_loss: 0.3635 - val_accuracy: 0.9130\n",
            "Epoch 27/100\n",
            "16/16 [==============================] - 0s 4ms/step - loss: 0.3754 - accuracy: 0.8882 - val_loss: 0.3545 - val_accuracy: 0.9130\n",
            "Epoch 28/100\n",
            "16/16 [==============================] - 0s 5ms/step - loss: 0.4365 - accuracy: 0.8631 - val_loss: 0.3494 - val_accuracy: 0.9082\n",
            "Epoch 29/100\n",
            "16/16 [==============================] - 0s 5ms/step - loss: 0.3840 - accuracy: 0.8509 - val_loss: 0.3411 - val_accuracy: 0.9082\n",
            "Epoch 30/100\n",
            "16/16 [==============================] - 0s 4ms/step - loss: 0.3926 - accuracy: 0.8648 - val_loss: 0.3319 - val_accuracy: 0.9130\n",
            "Epoch 31/100\n",
            "16/16 [==============================] - 0s 4ms/step - loss: 0.3847 - accuracy: 0.8454 - val_loss: 0.3252 - val_accuracy: 0.9130\n",
            "Epoch 32/100\n",
            "16/16 [==============================] - 0s 5ms/step - loss: 0.3934 - accuracy: 0.8558 - val_loss: 0.3180 - val_accuracy: 0.9130\n",
            "Epoch 33/100\n",
            "16/16 [==============================] - 0s 4ms/step - loss: 0.4017 - accuracy: 0.8644 - val_loss: 0.3132 - val_accuracy: 0.9130\n",
            "Epoch 34/100\n",
            "16/16 [==============================] - 0s 5ms/step - loss: 0.3862 - accuracy: 0.8502 - val_loss: 0.3063 - val_accuracy: 0.9130\n",
            "Epoch 35/100\n",
            "16/16 [==============================] - 0s 4ms/step - loss: 0.3473 - accuracy: 0.8832 - val_loss: 0.3035 - val_accuracy: 0.9179\n",
            "Epoch 36/100\n",
            "16/16 [==============================] - 0s 5ms/step - loss: 0.3620 - accuracy: 0.8824 - val_loss: 0.3022 - val_accuracy: 0.9130\n",
            "Epoch 37/100\n",
            "16/16 [==============================] - 0s 5ms/step - loss: 0.3794 - accuracy: 0.8500 - val_loss: 0.2981 - val_accuracy: 0.9130\n",
            "Epoch 38/100\n",
            "16/16 [==============================] - 0s 5ms/step - loss: 0.3575 - accuracy: 0.8587 - val_loss: 0.2932 - val_accuracy: 0.9082\n",
            "Epoch 39/100\n",
            "16/16 [==============================] - 0s 4ms/step - loss: 0.3311 - accuracy: 0.8929 - val_loss: 0.2896 - val_accuracy: 0.9130\n",
            "Epoch 40/100\n",
            "16/16 [==============================] - 0s 5ms/step - loss: 0.3827 - accuracy: 0.8529 - val_loss: 0.2860 - val_accuracy: 0.9082\n",
            "Epoch 41/100\n",
            "16/16 [==============================] - 0s 4ms/step - loss: 0.3335 - accuracy: 0.8883 - val_loss: 0.2824 - val_accuracy: 0.9179\n",
            "Epoch 42/100\n",
            "16/16 [==============================] - 0s 4ms/step - loss: 0.3375 - accuracy: 0.8707 - val_loss: 0.2777 - val_accuracy: 0.9130\n",
            "Epoch 43/100\n",
            "16/16 [==============================] - 0s 4ms/step - loss: 0.3971 - accuracy: 0.8529 - val_loss: 0.2748 - val_accuracy: 0.9130\n",
            "Epoch 44/100\n",
            "16/16 [==============================] - 0s 5ms/step - loss: 0.3379 - accuracy: 0.8743 - val_loss: 0.2691 - val_accuracy: 0.9130\n",
            "Epoch 45/100\n",
            "16/16 [==============================] - 0s 5ms/step - loss: 0.3489 - accuracy: 0.8851 - val_loss: 0.2663 - val_accuracy: 0.9130\n",
            "Epoch 46/100\n",
            "16/16 [==============================] - 0s 4ms/step - loss: 0.3230 - accuracy: 0.8871 - val_loss: 0.2659 - val_accuracy: 0.9130\n",
            "Epoch 47/100\n",
            "16/16 [==============================] - 0s 4ms/step - loss: 0.3320 - accuracy: 0.8749 - val_loss: 0.2631 - val_accuracy: 0.9130\n",
            "Epoch 48/100\n",
            "16/16 [==============================] - 0s 5ms/step - loss: 0.3351 - accuracy: 0.8671 - val_loss: 0.2619 - val_accuracy: 0.9130\n",
            "Epoch 49/100\n",
            "16/16 [==============================] - 0s 5ms/step - loss: 0.3332 - accuracy: 0.8742 - val_loss: 0.2606 - val_accuracy: 0.9130\n",
            "Epoch 50/100\n",
            "16/16 [==============================] - 0s 5ms/step - loss: 0.3172 - accuracy: 0.8781 - val_loss: 0.2581 - val_accuracy: 0.9130\n",
            "Epoch 51/100\n",
            "16/16 [==============================] - 0s 5ms/step - loss: 0.3021 - accuracy: 0.8828 - val_loss: 0.2542 - val_accuracy: 0.9275\n",
            "Epoch 52/100\n",
            "16/16 [==============================] - 0s 5ms/step - loss: 0.3704 - accuracy: 0.8544 - val_loss: 0.2549 - val_accuracy: 0.9227\n",
            "Epoch 53/100\n",
            "16/16 [==============================] - 0s 4ms/step - loss: 0.3311 - accuracy: 0.8607 - val_loss: 0.2529 - val_accuracy: 0.9275\n",
            "Epoch 54/100\n",
            "16/16 [==============================] - 0s 4ms/step - loss: 0.4215 - accuracy: 0.8717 - val_loss: 0.2511 - val_accuracy: 0.9324\n",
            "Epoch 55/100\n",
            "16/16 [==============================] - 0s 5ms/step - loss: 0.3404 - accuracy: 0.8750 - val_loss: 0.2489 - val_accuracy: 0.9324\n",
            "Epoch 56/100\n",
            "16/16 [==============================] - 0s 4ms/step - loss: 0.3159 - accuracy: 0.8903 - val_loss: 0.2486 - val_accuracy: 0.9324\n",
            "Epoch 57/100\n",
            "16/16 [==============================] - 0s 4ms/step - loss: 0.3410 - accuracy: 0.8737 - val_loss: 0.2477 - val_accuracy: 0.9324\n",
            "Epoch 58/100\n",
            "16/16 [==============================] - 0s 5ms/step - loss: 0.3271 - accuracy: 0.8823 - val_loss: 0.2466 - val_accuracy: 0.9324\n",
            "Epoch 59/100\n",
            "16/16 [==============================] - 0s 4ms/step - loss: 0.2867 - accuracy: 0.8896 - val_loss: 0.2429 - val_accuracy: 0.9324\n",
            "Epoch 60/100\n",
            "16/16 [==============================] - 0s 5ms/step - loss: 0.3158 - accuracy: 0.8838 - val_loss: 0.2409 - val_accuracy: 0.9324\n",
            "Epoch 61/100\n",
            "16/16 [==============================] - 0s 5ms/step - loss: 0.2955 - accuracy: 0.8808 - val_loss: 0.2355 - val_accuracy: 0.9324\n",
            "Epoch 62/100\n",
            "16/16 [==============================] - 0s 5ms/step - loss: 0.3154 - accuracy: 0.8790 - val_loss: 0.2317 - val_accuracy: 0.9324\n",
            "Epoch 63/100\n",
            "16/16 [==============================] - 0s 5ms/step - loss: 0.3212 - accuracy: 0.9004 - val_loss: 0.2316 - val_accuracy: 0.9324\n",
            "Epoch 64/100\n",
            "16/16 [==============================] - 0s 4ms/step - loss: 0.3037 - accuracy: 0.8854 - val_loss: 0.2299 - val_accuracy: 0.9324\n",
            "Epoch 65/100\n",
            "16/16 [==============================] - 0s 4ms/step - loss: 0.3014 - accuracy: 0.9043 - val_loss: 0.2298 - val_accuracy: 0.9324\n",
            "Epoch 66/100\n",
            "16/16 [==============================] - 0s 5ms/step - loss: 0.3152 - accuracy: 0.8832 - val_loss: 0.2307 - val_accuracy: 0.9324\n",
            "Epoch 67/100\n",
            "16/16 [==============================] - 0s 5ms/step - loss: 0.3094 - accuracy: 0.8887 - val_loss: 0.2286 - val_accuracy: 0.9324\n",
            "Epoch 68/100\n",
            "16/16 [==============================] - 0s 5ms/step - loss: 0.3314 - accuracy: 0.8830 - val_loss: 0.2257 - val_accuracy: 0.9324\n",
            "Epoch 69/100\n",
            "16/16 [==============================] - 0s 4ms/step - loss: 0.2876 - accuracy: 0.8961 - val_loss: 0.2246 - val_accuracy: 0.9324\n",
            "Epoch 70/100\n",
            "16/16 [==============================] - 0s 4ms/step - loss: 0.3020 - accuracy: 0.8882 - val_loss: 0.2217 - val_accuracy: 0.9324\n",
            "Epoch 71/100\n",
            "16/16 [==============================] - 0s 4ms/step - loss: 0.3299 - accuracy: 0.8739 - val_loss: 0.2210 - val_accuracy: 0.9324\n",
            "Epoch 72/100\n",
            "16/16 [==============================] - 0s 4ms/step - loss: 0.2862 - accuracy: 0.8941 - val_loss: 0.2176 - val_accuracy: 0.9324\n",
            "Epoch 73/100\n",
            "16/16 [==============================] - 0s 5ms/step - loss: 0.2820 - accuracy: 0.8806 - val_loss: 0.2158 - val_accuracy: 0.9372\n",
            "Epoch 74/100\n",
            "16/16 [==============================] - 0s 4ms/step - loss: 0.2733 - accuracy: 0.9184 - val_loss: 0.2141 - val_accuracy: 0.9372\n",
            "Epoch 75/100\n",
            "16/16 [==============================] - 0s 5ms/step - loss: 0.2927 - accuracy: 0.8962 - val_loss: 0.2112 - val_accuracy: 0.9372\n",
            "Epoch 76/100\n",
            "16/16 [==============================] - 0s 5ms/step - loss: 0.2893 - accuracy: 0.8883 - val_loss: 0.2095 - val_accuracy: 0.9372\n",
            "Epoch 77/100\n",
            "16/16 [==============================] - 0s 4ms/step - loss: 0.2870 - accuracy: 0.8930 - val_loss: 0.2079 - val_accuracy: 0.9372\n",
            "Epoch 78/100\n",
            "16/16 [==============================] - 0s 4ms/step - loss: 0.2574 - accuracy: 0.9078 - val_loss: 0.2044 - val_accuracy: 0.9324\n",
            "Epoch 79/100\n",
            "16/16 [==============================] - 0s 5ms/step - loss: 0.2399 - accuracy: 0.9100 - val_loss: 0.1989 - val_accuracy: 0.9324\n",
            "Epoch 80/100\n",
            "16/16 [==============================] - 0s 5ms/step - loss: 0.3371 - accuracy: 0.8955 - val_loss: 0.1998 - val_accuracy: 0.9324\n",
            "Epoch 81/100\n",
            "16/16 [==============================] - 0s 5ms/step - loss: 0.2243 - accuracy: 0.9282 - val_loss: 0.1981 - val_accuracy: 0.9324\n",
            "Epoch 82/100\n",
            "16/16 [==============================] - 0s 5ms/step - loss: 0.2684 - accuracy: 0.8891 - val_loss: 0.1954 - val_accuracy: 0.9372\n",
            "Epoch 83/100\n",
            "16/16 [==============================] - 0s 5ms/step - loss: 0.3249 - accuracy: 0.8762 - val_loss: 0.1953 - val_accuracy: 0.9372\n",
            "Epoch 84/100\n",
            "16/16 [==============================] - 0s 4ms/step - loss: 0.3065 - accuracy: 0.8693 - val_loss: 0.1933 - val_accuracy: 0.9372\n",
            "Epoch 85/100\n",
            "16/16 [==============================] - 0s 4ms/step - loss: 0.2666 - accuracy: 0.9181 - val_loss: 0.1935 - val_accuracy: 0.9372\n",
            "Epoch 86/100\n",
            "16/16 [==============================] - 0s 5ms/step - loss: 0.2604 - accuracy: 0.9145 - val_loss: 0.1928 - val_accuracy: 0.9372\n",
            "Epoch 87/100\n",
            "16/16 [==============================] - 0s 4ms/step - loss: 0.2474 - accuracy: 0.9198 - val_loss: 0.1892 - val_accuracy: 0.9469\n",
            "Epoch 88/100\n",
            "16/16 [==============================] - 0s 5ms/step - loss: 0.2357 - accuracy: 0.9273 - val_loss: 0.1868 - val_accuracy: 0.9469\n",
            "Epoch 89/100\n",
            "16/16 [==============================] - 0s 4ms/step - loss: 0.2559 - accuracy: 0.9237 - val_loss: 0.1863 - val_accuracy: 0.9517\n",
            "Epoch 90/100\n",
            "16/16 [==============================] - 0s 5ms/step - loss: 0.2355 - accuracy: 0.9362 - val_loss: 0.1866 - val_accuracy: 0.9469\n",
            "Epoch 91/100\n",
            "16/16 [==============================] - 0s 5ms/step - loss: 0.2208 - accuracy: 0.9294 - val_loss: 0.1851 - val_accuracy: 0.9517\n",
            "Epoch 92/100\n",
            "16/16 [==============================] - 0s 5ms/step - loss: 0.2506 - accuracy: 0.9088 - val_loss: 0.1838 - val_accuracy: 0.9517\n",
            "Epoch 93/100\n",
            "16/16 [==============================] - 0s 5ms/step - loss: 0.2295 - accuracy: 0.9222 - val_loss: 0.1809 - val_accuracy: 0.9565\n",
            "Epoch 94/100\n",
            "16/16 [==============================] - 0s 5ms/step - loss: 0.3057 - accuracy: 0.9254 - val_loss: 0.1795 - val_accuracy: 0.9565\n",
            "Epoch 95/100\n",
            "16/16 [==============================] - 0s 5ms/step - loss: 0.2426 - accuracy: 0.9210 - val_loss: 0.1754 - val_accuracy: 0.9565\n",
            "Epoch 96/100\n",
            "16/16 [==============================] - 0s 5ms/step - loss: 0.2648 - accuracy: 0.9147 - val_loss: 0.1740 - val_accuracy: 0.9565\n",
            "Epoch 97/100\n",
            "16/16 [==============================] - 0s 4ms/step - loss: 0.2853 - accuracy: 0.9152 - val_loss: 0.1738 - val_accuracy: 0.9565\n",
            "Epoch 98/100\n",
            "16/16 [==============================] - 0s 5ms/step - loss: 0.2483 - accuracy: 0.9126 - val_loss: 0.1731 - val_accuracy: 0.9565\n",
            "Epoch 99/100\n",
            "16/16 [==============================] - 0s 5ms/step - loss: 0.2583 - accuracy: 0.9179 - val_loss: 0.1742 - val_accuracy: 0.9517\n",
            "Epoch 100/100\n",
            "16/16 [==============================] - 0s 4ms/step - loss: 0.2491 - accuracy: 0.9208 - val_loss: 0.1716 - val_accuracy: 0.9565\n"
          ],
          "name": "stdout"
        }
      ]
    },
    {
      "cell_type": "code",
      "metadata": {
        "id": "oEeptYWhn3eC"
      },
      "source": [
        "model_tanh.compile(loss ='binary_crossentropy', optimizer='RMSprop', metrics=['accuracy'])"
      ],
      "execution_count": 21,
      "outputs": []
    },
    {
      "cell_type": "code",
      "metadata": {
        "colab": {
          "base_uri": "https://localhost:8080/"
        },
        "id": "cJNrnRDzn7LH",
        "outputId": "596d34ed-3538-40c3-a0c4-23104725866f"
      },
      "source": [
        "history_tanh = model_tanh.fit(training_data, training_labels, epochs=100, validation_split= 0.3)"
      ],
      "execution_count": 22,
      "outputs": [
        {
          "output_type": "stream",
          "text": [
            "Epoch 1/100\n",
            "16/16 [==============================] - 1s 19ms/step - loss: 0.8071 - accuracy: 0.4872 - val_loss: 0.6450 - val_accuracy: 0.6377\n",
            "Epoch 2/100\n",
            "16/16 [==============================] - 0s 4ms/step - loss: 0.7007 - accuracy: 0.5887 - val_loss: 0.5580 - val_accuracy: 0.7681\n",
            "Epoch 3/100\n",
            "16/16 [==============================] - 0s 4ms/step - loss: 0.6326 - accuracy: 0.6574 - val_loss: 0.4918 - val_accuracy: 0.8357\n",
            "Epoch 4/100\n",
            "16/16 [==============================] - 0s 4ms/step - loss: 0.5564 - accuracy: 0.7014 - val_loss: 0.4416 - val_accuracy: 0.8502\n",
            "Epoch 5/100\n",
            "16/16 [==============================] - 0s 4ms/step - loss: 0.5295 - accuracy: 0.7409 - val_loss: 0.4009 - val_accuracy: 0.8744\n",
            "Epoch 6/100\n",
            "16/16 [==============================] - 0s 4ms/step - loss: 0.5045 - accuracy: 0.7590 - val_loss: 0.3694 - val_accuracy: 0.8841\n",
            "Epoch 7/100\n",
            "16/16 [==============================] - 0s 4ms/step - loss: 0.4792 - accuracy: 0.7803 - val_loss: 0.3449 - val_accuracy: 0.8889\n",
            "Epoch 8/100\n",
            "16/16 [==============================] - 0s 5ms/step - loss: 0.4345 - accuracy: 0.8111 - val_loss: 0.3281 - val_accuracy: 0.8937\n",
            "Epoch 9/100\n",
            "16/16 [==============================] - 0s 5ms/step - loss: 0.4101 - accuracy: 0.8047 - val_loss: 0.3113 - val_accuracy: 0.8986\n",
            "Epoch 10/100\n",
            "16/16 [==============================] - 0s 4ms/step - loss: 0.4287 - accuracy: 0.8204 - val_loss: 0.2993 - val_accuracy: 0.8986\n",
            "Epoch 11/100\n",
            "16/16 [==============================] - 0s 4ms/step - loss: 0.4122 - accuracy: 0.8074 - val_loss: 0.2870 - val_accuracy: 0.8986\n",
            "Epoch 12/100\n",
            "16/16 [==============================] - 0s 4ms/step - loss: 0.3966 - accuracy: 0.8198 - val_loss: 0.2741 - val_accuracy: 0.9082\n",
            "Epoch 13/100\n",
            "16/16 [==============================] - 0s 5ms/step - loss: 0.4020 - accuracy: 0.8595 - val_loss: 0.2636 - val_accuracy: 0.9082\n",
            "Epoch 14/100\n",
            "16/16 [==============================] - 0s 5ms/step - loss: 0.3872 - accuracy: 0.8639 - val_loss: 0.2556 - val_accuracy: 0.9130\n",
            "Epoch 15/100\n",
            "16/16 [==============================] - 0s 5ms/step - loss: 0.3450 - accuracy: 0.8664 - val_loss: 0.2457 - val_accuracy: 0.9179\n",
            "Epoch 16/100\n",
            "16/16 [==============================] - 0s 4ms/step - loss: 0.2965 - accuracy: 0.8808 - val_loss: 0.2375 - val_accuracy: 0.9227\n",
            "Epoch 17/100\n",
            "16/16 [==============================] - 0s 5ms/step - loss: 0.3210 - accuracy: 0.8717 - val_loss: 0.2326 - val_accuracy: 0.9275\n",
            "Epoch 18/100\n",
            "16/16 [==============================] - 0s 4ms/step - loss: 0.3416 - accuracy: 0.8916 - val_loss: 0.2277 - val_accuracy: 0.9275\n",
            "Epoch 19/100\n",
            "16/16 [==============================] - 0s 4ms/step - loss: 0.3567 - accuracy: 0.8606 - val_loss: 0.2242 - val_accuracy: 0.9275\n",
            "Epoch 20/100\n",
            "16/16 [==============================] - 0s 4ms/step - loss: 0.3125 - accuracy: 0.8706 - val_loss: 0.2183 - val_accuracy: 0.9275\n",
            "Epoch 21/100\n",
            "16/16 [==============================] - 0s 4ms/step - loss: 0.3171 - accuracy: 0.8862 - val_loss: 0.2141 - val_accuracy: 0.9275\n",
            "Epoch 22/100\n",
            "16/16 [==============================] - 0s 5ms/step - loss: 0.3314 - accuracy: 0.8845 - val_loss: 0.2116 - val_accuracy: 0.9275\n",
            "Epoch 23/100\n",
            "16/16 [==============================] - 0s 4ms/step - loss: 0.3315 - accuracy: 0.8715 - val_loss: 0.2086 - val_accuracy: 0.9275\n",
            "Epoch 24/100\n",
            "16/16 [==============================] - 0s 5ms/step - loss: 0.3331 - accuracy: 0.8810 - val_loss: 0.2071 - val_accuracy: 0.9275\n",
            "Epoch 25/100\n",
            "16/16 [==============================] - 0s 4ms/step - loss: 0.3474 - accuracy: 0.8867 - val_loss: 0.2046 - val_accuracy: 0.9275\n",
            "Epoch 26/100\n",
            "16/16 [==============================] - 0s 4ms/step - loss: 0.2848 - accuracy: 0.8992 - val_loss: 0.2023 - val_accuracy: 0.9324\n",
            "Epoch 27/100\n",
            "16/16 [==============================] - 0s 5ms/step - loss: 0.3102 - accuracy: 0.9064 - val_loss: 0.2020 - val_accuracy: 0.9324\n",
            "Epoch 28/100\n",
            "16/16 [==============================] - 0s 5ms/step - loss: 0.2733 - accuracy: 0.8960 - val_loss: 0.2000 - val_accuracy: 0.9324\n",
            "Epoch 29/100\n",
            "16/16 [==============================] - 0s 4ms/step - loss: 0.2775 - accuracy: 0.9048 - val_loss: 0.1997 - val_accuracy: 0.9275\n",
            "Epoch 30/100\n",
            "16/16 [==============================] - 0s 4ms/step - loss: 0.3130 - accuracy: 0.8952 - val_loss: 0.1977 - val_accuracy: 0.9324\n",
            "Epoch 31/100\n",
            "16/16 [==============================] - 0s 5ms/step - loss: 0.2557 - accuracy: 0.9115 - val_loss: 0.1956 - val_accuracy: 0.9324\n",
            "Epoch 32/100\n",
            "16/16 [==============================] - 0s 5ms/step - loss: 0.2650 - accuracy: 0.9057 - val_loss: 0.1926 - val_accuracy: 0.9324\n",
            "Epoch 33/100\n",
            "16/16 [==============================] - 0s 5ms/step - loss: 0.2834 - accuracy: 0.8938 - val_loss: 0.1934 - val_accuracy: 0.9324\n",
            "Epoch 34/100\n",
            "16/16 [==============================] - 0s 5ms/step - loss: 0.3255 - accuracy: 0.8999 - val_loss: 0.1932 - val_accuracy: 0.9324\n",
            "Epoch 35/100\n",
            "16/16 [==============================] - 0s 5ms/step - loss: 0.2742 - accuracy: 0.9045 - val_loss: 0.1931 - val_accuracy: 0.9324\n",
            "Epoch 36/100\n",
            "16/16 [==============================] - 0s 5ms/step - loss: 0.3035 - accuracy: 0.8929 - val_loss: 0.1916 - val_accuracy: 0.9324\n",
            "Epoch 37/100\n",
            "16/16 [==============================] - 0s 5ms/step - loss: 0.2754 - accuracy: 0.9024 - val_loss: 0.1923 - val_accuracy: 0.9324\n",
            "Epoch 38/100\n",
            "16/16 [==============================] - 0s 4ms/step - loss: 0.2672 - accuracy: 0.9091 - val_loss: 0.1892 - val_accuracy: 0.9324\n",
            "Epoch 39/100\n",
            "16/16 [==============================] - 0s 5ms/step - loss: 0.2188 - accuracy: 0.9363 - val_loss: 0.1906 - val_accuracy: 0.9324\n",
            "Epoch 40/100\n",
            "16/16 [==============================] - 0s 5ms/step - loss: 0.2625 - accuracy: 0.9066 - val_loss: 0.1901 - val_accuracy: 0.9324\n",
            "Epoch 41/100\n",
            "16/16 [==============================] - 0s 5ms/step - loss: 0.2692 - accuracy: 0.8894 - val_loss: 0.1886 - val_accuracy: 0.9324\n",
            "Epoch 42/100\n",
            "16/16 [==============================] - 0s 4ms/step - loss: 0.2535 - accuracy: 0.9198 - val_loss: 0.1862 - val_accuracy: 0.9372\n",
            "Epoch 43/100\n",
            "16/16 [==============================] - 0s 4ms/step - loss: 0.2358 - accuracy: 0.9274 - val_loss: 0.1857 - val_accuracy: 0.9324\n",
            "Epoch 44/100\n",
            "16/16 [==============================] - 0s 5ms/step - loss: 0.2398 - accuracy: 0.8999 - val_loss: 0.1868 - val_accuracy: 0.9372\n",
            "Epoch 45/100\n",
            "16/16 [==============================] - 0s 5ms/step - loss: 0.2588 - accuracy: 0.9092 - val_loss: 0.1893 - val_accuracy: 0.9372\n",
            "Epoch 46/100\n",
            "16/16 [==============================] - 0s 5ms/step - loss: 0.2420 - accuracy: 0.9217 - val_loss: 0.1875 - val_accuracy: 0.9324\n",
            "Epoch 47/100\n",
            "16/16 [==============================] - 0s 5ms/step - loss: 0.2374 - accuracy: 0.9273 - val_loss: 0.1849 - val_accuracy: 0.9324\n",
            "Epoch 48/100\n",
            "16/16 [==============================] - 0s 5ms/step - loss: 0.2234 - accuracy: 0.9215 - val_loss: 0.1856 - val_accuracy: 0.9372\n",
            "Epoch 49/100\n",
            "16/16 [==============================] - 0s 5ms/step - loss: 0.2392 - accuracy: 0.9202 - val_loss: 0.1832 - val_accuracy: 0.9372\n",
            "Epoch 50/100\n",
            "16/16 [==============================] - 0s 5ms/step - loss: 0.2677 - accuracy: 0.9192 - val_loss: 0.1811 - val_accuracy: 0.9324\n",
            "Epoch 51/100\n",
            "16/16 [==============================] - 0s 5ms/step - loss: 0.2800 - accuracy: 0.8990 - val_loss: 0.1848 - val_accuracy: 0.9324\n",
            "Epoch 52/100\n",
            "16/16 [==============================] - 0s 6ms/step - loss: 0.1944 - accuracy: 0.9337 - val_loss: 0.1818 - val_accuracy: 0.9324\n",
            "Epoch 53/100\n",
            "16/16 [==============================] - 0s 5ms/step - loss: 0.2396 - accuracy: 0.9227 - val_loss: 0.1825 - val_accuracy: 0.9324\n",
            "Epoch 54/100\n",
            "16/16 [==============================] - 0s 4ms/step - loss: 0.2200 - accuracy: 0.9271 - val_loss: 0.1825 - val_accuracy: 0.9324\n",
            "Epoch 55/100\n",
            "16/16 [==============================] - 0s 5ms/step - loss: 0.2505 - accuracy: 0.9156 - val_loss: 0.1772 - val_accuracy: 0.9275\n",
            "Epoch 56/100\n",
            "16/16 [==============================] - 0s 5ms/step - loss: 0.2129 - accuracy: 0.9320 - val_loss: 0.1740 - val_accuracy: 0.9275\n",
            "Epoch 57/100\n",
            "16/16 [==============================] - 0s 4ms/step - loss: 0.2529 - accuracy: 0.9185 - val_loss: 0.1693 - val_accuracy: 0.9275\n",
            "Epoch 58/100\n",
            "16/16 [==============================] - 0s 5ms/step - loss: 0.2469 - accuracy: 0.9086 - val_loss: 0.1697 - val_accuracy: 0.9275\n",
            "Epoch 59/100\n",
            "16/16 [==============================] - 0s 5ms/step - loss: 0.2167 - accuracy: 0.9253 - val_loss: 0.1690 - val_accuracy: 0.9275\n",
            "Epoch 60/100\n",
            "16/16 [==============================] - 0s 5ms/step - loss: 0.2529 - accuracy: 0.9283 - val_loss: 0.1707 - val_accuracy: 0.9275\n",
            "Epoch 61/100\n",
            "16/16 [==============================] - 0s 4ms/step - loss: 0.2532 - accuracy: 0.9014 - val_loss: 0.1719 - val_accuracy: 0.9275\n",
            "Epoch 62/100\n",
            "16/16 [==============================] - 0s 4ms/step - loss: 0.2338 - accuracy: 0.9333 - val_loss: 0.1711 - val_accuracy: 0.9275\n",
            "Epoch 63/100\n",
            "16/16 [==============================] - 0s 5ms/step - loss: 0.2434 - accuracy: 0.9228 - val_loss: 0.1699 - val_accuracy: 0.9275\n",
            "Epoch 64/100\n",
            "16/16 [==============================] - 0s 4ms/step - loss: 0.1934 - accuracy: 0.9465 - val_loss: 0.1710 - val_accuracy: 0.9275\n",
            "Epoch 65/100\n",
            "16/16 [==============================] - 0s 5ms/step - loss: 0.2453 - accuracy: 0.9284 - val_loss: 0.1706 - val_accuracy: 0.9275\n",
            "Epoch 66/100\n",
            "16/16 [==============================] - 0s 5ms/step - loss: 0.2422 - accuracy: 0.9255 - val_loss: 0.1723 - val_accuracy: 0.9227\n",
            "Epoch 67/100\n",
            "16/16 [==============================] - 0s 5ms/step - loss: 0.2459 - accuracy: 0.9194 - val_loss: 0.1739 - val_accuracy: 0.9227\n",
            "Epoch 68/100\n",
            "16/16 [==============================] - 0s 5ms/step - loss: 0.2590 - accuracy: 0.9213 - val_loss: 0.1704 - val_accuracy: 0.9227\n",
            "Epoch 69/100\n",
            "16/16 [==============================] - 0s 4ms/step - loss: 0.2004 - accuracy: 0.9330 - val_loss: 0.1671 - val_accuracy: 0.9275\n",
            "Epoch 70/100\n",
            "16/16 [==============================] - 0s 5ms/step - loss: 0.2227 - accuracy: 0.9345 - val_loss: 0.1661 - val_accuracy: 0.9275\n",
            "Epoch 71/100\n",
            "16/16 [==============================] - 0s 4ms/step - loss: 0.2792 - accuracy: 0.9098 - val_loss: 0.1669 - val_accuracy: 0.9275\n",
            "Epoch 72/100\n",
            "16/16 [==============================] - 0s 5ms/step - loss: 0.2335 - accuracy: 0.9263 - val_loss: 0.1686 - val_accuracy: 0.9275\n",
            "Epoch 73/100\n",
            "16/16 [==============================] - 0s 5ms/step - loss: 0.1774 - accuracy: 0.9483 - val_loss: 0.1673 - val_accuracy: 0.9275\n",
            "Epoch 74/100\n",
            "16/16 [==============================] - 0s 4ms/step - loss: 0.1926 - accuracy: 0.9467 - val_loss: 0.1669 - val_accuracy: 0.9275\n",
            "Epoch 75/100\n",
            "16/16 [==============================] - 0s 5ms/step - loss: 0.2318 - accuracy: 0.9220 - val_loss: 0.1653 - val_accuracy: 0.9275\n",
            "Epoch 76/100\n",
            "16/16 [==============================] - 0s 5ms/step - loss: 0.2327 - accuracy: 0.9186 - val_loss: 0.1651 - val_accuracy: 0.9275\n",
            "Epoch 77/100\n",
            "16/16 [==============================] - 0s 5ms/step - loss: 0.2075 - accuracy: 0.9371 - val_loss: 0.1653 - val_accuracy: 0.9227\n",
            "Epoch 78/100\n",
            "16/16 [==============================] - 0s 5ms/step - loss: 0.1969 - accuracy: 0.9386 - val_loss: 0.1649 - val_accuracy: 0.9372\n",
            "Epoch 79/100\n",
            "16/16 [==============================] - 0s 5ms/step - loss: 0.2274 - accuracy: 0.9272 - val_loss: 0.1646 - val_accuracy: 0.9324\n",
            "Epoch 80/100\n",
            "16/16 [==============================] - 0s 4ms/step - loss: 0.2438 - accuracy: 0.9210 - val_loss: 0.1637 - val_accuracy: 0.9372\n",
            "Epoch 81/100\n",
            "16/16 [==============================] - 0s 5ms/step - loss: 0.1921 - accuracy: 0.9550 - val_loss: 0.1661 - val_accuracy: 0.9275\n",
            "Epoch 82/100\n",
            "16/16 [==============================] - 0s 4ms/step - loss: 0.2000 - accuracy: 0.9399 - val_loss: 0.1651 - val_accuracy: 0.9324\n",
            "Epoch 83/100\n",
            "16/16 [==============================] - 0s 5ms/step - loss: 0.2618 - accuracy: 0.9104 - val_loss: 0.1651 - val_accuracy: 0.9275\n",
            "Epoch 84/100\n",
            "16/16 [==============================] - 0s 5ms/step - loss: 0.2123 - accuracy: 0.9367 - val_loss: 0.1655 - val_accuracy: 0.9275\n",
            "Epoch 85/100\n",
            "16/16 [==============================] - 0s 5ms/step - loss: 0.2288 - accuracy: 0.9263 - val_loss: 0.1648 - val_accuracy: 0.9324\n",
            "Epoch 86/100\n",
            "16/16 [==============================] - 0s 5ms/step - loss: 0.2236 - accuracy: 0.9253 - val_loss: 0.1639 - val_accuracy: 0.9275\n",
            "Epoch 87/100\n",
            "16/16 [==============================] - 0s 4ms/step - loss: 0.2316 - accuracy: 0.9066 - val_loss: 0.1683 - val_accuracy: 0.9324\n",
            "Epoch 88/100\n",
            "16/16 [==============================] - 0s 5ms/step - loss: 0.1891 - accuracy: 0.9336 - val_loss: 0.1673 - val_accuracy: 0.9324\n",
            "Epoch 89/100\n",
            "16/16 [==============================] - 0s 4ms/step - loss: 0.1982 - accuracy: 0.9331 - val_loss: 0.1677 - val_accuracy: 0.9324\n",
            "Epoch 90/100\n",
            "16/16 [==============================] - 0s 5ms/step - loss: 0.2243 - accuracy: 0.9282 - val_loss: 0.1698 - val_accuracy: 0.9324\n",
            "Epoch 91/100\n",
            "16/16 [==============================] - 0s 5ms/step - loss: 0.1838 - accuracy: 0.9459 - val_loss: 0.1684 - val_accuracy: 0.9275\n",
            "Epoch 92/100\n",
            "16/16 [==============================] - 0s 5ms/step - loss: 0.1992 - accuracy: 0.9391 - val_loss: 0.1656 - val_accuracy: 0.9275\n",
            "Epoch 93/100\n",
            "16/16 [==============================] - 0s 4ms/step - loss: 0.2047 - accuracy: 0.9267 - val_loss: 0.1657 - val_accuracy: 0.9275\n",
            "Epoch 94/100\n",
            "16/16 [==============================] - 0s 5ms/step - loss: 0.2012 - accuracy: 0.9351 - val_loss: 0.1633 - val_accuracy: 0.9275\n",
            "Epoch 95/100\n",
            "16/16 [==============================] - 0s 5ms/step - loss: 0.2096 - accuracy: 0.9439 - val_loss: 0.1633 - val_accuracy: 0.9275\n",
            "Epoch 96/100\n",
            "16/16 [==============================] - 0s 5ms/step - loss: 0.1627 - accuracy: 0.9473 - val_loss: 0.1624 - val_accuracy: 0.9324\n",
            "Epoch 97/100\n",
            "16/16 [==============================] - 0s 5ms/step - loss: 0.2393 - accuracy: 0.9208 - val_loss: 0.1632 - val_accuracy: 0.9324\n",
            "Epoch 98/100\n",
            "16/16 [==============================] - 0s 5ms/step - loss: 0.2528 - accuracy: 0.9321 - val_loss: 0.1643 - val_accuracy: 0.9324\n",
            "Epoch 99/100\n",
            "16/16 [==============================] - 0s 5ms/step - loss: 0.1992 - accuracy: 0.9355 - val_loss: 0.1635 - val_accuracy: 0.9324\n",
            "Epoch 100/100\n",
            "16/16 [==============================] - 0s 4ms/step - loss: 0.1783 - accuracy: 0.9414 - val_loss: 0.1614 - val_accuracy: 0.9324\n"
          ],
          "name": "stdout"
        }
      ]
    },
    {
      "cell_type": "markdown",
      "metadata": {
        "id": "cHRTB5l8oGLf"
      },
      "source": [
        "Evaluation / Prediction"
      ]
    },
    {
      "cell_type": "code",
      "metadata": {
        "colab": {
          "base_uri": "https://localhost:8080/"
        },
        "id": "qiavQdOwoBiM",
        "outputId": "83c39dab-d3b8-48cb-96f9-a4dd7fe4efec"
      },
      "source": [
        "test_loss_Score_relu, test_acc_score_relu = model_relu.evaluate(testing_data, testing_labels)"
      ],
      "execution_count": 23,
      "outputs": [
        {
          "output_type": "stream",
          "text": [
            "10/10 [==============================] - 0s 2ms/step - loss: 0.2209 - accuracy: 0.9223\n"
          ],
          "name": "stdout"
        }
      ]
    },
    {
      "cell_type": "code",
      "metadata": {
        "colab": {
          "base_uri": "https://localhost:8080/"
        },
        "id": "x9ETIy0GoMNC",
        "outputId": "fb5533c6-0f29-46b0-af0c-d24a85904141"
      },
      "source": [
        "test_loss_Score_tanh, test_acc_score_tanh = model_tanh.evaluate(testing_data, testing_labels)"
      ],
      "execution_count": 24,
      "outputs": [
        {
          "output_type": "stream",
          "text": [
            "10/10 [==============================] - 0s 2ms/step - loss: 0.2395 - accuracy: 0.9257\n"
          ],
          "name": "stdout"
        }
      ]
    },
    {
      "cell_type": "code",
      "metadata": {
        "colab": {
          "base_uri": "https://localhost:8080/"
        },
        "id": "lO4AwDzrokdN",
        "outputId": "77649294-424f-40f8-a5c7-bd15e5cf5ed4"
      },
      "source": [
        "test_acc_score_relu*100"
      ],
      "execution_count": 25,
      "outputs": [
        {
          "output_type": "execute_result",
          "data": {
            "text/plain": [
              "92.22972989082336"
            ]
          },
          "metadata": {
            "tags": []
          },
          "execution_count": 25
        }
      ]
    },
    {
      "cell_type": "code",
      "metadata": {
        "colab": {
          "base_uri": "https://localhost:8080/"
        },
        "id": "0ppGkZBLor3Q",
        "outputId": "3114ba35-50ea-4701-9c34-9833ef59d40f"
      },
      "source": [
        "model_relu.predict(np.array(testing_data.iloc[1,:]).reshape(1,testing_data.shape[1]))"
      ],
      "execution_count": 26,
      "outputs": [
        {
          "output_type": "execute_result",
          "data": {
            "text/plain": [
              "array([[0.16147432]], dtype=float32)"
            ]
          },
          "metadata": {
            "tags": []
          },
          "execution_count": 26
        }
      ]
    },
    {
      "cell_type": "code",
      "metadata": {
        "id": "alRDIV6xov6s"
      },
      "source": [
        "pred_score = model_relu.predict(testing_data).astype(dtype='u8')"
      ],
      "execution_count": 27,
      "outputs": []
    },
    {
      "cell_type": "code",
      "metadata": {
        "colab": {
          "base_uri": "https://localhost:8080/"
        },
        "id": "iWIa6lW9o738",
        "outputId": "554f0446-b784-4eba-8539-0b703344612a"
      },
      "source": [
        "pred_label = (pred_score > 0.5)\n",
        "tf.math.confusion_matrix(\n",
        "    testing_labels, pred_label, num_classes=2, weights=None, dtype=tf.dtypes.int32,name=None)"
      ],
      "execution_count": 28,
      "outputs": [
        {
          "output_type": "execute_result",
          "data": {
            "text/plain": [
              "<tf.Tensor: shape=(2, 2), dtype=int32, numpy=\n",
              "array([[148,   0],\n",
              "       [ 57,  91]], dtype=int32)>"
            ]
          },
          "metadata": {
            "tags": []
          },
          "execution_count": 28
        }
      ]
    },
    {
      "cell_type": "code",
      "metadata": {
        "colab": {
          "base_uri": "https://localhost:8080/"
        },
        "id": "wJMN2jfTpCoA",
        "outputId": "7f0f3e26-be81-4533-b84d-ef0ea9923542"
      },
      "source": [
        "np.count_nonzero(pred_label)"
      ],
      "execution_count": 29,
      "outputs": [
        {
          "output_type": "execute_result",
          "data": {
            "text/plain": [
              "91"
            ]
          },
          "metadata": {
            "tags": []
          },
          "execution_count": 29
        }
      ]
    },
    {
      "cell_type": "code",
      "metadata": {
        "colab": {
          "base_uri": "https://localhost:8080/"
        },
        "id": "okZzy_1KsXgE",
        "outputId": "beb8a572-9a84-4685-82cc-690ec9908f6e"
      },
      "source": [
        "test_acc_score_tanh*100"
      ],
      "execution_count": 30,
      "outputs": [
        {
          "output_type": "execute_result",
          "data": {
            "text/plain": [
              "92.56756901741028"
            ]
          },
          "metadata": {
            "tags": []
          },
          "execution_count": 30
        }
      ]
    },
    {
      "cell_type": "code",
      "metadata": {
        "colab": {
          "base_uri": "https://localhost:8080/"
        },
        "id": "PxdnZr-8sar-",
        "outputId": "df5efc5f-d5d0-48b1-e8a6-0f85e42200bb"
      },
      "source": [
        "model_tanh.predict(np.array(testing_data.iloc[1,:]).reshape(1,testing_data.shape[1]))"
      ],
      "execution_count": 31,
      "outputs": [
        {
          "output_type": "execute_result",
          "data": {
            "text/plain": [
              "array([[0.01965263]], dtype=float32)"
            ]
          },
          "metadata": {
            "tags": []
          },
          "execution_count": 31
        }
      ]
    },
    {
      "cell_type": "code",
      "metadata": {
        "id": "S7zpYkZNsfLu"
      },
      "source": [
        "pred_score = model_tanh.predict(testing_data).astype(dtype='u8')"
      ],
      "execution_count": 32,
      "outputs": []
    },
    {
      "cell_type": "code",
      "metadata": {
        "colab": {
          "base_uri": "https://localhost:8080/"
        },
        "id": "6fgidJhDsiGG",
        "outputId": "9f90c61c-d6ec-4af9-ea7d-9608ff041ce2"
      },
      "source": [
        "pred_label = (pred_score > 0.5)\n",
        "tf.math.confusion_matrix(\n",
        "    testing_labels, pred_label, num_classes=2, weights=None, dtype=tf.dtypes.int32,name=None)"
      ],
      "execution_count": 33,
      "outputs": [
        {
          "output_type": "execute_result",
          "data": {
            "text/plain": [
              "<tf.Tensor: shape=(2, 2), dtype=int32, numpy=\n",
              "array([[148,   0],\n",
              "       [148,   0]], dtype=int32)>"
            ]
          },
          "metadata": {
            "tags": []
          },
          "execution_count": 33
        }
      ]
    },
    {
      "cell_type": "code",
      "metadata": {
        "colab": {
          "base_uri": "https://localhost:8080/"
        },
        "id": "PqZLzCNmslBx",
        "outputId": "3d166ef9-d8c6-47fc-879a-32acc68a94fd"
      },
      "source": [
        "np.count_nonzero(pred_label)"
      ],
      "execution_count": 34,
      "outputs": [
        {
          "output_type": "execute_result",
          "data": {
            "text/plain": [
              "0"
            ]
          },
          "metadata": {
            "tags": []
          },
          "execution_count": 34
        }
      ]
    }
  ]
}
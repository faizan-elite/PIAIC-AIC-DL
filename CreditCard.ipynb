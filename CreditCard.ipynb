{
  "nbformat": 4,
  "nbformat_minor": 0,
  "metadata": {
    "colab": {
      "name": "CreditCard.ipynb",
      "provenance": [],
      "collapsed_sections": []
    },
    "kernelspec": {
      "name": "python3",
      "display_name": "Python 3"
    },
    "language_info": {
      "name": "python"
    }
  },
  "cells": [
    {
      "cell_type": "markdown",
      "metadata": {
        "id": "bxfs1PegiXv-"
      },
      "source": [
        "Credit Card Fraud Detection Problem"
      ]
    },
    {
      "cell_type": "markdown",
      "metadata": {
        "id": "dNwFePTGiaEy"
      },
      "source": [
        "Import Libraries"
      ]
    },
    {
      "cell_type": "code",
      "metadata": {
        "colab": {
          "base_uri": "https://localhost:8080/"
        },
        "id": "sa8-LoSgib5y",
        "outputId": "dd13f827-8582-4365-b481-cd4a172dbb49"
      },
      "source": [
        "import numpy as np\n",
        "import pandas as pd\n",
        "import tensorflow as tp\n",
        "import matplotlib.pyplot as plt\n",
        "import tensorflow as tf\n",
        "from tensorflow.keras.models import Sequential \n",
        "from tensorflow.keras.layers import Dense, Dropout\n",
        "from tensorflow.keras import optimizers\n",
        "from sklearn.preprocessing import MinMaxScaler\n",
        "from sklearn.model_selection import train_test_split\n",
        "print (tf.__version__)"
      ],
      "execution_count": 1,
      "outputs": [
        {
          "output_type": "stream",
          "text": [
            "2.4.1\n"
          ],
          "name": "stdout"
        }
      ]
    },
    {
      "cell_type": "markdown",
      "metadata": {
        "id": "DQUi11uHid8A"
      },
      "source": [
        "# Load Data"
      ]
    },
    {
      "cell_type": "code",
      "metadata": {
        "colab": {
          "base_uri": "https://localhost:8080/"
        },
        "id": "dM6WSVsc_bab",
        "outputId": "a9229338-13d9-495f-9107-ab2f89fe3113"
      },
      "source": [
        "from google.colab import drive\n",
        "drive.mount('/content/drive')"
      ],
      "execution_count": 2,
      "outputs": [
        {
          "output_type": "stream",
          "text": [
            "Drive already mounted at /content/drive; to attempt to forcibly remount, call drive.mount(\"/content/drive\", force_remount=True).\n"
          ],
          "name": "stdout"
        }
      ]
    },
    {
      "cell_type": "code",
      "metadata": {
        "id": "ZMt2k5xHigR2"
      },
      "source": [
        "data=pd.read_csv(\"/content/drive/MyDrive/Colab Notebooks/creditcard.csv\")"
      ],
      "execution_count": 3,
      "outputs": []
    },
    {
      "cell_type": "markdown",
      "metadata": {
        "id": "GKxEskKbirjq"
      },
      "source": [
        "# Data Analysis"
      ]
    },
    {
      "cell_type": "code",
      "metadata": {
        "colab": {
          "base_uri": "https://localhost:8080/",
          "height": 224
        },
        "id": "znwINb7vixdq",
        "outputId": "981069f1-b08f-43d3-abe1-77c3709d469f"
      },
      "source": [
        "data.head()"
      ],
      "execution_count": 4,
      "outputs": [
        {
          "output_type": "execute_result",
          "data": {
            "text/html": [
              "<div>\n",
              "<style scoped>\n",
              "    .dataframe tbody tr th:only-of-type {\n",
              "        vertical-align: middle;\n",
              "    }\n",
              "\n",
              "    .dataframe tbody tr th {\n",
              "        vertical-align: top;\n",
              "    }\n",
              "\n",
              "    .dataframe thead th {\n",
              "        text-align: right;\n",
              "    }\n",
              "</style>\n",
              "<table border=\"1\" class=\"dataframe\">\n",
              "  <thead>\n",
              "    <tr style=\"text-align: right;\">\n",
              "      <th></th>\n",
              "      <th>Time</th>\n",
              "      <th>V1</th>\n",
              "      <th>V2</th>\n",
              "      <th>V3</th>\n",
              "      <th>V4</th>\n",
              "      <th>V5</th>\n",
              "      <th>V6</th>\n",
              "      <th>V7</th>\n",
              "      <th>V8</th>\n",
              "      <th>V9</th>\n",
              "      <th>V10</th>\n",
              "      <th>V11</th>\n",
              "      <th>V12</th>\n",
              "      <th>V13</th>\n",
              "      <th>V14</th>\n",
              "      <th>V15</th>\n",
              "      <th>V16</th>\n",
              "      <th>V17</th>\n",
              "      <th>V18</th>\n",
              "      <th>V19</th>\n",
              "      <th>V20</th>\n",
              "      <th>V21</th>\n",
              "      <th>V22</th>\n",
              "      <th>V23</th>\n",
              "      <th>V24</th>\n",
              "      <th>V25</th>\n",
              "      <th>V26</th>\n",
              "      <th>V27</th>\n",
              "      <th>V28</th>\n",
              "      <th>Amount</th>\n",
              "      <th>Class</th>\n",
              "    </tr>\n",
              "  </thead>\n",
              "  <tbody>\n",
              "    <tr>\n",
              "      <th>0</th>\n",
              "      <td>0.0</td>\n",
              "      <td>-1.359807</td>\n",
              "      <td>-0.072781</td>\n",
              "      <td>2.536347</td>\n",
              "      <td>1.378155</td>\n",
              "      <td>-0.338321</td>\n",
              "      <td>0.462388</td>\n",
              "      <td>0.239599</td>\n",
              "      <td>0.098698</td>\n",
              "      <td>0.363787</td>\n",
              "      <td>0.090794</td>\n",
              "      <td>-0.551600</td>\n",
              "      <td>-0.617801</td>\n",
              "      <td>-0.991390</td>\n",
              "      <td>-0.311169</td>\n",
              "      <td>1.468177</td>\n",
              "      <td>-0.470401</td>\n",
              "      <td>0.207971</td>\n",
              "      <td>0.025791</td>\n",
              "      <td>0.403993</td>\n",
              "      <td>0.251412</td>\n",
              "      <td>-0.018307</td>\n",
              "      <td>0.277838</td>\n",
              "      <td>-0.110474</td>\n",
              "      <td>0.066928</td>\n",
              "      <td>0.128539</td>\n",
              "      <td>-0.189115</td>\n",
              "      <td>0.133558</td>\n",
              "      <td>-0.021053</td>\n",
              "      <td>149.62</td>\n",
              "      <td>0</td>\n",
              "    </tr>\n",
              "    <tr>\n",
              "      <th>1</th>\n",
              "      <td>0.0</td>\n",
              "      <td>1.191857</td>\n",
              "      <td>0.266151</td>\n",
              "      <td>0.166480</td>\n",
              "      <td>0.448154</td>\n",
              "      <td>0.060018</td>\n",
              "      <td>-0.082361</td>\n",
              "      <td>-0.078803</td>\n",
              "      <td>0.085102</td>\n",
              "      <td>-0.255425</td>\n",
              "      <td>-0.166974</td>\n",
              "      <td>1.612727</td>\n",
              "      <td>1.065235</td>\n",
              "      <td>0.489095</td>\n",
              "      <td>-0.143772</td>\n",
              "      <td>0.635558</td>\n",
              "      <td>0.463917</td>\n",
              "      <td>-0.114805</td>\n",
              "      <td>-0.183361</td>\n",
              "      <td>-0.145783</td>\n",
              "      <td>-0.069083</td>\n",
              "      <td>-0.225775</td>\n",
              "      <td>-0.638672</td>\n",
              "      <td>0.101288</td>\n",
              "      <td>-0.339846</td>\n",
              "      <td>0.167170</td>\n",
              "      <td>0.125895</td>\n",
              "      <td>-0.008983</td>\n",
              "      <td>0.014724</td>\n",
              "      <td>2.69</td>\n",
              "      <td>0</td>\n",
              "    </tr>\n",
              "    <tr>\n",
              "      <th>2</th>\n",
              "      <td>1.0</td>\n",
              "      <td>-1.358354</td>\n",
              "      <td>-1.340163</td>\n",
              "      <td>1.773209</td>\n",
              "      <td>0.379780</td>\n",
              "      <td>-0.503198</td>\n",
              "      <td>1.800499</td>\n",
              "      <td>0.791461</td>\n",
              "      <td>0.247676</td>\n",
              "      <td>-1.514654</td>\n",
              "      <td>0.207643</td>\n",
              "      <td>0.624501</td>\n",
              "      <td>0.066084</td>\n",
              "      <td>0.717293</td>\n",
              "      <td>-0.165946</td>\n",
              "      <td>2.345865</td>\n",
              "      <td>-2.890083</td>\n",
              "      <td>1.109969</td>\n",
              "      <td>-0.121359</td>\n",
              "      <td>-2.261857</td>\n",
              "      <td>0.524980</td>\n",
              "      <td>0.247998</td>\n",
              "      <td>0.771679</td>\n",
              "      <td>0.909412</td>\n",
              "      <td>-0.689281</td>\n",
              "      <td>-0.327642</td>\n",
              "      <td>-0.139097</td>\n",
              "      <td>-0.055353</td>\n",
              "      <td>-0.059752</td>\n",
              "      <td>378.66</td>\n",
              "      <td>0</td>\n",
              "    </tr>\n",
              "    <tr>\n",
              "      <th>3</th>\n",
              "      <td>1.0</td>\n",
              "      <td>-0.966272</td>\n",
              "      <td>-0.185226</td>\n",
              "      <td>1.792993</td>\n",
              "      <td>-0.863291</td>\n",
              "      <td>-0.010309</td>\n",
              "      <td>1.247203</td>\n",
              "      <td>0.237609</td>\n",
              "      <td>0.377436</td>\n",
              "      <td>-1.387024</td>\n",
              "      <td>-0.054952</td>\n",
              "      <td>-0.226487</td>\n",
              "      <td>0.178228</td>\n",
              "      <td>0.507757</td>\n",
              "      <td>-0.287924</td>\n",
              "      <td>-0.631418</td>\n",
              "      <td>-1.059647</td>\n",
              "      <td>-0.684093</td>\n",
              "      <td>1.965775</td>\n",
              "      <td>-1.232622</td>\n",
              "      <td>-0.208038</td>\n",
              "      <td>-0.108300</td>\n",
              "      <td>0.005274</td>\n",
              "      <td>-0.190321</td>\n",
              "      <td>-1.175575</td>\n",
              "      <td>0.647376</td>\n",
              "      <td>-0.221929</td>\n",
              "      <td>0.062723</td>\n",
              "      <td>0.061458</td>\n",
              "      <td>123.50</td>\n",
              "      <td>0</td>\n",
              "    </tr>\n",
              "    <tr>\n",
              "      <th>4</th>\n",
              "      <td>2.0</td>\n",
              "      <td>-1.158233</td>\n",
              "      <td>0.877737</td>\n",
              "      <td>1.548718</td>\n",
              "      <td>0.403034</td>\n",
              "      <td>-0.407193</td>\n",
              "      <td>0.095921</td>\n",
              "      <td>0.592941</td>\n",
              "      <td>-0.270533</td>\n",
              "      <td>0.817739</td>\n",
              "      <td>0.753074</td>\n",
              "      <td>-0.822843</td>\n",
              "      <td>0.538196</td>\n",
              "      <td>1.345852</td>\n",
              "      <td>-1.119670</td>\n",
              "      <td>0.175121</td>\n",
              "      <td>-0.451449</td>\n",
              "      <td>-0.237033</td>\n",
              "      <td>-0.038195</td>\n",
              "      <td>0.803487</td>\n",
              "      <td>0.408542</td>\n",
              "      <td>-0.009431</td>\n",
              "      <td>0.798278</td>\n",
              "      <td>-0.137458</td>\n",
              "      <td>0.141267</td>\n",
              "      <td>-0.206010</td>\n",
              "      <td>0.502292</td>\n",
              "      <td>0.219422</td>\n",
              "      <td>0.215153</td>\n",
              "      <td>69.99</td>\n",
              "      <td>0</td>\n",
              "    </tr>\n",
              "  </tbody>\n",
              "</table>\n",
              "</div>"
            ],
            "text/plain": [
              "   Time        V1        V2        V3  ...       V27       V28  Amount  Class\n",
              "0   0.0 -1.359807 -0.072781  2.536347  ...  0.133558 -0.021053  149.62      0\n",
              "1   0.0  1.191857  0.266151  0.166480  ... -0.008983  0.014724    2.69      0\n",
              "2   1.0 -1.358354 -1.340163  1.773209  ... -0.055353 -0.059752  378.66      0\n",
              "3   1.0 -0.966272 -0.185226  1.792993  ...  0.062723  0.061458  123.50      0\n",
              "4   2.0 -1.158233  0.877737  1.548718  ...  0.219422  0.215153   69.99      0\n",
              "\n",
              "[5 rows x 31 columns]"
            ]
          },
          "metadata": {
            "tags": []
          },
          "execution_count": 4
        }
      ]
    },
    {
      "cell_type": "code",
      "metadata": {
        "colab": {
          "base_uri": "https://localhost:8080/"
        },
        "id": "o7_Ip-dci35K",
        "outputId": "92ebc8d4-0fe5-4674-e574-621da4a4b9ce"
      },
      "source": [
        "data.shape"
      ],
      "execution_count": 5,
      "outputs": [
        {
          "output_type": "execute_result",
          "data": {
            "text/plain": [
              "(284807, 31)"
            ]
          },
          "metadata": {
            "tags": []
          },
          "execution_count": 5
        }
      ]
    },
    {
      "cell_type": "markdown",
      "metadata": {
        "id": "n1AF6NRli4UF"
      },
      "source": [
        "There are 31 Columns and 284,807 rows of transactions"
      ]
    },
    {
      "cell_type": "code",
      "metadata": {
        "colab": {
          "base_uri": "https://localhost:8080/"
        },
        "id": "BfjDw6bCjAts",
        "outputId": "e68e7f48-beb3-4e1b-bdba-0211a20f08b7"
      },
      "source": [
        "data.info()"
      ],
      "execution_count": 6,
      "outputs": [
        {
          "output_type": "stream",
          "text": [
            "<class 'pandas.core.frame.DataFrame'>\n",
            "RangeIndex: 284807 entries, 0 to 284806\n",
            "Data columns (total 31 columns):\n",
            " #   Column  Non-Null Count   Dtype  \n",
            "---  ------  --------------   -----  \n",
            " 0   Time    284807 non-null  float64\n",
            " 1   V1      284807 non-null  float64\n",
            " 2   V2      284807 non-null  float64\n",
            " 3   V3      284807 non-null  float64\n",
            " 4   V4      284807 non-null  float64\n",
            " 5   V5      284807 non-null  float64\n",
            " 6   V6      284807 non-null  float64\n",
            " 7   V7      284807 non-null  float64\n",
            " 8   V8      284807 non-null  float64\n",
            " 9   V9      284807 non-null  float64\n",
            " 10  V10     284807 non-null  float64\n",
            " 11  V11     284807 non-null  float64\n",
            " 12  V12     284807 non-null  float64\n",
            " 13  V13     284807 non-null  float64\n",
            " 14  V14     284807 non-null  float64\n",
            " 15  V15     284807 non-null  float64\n",
            " 16  V16     284807 non-null  float64\n",
            " 17  V17     284807 non-null  float64\n",
            " 18  V18     284807 non-null  float64\n",
            " 19  V19     284807 non-null  float64\n",
            " 20  V20     284807 non-null  float64\n",
            " 21  V21     284807 non-null  float64\n",
            " 22  V22     284807 non-null  float64\n",
            " 23  V23     284807 non-null  float64\n",
            " 24  V24     284807 non-null  float64\n",
            " 25  V25     284807 non-null  float64\n",
            " 26  V26     284807 non-null  float64\n",
            " 27  V27     284807 non-null  float64\n",
            " 28  V28     284807 non-null  float64\n",
            " 29  Amount  284807 non-null  float64\n",
            " 30  Class   284807 non-null  int64  \n",
            "dtypes: float64(30), int64(1)\n",
            "memory usage: 67.4 MB\n"
          ],
          "name": "stdout"
        }
      ]
    },
    {
      "cell_type": "markdown",
      "metadata": {
        "id": "OtLIuMhd7mYF"
      },
      "source": [
        "All feature column data is in numbers hence no need to vectorize the data."
      ]
    },
    {
      "cell_type": "markdown",
      "metadata": {
        "id": "Dj0zqou6jDE5"
      },
      "source": [
        "# Data Cleaning"
      ]
    },
    {
      "cell_type": "markdown",
      "metadata": {
        "id": "akGMlegLjfPf"
      },
      "source": [
        "Missing Values"
      ]
    },
    {
      "cell_type": "code",
      "metadata": {
        "colab": {
          "base_uri": "https://localhost:8080/"
        },
        "id": "7kRulxH8jhnr",
        "outputId": "ec8d4697-98b0-4049-9772-a3e58abe3b57"
      },
      "source": [
        "data.isnull().sum()"
      ],
      "execution_count": 7,
      "outputs": [
        {
          "output_type": "execute_result",
          "data": {
            "text/plain": [
              "Time      0\n",
              "V1        0\n",
              "V2        0\n",
              "V3        0\n",
              "V4        0\n",
              "V5        0\n",
              "V6        0\n",
              "V7        0\n",
              "V8        0\n",
              "V9        0\n",
              "V10       0\n",
              "V11       0\n",
              "V12       0\n",
              "V13       0\n",
              "V14       0\n",
              "V15       0\n",
              "V16       0\n",
              "V17       0\n",
              "V18       0\n",
              "V19       0\n",
              "V20       0\n",
              "V21       0\n",
              "V22       0\n",
              "V23       0\n",
              "V24       0\n",
              "V25       0\n",
              "V26       0\n",
              "V27       0\n",
              "V28       0\n",
              "Amount    0\n",
              "Class     0\n",
              "dtype: int64"
            ]
          },
          "metadata": {
            "tags": []
          },
          "execution_count": 7
        }
      ]
    },
    {
      "cell_type": "code",
      "metadata": {
        "colab": {
          "base_uri": "https://localhost:8080/"
        },
        "id": "8Lfoa4i2lM51",
        "outputId": "74bf9f1c-5954-4a01-e607-8ab41421c884"
      },
      "source": [
        "np.where(data.applymap(lambda x: x=='') )"
      ],
      "execution_count": 8,
      "outputs": [
        {
          "output_type": "execute_result",
          "data": {
            "text/plain": [
              "(array([], dtype=int64), array([], dtype=int64))"
            ]
          },
          "metadata": {
            "tags": []
          },
          "execution_count": 8
        }
      ]
    },
    {
      "cell_type": "code",
      "metadata": {
        "colab": {
          "base_uri": "https://localhost:8080/",
          "height": 317
        },
        "id": "cuTnxshepyyZ",
        "outputId": "869242dc-aa04-4f74-896c-77099d2a2b62"
      },
      "source": [
        "data.describe()"
      ],
      "execution_count": 9,
      "outputs": [
        {
          "output_type": "execute_result",
          "data": {
            "text/html": [
              "<div>\n",
              "<style scoped>\n",
              "    .dataframe tbody tr th:only-of-type {\n",
              "        vertical-align: middle;\n",
              "    }\n",
              "\n",
              "    .dataframe tbody tr th {\n",
              "        vertical-align: top;\n",
              "    }\n",
              "\n",
              "    .dataframe thead th {\n",
              "        text-align: right;\n",
              "    }\n",
              "</style>\n",
              "<table border=\"1\" class=\"dataframe\">\n",
              "  <thead>\n",
              "    <tr style=\"text-align: right;\">\n",
              "      <th></th>\n",
              "      <th>Time</th>\n",
              "      <th>V1</th>\n",
              "      <th>V2</th>\n",
              "      <th>V3</th>\n",
              "      <th>V4</th>\n",
              "      <th>V5</th>\n",
              "      <th>V6</th>\n",
              "      <th>V7</th>\n",
              "      <th>V8</th>\n",
              "      <th>V9</th>\n",
              "      <th>V10</th>\n",
              "      <th>V11</th>\n",
              "      <th>V12</th>\n",
              "      <th>V13</th>\n",
              "      <th>V14</th>\n",
              "      <th>V15</th>\n",
              "      <th>V16</th>\n",
              "      <th>V17</th>\n",
              "      <th>V18</th>\n",
              "      <th>V19</th>\n",
              "      <th>V20</th>\n",
              "      <th>V21</th>\n",
              "      <th>V22</th>\n",
              "      <th>V23</th>\n",
              "      <th>V24</th>\n",
              "      <th>V25</th>\n",
              "      <th>V26</th>\n",
              "      <th>V27</th>\n",
              "      <th>V28</th>\n",
              "      <th>Amount</th>\n",
              "      <th>Class</th>\n",
              "    </tr>\n",
              "  </thead>\n",
              "  <tbody>\n",
              "    <tr>\n",
              "      <th>count</th>\n",
              "      <td>284807.000000</td>\n",
              "      <td>2.848070e+05</td>\n",
              "      <td>2.848070e+05</td>\n",
              "      <td>2.848070e+05</td>\n",
              "      <td>2.848070e+05</td>\n",
              "      <td>2.848070e+05</td>\n",
              "      <td>2.848070e+05</td>\n",
              "      <td>2.848070e+05</td>\n",
              "      <td>2.848070e+05</td>\n",
              "      <td>2.848070e+05</td>\n",
              "      <td>2.848070e+05</td>\n",
              "      <td>2.848070e+05</td>\n",
              "      <td>2.848070e+05</td>\n",
              "      <td>2.848070e+05</td>\n",
              "      <td>2.848070e+05</td>\n",
              "      <td>2.848070e+05</td>\n",
              "      <td>2.848070e+05</td>\n",
              "      <td>2.848070e+05</td>\n",
              "      <td>2.848070e+05</td>\n",
              "      <td>2.848070e+05</td>\n",
              "      <td>2.848070e+05</td>\n",
              "      <td>2.848070e+05</td>\n",
              "      <td>2.848070e+05</td>\n",
              "      <td>2.848070e+05</td>\n",
              "      <td>2.848070e+05</td>\n",
              "      <td>2.848070e+05</td>\n",
              "      <td>2.848070e+05</td>\n",
              "      <td>2.848070e+05</td>\n",
              "      <td>2.848070e+05</td>\n",
              "      <td>284807.000000</td>\n",
              "      <td>284807.000000</td>\n",
              "    </tr>\n",
              "    <tr>\n",
              "      <th>mean</th>\n",
              "      <td>94813.859575</td>\n",
              "      <td>3.919560e-15</td>\n",
              "      <td>5.688174e-16</td>\n",
              "      <td>-8.769071e-15</td>\n",
              "      <td>2.782312e-15</td>\n",
              "      <td>-1.552563e-15</td>\n",
              "      <td>2.010663e-15</td>\n",
              "      <td>-1.694249e-15</td>\n",
              "      <td>-1.927028e-16</td>\n",
              "      <td>-3.137024e-15</td>\n",
              "      <td>1.768627e-15</td>\n",
              "      <td>9.170318e-16</td>\n",
              "      <td>-1.810658e-15</td>\n",
              "      <td>1.693438e-15</td>\n",
              "      <td>1.479045e-15</td>\n",
              "      <td>3.482336e-15</td>\n",
              "      <td>1.392007e-15</td>\n",
              "      <td>-7.528491e-16</td>\n",
              "      <td>4.328772e-16</td>\n",
              "      <td>9.049732e-16</td>\n",
              "      <td>5.085503e-16</td>\n",
              "      <td>1.537294e-16</td>\n",
              "      <td>7.959909e-16</td>\n",
              "      <td>5.367590e-16</td>\n",
              "      <td>4.458112e-15</td>\n",
              "      <td>1.453003e-15</td>\n",
              "      <td>1.699104e-15</td>\n",
              "      <td>-3.660161e-16</td>\n",
              "      <td>-1.206049e-16</td>\n",
              "      <td>88.349619</td>\n",
              "      <td>0.001727</td>\n",
              "    </tr>\n",
              "    <tr>\n",
              "      <th>std</th>\n",
              "      <td>47488.145955</td>\n",
              "      <td>1.958696e+00</td>\n",
              "      <td>1.651309e+00</td>\n",
              "      <td>1.516255e+00</td>\n",
              "      <td>1.415869e+00</td>\n",
              "      <td>1.380247e+00</td>\n",
              "      <td>1.332271e+00</td>\n",
              "      <td>1.237094e+00</td>\n",
              "      <td>1.194353e+00</td>\n",
              "      <td>1.098632e+00</td>\n",
              "      <td>1.088850e+00</td>\n",
              "      <td>1.020713e+00</td>\n",
              "      <td>9.992014e-01</td>\n",
              "      <td>9.952742e-01</td>\n",
              "      <td>9.585956e-01</td>\n",
              "      <td>9.153160e-01</td>\n",
              "      <td>8.762529e-01</td>\n",
              "      <td>8.493371e-01</td>\n",
              "      <td>8.381762e-01</td>\n",
              "      <td>8.140405e-01</td>\n",
              "      <td>7.709250e-01</td>\n",
              "      <td>7.345240e-01</td>\n",
              "      <td>7.257016e-01</td>\n",
              "      <td>6.244603e-01</td>\n",
              "      <td>6.056471e-01</td>\n",
              "      <td>5.212781e-01</td>\n",
              "      <td>4.822270e-01</td>\n",
              "      <td>4.036325e-01</td>\n",
              "      <td>3.300833e-01</td>\n",
              "      <td>250.120109</td>\n",
              "      <td>0.041527</td>\n",
              "    </tr>\n",
              "    <tr>\n",
              "      <th>min</th>\n",
              "      <td>0.000000</td>\n",
              "      <td>-5.640751e+01</td>\n",
              "      <td>-7.271573e+01</td>\n",
              "      <td>-4.832559e+01</td>\n",
              "      <td>-5.683171e+00</td>\n",
              "      <td>-1.137433e+02</td>\n",
              "      <td>-2.616051e+01</td>\n",
              "      <td>-4.355724e+01</td>\n",
              "      <td>-7.321672e+01</td>\n",
              "      <td>-1.343407e+01</td>\n",
              "      <td>-2.458826e+01</td>\n",
              "      <td>-4.797473e+00</td>\n",
              "      <td>-1.868371e+01</td>\n",
              "      <td>-5.791881e+00</td>\n",
              "      <td>-1.921433e+01</td>\n",
              "      <td>-4.498945e+00</td>\n",
              "      <td>-1.412985e+01</td>\n",
              "      <td>-2.516280e+01</td>\n",
              "      <td>-9.498746e+00</td>\n",
              "      <td>-7.213527e+00</td>\n",
              "      <td>-5.449772e+01</td>\n",
              "      <td>-3.483038e+01</td>\n",
              "      <td>-1.093314e+01</td>\n",
              "      <td>-4.480774e+01</td>\n",
              "      <td>-2.836627e+00</td>\n",
              "      <td>-1.029540e+01</td>\n",
              "      <td>-2.604551e+00</td>\n",
              "      <td>-2.256568e+01</td>\n",
              "      <td>-1.543008e+01</td>\n",
              "      <td>0.000000</td>\n",
              "      <td>0.000000</td>\n",
              "    </tr>\n",
              "    <tr>\n",
              "      <th>25%</th>\n",
              "      <td>54201.500000</td>\n",
              "      <td>-9.203734e-01</td>\n",
              "      <td>-5.985499e-01</td>\n",
              "      <td>-8.903648e-01</td>\n",
              "      <td>-8.486401e-01</td>\n",
              "      <td>-6.915971e-01</td>\n",
              "      <td>-7.682956e-01</td>\n",
              "      <td>-5.540759e-01</td>\n",
              "      <td>-2.086297e-01</td>\n",
              "      <td>-6.430976e-01</td>\n",
              "      <td>-5.354257e-01</td>\n",
              "      <td>-7.624942e-01</td>\n",
              "      <td>-4.055715e-01</td>\n",
              "      <td>-6.485393e-01</td>\n",
              "      <td>-4.255740e-01</td>\n",
              "      <td>-5.828843e-01</td>\n",
              "      <td>-4.680368e-01</td>\n",
              "      <td>-4.837483e-01</td>\n",
              "      <td>-4.988498e-01</td>\n",
              "      <td>-4.562989e-01</td>\n",
              "      <td>-2.117214e-01</td>\n",
              "      <td>-2.283949e-01</td>\n",
              "      <td>-5.423504e-01</td>\n",
              "      <td>-1.618463e-01</td>\n",
              "      <td>-3.545861e-01</td>\n",
              "      <td>-3.171451e-01</td>\n",
              "      <td>-3.269839e-01</td>\n",
              "      <td>-7.083953e-02</td>\n",
              "      <td>-5.295979e-02</td>\n",
              "      <td>5.600000</td>\n",
              "      <td>0.000000</td>\n",
              "    </tr>\n",
              "    <tr>\n",
              "      <th>50%</th>\n",
              "      <td>84692.000000</td>\n",
              "      <td>1.810880e-02</td>\n",
              "      <td>6.548556e-02</td>\n",
              "      <td>1.798463e-01</td>\n",
              "      <td>-1.984653e-02</td>\n",
              "      <td>-5.433583e-02</td>\n",
              "      <td>-2.741871e-01</td>\n",
              "      <td>4.010308e-02</td>\n",
              "      <td>2.235804e-02</td>\n",
              "      <td>-5.142873e-02</td>\n",
              "      <td>-9.291738e-02</td>\n",
              "      <td>-3.275735e-02</td>\n",
              "      <td>1.400326e-01</td>\n",
              "      <td>-1.356806e-02</td>\n",
              "      <td>5.060132e-02</td>\n",
              "      <td>4.807155e-02</td>\n",
              "      <td>6.641332e-02</td>\n",
              "      <td>-6.567575e-02</td>\n",
              "      <td>-3.636312e-03</td>\n",
              "      <td>3.734823e-03</td>\n",
              "      <td>-6.248109e-02</td>\n",
              "      <td>-2.945017e-02</td>\n",
              "      <td>6.781943e-03</td>\n",
              "      <td>-1.119293e-02</td>\n",
              "      <td>4.097606e-02</td>\n",
              "      <td>1.659350e-02</td>\n",
              "      <td>-5.213911e-02</td>\n",
              "      <td>1.342146e-03</td>\n",
              "      <td>1.124383e-02</td>\n",
              "      <td>22.000000</td>\n",
              "      <td>0.000000</td>\n",
              "    </tr>\n",
              "    <tr>\n",
              "      <th>75%</th>\n",
              "      <td>139320.500000</td>\n",
              "      <td>1.315642e+00</td>\n",
              "      <td>8.037239e-01</td>\n",
              "      <td>1.027196e+00</td>\n",
              "      <td>7.433413e-01</td>\n",
              "      <td>6.119264e-01</td>\n",
              "      <td>3.985649e-01</td>\n",
              "      <td>5.704361e-01</td>\n",
              "      <td>3.273459e-01</td>\n",
              "      <td>5.971390e-01</td>\n",
              "      <td>4.539234e-01</td>\n",
              "      <td>7.395934e-01</td>\n",
              "      <td>6.182380e-01</td>\n",
              "      <td>6.625050e-01</td>\n",
              "      <td>4.931498e-01</td>\n",
              "      <td>6.488208e-01</td>\n",
              "      <td>5.232963e-01</td>\n",
              "      <td>3.996750e-01</td>\n",
              "      <td>5.008067e-01</td>\n",
              "      <td>4.589494e-01</td>\n",
              "      <td>1.330408e-01</td>\n",
              "      <td>1.863772e-01</td>\n",
              "      <td>5.285536e-01</td>\n",
              "      <td>1.476421e-01</td>\n",
              "      <td>4.395266e-01</td>\n",
              "      <td>3.507156e-01</td>\n",
              "      <td>2.409522e-01</td>\n",
              "      <td>9.104512e-02</td>\n",
              "      <td>7.827995e-02</td>\n",
              "      <td>77.165000</td>\n",
              "      <td>0.000000</td>\n",
              "    </tr>\n",
              "    <tr>\n",
              "      <th>max</th>\n",
              "      <td>172792.000000</td>\n",
              "      <td>2.454930e+00</td>\n",
              "      <td>2.205773e+01</td>\n",
              "      <td>9.382558e+00</td>\n",
              "      <td>1.687534e+01</td>\n",
              "      <td>3.480167e+01</td>\n",
              "      <td>7.330163e+01</td>\n",
              "      <td>1.205895e+02</td>\n",
              "      <td>2.000721e+01</td>\n",
              "      <td>1.559499e+01</td>\n",
              "      <td>2.374514e+01</td>\n",
              "      <td>1.201891e+01</td>\n",
              "      <td>7.848392e+00</td>\n",
              "      <td>7.126883e+00</td>\n",
              "      <td>1.052677e+01</td>\n",
              "      <td>8.877742e+00</td>\n",
              "      <td>1.731511e+01</td>\n",
              "      <td>9.253526e+00</td>\n",
              "      <td>5.041069e+00</td>\n",
              "      <td>5.591971e+00</td>\n",
              "      <td>3.942090e+01</td>\n",
              "      <td>2.720284e+01</td>\n",
              "      <td>1.050309e+01</td>\n",
              "      <td>2.252841e+01</td>\n",
              "      <td>4.584549e+00</td>\n",
              "      <td>7.519589e+00</td>\n",
              "      <td>3.517346e+00</td>\n",
              "      <td>3.161220e+01</td>\n",
              "      <td>3.384781e+01</td>\n",
              "      <td>25691.160000</td>\n",
              "      <td>1.000000</td>\n",
              "    </tr>\n",
              "  </tbody>\n",
              "</table>\n",
              "</div>"
            ],
            "text/plain": [
              "                Time            V1  ...         Amount          Class\n",
              "count  284807.000000  2.848070e+05  ...  284807.000000  284807.000000\n",
              "mean    94813.859575  3.919560e-15  ...      88.349619       0.001727\n",
              "std     47488.145955  1.958696e+00  ...     250.120109       0.041527\n",
              "min         0.000000 -5.640751e+01  ...       0.000000       0.000000\n",
              "25%     54201.500000 -9.203734e-01  ...       5.600000       0.000000\n",
              "50%     84692.000000  1.810880e-02  ...      22.000000       0.000000\n",
              "75%    139320.500000  1.315642e+00  ...      77.165000       0.000000\n",
              "max    172792.000000  2.454930e+00  ...   25691.160000       1.000000\n",
              "\n",
              "[8 rows x 31 columns]"
            ]
          },
          "metadata": {
            "tags": []
          },
          "execution_count": 9
        }
      ]
    },
    {
      "cell_type": "code",
      "metadata": {
        "id": "2G838FONkUDO"
      },
      "source": [
        "not_fraud = data[data['Class']==0] \n",
        "fraud = data[data['Class'] == 1]"
      ],
      "execution_count": 10,
      "outputs": []
    },
    {
      "cell_type": "code",
      "metadata": {
        "id": "aAgSM6g8lb0D"
      },
      "source": [
        "not_fraud = not_fraud.sample(fraud.shape[0])\n",
        "not_fraud.shape\n",
        "data= fraud.append(not_fraud, ignore_index=True)\n",
        "data.shape\n",
        "data['Class'].value_counts()\n",
        "x_data = data.drop(columns = 'Class', axis=0)\n",
        "label = data['Class']"
      ],
      "execution_count": 11,
      "outputs": []
    },
    {
      "cell_type": "code",
      "metadata": {
        "colab": {
          "base_uri": "https://localhost:8080/"
        },
        "id": "202zYx_WlmnA",
        "outputId": "ef787cb1-ad20-4bf6-a809-ece555c9eb2f"
      },
      "source": [
        "not_fraud.shape"
      ],
      "execution_count": 12,
      "outputs": [
        {
          "output_type": "execute_result",
          "data": {
            "text/plain": [
              "(492, 31)"
            ]
          },
          "metadata": {
            "tags": []
          },
          "execution_count": 12
        }
      ]
    },
    {
      "cell_type": "code",
      "metadata": {
        "colab": {
          "base_uri": "https://localhost:8080/"
        },
        "id": "i7PKV5uBqhlf",
        "outputId": "d6a1a78a-5563-4c4c-f5b2-d7898ceeb24d"
      },
      "source": [
        "fraud.shape"
      ],
      "execution_count": 13,
      "outputs": [
        {
          "output_type": "execute_result",
          "data": {
            "text/plain": [
              "(492, 31)"
            ]
          },
          "metadata": {
            "tags": []
          },
          "execution_count": 13
        }
      ]
    },
    {
      "cell_type": "markdown",
      "metadata": {
        "id": "gISeYWvDmkHy"
      },
      "source": [
        "Split the data 50% Training / 20% Validation / 30% Test"
      ]
    },
    {
      "cell_type": "code",
      "metadata": {
        "id": "bdNxOcygkU5N"
      },
      "source": [
        "training_data, testing_data, training_labels, testing_labels = train_test_split(x_data, label, test_size = .3, random_state=1, stratify= label)"
      ],
      "execution_count": 14,
      "outputs": []
    },
    {
      "cell_type": "code",
      "metadata": {
        "colab": {
          "base_uri": "https://localhost:8080/"
        },
        "id": "T65qLKfxkg6f",
        "outputId": "ce3f36c0-bc15-4b2e-8ca0-82d7f981d465"
      },
      "source": [
        "amt_zero = np.where(data.Amount.apply(lambda x: x == 0))\n",
        "(data['Amount'].values == 0 ).sum()"
      ],
      "execution_count": 15,
      "outputs": [
        {
          "output_type": "execute_result",
          "data": {
            "text/plain": [
              "34"
            ]
          },
          "metadata": {
            "tags": []
          },
          "execution_count": 15
        }
      ]
    },
    {
      "cell_type": "markdown",
      "metadata": {
        "id": "LS3uMzVUmU7P"
      },
      "source": [
        "Normalize the data"
      ]
    },
    {
      "cell_type": "code",
      "metadata": {
        "id": "aeCLuClxmPQ1"
      },
      "source": [
        "mean = training_data.mean(axis=0) \n",
        "training_data -= mean\n",
        "std = training_data.std(axis=0) \n",
        "training_data /=std\n",
        "testing_data -=mean \n",
        "testing_data /=std"
      ],
      "execution_count": 16,
      "outputs": []
    },
    {
      "cell_type": "code",
      "metadata": {
        "colab": {
          "base_uri": "https://localhost:8080/"
        },
        "id": "xJ2Mv-DQmdiB",
        "outputId": "387a1cb4-5da4-4605-eea0-9c2f4a6ca5b7"
      },
      "source": [
        "testing_data.dtypes"
      ],
      "execution_count": 17,
      "outputs": [
        {
          "output_type": "execute_result",
          "data": {
            "text/plain": [
              "Time      float64\n",
              "V1        float64\n",
              "V2        float64\n",
              "V3        float64\n",
              "V4        float64\n",
              "V5        float64\n",
              "V6        float64\n",
              "V7        float64\n",
              "V8        float64\n",
              "V9        float64\n",
              "V10       float64\n",
              "V11       float64\n",
              "V12       float64\n",
              "V13       float64\n",
              "V14       float64\n",
              "V15       float64\n",
              "V16       float64\n",
              "V17       float64\n",
              "V18       float64\n",
              "V19       float64\n",
              "V20       float64\n",
              "V21       float64\n",
              "V22       float64\n",
              "V23       float64\n",
              "V24       float64\n",
              "V25       float64\n",
              "V26       float64\n",
              "V27       float64\n",
              "V28       float64\n",
              "Amount    float64\n",
              "dtype: object"
            ]
          },
          "metadata": {
            "tags": []
          },
          "execution_count": 17
        }
      ]
    },
    {
      "cell_type": "markdown",
      "metadata": {
        "id": "IYogjDXwmk_E"
      },
      "source": [
        "Model Requirements: 3 Hidden Layers with 10,6,8 outputs. \n",
        "2 Models with relu & tanh. \n",
        "\n",
        "As it is a binary classification problem the loss will be binary_crossentropy and metrics accuracy."
      ]
    },
    {
      "cell_type": "markdown",
      "metadata": {
        "id": "QC8jWaVDAz34"
      },
      "source": [
        "# Relu Model"
      ]
    },
    {
      "cell_type": "code",
      "metadata": {
        "id": "ImnfDyepmsh3"
      },
      "source": [
        "model_relu = Sequential()\n",
        "model_relu.add(Dense(10, activation= 'relu',input_shape =(training_data.shape[1],)))\n",
        "model_relu.add(Dense(8, activation= 'relu')) \n",
        "model_relu.add(Dense(6, activation= 'relu')) \n",
        "model_relu.add(Dense(1, activation= 'sigmoid'))"
      ],
      "execution_count": 42,
      "outputs": []
    },
    {
      "cell_type": "markdown",
      "metadata": {
        "id": "8c_JLE-znXDe"
      },
      "source": [
        "Compilation Step"
      ]
    },
    {
      "cell_type": "code",
      "metadata": {
        "id": "7hx5VTKbnRHI"
      },
      "source": [
        "model_relu.compile(loss ='binary_crossentropy', optimizer='RMSprop', metrics=['accuracy'])"
      ],
      "execution_count": 43,
      "outputs": []
    },
    {
      "cell_type": "code",
      "metadata": {
        "colab": {
          "base_uri": "https://localhost:8080/"
        },
        "id": "mwcazClpnbsO",
        "outputId": "a7e64a26-5667-4258-de80-cb0e42b92a16"
      },
      "source": [
        "history_relu = model_relu.fit(training_data, training_labels, epochs=100, batch_size=20, validation_split= 0.2)"
      ],
      "execution_count": 44,
      "outputs": [
        {
          "output_type": "stream",
          "text": [
            "Epoch 1/100\n",
            "28/28 [==============================] - 1s 9ms/step - loss: 0.7030 - accuracy: 0.4189 - val_loss: 0.6895 - val_accuracy: 0.5507\n",
            "Epoch 2/100\n",
            "28/28 [==============================] - 0s 3ms/step - loss: 0.6855 - accuracy: 0.5582 - val_loss: 0.6745 - val_accuracy: 0.6522\n",
            "Epoch 3/100\n",
            "28/28 [==============================] - 0s 3ms/step - loss: 0.6667 - accuracy: 0.7450 - val_loss: 0.6393 - val_accuracy: 0.8261\n",
            "Epoch 4/100\n",
            "28/28 [==============================] - 0s 3ms/step - loss: 0.6355 - accuracy: 0.7924 - val_loss: 0.5928 - val_accuracy: 0.8478\n",
            "Epoch 5/100\n",
            "28/28 [==============================] - 0s 3ms/step - loss: 0.5872 - accuracy: 0.8321 - val_loss: 0.5358 - val_accuracy: 0.8696\n",
            "Epoch 6/100\n",
            "28/28 [==============================] - 0s 3ms/step - loss: 0.5165 - accuracy: 0.8767 - val_loss: 0.4734 - val_accuracy: 0.8841\n",
            "Epoch 7/100\n",
            "28/28 [==============================] - 0s 3ms/step - loss: 0.4611 - accuracy: 0.8587 - val_loss: 0.4131 - val_accuracy: 0.8913\n",
            "Epoch 8/100\n",
            "28/28 [==============================] - 0s 3ms/step - loss: 0.3931 - accuracy: 0.8828 - val_loss: 0.3597 - val_accuracy: 0.9130\n",
            "Epoch 9/100\n",
            "28/28 [==============================] - 0s 3ms/step - loss: 0.3539 - accuracy: 0.8891 - val_loss: 0.3148 - val_accuracy: 0.9130\n",
            "Epoch 10/100\n",
            "28/28 [==============================] - 0s 3ms/step - loss: 0.3088 - accuracy: 0.8963 - val_loss: 0.2818 - val_accuracy: 0.9130\n",
            "Epoch 11/100\n",
            "28/28 [==============================] - 0s 3ms/step - loss: 0.2973 - accuracy: 0.8754 - val_loss: 0.2545 - val_accuracy: 0.9130\n",
            "Epoch 12/100\n",
            "28/28 [==============================] - 0s 3ms/step - loss: 0.2447 - accuracy: 0.9098 - val_loss: 0.2351 - val_accuracy: 0.9348\n",
            "Epoch 13/100\n",
            "28/28 [==============================] - 0s 3ms/step - loss: 0.2359 - accuracy: 0.9082 - val_loss: 0.2167 - val_accuracy: 0.9420\n",
            "Epoch 14/100\n",
            "28/28 [==============================] - 0s 3ms/step - loss: 0.2041 - accuracy: 0.9313 - val_loss: 0.2024 - val_accuracy: 0.9420\n",
            "Epoch 15/100\n",
            "28/28 [==============================] - 0s 3ms/step - loss: 0.2219 - accuracy: 0.9196 - val_loss: 0.1906 - val_accuracy: 0.9420\n",
            "Epoch 16/100\n",
            "28/28 [==============================] - 0s 3ms/step - loss: 0.2065 - accuracy: 0.9181 - val_loss: 0.1816 - val_accuracy: 0.9420\n",
            "Epoch 17/100\n",
            "28/28 [==============================] - 0s 3ms/step - loss: 0.1706 - accuracy: 0.9459 - val_loss: 0.1753 - val_accuracy: 0.9348\n",
            "Epoch 18/100\n",
            "28/28 [==============================] - 0s 3ms/step - loss: 0.1709 - accuracy: 0.9349 - val_loss: 0.1669 - val_accuracy: 0.9420\n",
            "Epoch 19/100\n",
            "28/28 [==============================] - 0s 4ms/step - loss: 0.2011 - accuracy: 0.9224 - val_loss: 0.1589 - val_accuracy: 0.9420\n",
            "Epoch 20/100\n",
            "28/28 [==============================] - 0s 3ms/step - loss: 0.1702 - accuracy: 0.9387 - val_loss: 0.1557 - val_accuracy: 0.9275\n",
            "Epoch 21/100\n",
            "28/28 [==============================] - 0s 3ms/step - loss: 0.1498 - accuracy: 0.9366 - val_loss: 0.1569 - val_accuracy: 0.9203\n",
            "Epoch 22/100\n",
            "28/28 [==============================] - 0s 3ms/step - loss: 0.1497 - accuracy: 0.9392 - val_loss: 0.1495 - val_accuracy: 0.9275\n",
            "Epoch 23/100\n",
            "28/28 [==============================] - 0s 3ms/step - loss: 0.1645 - accuracy: 0.9271 - val_loss: 0.1472 - val_accuracy: 0.9203\n",
            "Epoch 24/100\n",
            "28/28 [==============================] - 0s 3ms/step - loss: 0.1489 - accuracy: 0.9344 - val_loss: 0.1426 - val_accuracy: 0.9203\n",
            "Epoch 25/100\n",
            "28/28 [==============================] - 0s 3ms/step - loss: 0.1489 - accuracy: 0.9347 - val_loss: 0.1425 - val_accuracy: 0.9275\n",
            "Epoch 26/100\n",
            "28/28 [==============================] - 0s 3ms/step - loss: 0.1293 - accuracy: 0.9476 - val_loss: 0.1469 - val_accuracy: 0.9348\n",
            "Epoch 27/100\n",
            "28/28 [==============================] - 0s 3ms/step - loss: 0.1512 - accuracy: 0.9367 - val_loss: 0.1392 - val_accuracy: 0.9348\n",
            "Epoch 28/100\n",
            "28/28 [==============================] - 0s 3ms/step - loss: 0.1331 - accuracy: 0.9424 - val_loss: 0.1389 - val_accuracy: 0.9348\n",
            "Epoch 29/100\n",
            "28/28 [==============================] - 0s 3ms/step - loss: 0.1315 - accuracy: 0.9428 - val_loss: 0.1376 - val_accuracy: 0.9348\n",
            "Epoch 30/100\n",
            "28/28 [==============================] - 0s 3ms/step - loss: 0.1558 - accuracy: 0.9378 - val_loss: 0.1330 - val_accuracy: 0.9275\n",
            "Epoch 31/100\n",
            "28/28 [==============================] - 0s 3ms/step - loss: 0.1475 - accuracy: 0.9332 - val_loss: 0.1323 - val_accuracy: 0.9275\n",
            "Epoch 32/100\n",
            "28/28 [==============================] - 0s 3ms/step - loss: 0.1199 - accuracy: 0.9566 - val_loss: 0.1366 - val_accuracy: 0.9420\n",
            "Epoch 33/100\n",
            "28/28 [==============================] - 0s 3ms/step - loss: 0.1373 - accuracy: 0.9369 - val_loss: 0.1326 - val_accuracy: 0.9348\n",
            "Epoch 34/100\n",
            "28/28 [==============================] - 0s 3ms/step - loss: 0.1139 - accuracy: 0.9551 - val_loss: 0.1337 - val_accuracy: 0.9420\n",
            "Epoch 35/100\n",
            "28/28 [==============================] - 0s 3ms/step - loss: 0.0990 - accuracy: 0.9669 - val_loss: 0.1326 - val_accuracy: 0.9420\n",
            "Epoch 36/100\n",
            "28/28 [==============================] - 0s 3ms/step - loss: 0.0991 - accuracy: 0.9677 - val_loss: 0.1315 - val_accuracy: 0.9420\n",
            "Epoch 37/100\n",
            "28/28 [==============================] - 0s 3ms/step - loss: 0.1157 - accuracy: 0.9597 - val_loss: 0.1302 - val_accuracy: 0.9493\n",
            "Epoch 38/100\n",
            "28/28 [==============================] - 0s 3ms/step - loss: 0.1265 - accuracy: 0.9508 - val_loss: 0.1259 - val_accuracy: 0.9493\n",
            "Epoch 39/100\n",
            "28/28 [==============================] - 0s 3ms/step - loss: 0.1292 - accuracy: 0.9515 - val_loss: 0.1339 - val_accuracy: 0.9493\n",
            "Epoch 40/100\n",
            "28/28 [==============================] - 0s 3ms/step - loss: 0.1169 - accuracy: 0.9516 - val_loss: 0.1320 - val_accuracy: 0.9493\n",
            "Epoch 41/100\n",
            "28/28 [==============================] - 0s 4ms/step - loss: 0.1075 - accuracy: 0.9576 - val_loss: 0.1306 - val_accuracy: 0.9493\n",
            "Epoch 42/100\n",
            "28/28 [==============================] - 0s 3ms/step - loss: 0.1162 - accuracy: 0.9657 - val_loss: 0.1328 - val_accuracy: 0.9493\n",
            "Epoch 43/100\n",
            "28/28 [==============================] - 0s 3ms/step - loss: 0.1257 - accuracy: 0.9514 - val_loss: 0.1292 - val_accuracy: 0.9493\n",
            "Epoch 44/100\n",
            "28/28 [==============================] - 0s 3ms/step - loss: 0.1157 - accuracy: 0.9503 - val_loss: 0.1302 - val_accuracy: 0.9493\n",
            "Epoch 45/100\n",
            "28/28 [==============================] - 0s 3ms/step - loss: 0.1108 - accuracy: 0.9594 - val_loss: 0.1272 - val_accuracy: 0.9493\n",
            "Epoch 46/100\n",
            "28/28 [==============================] - 0s 3ms/step - loss: 0.0891 - accuracy: 0.9693 - val_loss: 0.1327 - val_accuracy: 0.9493\n",
            "Epoch 47/100\n",
            "28/28 [==============================] - 0s 3ms/step - loss: 0.0986 - accuracy: 0.9568 - val_loss: 0.1355 - val_accuracy: 0.9493\n",
            "Epoch 48/100\n",
            "28/28 [==============================] - 0s 3ms/step - loss: 0.1020 - accuracy: 0.9673 - val_loss: 0.1411 - val_accuracy: 0.9493\n",
            "Epoch 49/100\n",
            "28/28 [==============================] - 0s 3ms/step - loss: 0.0957 - accuracy: 0.9681 - val_loss: 0.1408 - val_accuracy: 0.9493\n",
            "Epoch 50/100\n",
            "28/28 [==============================] - 0s 3ms/step - loss: 0.0868 - accuracy: 0.9720 - val_loss: 0.1513 - val_accuracy: 0.9493\n",
            "Epoch 51/100\n",
            "28/28 [==============================] - 0s 3ms/step - loss: 0.0896 - accuracy: 0.9789 - val_loss: 0.1417 - val_accuracy: 0.9493\n",
            "Epoch 52/100\n",
            "28/28 [==============================] - 0s 3ms/step - loss: 0.0876 - accuracy: 0.9763 - val_loss: 0.1437 - val_accuracy: 0.9493\n",
            "Epoch 53/100\n",
            "28/28 [==============================] - 0s 3ms/step - loss: 0.0919 - accuracy: 0.9658 - val_loss: 0.1403 - val_accuracy: 0.9493\n",
            "Epoch 54/100\n",
            "28/28 [==============================] - 0s 3ms/step - loss: 0.1062 - accuracy: 0.9661 - val_loss: 0.1347 - val_accuracy: 0.9493\n",
            "Epoch 55/100\n",
            "28/28 [==============================] - 0s 3ms/step - loss: 0.1195 - accuracy: 0.9499 - val_loss: 0.1349 - val_accuracy: 0.9493\n",
            "Epoch 56/100\n",
            "28/28 [==============================] - 0s 3ms/step - loss: 0.0873 - accuracy: 0.9669 - val_loss: 0.1491 - val_accuracy: 0.9493\n",
            "Epoch 57/100\n",
            "28/28 [==============================] - 0s 3ms/step - loss: 0.1144 - accuracy: 0.9605 - val_loss: 0.1402 - val_accuracy: 0.9493\n",
            "Epoch 58/100\n",
            "28/28 [==============================] - 0s 3ms/step - loss: 0.1276 - accuracy: 0.9555 - val_loss: 0.1367 - val_accuracy: 0.9493\n",
            "Epoch 59/100\n",
            "28/28 [==============================] - 0s 3ms/step - loss: 0.0984 - accuracy: 0.9579 - val_loss: 0.1394 - val_accuracy: 0.9493\n",
            "Epoch 60/100\n",
            "28/28 [==============================] - 0s 3ms/step - loss: 0.0836 - accuracy: 0.9646 - val_loss: 0.1355 - val_accuracy: 0.9493\n",
            "Epoch 61/100\n",
            "28/28 [==============================] - 0s 3ms/step - loss: 0.0785 - accuracy: 0.9743 - val_loss: 0.1470 - val_accuracy: 0.9420\n",
            "Epoch 62/100\n",
            "28/28 [==============================] - 0s 3ms/step - loss: 0.0836 - accuracy: 0.9662 - val_loss: 0.1501 - val_accuracy: 0.9420\n",
            "Epoch 63/100\n",
            "28/28 [==============================] - 0s 3ms/step - loss: 0.0886 - accuracy: 0.9713 - val_loss: 0.1430 - val_accuracy: 0.9420\n",
            "Epoch 64/100\n",
            "28/28 [==============================] - 0s 3ms/step - loss: 0.0982 - accuracy: 0.9647 - val_loss: 0.1430 - val_accuracy: 0.9420\n",
            "Epoch 65/100\n",
            "28/28 [==============================] - 0s 3ms/step - loss: 0.0926 - accuracy: 0.9657 - val_loss: 0.1456 - val_accuracy: 0.9420\n",
            "Epoch 66/100\n",
            "28/28 [==============================] - 0s 3ms/step - loss: 0.0892 - accuracy: 0.9606 - val_loss: 0.1472 - val_accuracy: 0.9493\n",
            "Epoch 67/100\n",
            "28/28 [==============================] - 0s 3ms/step - loss: 0.0991 - accuracy: 0.9669 - val_loss: 0.1487 - val_accuracy: 0.9493\n",
            "Epoch 68/100\n",
            "28/28 [==============================] - 0s 3ms/step - loss: 0.0735 - accuracy: 0.9711 - val_loss: 0.1554 - val_accuracy: 0.9493\n",
            "Epoch 69/100\n",
            "28/28 [==============================] - 0s 3ms/step - loss: 0.0950 - accuracy: 0.9666 - val_loss: 0.1458 - val_accuracy: 0.9493\n",
            "Epoch 70/100\n",
            "28/28 [==============================] - 0s 3ms/step - loss: 0.0874 - accuracy: 0.9651 - val_loss: 0.1555 - val_accuracy: 0.9493\n",
            "Epoch 71/100\n",
            "28/28 [==============================] - 0s 3ms/step - loss: 0.0884 - accuracy: 0.9686 - val_loss: 0.1511 - val_accuracy: 0.9493\n",
            "Epoch 72/100\n",
            "28/28 [==============================] - 0s 3ms/step - loss: 0.0749 - accuracy: 0.9744 - val_loss: 0.1616 - val_accuracy: 0.9493\n",
            "Epoch 73/100\n",
            "28/28 [==============================] - 0s 3ms/step - loss: 0.0823 - accuracy: 0.9758 - val_loss: 0.1723 - val_accuracy: 0.9348\n",
            "Epoch 74/100\n",
            "28/28 [==============================] - 0s 3ms/step - loss: 0.0800 - accuracy: 0.9708 - val_loss: 0.1601 - val_accuracy: 0.9493\n",
            "Epoch 75/100\n",
            "28/28 [==============================] - 0s 3ms/step - loss: 0.0939 - accuracy: 0.9655 - val_loss: 0.1501 - val_accuracy: 0.9493\n",
            "Epoch 76/100\n",
            "28/28 [==============================] - 0s 3ms/step - loss: 0.0879 - accuracy: 0.9649 - val_loss: 0.1640 - val_accuracy: 0.9420\n",
            "Epoch 77/100\n",
            "28/28 [==============================] - 0s 3ms/step - loss: 0.0733 - accuracy: 0.9724 - val_loss: 0.1658 - val_accuracy: 0.9420\n",
            "Epoch 78/100\n",
            "28/28 [==============================] - 0s 3ms/step - loss: 0.0743 - accuracy: 0.9698 - val_loss: 0.1770 - val_accuracy: 0.9420\n",
            "Epoch 79/100\n",
            "28/28 [==============================] - 0s 3ms/step - loss: 0.0843 - accuracy: 0.9610 - val_loss: 0.1679 - val_accuracy: 0.9420\n",
            "Epoch 80/100\n",
            "28/28 [==============================] - 0s 3ms/step - loss: 0.0730 - accuracy: 0.9763 - val_loss: 0.1840 - val_accuracy: 0.9348\n",
            "Epoch 81/100\n",
            "28/28 [==============================] - 0s 3ms/step - loss: 0.0739 - accuracy: 0.9724 - val_loss: 0.1827 - val_accuracy: 0.9420\n",
            "Epoch 82/100\n",
            "28/28 [==============================] - 0s 3ms/step - loss: 0.0670 - accuracy: 0.9747 - val_loss: 0.1686 - val_accuracy: 0.9420\n",
            "Epoch 83/100\n",
            "28/28 [==============================] - 0s 3ms/step - loss: 0.0758 - accuracy: 0.9718 - val_loss: 0.1793 - val_accuracy: 0.9420\n",
            "Epoch 84/100\n",
            "28/28 [==============================] - 0s 3ms/step - loss: 0.0541 - accuracy: 0.9851 - val_loss: 0.1826 - val_accuracy: 0.9420\n",
            "Epoch 85/100\n",
            "28/28 [==============================] - 0s 3ms/step - loss: 0.0830 - accuracy: 0.9721 - val_loss: 0.1848 - val_accuracy: 0.9420\n",
            "Epoch 86/100\n",
            "28/28 [==============================] - 0s 3ms/step - loss: 0.0534 - accuracy: 0.9808 - val_loss: 0.1928 - val_accuracy: 0.9348\n",
            "Epoch 87/100\n",
            "28/28 [==============================] - 0s 3ms/step - loss: 0.0553 - accuracy: 0.9751 - val_loss: 0.1943 - val_accuracy: 0.9348\n",
            "Epoch 88/100\n",
            "28/28 [==============================] - 0s 3ms/step - loss: 0.0543 - accuracy: 0.9819 - val_loss: 0.2133 - val_accuracy: 0.9420\n",
            "Epoch 89/100\n",
            "28/28 [==============================] - 0s 3ms/step - loss: 0.0821 - accuracy: 0.9721 - val_loss: 0.2038 - val_accuracy: 0.9348\n",
            "Epoch 90/100\n",
            "28/28 [==============================] - 0s 3ms/step - loss: 0.0699 - accuracy: 0.9724 - val_loss: 0.2097 - val_accuracy: 0.9348\n",
            "Epoch 91/100\n",
            "28/28 [==============================] - 0s 4ms/step - loss: 0.0525 - accuracy: 0.9836 - val_loss: 0.1958 - val_accuracy: 0.9420\n",
            "Epoch 92/100\n",
            "28/28 [==============================] - 0s 3ms/step - loss: 0.0520 - accuracy: 0.9770 - val_loss: 0.2226 - val_accuracy: 0.9420\n",
            "Epoch 93/100\n",
            "28/28 [==============================] - 0s 3ms/step - loss: 0.0504 - accuracy: 0.9815 - val_loss: 0.2153 - val_accuracy: 0.9348\n",
            "Epoch 94/100\n",
            "28/28 [==============================] - 0s 3ms/step - loss: 0.0616 - accuracy: 0.9810 - val_loss: 0.2166 - val_accuracy: 0.9348\n",
            "Epoch 95/100\n",
            "28/28 [==============================] - 0s 3ms/step - loss: 0.0511 - accuracy: 0.9835 - val_loss: 0.2224 - val_accuracy: 0.9348\n",
            "Epoch 96/100\n",
            "28/28 [==============================] - 0s 3ms/step - loss: 0.0612 - accuracy: 0.9802 - val_loss: 0.2487 - val_accuracy: 0.9348\n",
            "Epoch 97/100\n",
            "28/28 [==============================] - 0s 3ms/step - loss: 0.0606 - accuracy: 0.9827 - val_loss: 0.2138 - val_accuracy: 0.9348\n",
            "Epoch 98/100\n",
            "28/28 [==============================] - 0s 3ms/step - loss: 0.0576 - accuracy: 0.9819 - val_loss: 0.2292 - val_accuracy: 0.9275\n",
            "Epoch 99/100\n",
            "28/28 [==============================] - 0s 3ms/step - loss: 0.0567 - accuracy: 0.9781 - val_loss: 0.2465 - val_accuracy: 0.9275\n",
            "Epoch 100/100\n",
            "28/28 [==============================] - 0s 3ms/step - loss: 0.0534 - accuracy: 0.9856 - val_loss: 0.2423 - val_accuracy: 0.9275\n"
          ],
          "name": "stdout"
        }
      ]
    },
    {
      "cell_type": "code",
      "metadata": {
        "colab": {
          "base_uri": "https://localhost:8080/"
        },
        "id": "D4XOOkUDCEqM",
        "outputId": "2f4383c7-cb78-43de-a72e-1b546ea348bb"
      },
      "source": [
        "print (history_relu.history.keys())"
      ],
      "execution_count": 45,
      "outputs": [
        {
          "output_type": "stream",
          "text": [
            "dict_keys(['loss', 'accuracy', 'val_loss', 'val_accuracy'])\n"
          ],
          "name": "stdout"
        }
      ]
    },
    {
      "cell_type": "code",
      "metadata": {
        "colab": {
          "base_uri": "https://localhost:8080/",
          "height": 295
        },
        "id": "IaF6t3TTCi4D",
        "outputId": "6e0c4ab3-0720-4b9e-da8a-82105d848aaa"
      },
      "source": [
        "history_relu = history_relu.history\n",
        "loss_values = history_relu['loss']\n",
        "val_loss_values = history_relu['val_loss']\n",
        "\n",
        "epochs = range(1, len(history_relu['accuracy']) + 1)\n",
        "plt.plot(epochs, loss_values, 'bo', label='Training loss')\n",
        "plt.plot(epochs, val_loss_values, 'b', label='Validation loss')\n",
        "plt.title('Training / validation loss')\n",
        "plt.xlabel('Epochs')\n",
        "plt.ylabel('Loss')\n",
        "plt.legend()\n",
        "plt.show()"
      ],
      "execution_count": 46,
      "outputs": [
        {
          "output_type": "display_data",
          "data": {
            "image/png": "[encoded data removed]",
            "text/plain": [
              "<Figure size 432x288 with 1 Axes>"
            ]
          },
          "metadata": {
            "tags": [],
            "needs_background": "light"
          }
        }
      ]
    },
    {
      "cell_type": "code",
      "metadata": {
        "colab": {
          "base_uri": "https://localhost:8080/",
          "height": 295
        },
        "id": "sXQR9y62CqC_",
        "outputId": "7e963088-f793-4530-a469-ce9a9f1e8b38"
      },
      "source": [
        "acc_values = history_relu['accuracy']\n",
        "val_acc_values = history_relu['val_accuracy']\n",
        "plt.plot(epochs, acc_values, 'bo', label='Training acc')\n",
        "plt.plot(epochs, val_acc_values, 'b', label='Validation acc')\n",
        "plt.title('Training / validation accuracy')\n",
        "plt.xlabel('Epochs')\n",
        "plt.ylabel('Loss')\n",
        "plt.legend()\n",
        "plt.show()"
      ],
      "execution_count": 47,
      "outputs": [
        {
          "output_type": "display_data",
          "data": {
            "image/png": "[encoded data removed]",
            "text/plain": [
              "<Figure size 432x288 with 1 Axes>"
            ]
          },
          "metadata": {
            "tags": [],
            "needs_background": "light"
          }
        }
      ]
    },
    {
      "cell_type": "markdown",
      "metadata": {
        "id": "N1QbgtwHFEhx"
      },
      "source": [
        "From the plots we can see deviation between training and validation loss / accuracy around 30 epochs. "
      ]
    },
    {
      "cell_type": "markdown",
      "metadata": {
        "id": "NUEuVfIYE2aP"
      },
      "source": [
        "# Tanh Model"
      ]
    },
    {
      "cell_type": "code",
      "metadata": {
        "id": "tDIIR1BVE5Ri"
      },
      "source": [
        "model_tanh = Sequential()\n",
        "model_tanh.add(Dense(10, activation= 'tanh',input_shape=(training_data.shape[1],))) \n",
        "model_tanh.add(Dense(8, activation= 'tanh')) \n",
        "model_tanh.add(Dense(6, activation= 'tanh')) \n",
        "model_tanh.add(Dense(1, activation= 'sigmoid'))"
      ],
      "execution_count": 48,
      "outputs": []
    },
    {
      "cell_type": "code",
      "metadata": {
        "id": "oEeptYWhn3eC"
      },
      "source": [
        "model_tanh.compile(loss ='binary_crossentropy', optimizer='RMSprop', metrics=['accuracy'])"
      ],
      "execution_count": 49,
      "outputs": []
    },
    {
      "cell_type": "code",
      "metadata": {
        "colab": {
          "base_uri": "https://localhost:8080/"
        },
        "id": "cJNrnRDzn7LH",
        "outputId": "431f14f1-ceca-4019-da19-33a0b4bc2f2d"
      },
      "source": [
        "history_tanh = model_tanh.fit(training_data, training_labels, epochs=100, batch_size=20, validation_split= 0.2)"
      ],
      "execution_count": 50,
      "outputs": [
        {
          "output_type": "stream",
          "text": [
            "Epoch 1/100\n",
            "28/28 [==============================] - 1s 9ms/step - loss: 0.4861 - accuracy: 0.8229 - val_loss: 0.4109 - val_accuracy: 0.8623\n",
            "Epoch 2/100\n",
            "28/28 [==============================] - 0s 3ms/step - loss: 0.4019 - accuracy: 0.8560 - val_loss: 0.3679 - val_accuracy: 0.8768\n",
            "Epoch 3/100\n",
            "28/28 [==============================] - 0s 3ms/step - loss: 0.3751 - accuracy: 0.8712 - val_loss: 0.3400 - val_accuracy: 0.8841\n",
            "Epoch 4/100\n",
            "28/28 [==============================] - 0s 3ms/step - loss: 0.3301 - accuracy: 0.8847 - val_loss: 0.3169 - val_accuracy: 0.8841\n",
            "Epoch 5/100\n",
            "28/28 [==============================] - 0s 3ms/step - loss: 0.3045 - accuracy: 0.8924 - val_loss: 0.2960 - val_accuracy: 0.9058\n",
            "Epoch 6/100\n",
            "28/28 [==============================] - 0s 3ms/step - loss: 0.2924 - accuracy: 0.8873 - val_loss: 0.2770 - val_accuracy: 0.8986\n",
            "Epoch 7/100\n",
            "28/28 [==============================] - 0s 3ms/step - loss: 0.2477 - accuracy: 0.9193 - val_loss: 0.2612 - val_accuracy: 0.9130\n",
            "Epoch 8/100\n",
            "28/28 [==============================] - 0s 3ms/step - loss: 0.2415 - accuracy: 0.9237 - val_loss: 0.2462 - val_accuracy: 0.9130\n",
            "Epoch 9/100\n",
            "28/28 [==============================] - 0s 3ms/step - loss: 0.2142 - accuracy: 0.9368 - val_loss: 0.2351 - val_accuracy: 0.9130\n",
            "Epoch 10/100\n",
            "28/28 [==============================] - 0s 3ms/step - loss: 0.2051 - accuracy: 0.9371 - val_loss: 0.2255 - val_accuracy: 0.9203\n",
            "Epoch 11/100\n",
            "28/28 [==============================] - 0s 3ms/step - loss: 0.1849 - accuracy: 0.9461 - val_loss: 0.2185 - val_accuracy: 0.9203\n",
            "Epoch 12/100\n",
            "28/28 [==============================] - 0s 3ms/step - loss: 0.1805 - accuracy: 0.9529 - val_loss: 0.2136 - val_accuracy: 0.9203\n",
            "Epoch 13/100\n",
            "28/28 [==============================] - 0s 3ms/step - loss: 0.1912 - accuracy: 0.9376 - val_loss: 0.2040 - val_accuracy: 0.9203\n",
            "Epoch 14/100\n",
            "28/28 [==============================] - 0s 3ms/step - loss: 0.1524 - accuracy: 0.9496 - val_loss: 0.1977 - val_accuracy: 0.9203\n",
            "Epoch 15/100\n",
            "28/28 [==============================] - 0s 3ms/step - loss: 0.1696 - accuracy: 0.9515 - val_loss: 0.1937 - val_accuracy: 0.9203\n",
            "Epoch 16/100\n",
            "28/28 [==============================] - 0s 3ms/step - loss: 0.1865 - accuracy: 0.9306 - val_loss: 0.1890 - val_accuracy: 0.9275\n",
            "Epoch 17/100\n",
            "28/28 [==============================] - 0s 3ms/step - loss: 0.1401 - accuracy: 0.9426 - val_loss: 0.1848 - val_accuracy: 0.9275\n",
            "Epoch 18/100\n",
            "28/28 [==============================] - 0s 3ms/step - loss: 0.1303 - accuracy: 0.9579 - val_loss: 0.1793 - val_accuracy: 0.9203\n",
            "Epoch 19/100\n",
            "28/28 [==============================] - 0s 3ms/step - loss: 0.1454 - accuracy: 0.9548 - val_loss: 0.1754 - val_accuracy: 0.9203\n",
            "Epoch 20/100\n",
            "28/28 [==============================] - 0s 3ms/step - loss: 0.1469 - accuracy: 0.9506 - val_loss: 0.1709 - val_accuracy: 0.9275\n",
            "Epoch 21/100\n",
            "28/28 [==============================] - 0s 3ms/step - loss: 0.1630 - accuracy: 0.9481 - val_loss: 0.1677 - val_accuracy: 0.9275\n",
            "Epoch 22/100\n",
            "28/28 [==============================] - 0s 3ms/step - loss: 0.1064 - accuracy: 0.9696 - val_loss: 0.1642 - val_accuracy: 0.9420\n",
            "Epoch 23/100\n",
            "28/28 [==============================] - 0s 3ms/step - loss: 0.1137 - accuracy: 0.9627 - val_loss: 0.1607 - val_accuracy: 0.9493\n",
            "Epoch 24/100\n",
            "28/28 [==============================] - 0s 3ms/step - loss: 0.1164 - accuracy: 0.9578 - val_loss: 0.1599 - val_accuracy: 0.9420\n",
            "Epoch 25/100\n",
            "28/28 [==============================] - 0s 3ms/step - loss: 0.1223 - accuracy: 0.9560 - val_loss: 0.1590 - val_accuracy: 0.9420\n",
            "Epoch 26/100\n",
            "28/28 [==============================] - 0s 3ms/step - loss: 0.1015 - accuracy: 0.9581 - val_loss: 0.1575 - val_accuracy: 0.9420\n",
            "Epoch 27/100\n",
            "28/28 [==============================] - 0s 3ms/step - loss: 0.1119 - accuracy: 0.9564 - val_loss: 0.1567 - val_accuracy: 0.9420\n",
            "Epoch 28/100\n",
            "28/28 [==============================] - 0s 3ms/step - loss: 0.1016 - accuracy: 0.9655 - val_loss: 0.1562 - val_accuracy: 0.9420\n",
            "Epoch 29/100\n",
            "28/28 [==============================] - 0s 3ms/step - loss: 0.0979 - accuracy: 0.9730 - val_loss: 0.1560 - val_accuracy: 0.9420\n",
            "Epoch 30/100\n",
            "28/28 [==============================] - 0s 3ms/step - loss: 0.0964 - accuracy: 0.9697 - val_loss: 0.1549 - val_accuracy: 0.9493\n",
            "Epoch 31/100\n",
            "28/28 [==============================] - 0s 3ms/step - loss: 0.1148 - accuracy: 0.9611 - val_loss: 0.1558 - val_accuracy: 0.9420\n",
            "Epoch 32/100\n",
            "28/28 [==============================] - 0s 3ms/step - loss: 0.1008 - accuracy: 0.9670 - val_loss: 0.1557 - val_accuracy: 0.9420\n",
            "Epoch 33/100\n",
            "28/28 [==============================] - 0s 3ms/step - loss: 0.1278 - accuracy: 0.9610 - val_loss: 0.1557 - val_accuracy: 0.9493\n",
            "Epoch 34/100\n",
            "28/28 [==============================] - 0s 3ms/step - loss: 0.0927 - accuracy: 0.9698 - val_loss: 0.1543 - val_accuracy: 0.9493\n",
            "Epoch 35/100\n",
            "28/28 [==============================] - 0s 3ms/step - loss: 0.0915 - accuracy: 0.9737 - val_loss: 0.1538 - val_accuracy: 0.9565\n",
            "Epoch 36/100\n",
            "28/28 [==============================] - 0s 3ms/step - loss: 0.0982 - accuracy: 0.9652 - val_loss: 0.1537 - val_accuracy: 0.9565\n",
            "Epoch 37/100\n",
            "28/28 [==============================] - 0s 3ms/step - loss: 0.0939 - accuracy: 0.9655 - val_loss: 0.1551 - val_accuracy: 0.9493\n",
            "Epoch 38/100\n",
            "28/28 [==============================] - 0s 3ms/step - loss: 0.0921 - accuracy: 0.9695 - val_loss: 0.1556 - val_accuracy: 0.9493\n",
            "Epoch 39/100\n",
            "28/28 [==============================] - 0s 3ms/step - loss: 0.0973 - accuracy: 0.9688 - val_loss: 0.1525 - val_accuracy: 0.9493\n",
            "Epoch 40/100\n",
            "28/28 [==============================] - 0s 3ms/step - loss: 0.0862 - accuracy: 0.9788 - val_loss: 0.1524 - val_accuracy: 0.9493\n",
            "Epoch 41/100\n",
            "28/28 [==============================] - 0s 3ms/step - loss: 0.0994 - accuracy: 0.9665 - val_loss: 0.1528 - val_accuracy: 0.9493\n",
            "Epoch 42/100\n",
            "28/28 [==============================] - 0s 3ms/step - loss: 0.0849 - accuracy: 0.9684 - val_loss: 0.1542 - val_accuracy: 0.9493\n",
            "Epoch 43/100\n",
            "28/28 [==============================] - 0s 3ms/step - loss: 0.0827 - accuracy: 0.9718 - val_loss: 0.1554 - val_accuracy: 0.9493\n",
            "Epoch 44/100\n",
            "28/28 [==============================] - 0s 3ms/step - loss: 0.0865 - accuracy: 0.9750 - val_loss: 0.1534 - val_accuracy: 0.9493\n",
            "Epoch 45/100\n",
            "28/28 [==============================] - 0s 3ms/step - loss: 0.0933 - accuracy: 0.9708 - val_loss: 0.1531 - val_accuracy: 0.9493\n",
            "Epoch 46/100\n",
            "28/28 [==============================] - 0s 3ms/step - loss: 0.0777 - accuracy: 0.9758 - val_loss: 0.1544 - val_accuracy: 0.9493\n",
            "Epoch 47/100\n",
            "28/28 [==============================] - 0s 3ms/step - loss: 0.0747 - accuracy: 0.9759 - val_loss: 0.1562 - val_accuracy: 0.9493\n",
            "Epoch 48/100\n",
            "28/28 [==============================] - 0s 3ms/step - loss: 0.0879 - accuracy: 0.9705 - val_loss: 0.1547 - val_accuracy: 0.9493\n",
            "Epoch 49/100\n",
            "28/28 [==============================] - 0s 3ms/step - loss: 0.0727 - accuracy: 0.9753 - val_loss: 0.1555 - val_accuracy: 0.9493\n",
            "Epoch 50/100\n",
            "28/28 [==============================] - 0s 3ms/step - loss: 0.0715 - accuracy: 0.9739 - val_loss: 0.1557 - val_accuracy: 0.9493\n",
            "Epoch 51/100\n",
            "28/28 [==============================] - 0s 3ms/step - loss: 0.0758 - accuracy: 0.9724 - val_loss: 0.1570 - val_accuracy: 0.9493\n",
            "Epoch 52/100\n",
            "28/28 [==============================] - 0s 3ms/step - loss: 0.0935 - accuracy: 0.9737 - val_loss: 0.1599 - val_accuracy: 0.9565\n",
            "Epoch 53/100\n",
            "28/28 [==============================] - 0s 3ms/step - loss: 0.0598 - accuracy: 0.9805 - val_loss: 0.1577 - val_accuracy: 0.9493\n",
            "Epoch 54/100\n",
            "28/28 [==============================] - 0s 3ms/step - loss: 0.0736 - accuracy: 0.9761 - val_loss: 0.1605 - val_accuracy: 0.9565\n",
            "Epoch 55/100\n",
            "28/28 [==============================] - 0s 3ms/step - loss: 0.0724 - accuracy: 0.9796 - val_loss: 0.1606 - val_accuracy: 0.9565\n",
            "Epoch 56/100\n",
            "28/28 [==============================] - 0s 3ms/step - loss: 0.0854 - accuracy: 0.9788 - val_loss: 0.1590 - val_accuracy: 0.9565\n",
            "Epoch 57/100\n",
            "28/28 [==============================] - 0s 3ms/step - loss: 0.0527 - accuracy: 0.9846 - val_loss: 0.1614 - val_accuracy: 0.9565\n",
            "Epoch 58/100\n",
            "28/28 [==============================] - 0s 3ms/step - loss: 0.0598 - accuracy: 0.9830 - val_loss: 0.1617 - val_accuracy: 0.9565\n",
            "Epoch 59/100\n",
            "28/28 [==============================] - 0s 3ms/step - loss: 0.0842 - accuracy: 0.9811 - val_loss: 0.1609 - val_accuracy: 0.9638\n",
            "Epoch 60/100\n",
            "28/28 [==============================] - 0s 3ms/step - loss: 0.0655 - accuracy: 0.9880 - val_loss: 0.1596 - val_accuracy: 0.9565\n",
            "Epoch 61/100\n",
            "28/28 [==============================] - 0s 3ms/step - loss: 0.0594 - accuracy: 0.9813 - val_loss: 0.1611 - val_accuracy: 0.9638\n",
            "Epoch 62/100\n",
            "28/28 [==============================] - 0s 3ms/step - loss: 0.0946 - accuracy: 0.9734 - val_loss: 0.1635 - val_accuracy: 0.9565\n",
            "Epoch 63/100\n",
            "28/28 [==============================] - 0s 3ms/step - loss: 0.0399 - accuracy: 0.9901 - val_loss: 0.1711 - val_accuracy: 0.9638\n",
            "Epoch 64/100\n",
            "28/28 [==============================] - 0s 3ms/step - loss: 0.0399 - accuracy: 0.9928 - val_loss: 0.1641 - val_accuracy: 0.9638\n",
            "Epoch 65/100\n",
            "28/28 [==============================] - 0s 3ms/step - loss: 0.0733 - accuracy: 0.9786 - val_loss: 0.1641 - val_accuracy: 0.9638\n",
            "Epoch 66/100\n",
            "28/28 [==============================] - 0s 3ms/step - loss: 0.0615 - accuracy: 0.9858 - val_loss: 0.1635 - val_accuracy: 0.9565\n",
            "Epoch 67/100\n",
            "28/28 [==============================] - 0s 3ms/step - loss: 0.0485 - accuracy: 0.9899 - val_loss: 0.1654 - val_accuracy: 0.9565\n",
            "Epoch 68/100\n",
            "28/28 [==============================] - 0s 3ms/step - loss: 0.0430 - accuracy: 0.9896 - val_loss: 0.1678 - val_accuracy: 0.9638\n",
            "Epoch 69/100\n",
            "28/28 [==============================] - 0s 3ms/step - loss: 0.0522 - accuracy: 0.9765 - val_loss: 0.1666 - val_accuracy: 0.9638\n",
            "Epoch 70/100\n",
            "28/28 [==============================] - 0s 3ms/step - loss: 0.0479 - accuracy: 0.9859 - val_loss: 0.1674 - val_accuracy: 0.9565\n",
            "Epoch 71/100\n",
            "28/28 [==============================] - 0s 4ms/step - loss: 0.0557 - accuracy: 0.9884 - val_loss: 0.1683 - val_accuracy: 0.9638\n",
            "Epoch 72/100\n",
            "28/28 [==============================] - 0s 3ms/step - loss: 0.0414 - accuracy: 0.9895 - val_loss: 0.1683 - val_accuracy: 0.9638\n",
            "Epoch 73/100\n",
            "28/28 [==============================] - 0s 3ms/step - loss: 0.0627 - accuracy: 0.9767 - val_loss: 0.1711 - val_accuracy: 0.9565\n",
            "Epoch 74/100\n",
            "28/28 [==============================] - 0s 3ms/step - loss: 0.0497 - accuracy: 0.9848 - val_loss: 0.1710 - val_accuracy: 0.9638\n",
            "Epoch 75/100\n",
            "28/28 [==============================] - 0s 3ms/step - loss: 0.0480 - accuracy: 0.9895 - val_loss: 0.1716 - val_accuracy: 0.9638\n",
            "Epoch 76/100\n",
            "28/28 [==============================] - 0s 3ms/step - loss: 0.0450 - accuracy: 0.9885 - val_loss: 0.1734 - val_accuracy: 0.9565\n",
            "Epoch 77/100\n",
            "28/28 [==============================] - 0s 3ms/step - loss: 0.0480 - accuracy: 0.9834 - val_loss: 0.1741 - val_accuracy: 0.9638\n",
            "Epoch 78/100\n",
            "28/28 [==============================] - 0s 3ms/step - loss: 0.0507 - accuracy: 0.9858 - val_loss: 0.1746 - val_accuracy: 0.9638\n",
            "Epoch 79/100\n",
            "28/28 [==============================] - 0s 3ms/step - loss: 0.0575 - accuracy: 0.9826 - val_loss: 0.1768 - val_accuracy: 0.9638\n",
            "Epoch 80/100\n",
            "28/28 [==============================] - 0s 3ms/step - loss: 0.0580 - accuracy: 0.9829 - val_loss: 0.1778 - val_accuracy: 0.9638\n",
            "Epoch 81/100\n",
            "28/28 [==============================] - 0s 3ms/step - loss: 0.0362 - accuracy: 0.9922 - val_loss: 0.1788 - val_accuracy: 0.9638\n",
            "Epoch 82/100\n",
            "28/28 [==============================] - 0s 3ms/step - loss: 0.0274 - accuracy: 0.9961 - val_loss: 0.1823 - val_accuracy: 0.9638\n",
            "Epoch 83/100\n",
            "28/28 [==============================] - 0s 3ms/step - loss: 0.0462 - accuracy: 0.9888 - val_loss: 0.1823 - val_accuracy: 0.9638\n",
            "Epoch 84/100\n",
            "28/28 [==============================] - 0s 3ms/step - loss: 0.0520 - accuracy: 0.9907 - val_loss: 0.1828 - val_accuracy: 0.9638\n",
            "Epoch 85/100\n",
            "28/28 [==============================] - 0s 3ms/step - loss: 0.0414 - accuracy: 0.9899 - val_loss: 0.1856 - val_accuracy: 0.9565\n",
            "Epoch 86/100\n",
            "28/28 [==============================] - 0s 3ms/step - loss: 0.0248 - accuracy: 0.9965 - val_loss: 0.1855 - val_accuracy: 0.9638\n",
            "Epoch 87/100\n",
            "28/28 [==============================] - 0s 3ms/step - loss: 0.0359 - accuracy: 0.9921 - val_loss: 0.1895 - val_accuracy: 0.9493\n",
            "Epoch 88/100\n",
            "28/28 [==============================] - 0s 3ms/step - loss: 0.0394 - accuracy: 0.9918 - val_loss: 0.1896 - val_accuracy: 0.9565\n",
            "Epoch 89/100\n",
            "28/28 [==============================] - 0s 3ms/step - loss: 0.0332 - accuracy: 0.9859 - val_loss: 0.1893 - val_accuracy: 0.9638\n",
            "Epoch 90/100\n",
            "28/28 [==============================] - 0s 3ms/step - loss: 0.0336 - accuracy: 0.9936 - val_loss: 0.1925 - val_accuracy: 0.9493\n",
            "Epoch 91/100\n",
            "28/28 [==============================] - 0s 3ms/step - loss: 0.0353 - accuracy: 0.9936 - val_loss: 0.1936 - val_accuracy: 0.9638\n",
            "Epoch 92/100\n",
            "28/28 [==============================] - 0s 3ms/step - loss: 0.0589 - accuracy: 0.9836 - val_loss: 0.1945 - val_accuracy: 0.9638\n",
            "Epoch 93/100\n",
            "28/28 [==============================] - 0s 3ms/step - loss: 0.0243 - accuracy: 0.9941 - val_loss: 0.2005 - val_accuracy: 0.9565\n",
            "Epoch 94/100\n",
            "28/28 [==============================] - 0s 3ms/step - loss: 0.0457 - accuracy: 0.9858 - val_loss: 0.1986 - val_accuracy: 0.9565\n",
            "Epoch 95/100\n",
            "28/28 [==============================] - 0s 3ms/step - loss: 0.0340 - accuracy: 0.9931 - val_loss: 0.2022 - val_accuracy: 0.9493\n",
            "Epoch 96/100\n",
            "28/28 [==============================] - 0s 3ms/step - loss: 0.0220 - accuracy: 0.9970 - val_loss: 0.2086 - val_accuracy: 0.9493\n",
            "Epoch 97/100\n",
            "28/28 [==============================] - 0s 3ms/step - loss: 0.0389 - accuracy: 0.9937 - val_loss: 0.2044 - val_accuracy: 0.9565\n",
            "Epoch 98/100\n",
            "28/28 [==============================] - 0s 3ms/step - loss: 0.0311 - accuracy: 0.9958 - val_loss: 0.2045 - val_accuracy: 0.9565\n",
            "Epoch 99/100\n",
            "28/28 [==============================] - 0s 3ms/step - loss: 0.0293 - accuracy: 0.9938 - val_loss: 0.2067 - val_accuracy: 0.9565\n",
            "Epoch 100/100\n",
            "28/28 [==============================] - 0s 3ms/step - loss: 0.0338 - accuracy: 0.9935 - val_loss: 0.2103 - val_accuracy: 0.9493\n"
          ],
          "name": "stdout"
        }
      ]
    },
    {
      "cell_type": "code",
      "metadata": {
        "colab": {
          "base_uri": "https://localhost:8080/"
        },
        "id": "p0JaS8xmCNar",
        "outputId": "b4d93b8f-3a70-43af-ffdb-177c81d96168"
      },
      "source": [
        "print (history_tanh.history.keys())"
      ],
      "execution_count": 51,
      "outputs": [
        {
          "output_type": "stream",
          "text": [
            "dict_keys(['loss', 'accuracy', 'val_loss', 'val_accuracy'])\n"
          ],
          "name": "stdout"
        }
      ]
    },
    {
      "cell_type": "code",
      "metadata": {
        "colab": {
          "base_uri": "https://localhost:8080/",
          "height": 295
        },
        "id": "TptM4iijCzxS",
        "outputId": "aec74d12-5169-42bf-84f4-9e1e37014bb9"
      },
      "source": [
        "history_tanh = history_tanh.history\n",
        "loss_values = history_tanh['loss']\n",
        "val_loss_values = history_tanh['val_loss']\n",
        "\n",
        "epochs = range(1, len(history_tanh['accuracy']) + 1)\n",
        "plt.plot(epochs, loss_values, 'bo', label='Training loss')\n",
        "plt.plot(epochs, val_loss_values, 'b', label='Validation loss')\n",
        "plt.title('Training / validation loss')\n",
        "plt.xlabel('Epochs')\n",
        "plt.ylabel('Loss')\n",
        "plt.legend()\n",
        "plt.show()"
      ],
      "execution_count": 52,
      "outputs": [
        {
          "output_type": "display_data",
          "data": {
            "image/png": "[encoded data removed]",
            "text/plain": [
              "<Figure size 432x288 with 1 Axes>"
            ]
          },
          "metadata": {
            "tags": [],
            "needs_background": "light"
          }
        }
      ]
    },
    {
      "cell_type": "code",
      "metadata": {
        "colab": {
          "base_uri": "https://localhost:8080/",
          "height": 295
        },
        "id": "GugN3c4uES5c",
        "outputId": "53126db0-b530-4656-8d22-020a54b5dd4f"
      },
      "source": [
        "acc_values = history_tanh['accuracy']\n",
        "val_acc_values = history_tanh['val_accuracy']\n",
        "plt.plot(epochs, acc_values, 'bo', label='Training acc')\n",
        "plt.plot(epochs, val_acc_values, 'b', label='Validation acc')\n",
        "plt.title('Training / validation accuracy')\n",
        "plt.xlabel('Epochs')\n",
        "plt.ylabel('Loss')\n",
        "plt.legend()\n",
        "plt.show()"
      ],
      "execution_count": 53,
      "outputs": [
        {
          "output_type": "display_data",
          "data": {
            "image/png": "[encoded data removed]",
            "text/plain": [
              "<Figure size 432x288 with 1 Axes>"
            ]
          },
          "metadata": {
            "tags": [],
            "needs_background": "light"
          }
        }
      ]
    },
    {
      "cell_type": "markdown",
      "metadata": {
        "id": "Brhzkc0XFW0u"
      },
      "source": [
        "From the plots we can see deviation between training and validation loss / accuracy after 10 epochs. "
      ]
    },
    {
      "cell_type": "markdown",
      "metadata": {
        "id": "N_g8iNdrC62h"
      },
      "source": [
        "Retrain Relu Model to curb overfitting as that gives us slightly better resluts overall. "
      ]
    },
    {
      "cell_type": "code",
      "metadata": {
        "colab": {
          "base_uri": "https://localhost:8080/"
        },
        "id": "qrKTSPmoDcM0",
        "outputId": "77ffcbe2-7fba-4993-e9e6-c5b251947f5e"
      },
      "source": [
        "model = Sequential()\n",
        "model.add(Dense(10, activation= 'relu',input_shape =(training_data.shape[1],)))\n",
        "model.add(Dense(8, activation= 'relu')) \n",
        "model.add(Dense(6, activation= 'relu')) \n",
        "model.add(Dense(1, activation= 'sigmoid'))\n",
        "\n",
        "model.compile(loss ='binary_crossentropy', optimizer='RMSprop', metrics=['accuracy'])\n",
        "\n",
        "history = model.fit(training_data, training_labels, epochs=30, batch_size=20, validation_split= 0.2)"
      ],
      "execution_count": 63,
      "outputs": [
        {
          "output_type": "stream",
          "text": [
            "Epoch 1/30\n",
            "28/28 [==============================] - 1s 10ms/step - loss: 0.6214 - accuracy: 0.6452 - val_loss: 0.4950 - val_accuracy: 0.8478\n",
            "Epoch 2/30\n",
            "28/28 [==============================] - 0s 3ms/step - loss: 0.4721 - accuracy: 0.8273 - val_loss: 0.4070 - val_accuracy: 0.8913\n",
            "Epoch 3/30\n",
            "28/28 [==============================] - 0s 3ms/step - loss: 0.3933 - accuracy: 0.8657 - val_loss: 0.3408 - val_accuracy: 0.9130\n",
            "Epoch 4/30\n",
            "28/28 [==============================] - 0s 3ms/step - loss: 0.3632 - accuracy: 0.8719 - val_loss: 0.2918 - val_accuracy: 0.9275\n",
            "Epoch 5/30\n",
            "28/28 [==============================] - 0s 3ms/step - loss: 0.3131 - accuracy: 0.8818 - val_loss: 0.2566 - val_accuracy: 0.9275\n",
            "Epoch 6/30\n",
            "28/28 [==============================] - 0s 3ms/step - loss: 0.2769 - accuracy: 0.9159 - val_loss: 0.2319 - val_accuracy: 0.9420\n",
            "Epoch 7/30\n",
            "28/28 [==============================] - 0s 3ms/step - loss: 0.2076 - accuracy: 0.9420 - val_loss: 0.2144 - val_accuracy: 0.9420\n",
            "Epoch 8/30\n",
            "28/28 [==============================] - 0s 3ms/step - loss: 0.2539 - accuracy: 0.9071 - val_loss: 0.1986 - val_accuracy: 0.9348\n",
            "Epoch 9/30\n",
            "28/28 [==============================] - 0s 3ms/step - loss: 0.1996 - accuracy: 0.9385 - val_loss: 0.1878 - val_accuracy: 0.9420\n",
            "Epoch 10/30\n",
            "28/28 [==============================] - 0s 3ms/step - loss: 0.2308 - accuracy: 0.9171 - val_loss: 0.1773 - val_accuracy: 0.9493\n",
            "Epoch 11/30\n",
            "28/28 [==============================] - 0s 3ms/step - loss: 0.1810 - accuracy: 0.9459 - val_loss: 0.1695 - val_accuracy: 0.9565\n",
            "Epoch 12/30\n",
            "28/28 [==============================] - 0s 3ms/step - loss: 0.2265 - accuracy: 0.9144 - val_loss: 0.1618 - val_accuracy: 0.9565\n",
            "Epoch 13/30\n",
            "28/28 [==============================] - 0s 3ms/step - loss: 0.1978 - accuracy: 0.9320 - val_loss: 0.1575 - val_accuracy: 0.9565\n",
            "Epoch 14/30\n",
            "28/28 [==============================] - 0s 3ms/step - loss: 0.2036 - accuracy: 0.9330 - val_loss: 0.1535 - val_accuracy: 0.9565\n",
            "Epoch 15/30\n",
            "28/28 [==============================] - 0s 3ms/step - loss: 0.1724 - accuracy: 0.9513 - val_loss: 0.1504 - val_accuracy: 0.9493\n",
            "Epoch 16/30\n",
            "28/28 [==============================] - 0s 3ms/step - loss: 0.1814 - accuracy: 0.9483 - val_loss: 0.1496 - val_accuracy: 0.9493\n",
            "Epoch 17/30\n",
            "28/28 [==============================] - 0s 3ms/step - loss: 0.1630 - accuracy: 0.9530 - val_loss: 0.1471 - val_accuracy: 0.9493\n",
            "Epoch 18/30\n",
            "28/28 [==============================] - 0s 3ms/step - loss: 0.1334 - accuracy: 0.9621 - val_loss: 0.1484 - val_accuracy: 0.9493\n",
            "Epoch 19/30\n",
            "28/28 [==============================] - 0s 3ms/step - loss: 0.1334 - accuracy: 0.9546 - val_loss: 0.1473 - val_accuracy: 0.9565\n",
            "Epoch 20/30\n",
            "28/28 [==============================] - 0s 3ms/step - loss: 0.1500 - accuracy: 0.9554 - val_loss: 0.1491 - val_accuracy: 0.9565\n",
            "Epoch 21/30\n",
            "28/28 [==============================] - 0s 3ms/step - loss: 0.1562 - accuracy: 0.9497 - val_loss: 0.1452 - val_accuracy: 0.9565\n",
            "Epoch 22/30\n",
            "28/28 [==============================] - 0s 3ms/step - loss: 0.1811 - accuracy: 0.9457 - val_loss: 0.1492 - val_accuracy: 0.9565\n",
            "Epoch 23/30\n",
            "28/28 [==============================] - 0s 3ms/step - loss: 0.1450 - accuracy: 0.9495 - val_loss: 0.1455 - val_accuracy: 0.9565\n",
            "Epoch 24/30\n",
            "28/28 [==============================] - 0s 3ms/step - loss: 0.1708 - accuracy: 0.9479 - val_loss: 0.1471 - val_accuracy: 0.9565\n",
            "Epoch 25/30\n",
            "28/28 [==============================] - 0s 3ms/step - loss: 0.1204 - accuracy: 0.9642 - val_loss: 0.1461 - val_accuracy: 0.9565\n",
            "Epoch 26/30\n",
            "28/28 [==============================] - 0s 3ms/step - loss: 0.1665 - accuracy: 0.9447 - val_loss: 0.1486 - val_accuracy: 0.9565\n",
            "Epoch 27/30\n",
            "28/28 [==============================] - 0s 3ms/step - loss: 0.1670 - accuracy: 0.9397 - val_loss: 0.1487 - val_accuracy: 0.9565\n",
            "Epoch 28/30\n",
            "28/28 [==============================] - 0s 3ms/step - loss: 0.1046 - accuracy: 0.9674 - val_loss: 0.1494 - val_accuracy: 0.9565\n",
            "Epoch 29/30\n",
            "28/28 [==============================] - 0s 3ms/step - loss: 0.1382 - accuracy: 0.9571 - val_loss: 0.1502 - val_accuracy: 0.9565\n",
            "Epoch 30/30\n",
            "28/28 [==============================] - 0s 3ms/step - loss: 0.1437 - accuracy: 0.9499 - val_loss: 0.1503 - val_accuracy: 0.9565\n"
          ],
          "name": "stdout"
        }
      ]
    },
    {
      "cell_type": "markdown",
      "metadata": {
        "id": "cHRTB5l8oGLf"
      },
      "source": [
        "# Evaluation / Prediction"
      ]
    },
    {
      "cell_type": "code",
      "metadata": {
        "colab": {
          "base_uri": "https://localhost:8080/"
        },
        "id": "qiavQdOwoBiM",
        "outputId": "d02c2fb4-0aec-4ae0-a4f8-2bd878c11108"
      },
      "source": [
        "accuracy_score = model.evaluate(testing_data, testing_labels, batch_size=20)\n",
        "print('accuracy score ', accuracy_score[1] * 100, '%')"
      ],
      "execution_count": 64,
      "outputs": [
        {
          "output_type": "stream",
          "text": [
            "15/15 [==============================] - 0s 1ms/step - loss: 0.1997 - accuracy: 0.9291\n",
            "accuracy score  92.90540814399719 %\n"
          ],
          "name": "stdout"
        }
      ]
    },
    {
      "cell_type": "code",
      "metadata": {
        "colab": {
          "base_uri": "https://localhost:8080/"
        },
        "id": "0ppGkZBLor3Q",
        "outputId": "a4f494d1-59d6-4b95-ef1a-1ab58474d435"
      },
      "source": [
        "model.predict(np.array(testing_data.iloc[1,:]).reshape(1,testing_data.shape[1]))"
      ],
      "execution_count": 65,
      "outputs": [
        {
          "output_type": "execute_result",
          "data": {
            "text/plain": [
              "array([[0.64990735]], dtype=float32)"
            ]
          },
          "metadata": {
            "tags": []
          },
          "execution_count": 65
        }
      ]
    },
    {
      "cell_type": "code",
      "metadata": {
        "id": "alRDIV6xov6s"
      },
      "source": [
        "pred_score = model.predict(testing_data)"
      ],
      "execution_count": 66,
      "outputs": []
    },
    {
      "cell_type": "code",
      "metadata": {
        "colab": {
          "base_uri": "https://localhost:8080/"
        },
        "id": "iWIa6lW9o738",
        "outputId": "2033c761-bc3b-4fb3-cab0-346473662f36"
      },
      "source": [
        "pred_label = (pred_score > 0.5)\n",
        "tf.math.confusion_matrix(\n",
        "    testing_labels, pred_label, num_classes=2, weights=None, dtype=tf.dtypes.int32,name=None)"
      ],
      "execution_count": 67,
      "outputs": [
        {
          "output_type": "execute_result",
          "data": {
            "text/plain": [
              "<tf.Tensor: shape=(2, 2), dtype=int32, numpy=\n",
              "array([[140,   8],\n",
              "       [ 13, 135]], dtype=int32)>"
            ]
          },
          "metadata": {
            "tags": []
          },
          "execution_count": 67
        }
      ]
    },
    {
      "cell_type": "code",
      "metadata": {
        "colab": {
          "base_uri": "https://localhost:8080/"
        },
        "id": "wJMN2jfTpCoA",
        "outputId": "fdc3f1b6-6c57-488b-fd53-7072520daddb"
      },
      "source": [
        "np.count_nonzero(pred_label)"
      ],
      "execution_count": 68,
      "outputs": [
        {
          "output_type": "execute_result",
          "data": {
            "text/plain": [
              "143"
            ]
          },
          "metadata": {
            "tags": []
          },
          "execution_count": 68
        }
      ]
    }
  ]
}